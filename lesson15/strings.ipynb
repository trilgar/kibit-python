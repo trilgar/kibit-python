{
 "cells": [
  {
   "cell_type": "code",
   "id": "initial_id",
   "metadata": {
    "collapsed": true,
    "ExecuteTime": {
     "end_time": "2025-03-20T19:48:29.152772Z",
     "start_time": "2025-03-20T19:48:29.146079Z"
    }
   },
   "source": [
    "txt1 = \"Python - найкраща мова програмування!\"\n",
    "txt2 = 'Він сказав: \"Python – це круто!\"'\n",
    "print(txt1)\n",
    "print(txt2)"
   ],
   "outputs": [
    {
     "name": "stdout",
     "output_type": "stream",
     "text": [
      "Python - найкраща мова програмування!\n",
      "Він сказав: \"Python – це круто!\"\n"
     ]
    }
   ],
   "execution_count": 2
  },
  {
   "metadata": {},
   "cell_type": "markdown",
   "source": [
    "Спеціальні символи у рядках\n",
    "Якщо потрібно додати спеціальні символи, використовують обернену скісну риску \\.\n",
    "\n",
    "| Символ  | Опис                   |\n",
    "|---------|------------------------|\n",
    "| `\\n`    | Перехід на новий рядок |\n",
    "| `\\t`    | Табуляція              |\n",
    "| `\\\\`    | Відображення `\\`       |\n",
    "| `\\'`    | Відображення `'`       |\n",
    "| `\\\"`    | Відображення `\"`       |\n"
   ],
   "id": "55f9849c2e49ac96"
  },
  {
   "metadata": {
    "ExecuteTime": {
     "end_time": "2025-03-20T19:53:08.125371Z",
     "start_time": "2025-03-20T19:53:08.120879Z"
    }
   },
   "cell_type": "code",
   "source": [
    "txt_newline = \"Перша лінія\\nДруга лінія\"\n",
    "txt_tab = \"Слово1\\tСлово2\\tСлово3\"\n",
    "txt_backslash = \"Ось зворотна риска: \\\\\"\n",
    "txt_single_quote = \"Одинарна лапка: \\' \"\n",
    "txt_double_quote = \"Подвійна лапка: \\\" \"\n",
    "\n",
    "# Вивід результатів\n",
    "print(txt_newline)\n",
    "print(txt_tab)\n",
    "print(txt_backslash)\n",
    "print(txt_single_quote)\n",
    "print(txt_double_quote)"
   ],
   "id": "c7812185103b5",
   "outputs": [
    {
     "name": "stdout",
     "output_type": "stream",
     "text": [
      "Перша лінія\n",
      "Друга лінія\n",
      "Слово1\tСлово2\tСлово3\n",
      "Ось зворотна риска: \\\n",
      "Одинарна лапка: ' \n",
      "Подвійна лапка: \" \n"
     ]
    }
   ],
   "execution_count": 4
  },
  {
   "metadata": {
    "ExecuteTime": {
     "end_time": "2025-03-20T20:00:26.076109Z",
     "start_time": "2025-03-20T20:00:26.071322Z"
    }
   },
   "cell_type": "code",
   "source": [
    "txt=\"Знання мови 'Python' - запорука успіху.\"\n",
    "print(txt)\n",
    "\n",
    "txt='Знання мови \"Python\" - запорука успіху.'\n",
    "print(txt)\n",
    "\n",
    "txt=\"Знання мови \\\"Python\\\" - запорука успіху.\"\n",
    "print(txt)\n",
    "\n",
    "txt='Знання мови \\'Python\\' - запорука успіху.'\n",
    "print(txt)\n",
    "\n",
    "txt=\"Знання мови 'Python'\\n- запорука успіху.\"\n",
    "print(txt)\n",
    "\n",
    "txt=\"\"\"Знання мови\n",
    "\"Python\"\n",
    "- запорука успіху.\"\"\"\n",
    "print(txt)\n"
   ],
   "id": "36b2afae6212af6b",
   "outputs": [
    {
     "name": "stdout",
     "output_type": "stream",
     "text": [
      "Знання мови 'Python' - запорука успіху.\n",
      "Знання мови \"Python\" - запорука успіху.\n",
      "Знання мови \"Python\" - запорука успіху.\n",
      "Знання мови 'Python' - запорука успіху.\n",
      "Знання мови 'Python'\n",
      "- запорука успіху.\n",
      "Знання мови\n",
      "\"Python\"\n",
      "- запорука успіху.\n"
     ]
    }
   ],
   "execution_count": 5
  },
  {
   "metadata": {
    "ExecuteTime": {
     "end_time": "2025-03-20T20:02:53.467475Z",
     "start_time": "2025-03-20T20:02:53.463928Z"
    }
   },
   "cell_type": "code",
   "source": [
    "txt = (\"Дууууууууууууууууууууууууууууууууууууууууууууууууууууууууууууууууууууууууже \\\n",
    "довгий текстовий літерал, тому в коді ми його розбиваємо на декілька рядків щоб \\\n",
    "було легше читати\")\n",
    "print(txt)"
   ],
   "id": "ee3294e33c71d654",
   "outputs": [
    {
     "name": "stdout",
     "output_type": "stream",
     "text": [
      "Дууууууууууууууууууууууууууууууууууууууууууууууууууууууууууууууууууууууууже довгий текстовий літерал, тому в коді ми його розбиваємо на декілька рядків щоб було легше читати\n"
     ]
    }
   ],
   "execution_count": 8
  },
  {
   "metadata": {
    "ExecuteTime": {
     "end_time": "2025-03-20T20:05:13.975810Z",
     "start_time": "2025-03-20T20:05:13.972267Z"
    }
   },
   "cell_type": "code",
   "source": [
    "txt = \"\"\"Python - це:\n",
    "1. Зрозуміло.\n",
    "2. Потужно.\n",
    "3. Зручно.\"\"\"\n",
    "print(txt)"
   ],
   "id": "67df7e04c690a763",
   "outputs": [
    {
     "name": "stdout",
     "output_type": "stream",
     "text": [
      "Python - це:\n",
      "1. Зрозуміло.\n",
      "2. Потужно.\n",
      "3. Зручно.\n"
     ]
    }
   ],
   "execution_count": 9
  },
  {
   "metadata": {},
   "cell_type": "code",
   "outputs": [],
   "execution_count": null,
   "source": "",
   "id": "453b8f28d38c54ce"
  },
  {
   "metadata": {},
   "cell_type": "markdown",
   "source": "# Рядкові методи",
   "id": "c8418e98df1cd13c"
  },
  {
   "metadata": {
    "ExecuteTime": {
     "end_time": "2025-03-20T20:06:51.927909Z",
     "start_time": "2025-03-20T20:06:51.924134Z"
    }
   },
   "cell_type": "code",
   "source": [
    "txt = \"Python\"\n",
    "print(len(txt))"
   ],
   "id": "c8aaf827935b18b3",
   "outputs": [
    {
     "name": "stdout",
     "output_type": "stream",
     "text": [
      "6\n"
     ]
    }
   ],
   "execution_count": 11
  },
  {
   "metadata": {
    "ExecuteTime": {
     "end_time": "2025-03-20T20:11:05.858734Z",
     "start_time": "2025-03-20T20:11:05.852700Z"
    }
   },
   "cell_type": "code",
   "source": [
    "# Неявна конкатенація рядків\n",
    "txt = \"Ми вивчаємо \" \"Python\"\n",
    "print(txt)\n",
    "print(\"Усього\", len(txt), \"букв\")\n",
    "\n",
    "# Використання символу табуляції \\t\n",
    "print(\"Індекс\\tБуква\")\n",
    "\n",
    "# Відображаються індекси й букви\n",
    "for i in range(len(txt)):\n",
    "    # Перетворення (за допомогою функції str())\n",
    "    # цілих чисел у текстовий,\n",
    "    # звертання до букви за індексом\n",
    "    print(str(i) + \":\\t\" + txt[i])\n",
    "\n",
    "# Виведення частини рядка\n",
    "print(txt[1:2])\n",
    "\n",
    "# За допомогою зрізу рядок відображається\n",
    "# у зворотному порядку\n",
    "print(txt[::-1])\n",
    "\n",
    "# Текстовий рядок\n",
    "word = \"Java\"\n",
    "\n",
    "# Явна конкатенація рядків і присвоювання\n",
    "# змінній txt нового значення\n",
    "txt = txt[:3] + \"#e\" + txt[2:12] + word\n",
    "print(txt)\n"
   ],
   "id": "13a89650f6e91e80",
   "outputs": [
    {
     "name": "stdout",
     "output_type": "stream",
     "text": [
      "Ми вивчаємо Python\n",
      "Усього 18 букв\n",
      "Індекс\tБуква\n",
      "0:\tМ\n",
      "1:\tи\n",
      "2:\t \n",
      "3:\tв\n",
      "4:\tи\n",
      "5:\tв\n",
      "6:\tч\n",
      "7:\tа\n",
      "8:\tє\n",
      "9:\tм\n",
      "10:\tо\n",
      "11:\t \n",
      "12:\tP\n",
      "13:\ty\n",
      "14:\tt\n",
      "15:\th\n",
      "16:\to\n",
      "17:\tn\n",
      "и\n",
      "nohtyP омєачвив иМ\n",
      "Ми #e вивчаємо Java\n"
     ]
    }
   ],
   "execution_count": 12
  },
  {
   "metadata": {},
   "cell_type": "markdown",
   "source": "## Форматування рядків",
   "id": "b81d4fcc8de9f00d"
  },
  {
   "metadata": {
    "ExecuteTime": {
     "end_time": "2025-03-20T20:13:08.828236Z",
     "start_time": "2025-03-20T20:13:08.824046Z"
    }
   },
   "cell_type": "code",
   "source": [
    "name = \"Іван\"\n",
    "age = 20\n",
    "print(f\"Привіт, мене звати {name}, мені {age} років.\")"
   ],
   "id": "297f64c37b3c7fc",
   "outputs": [
    {
     "name": "stdout",
     "output_type": "stream",
     "text": [
      "Привіт, мене звати Іван, мені 20 років.\n"
     ]
    }
   ],
   "execution_count": 13
  },
  {
   "metadata": {
    "ExecuteTime": {
     "end_time": "2025-03-20T21:33:59.893657Z",
     "start_time": "2025-03-20T21:33:59.890020Z"
    }
   },
   "cell_type": "code",
   "source": "print(\"Привіт, {}!\".format(\"Python\"))",
   "id": "1f66aca454f6e20b",
   "outputs": [
    {
     "name": "stdout",
     "output_type": "stream",
     "text": [
      "Привіт, Python!\n"
     ]
    }
   ],
   "execution_count": 23
  },
  {
   "metadata": {
    "ExecuteTime": {
     "end_time": "2025-03-20T21:34:18.735791Z",
     "start_time": "2025-03-20T21:34:18.732147Z"
    }
   },
   "cell_type": "code",
   "source": [
    "txt = \"{0} по {0} - буде {1}\"\n",
    "print(txt.format(\"два\", \"чотири\"))\n",
    "print(txt.format(\"три\", \"дев’ять\"))"
   ],
   "id": "6a592ad893252b5",
   "outputs": [
    {
     "name": "stdout",
     "output_type": "stream",
     "text": [
      "два по два - буде чотири\n",
      "три по три - буде дев’ять\n"
     ]
    }
   ],
   "execution_count": 24
  },
  {
   "metadata": {
    "ExecuteTime": {
     "end_time": "2025-03-20T21:34:28.567448Z",
     "start_time": "2025-03-20T21:34:28.562962Z"
    }
   },
   "cell_type": "code",
   "source": [
    "print(\"Текст '{0}': {0:<20}.\".format(\"abcdef\"))  # Вирівнювання ліворуч\n",
    "print(\"Текст '{0}': {0:^20}.\".format(\"abcdef\"))  # Вирівнювання по центру\n",
    "print(\"Текст '{0}': {0:>20}.\".format(\"abcdef\"))  # Вирівнювання прав"
   ],
   "id": "7cee6f1490c53160",
   "outputs": [
    {
     "name": "stdout",
     "output_type": "stream",
     "text": [
      "Текст 'abcdef': abcdef              .\n",
      "Текст 'abcdef':        abcdef       .\n",
      "Текст 'abcdef':               abcdef.\n"
     ]
    }
   ],
   "execution_count": 25
  },
  {
   "metadata": {
    "ExecuteTime": {
     "end_time": "2025-03-20T21:36:00.189925Z",
     "start_time": "2025-03-20T21:36:00.186248Z"
    }
   },
   "cell_type": "code",
   "source": [
    "num = 3.1415926535\n",
    "print(\"Число: {:.2f}\".format(num))\n",
    "print(\"Число: {:.4f}\".format(num))"
   ],
   "id": "d51f998d7d76c79",
   "outputs": [
    {
     "name": "stdout",
     "output_type": "stream",
     "text": [
      "Число: 3.14\n",
      "Число: 3.1416\n"
     ]
    }
   ],
   "execution_count": 27
  },
  {
   "metadata": {},
   "cell_type": "markdown",
   "source": "Текстові літерали є незмінними об'єктами, тобто вони не можуть бути змінені після створення.",
   "id": "aa73b41d5525cc52"
  },
  {
   "metadata": {
    "ExecuteTime": {
     "end_time": "2025-03-20T20:16:56.065458Z",
     "start_time": "2025-03-20T20:16:56.051986Z"
    }
   },
   "cell_type": "code",
   "source": "name[0] = \"П\"",
   "id": "d0e580ecc201f779",
   "outputs": [
    {
     "ename": "TypeError",
     "evalue": "'str' object does not support item assignment",
     "output_type": "error",
     "traceback": [
      "\u001B[1;31m---------------------------------------------------------------------------\u001B[0m",
      "\u001B[1;31mTypeError\u001B[0m                                 Traceback (most recent call last)",
      "Cell \u001B[1;32mIn[16], line 1\u001B[0m\n\u001B[1;32m----> 1\u001B[0m \u001B[43mname\u001B[49m\u001B[43m[\u001B[49m\u001B[38;5;241;43m0\u001B[39;49m\u001B[43m]\u001B[49m \u001B[38;5;241m=\u001B[39m \u001B[38;5;124m\"\u001B[39m\u001B[38;5;124mП\u001B[39m\u001B[38;5;124m\"\u001B[39m\n",
      "\u001B[1;31mTypeError\u001B[0m: 'str' object does not support item assignment"
     ]
    }
   ],
   "execution_count": 16
  },
  {
   "metadata": {},
   "cell_type": "markdown",
   "source": [
    "# Робота з реєстром рядків\n",
    "\n",
    "| Метод        | Опис                                                   |\n",
    "|-------------|--------------------------------------------------------|\n",
    "| `upper()`   | Перетворює всі символи у **верхній регістр**          |\n",
    "| `lower()`   | Перетворює всі символи у **нижній регістр**           |\n",
    "| `capitalize()` | Перша буква велика, інші – малі                     |\n",
    "| `title()`   | Перша буква кожного слова – велика                    |\n",
    "| `swapcase()` | Міняє великі букви на малі і навпаки                 |\n"
   ],
   "id": "c57253720879acad"
  },
  {
   "metadata": {
    "ExecuteTime": {
     "end_time": "2025-03-20T21:11:03.544866Z",
     "start_time": "2025-03-20T21:11:03.540784Z"
    }
   },
   "cell_type": "code",
   "source": [
    "txt = \"ми вивчаємо мову PYTHON\"\n",
    "\n",
    "print(txt.upper())      # Перетворює всі літери у верхній регістр\n",
    "print(txt.lower())      # Перетворює всі літери у нижній регістр\n",
    "print(txt.capitalize()) # Робить першу літеру великою, а решту малими\n",
    "print(txt.title())      # Кожне слово починається з великої літери\n",
    "print(txt.swapcase())   # Змінює регістр кожної літери на протилежний\n",
    "print(txt)              # Вивід рядка без змін"
   ],
   "id": "241cd39173fa7a89",
   "outputs": [
    {
     "name": "stdout",
     "output_type": "stream",
     "text": [
      "МИ ВИВЧАЄМО МОВУ PYTHON\n",
      "ми вивчаємо мову python\n",
      "Ми вивчаємо мову python\n",
      "Ми Вивчаємо Мову Python\n",
      "МИ ВИВЧАЄМО МОВУ python\n",
      "ми вивчаємо мову PYTHON\n"
     ]
    }
   ],
   "execution_count": 18
  },
  {
   "metadata": {},
   "cell_type": "markdown",
   "source": [
    "# Пошук у рядках\n",
    "\n",
    "| Метод             | Опис                                                                 |\n",
    "|------------------|--------------------------------------------------------------------|\n",
    "| `find(substring)`  | Повертає перший індекс входження підрядка або `-1`, якщо не знайдено |\n",
    "| `index(substring)` | Як `find()`, але якщо підрядка немає – генерує помилку            |\n",
    "| `rfind(substring)` | Повертає індекс останнього входження підрядка                     |\n",
    "| `count(substring)` | Підраховує кількість входжень підрядка                            |\n"
   ],
   "id": "74ebe63cbca8d94c"
  },
  {
   "metadata": {
    "ExecuteTime": {
     "end_time": "2025-03-20T21:16:26.694547Z",
     "start_time": "2025-03-20T21:16:26.687953Z"
    }
   },
   "cell_type": "code",
   "source": [
    "txt = \"\"\"В.С. Стус. \"Сто років...\" (уривок):\n",
    "Сто років як сконада Січ.\n",
    "Сибір. І соловецькі келії.\n",
    "І глупа облягає ніч\n",
    "Пекельний край і крик пекельний.\n",
    "Сто років мучених надій,\n",
    "І сподівань, і вір, і крові\n",
    "Синів, що за любов тавровані,\n",
    "Сто серць, як сто палакотінь.\"\"\"\n",
    "\n",
    "word = \"Сто\"\n",
    "\n",
    "print(txt, end=\"\\n\\n\")\n",
    "print(\"Підрядок зустрічається\", txt.count(word), \"рази\")\n",
    "print(\"Перша позиція:\", txt.index(word))\n",
    "print(\"Наступна позиція:\", txt.find(word, 13))\n",
    "print(\"Остання позиція:\", txt.rindex(word))\n",
    "print(\"На початку ініціалів:\", txt.startswith(\"В.С.\"))\n",
    "print(\"У кінці крапка:\", txt.endswith(\".\"), end=\"\\n\\n\")\n",
    "print(txt.replace(\" \", \"_\"))\n"
   ],
   "id": "70eb4254d004517a",
   "outputs": [
    {
     "name": "stdout",
     "output_type": "stream",
     "text": [
      "В.С. Стус. \"Сто років...\" (уривок):\n",
      "Сто років як сконада Січ.\n",
      "Сибір. І соловецькі келії.\n",
      "І глупа облягає ніч\n",
      "Пекельний край і крик пекельний.\n",
      "Сто років мучених надій,\n",
      "І сподівань, і вір, і крові\n",
      "Синів, що за любов тавровані,\n",
      "Сто серць, як сто палакотінь.\n",
      "\n",
      "Підрядок зустрічається 4 рази\n",
      "Перша позиція: 12\n",
      "Наступна позиція: 36\n",
      "Остання позиція: 225\n",
      "На початку ініціалів: True\n",
      "У кінці крапка: True\n",
      "\n",
      "В.С._Стус._\"Сто_років...\"_(уривок):\n",
      "Сто_років_як_сконада_Січ.\n",
      "Сибір._І_соловецькі_келії.\n",
      "І_глупа_облягає_ніч\n",
      "Пекельний_край_і_крик_пекельний.\n",
      "Сто_років_мучених_надій,\n",
      "І_сподівань,_і_вір,_і_крові\n",
      "Синів,_що_за_любов_тавровані,\n",
      "Сто_серць,_як_сто_палакотінь.\n"
     ]
    }
   ],
   "execution_count": 19
  },
  {
   "metadata": {},
   "cell_type": "markdown",
   "source": [
    "# Перевірка вмісту рядка\n",
    "\n",
    "| Метод        | Опис                                              |\n",
    "|-------------|---------------------------------------------------|\n",
    "| `isdigit()`  | Чи містить рядок **тільки цифри**                |\n",
    "| `isalpha()`  | Чи містить рядок **тільки літери**               |\n",
    "| `isalnum()`  | Чи містить рядок **тільки літери та цифри**      |\n",
    "| `islower()`  | Чи всі літери **нижнього регістру**              |\n",
    "| `isupper()`  | Чи всі літери **верхнього регістру**             |\n",
    "| `istitle()`  | Чи **кожне слово починається з великої літери**  |"
   ],
   "id": "7de5173dcef272ef"
  },
  {
   "metadata": {
    "ExecuteTime": {
     "end_time": "2025-03-20T21:19:02.929284Z",
     "start_time": "2025-03-20T21:19:02.925139Z"
    }
   },
   "cell_type": "code",
   "source": [
    "print(\"123\".isdigit(), \"12.3\".isdigit())\n",
    "\n",
    "print(\"abc\".isalpha(), \"abc123\".isalpha())\n",
    "\n",
    "print(\"ab12\".isalnum(), \"ab12\\n\".isalnum())\n",
    "\n",
    "print(\"ABC\".isupper(), \"aBc\".isupper())\n",
    "\n",
    "print(\"abc\".islower(), \"aBc\".islower())\n",
    "\n",
    "print(\"Ab12 Ab12\".istitle(), \"Ab12 AB12\".istitle())\n"
   ],
   "id": "484bc6382d83a628",
   "outputs": [
    {
     "name": "stdout",
     "output_type": "stream",
     "text": [
      "True False\n",
      "True False\n",
      "True False\n",
      "True False\n",
      "True False\n",
      "True False\n"
     ]
    }
   ],
   "execution_count": 20
  },
  {
   "metadata": {},
   "cell_type": "markdown",
   "source": [
    "# Модифікація рядків\n",
    "\n",
    "| Метод       | Опис                                                   |\n",
    "|------------|--------------------------------------------------------|\n",
    "| `strip()`  | Видаляє пробіли (або вказані символи) **з обох боків**  |\n",
    "| `lstrip()` | Видаляє пробіли (або символи) **зліва**                |\n",
    "| `rstrip()` | Видаляє пробіли (або символи) **справа**               |\n",
    "\n",
    "| Метод          | Опис                                               |\n",
    "|---------------|----------------------------------------------------|\n",
    "| `split(sep)`  | Розбиває рядок за роздільником (по замовчуванню – пробіл) |\n",
    "| `rsplit(sep)` | Розбиває рядок **справа наліво**                  |\n",
    "| `splitlines()` | Розбиває рядок за символами `\\n`                  |\n",
    "| `join(iterable)` | Об'єднує елементи ітерації в рядок, використовуючи вказаний роздільник |\n",
    "\n"
   ],
   "id": "f0b8f8615748963f"
  },
  {
   "metadata": {
    "ExecuteTime": {
     "end_time": "2025-03-20T21:25:10.322045Z",
     "start_time": "2025-03-20T21:25:10.316751Z"
    }
   },
   "cell_type": "code",
   "source": [
    "txt = \"_*ABC*_abc_*_\"\n",
    "\n",
    "print(txt.lstrip(\"_*\"))   # Видаляє символи \"_\" і \"*\" зліва\n",
    "print(txt.rstrip(\"_*\"))   # Видаляє символи \"_\" і \"*\" справа\n",
    "print(txt.strip(\"_*\"))    # Видаляє символи \"_\" і \"*\" з обох боків\n",
    "\n",
    "print(txt.split(\"*\"))     # Розбиває рядок за символом \"*\"\n",
    "print(txt.rsplit(\"*\"))    # Розбиває рядок справа наліво за \"*\"\n",
    "\n",
    "print(txt.partition(\"*\"))  # Розбиває рядок на 3 частини за першим входженням \"*\"\n",
    "print(txt.rpartition(\"*\")) # Розбиває рядок на 3 частини за останнім входженням \"*\"\n",
    "\n",
    "print(\"abc \\n ABC \\n ***\".splitlines())  # Розбиває рядок за символами нового рядка\n",
    "\n",
    "print(\"_*_\".join([\"AAA\", \"BBB\", \"CCC\"]))  # Об'єднує рядки через \"_*_\"\n"
   ],
   "id": "8ce0cfb44b48caa",
   "outputs": [
    {
     "name": "stdout",
     "output_type": "stream",
     "text": [
      "ABC*_abc_*_\n",
      "_*ABC*_abc\n",
      "ABC*_abc\n",
      "['_', 'ABC', '_abc_', '_']\n",
      "['_', 'ABC', '_abc_', '_']\n",
      "('_', '*', 'ABC*_abc_*_')\n",
      "('_*ABC*_abc_', '*', '_')\n",
      "['abc ', ' ABC ', ' ***']\n",
      "AAA_*_BBB_*_CCC\n"
     ]
    }
   ],
   "execution_count": 21
  },
  {
   "metadata": {},
   "cell_type": "markdown",
   "source": [
    "# Вирівнювання тексту\n",
    "\n",
    "| Метод         | Опис                                      |\n",
    "|--------------|------------------------------------------|\n",
    "| `center(width)` | Вирівнює текст **по центру**          |\n",
    "| `ljust(width)`  | Вирівнює текст **по лівому краю**     |\n",
    "| `rjust(width)`  | Вирівнює текст **по правому краю**    |"
   ],
   "id": "67d41b6e0e3d52e1"
  },
  {
   "metadata": {
    "ExecuteTime": {
     "end_time": "2025-03-20T21:29:55.693684Z",
     "start_time": "2025-03-20T21:29:55.689964Z"
    }
   },
   "cell_type": "code",
   "source": [
    "txt = \"ABCDEFGH\"\n",
    "\n",
    "print(\"*\" + txt.center(20) + \"*\")\n",
    "print(\"*\" + txt.rjust(20) + \"*\")\n",
    "print(\"*\" + txt.ljust(20) + \"*\")\n"
   ],
   "id": "be3a95c1a3a86ca1",
   "outputs": [
    {
     "name": "stdout",
     "output_type": "stream",
     "text": [
      "*      ABCDEFGH      *\n",
      "*            ABCDEFGH*\n",
      "*ABCDEFGH            *\n"
     ]
    }
   ],
   "execution_count": 22
  },
  {
   "metadata": {},
   "cell_type": "code",
   "outputs": [],
   "execution_count": null,
   "source": "",
   "id": "16c52d7c80c2fbd0"
  }
 ],
 "metadata": {
  "kernelspec": {
   "display_name": "Python 3",
   "language": "python",
   "name": "python3"
  },
  "language_info": {
   "codemirror_mode": {
    "name": "ipython",
    "version": 2
   },
   "file_extension": ".py",
   "mimetype": "text/x-python",
   "name": "python",
   "nbconvert_exporter": "python",
   "pygments_lexer": "ipython2",
   "version": "2.7.6"
  }
 },
 "nbformat": 4,
 "nbformat_minor": 5
}
