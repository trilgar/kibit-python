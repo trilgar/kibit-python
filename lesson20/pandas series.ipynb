{
 "cells": [
  {
   "cell_type": "code",
   "id": "initial_id",
   "metadata": {
    "collapsed": true,
    "ExecuteTime": {
     "end_time": "2025-05-26T08:58:51.160576Z",
     "start_time": "2025-05-26T08:58:50.811972Z"
    }
   },
   "source": [
    "import pandas as pd\n",
    "import numpy as np\n"
   ],
   "outputs": [],
   "execution_count": 1
  },
  {
   "metadata": {
    "ExecuteTime": {
     "end_time": "2025-05-26T08:58:51.189536Z",
     "start_time": "2025-05-26T08:58:51.183314Z"
    }
   },
   "cell_type": "code",
   "source": [
    "s = pd.Series([12, -4, 7, 9])\n",
    "s"
   ],
   "id": "77887bd1bcd1a7a8",
   "outputs": [
    {
     "data": {
      "text/plain": [
       "0    12\n",
       "1    -4\n",
       "2     7\n",
       "3     9\n",
       "dtype: int64"
      ]
     },
     "execution_count": 2,
     "metadata": {},
     "output_type": "execute_result"
    }
   ],
   "execution_count": 2
  },
  {
   "metadata": {
    "ExecuteTime": {
     "end_time": "2025-05-26T08:58:51.330181Z",
     "start_time": "2025-05-26T08:58:51.325392Z"
    }
   },
   "cell_type": "code",
   "source": [
    "s = pd.Series([12, -4, 7, 9], index=['a', 'b', 'c', 'd'])\n",
    "s"
   ],
   "id": "8606c4f4a91d41ce",
   "outputs": [
    {
     "data": {
      "text/plain": [
       "a    12\n",
       "b    -4\n",
       "c     7\n",
       "d     9\n",
       "dtype: int64"
      ]
     },
     "execution_count": 3,
     "metadata": {},
     "output_type": "execute_result"
    }
   ],
   "execution_count": 3
  },
  {
   "metadata": {
    "ExecuteTime": {
     "end_time": "2025-05-26T08:58:51.376456Z",
     "start_time": "2025-05-26T08:58:51.370659Z"
    }
   },
   "cell_type": "code",
   "source": "s[2]      # 7\n",
   "id": "e0e6b42e91176225",
   "outputs": [
    {
     "name": "stderr",
     "output_type": "stream",
     "text": [
      "/var/folders/5z/_4ymrqb55gl_n9nt577w6kkm0000gn/T/ipykernel_97703/1713805820.py:1: FutureWarning: Series.__getitem__ treating keys as positions is deprecated. In a future version, integer keys will always be treated as labels (consistent with DataFrame behavior). To access a value by position, use `ser.iloc[pos]`\n",
      "  s[2]      # 7\n"
     ]
    },
    {
     "data": {
      "text/plain": [
       "np.int64(7)"
      ]
     },
     "execution_count": 4,
     "metadata": {},
     "output_type": "execute_result"
    }
   ],
   "execution_count": 4
  },
  {
   "metadata": {
    "ExecuteTime": {
     "end_time": "2025-05-26T08:58:51.542866Z",
     "start_time": "2025-05-26T08:58:51.539653Z"
    }
   },
   "cell_type": "code",
   "source": "s.iloc[2]",
   "id": "f717d6dfa69156be",
   "outputs": [
    {
     "data": {
      "text/plain": [
       "np.int64(7)"
      ]
     },
     "execution_count": 5,
     "metadata": {},
     "output_type": "execute_result"
    }
   ],
   "execution_count": 5
  },
  {
   "metadata": {
    "ExecuteTime": {
     "end_time": "2025-05-26T08:58:51.637977Z",
     "start_time": "2025-05-26T08:58:51.633819Z"
    }
   },
   "cell_type": "code",
   "source": "s['b']",
   "id": "96426c05ac98fc45",
   "outputs": [
    {
     "data": {
      "text/plain": [
       "np.int64(-4)"
      ]
     },
     "execution_count": 6,
     "metadata": {},
     "output_type": "execute_result"
    }
   ],
   "execution_count": 6
  },
  {
   "metadata": {
    "ExecuteTime": {
     "end_time": "2025-05-26T08:58:51.691859Z",
     "start_time": "2025-05-26T08:58:51.686731Z"
    }
   },
   "cell_type": "code",
   "source": [
    "s[0:2]              # a    12, b   -4\n",
    "      # b   -4, c    7\n"
   ],
   "id": "2aefd6484569ec7e",
   "outputs": [
    {
     "data": {
      "text/plain": [
       "a    12\n",
       "b    -4\n",
       "dtype: int64"
      ]
     },
     "execution_count": 7,
     "metadata": {},
     "output_type": "execute_result"
    }
   ],
   "execution_count": 7
  },
  {
   "metadata": {
    "ExecuteTime": {
     "end_time": "2025-05-26T08:58:51.805261Z",
     "start_time": "2025-05-26T08:58:51.797181Z"
    }
   },
   "cell_type": "code",
   "source": "s[['b', 'c']]",
   "id": "285a231072e282a2",
   "outputs": [
    {
     "data": {
      "text/plain": [
       "b   -4\n",
       "c    7\n",
       "dtype: int64"
      ]
     },
     "execution_count": 8,
     "metadata": {},
     "output_type": "execute_result"
    }
   ],
   "execution_count": 8
  },
  {
   "metadata": {
    "ExecuteTime": {
     "end_time": "2025-05-26T08:58:51.858713Z",
     "start_time": "2025-05-26T08:58:51.853899Z"
    }
   },
   "cell_type": "code",
   "source": [
    "s.iloc[1] = 0\n",
    "s['b'] = 999\n",
    "s"
   ],
   "id": "b8f13b51fc8ddf57",
   "outputs": [
    {
     "data": {
      "text/plain": [
       "a     12\n",
       "b    999\n",
       "c      7\n",
       "d      9\n",
       "dtype: int64"
      ]
     },
     "execution_count": 9,
     "metadata": {},
     "output_type": "execute_result"
    }
   ],
   "execution_count": 9
  },
  {
   "metadata": {
    "ExecuteTime": {
     "end_time": "2025-05-26T08:58:52.004913Z",
     "start_time": "2025-05-26T08:58:51.995437Z"
    }
   },
   "cell_type": "code",
   "source": [
    "arr = np.array([1, 2, 3, 4])\n",
    "s3 = pd.Series(arr)\n",
    "s3"
   ],
   "id": "1d9689943e3d4a5b",
   "outputs": [
    {
     "data": {
      "text/plain": [
       "0    1\n",
       "1    2\n",
       "2    3\n",
       "3    4\n",
       "dtype: int64"
      ]
     },
     "execution_count": 10,
     "metadata": {},
     "output_type": "execute_result"
    }
   ],
   "execution_count": 10
  },
  {
   "metadata": {
    "ExecuteTime": {
     "end_time": "2025-05-26T08:58:52.138682Z",
     "start_time": "2025-05-26T08:58:52.135402Z"
    }
   },
   "cell_type": "code",
   "source": "s[s > 8]",
   "id": "f32f373db5bd5cf0",
   "outputs": [
    {
     "data": {
      "text/plain": [
       "a     12\n",
       "b    999\n",
       "d      9\n",
       "dtype: int64"
      ]
     },
     "execution_count": 11,
     "metadata": {},
     "output_type": "execute_result"
    }
   ],
   "execution_count": 11
  },
  {
   "metadata": {
    "ExecuteTime": {
     "end_time": "2025-05-26T08:58:52.248328Z",
     "start_time": "2025-05-26T08:58:52.244506Z"
    }
   },
   "cell_type": "code",
   "source": "s / 2",
   "id": "a34d56de42762de0",
   "outputs": [
    {
     "data": {
      "text/plain": [
       "a      6.0\n",
       "b    499.5\n",
       "c      3.5\n",
       "d      4.5\n",
       "dtype: float64"
      ]
     },
     "execution_count": 12,
     "metadata": {},
     "output_type": "execute_result"
    }
   ],
   "execution_count": 12
  },
  {
   "metadata": {
    "ExecuteTime": {
     "end_time": "2025-05-26T08:58:52.306277Z",
     "start_time": "2025-05-26T08:58:52.302344Z"
    }
   },
   "cell_type": "code",
   "source": "np.log(s)",
   "id": "64bac34d0349565c",
   "outputs": [
    {
     "data": {
      "text/plain": [
       "a    2.484907\n",
       "b    6.906755\n",
       "c    1.945910\n",
       "d    2.197225\n",
       "dtype: float64"
      ]
     },
     "execution_count": 13,
     "metadata": {},
     "output_type": "execute_result"
    }
   ],
   "execution_count": 13
  },
  {
   "metadata": {},
   "cell_type": "markdown",
   "source": [
    "# Series Analysis\n",
    "| Метод                    | Опис                                                                 |\n",
    "|--------------------------|----------------------------------------------------------------------|\n",
    "| `Series.unique()`        | Повертає масив унікальних значень у Series                          |\n",
    "| `Series.value_counts()`  | Повертає кількість повторень кожного значення у Series               |\n",
    "| `Series.isin([...])`     | Повертає маску (True/False), чи входить значення до заданого списку  |\n"
   ],
   "id": "818fc7bb6f351c00"
  },
  {
   "metadata": {
    "ExecuteTime": {
     "end_time": "2025-05-26T08:58:52.439338Z",
     "start_time": "2025-05-26T08:58:52.435037Z"
    }
   },
   "cell_type": "code",
   "source": [
    "serd = pd.Series([1,0,2,1,2,3],\n",
    "                 index=['white','white','blue','green','green','yellow'])\n",
    "serd"
   ],
   "id": "8d51cca84054da33",
   "outputs": [
    {
     "data": {
      "text/plain": [
       "white     1\n",
       "white     0\n",
       "blue      2\n",
       "green     1\n",
       "green     2\n",
       "yellow    3\n",
       "dtype: int64"
      ]
     },
     "execution_count": 14,
     "metadata": {},
     "output_type": "execute_result"
    }
   ],
   "execution_count": 14
  },
  {
   "metadata": {
    "ExecuteTime": {
     "end_time": "2025-05-26T08:58:52.501133Z",
     "start_time": "2025-05-26T08:58:52.498110Z"
    }
   },
   "cell_type": "code",
   "source": "serd.unique()",
   "id": "58620ef8f8da9a33",
   "outputs": [
    {
     "data": {
      "text/plain": [
       "array([1, 0, 2, 3])"
      ]
     },
     "execution_count": 15,
     "metadata": {},
     "output_type": "execute_result"
    }
   ],
   "execution_count": 15
  },
  {
   "metadata": {
    "ExecuteTime": {
     "end_time": "2025-05-26T08:58:52.606051Z",
     "start_time": "2025-05-26T08:58:52.589800Z"
    }
   },
   "cell_type": "code",
   "source": "serd.value_counts()",
   "id": "630c2bc593c4e4cb",
   "outputs": [
    {
     "data": {
      "text/plain": [
       "1    2\n",
       "2    2\n",
       "0    1\n",
       "3    1\n",
       "Name: count, dtype: int64"
      ]
     },
     "execution_count": 16,
     "metadata": {},
     "output_type": "execute_result"
    }
   ],
   "execution_count": 16
  },
  {
   "metadata": {
    "ExecuteTime": {
     "end_time": "2025-05-26T08:58:52.702376Z",
     "start_time": "2025-05-26T08:58:52.698817Z"
    }
   },
   "cell_type": "code",
   "source": "serd.isin([0, 3])",
   "id": "c39fc3d3cfb15fa7",
   "outputs": [
    {
     "data": {
      "text/plain": [
       "white     False\n",
       "white      True\n",
       "blue      False\n",
       "green     False\n",
       "green     False\n",
       "yellow     True\n",
       "dtype: bool"
      ]
     },
     "execution_count": 17,
     "metadata": {},
     "output_type": "execute_result"
    }
   ],
   "execution_count": 17
  },
  {
   "metadata": {},
   "cell_type": "markdown",
   "source": [
    "NAN values\n",
    "| Метод                  | Опис                                                                 | Приклад                               |\n",
    "|------------------------|----------------------------------------------------------------------|----------------------------------------|\n",
    "| `Series.isnull()`      | Повертає маску: `True`, якщо значення є `NaN`                        | `s.isnull()`                           |\n",
    "| `Series.notnull()`     | Повертає маску: `True`, якщо значення **не** є `NaN`                 | `s.notnull()`                          |\n",
    "| `Series.isna()`        | Синонім до `isnull()`                                                | `s.isna()`                             |\n",
    "| `Series.notna()`       | Синонім до `notnull()`                                               | `s.notna()`                            |\n",
    "| `Series[mask]`         | Фільтрація за маскою                                                 | `s[s.notnull()]`                       |\n",
    "| `Series.fillna(value)` | Замінює всі `NaN` на задане значення                                 | `s.fillna(0)`                          |\n",
    "| `Series.dropna()`      | Видаляє всі елементи, де значення — `NaN`                            | `s.dropna()`                           |\n"
   ],
   "id": "464d87943423ca32"
  },
  {
   "metadata": {
    "ExecuteTime": {
     "end_time": "2025-05-26T08:58:52.791136Z",
     "start_time": "2025-05-26T08:58:52.786510Z"
    }
   },
   "cell_type": "code",
   "source": [
    "# Створимо Series з пропущеними значеннями\n",
    "s = pd.Series([10, np.nan, 30, np.nan, 50])\n",
    "\n",
    "print(\"Початкова Series:\")\n",
    "print(s)\n",
    "\n",
    "# isnull: де значення пропущене\n",
    "print(\"\\nМаска isnull():\")\n",
    "print(s.isnull())\n",
    "\n",
    "# notnull: де значення присутнє\n",
    "print(\"\\nМаска notnull():\")\n",
    "print(s.notnull())\n",
    "\n",
    "# isna/notna — те саме:\n",
    "print(\"\\nisna():\", s.isna())\n",
    "print(\"notna():\", s.notna())\n",
    "\n",
    "# Фільтрація лише непорожніх значень\n",
    "print(\"\\nФільтрація (s[s.notnull()]):\")\n",
    "print(s[s.notnull()])\n",
    "\n",
    "# Заповнення пропущених значень нулями\n",
    "print(\"\\nЗаповнення NaN нулями:\")\n",
    "print(s.fillna(0))\n",
    "\n",
    "# Видалення рядків з NaN\n",
    "print(\"\\nВидалення NaN (dropna):\")\n",
    "print(s.dropna())"
   ],
   "id": "afb0a7d4b7d2ed8d",
   "outputs": [
    {
     "name": "stdout",
     "output_type": "stream",
     "text": [
      "Початкова Series:\n",
      "0    10.0\n",
      "1     NaN\n",
      "2    30.0\n",
      "3     NaN\n",
      "4    50.0\n",
      "dtype: float64\n",
      "\n",
      "Маска isnull():\n",
      "0    False\n",
      "1     True\n",
      "2    False\n",
      "3     True\n",
      "4    False\n",
      "dtype: bool\n",
      "\n",
      "Маска notnull():\n",
      "0     True\n",
      "1    False\n",
      "2     True\n",
      "3    False\n",
      "4     True\n",
      "dtype: bool\n",
      "\n",
      "isna(): 0    False\n",
      "1     True\n",
      "2    False\n",
      "3     True\n",
      "4    False\n",
      "dtype: bool\n",
      "notna(): 0     True\n",
      "1    False\n",
      "2     True\n",
      "3    False\n",
      "4     True\n",
      "dtype: bool\n",
      "\n",
      "Фільтрація (s[s.notnull()]):\n",
      "0    10.0\n",
      "2    30.0\n",
      "4    50.0\n",
      "dtype: float64\n",
      "\n",
      "Заповнення NaN нулями:\n",
      "0    10.0\n",
      "1     0.0\n",
      "2    30.0\n",
      "3     0.0\n",
      "4    50.0\n",
      "dtype: float64\n",
      "\n",
      "Видалення NaN (dropna):\n",
      "0    10.0\n",
      "2    30.0\n",
      "4    50.0\n",
      "dtype: float64\n"
     ]
    }
   ],
   "execution_count": 18
  },
  {
   "metadata": {},
   "cell_type": "markdown",
   "source": "# Dictionary to Series",
   "id": "eab53be77c8d0d5"
  },
  {
   "metadata": {
    "ExecuteTime": {
     "end_time": "2025-05-26T08:58:52.918810Z",
     "start_time": "2025-05-26T08:58:52.913969Z"
    }
   },
   "cell_type": "code",
   "source": [
    "mydict = {'red': 2000, 'blue': 1000, 'yellow': 500, 'orange': 1000}\n",
    "myseries = pd.Series(mydict)\n",
    "myseries"
   ],
   "id": "6327a391e00cb920",
   "outputs": [
    {
     "data": {
      "text/plain": [
       "red       2000\n",
       "blue      1000\n",
       "yellow     500\n",
       "orange    1000\n",
       "dtype: int64"
      ]
     },
     "execution_count": 19,
     "metadata": {},
     "output_type": "execute_result"
    }
   ],
   "execution_count": 19
  },
  {
   "metadata": {
    "ExecuteTime": {
     "end_time": "2025-05-26T08:58:53.025549Z",
     "start_time": "2025-05-26T08:58:53.020385Z"
    }
   },
   "cell_type": "code",
   "source": [
    "colors = ['red', 'yellow', 'orange', 'blue', 'green']\n",
    "myseries = pd.Series(mydict, index=colors)\n",
    "myseries"
   ],
   "id": "573f7a5664c9ce24",
   "outputs": [
    {
     "data": {
      "text/plain": [
       "red       2000.0\n",
       "yellow     500.0\n",
       "orange    1000.0\n",
       "blue      1000.0\n",
       "green        NaN\n",
       "dtype: float64"
      ]
     },
     "execution_count": 20,
     "metadata": {},
     "output_type": "execute_result"
    }
   ],
   "execution_count": 20
  },
  {
   "metadata": {
    "ExecuteTime": {
     "end_time": "2025-05-26T08:58:53.127650Z",
     "start_time": "2025-05-26T08:58:53.122176Z"
    }
   },
   "cell_type": "code",
   "source": [
    "mydict2 = {'red': 400, 'yellow': 1000, 'black': 700}\n",
    "myseries2 = pd.Series(mydict2)\n",
    "result = myseries + myseries2\n",
    "result"
   ],
   "id": "8114ee79d33b16ab",
   "outputs": [
    {
     "data": {
      "text/plain": [
       "black        NaN\n",
       "blue         NaN\n",
       "green        NaN\n",
       "orange       NaN\n",
       "red       2400.0\n",
       "yellow    1500.0\n",
       "dtype: float64"
      ]
     },
     "execution_count": 21,
     "metadata": {},
     "output_type": "execute_result"
    }
   ],
   "execution_count": 21
  },
  {
   "metadata": {},
   "cell_type": "markdown",
   "source": "# Nan значення",
   "id": "be33eb2117430b9"
  },
  {
   "metadata": {
    "ExecuteTime": {
     "end_time": "2025-05-26T08:58:53.247056Z",
     "start_time": "2025-05-26T08:58:53.243079Z"
    }
   },
   "cell_type": "code",
   "source": [
    "import pandas as pd\n",
    "import numpy as np\n",
    "ser = pd.Series([0, 1, 2, np.nan, 9], index=['red','blue','yellow','white','green'])\n",
    "ser"
   ],
   "id": "b1131bac0428a55c",
   "outputs": [
    {
     "data": {
      "text/plain": [
       "red       0.0\n",
       "blue      1.0\n",
       "yellow    2.0\n",
       "white     NaN\n",
       "green     9.0\n",
       "dtype: float64"
      ]
     },
     "execution_count": 22,
     "metadata": {},
     "output_type": "execute_result"
    }
   ],
   "execution_count": 22
  },
  {
   "metadata": {
    "ExecuteTime": {
     "end_time": "2025-05-26T08:59:21.238732Z",
     "start_time": "2025-05-26T08:59:21.219197Z"
    }
   },
   "cell_type": "code",
   "source": [
    "frame3 = pd.DataFrame(\n",
    "    [[6, np.nan, 6], [np.nan, np.nan, np.nan], [2, np.nan, 5]],\n",
    "    index=['blue', 'green', 'red'],\n",
    "    columns=['ball', 'mug', 'pen']\n",
    ")\n",
    "frame3\n"
   ],
   "id": "4e3f9b9f7840d19a",
   "outputs": [
    {
     "data": {
      "text/plain": [
       "       ball  mug  pen\n",
       "blue    6.0  NaN  6.0\n",
       "green   NaN  NaN  NaN\n",
       "red     2.0  NaN  5.0"
      ],
      "text/html": [
       "<div>\n",
       "<style scoped>\n",
       "    .dataframe tbody tr th:only-of-type {\n",
       "        vertical-align: middle;\n",
       "    }\n",
       "\n",
       "    .dataframe tbody tr th {\n",
       "        vertical-align: top;\n",
       "    }\n",
       "\n",
       "    .dataframe thead th {\n",
       "        text-align: right;\n",
       "    }\n",
       "</style>\n",
       "<table border=\"1\" class=\"dataframe\">\n",
       "  <thead>\n",
       "    <tr style=\"text-align: right;\">\n",
       "      <th></th>\n",
       "      <th>ball</th>\n",
       "      <th>mug</th>\n",
       "      <th>pen</th>\n",
       "    </tr>\n",
       "  </thead>\n",
       "  <tbody>\n",
       "    <tr>\n",
       "      <th>blue</th>\n",
       "      <td>6.0</td>\n",
       "      <td>NaN</td>\n",
       "      <td>6.0</td>\n",
       "    </tr>\n",
       "    <tr>\n",
       "      <th>green</th>\n",
       "      <td>NaN</td>\n",
       "      <td>NaN</td>\n",
       "      <td>NaN</td>\n",
       "    </tr>\n",
       "    <tr>\n",
       "      <th>red</th>\n",
       "      <td>2.0</td>\n",
       "      <td>NaN</td>\n",
       "      <td>5.0</td>\n",
       "    </tr>\n",
       "  </tbody>\n",
       "</table>\n",
       "</div>"
      ]
     },
     "execution_count": 33,
     "metadata": {},
     "output_type": "execute_result"
    }
   ],
   "execution_count": 33
  },
  {
   "metadata": {
    "ExecuteTime": {
     "end_time": "2025-05-26T08:59:28.081693Z",
     "start_time": "2025-05-26T08:59:28.074590Z"
    }
   },
   "cell_type": "code",
   "source": "frame3.dropna()",
   "id": "9b562fe5e226b773",
   "outputs": [
    {
     "data": {
      "text/plain": [
       "Empty DataFrame\n",
       "Columns: [ball, mug, pen]\n",
       "Index: []"
      ],
      "text/html": [
       "<div>\n",
       "<style scoped>\n",
       "    .dataframe tbody tr th:only-of-type {\n",
       "        vertical-align: middle;\n",
       "    }\n",
       "\n",
       "    .dataframe tbody tr th {\n",
       "        vertical-align: top;\n",
       "    }\n",
       "\n",
       "    .dataframe thead th {\n",
       "        text-align: right;\n",
       "    }\n",
       "</style>\n",
       "<table border=\"1\" class=\"dataframe\">\n",
       "  <thead>\n",
       "    <tr style=\"text-align: right;\">\n",
       "      <th></th>\n",
       "      <th>ball</th>\n",
       "      <th>mug</th>\n",
       "      <th>pen</th>\n",
       "    </tr>\n",
       "  </thead>\n",
       "  <tbody>\n",
       "  </tbody>\n",
       "</table>\n",
       "</div>"
      ]
     },
     "execution_count": 34,
     "metadata": {},
     "output_type": "execute_result"
    }
   ],
   "execution_count": 34
  },
  {
   "metadata": {
    "ExecuteTime": {
     "end_time": "2025-05-26T08:58:53.528942Z",
     "start_time": "2025-05-26T08:58:53.523214Z"
    }
   },
   "cell_type": "code",
   "source": [
    "\n",
    "frame3.dropna(how='all')"
   ],
   "id": "909c4af39626f43b",
   "outputs": [
    {
     "data": {
      "text/plain": [
       "      ball  mug  pen\n",
       "blue   6.0  NaN  6.0\n",
       "red    2.0  NaN  5.0"
      ],
      "text/html": [
       "<div>\n",
       "<style scoped>\n",
       "    .dataframe tbody tr th:only-of-type {\n",
       "        vertical-align: middle;\n",
       "    }\n",
       "\n",
       "    .dataframe tbody tr th {\n",
       "        vertical-align: top;\n",
       "    }\n",
       "\n",
       "    .dataframe thead th {\n",
       "        text-align: right;\n",
       "    }\n",
       "</style>\n",
       "<table border=\"1\" class=\"dataframe\">\n",
       "  <thead>\n",
       "    <tr style=\"text-align: right;\">\n",
       "      <th></th>\n",
       "      <th>ball</th>\n",
       "      <th>mug</th>\n",
       "      <th>pen</th>\n",
       "    </tr>\n",
       "  </thead>\n",
       "  <tbody>\n",
       "    <tr>\n",
       "      <th>blue</th>\n",
       "      <td>6.0</td>\n",
       "      <td>NaN</td>\n",
       "      <td>6.0</td>\n",
       "    </tr>\n",
       "    <tr>\n",
       "      <th>red</th>\n",
       "      <td>2.0</td>\n",
       "      <td>NaN</td>\n",
       "      <td>5.0</td>\n",
       "    </tr>\n",
       "  </tbody>\n",
       "</table>\n",
       "</div>"
      ]
     },
     "execution_count": 24,
     "metadata": {},
     "output_type": "execute_result"
    }
   ],
   "execution_count": 24
  },
  {
   "metadata": {
    "ExecuteTime": {
     "end_time": "2025-05-26T08:58:53.650779Z",
     "start_time": "2025-05-26T08:58:53.645668Z"
    }
   },
   "cell_type": "code",
   "source": "frame3.fillna(0)",
   "id": "f0aca987b5b29f86",
   "outputs": [
    {
     "data": {
      "text/plain": [
       "       ball  mug  pen\n",
       "blue    6.0  0.0  6.0\n",
       "green   0.0  0.0  0.0\n",
       "red     2.0  0.0  5.0"
      ],
      "text/html": [
       "<div>\n",
       "<style scoped>\n",
       "    .dataframe tbody tr th:only-of-type {\n",
       "        vertical-align: middle;\n",
       "    }\n",
       "\n",
       "    .dataframe tbody tr th {\n",
       "        vertical-align: top;\n",
       "    }\n",
       "\n",
       "    .dataframe thead th {\n",
       "        text-align: right;\n",
       "    }\n",
       "</style>\n",
       "<table border=\"1\" class=\"dataframe\">\n",
       "  <thead>\n",
       "    <tr style=\"text-align: right;\">\n",
       "      <th></th>\n",
       "      <th>ball</th>\n",
       "      <th>mug</th>\n",
       "      <th>pen</th>\n",
       "    </tr>\n",
       "  </thead>\n",
       "  <tbody>\n",
       "    <tr>\n",
       "      <th>blue</th>\n",
       "      <td>6.0</td>\n",
       "      <td>0.0</td>\n",
       "      <td>6.0</td>\n",
       "    </tr>\n",
       "    <tr>\n",
       "      <th>green</th>\n",
       "      <td>0.0</td>\n",
       "      <td>0.0</td>\n",
       "      <td>0.0</td>\n",
       "    </tr>\n",
       "    <tr>\n",
       "      <th>red</th>\n",
       "      <td>2.0</td>\n",
       "      <td>0.0</td>\n",
       "      <td>5.0</td>\n",
       "    </tr>\n",
       "  </tbody>\n",
       "</table>\n",
       "</div>"
      ]
     },
     "execution_count": 25,
     "metadata": {},
     "output_type": "execute_result"
    }
   ],
   "execution_count": 25
  },
  {
   "metadata": {
    "ExecuteTime": {
     "end_time": "2025-05-26T08:58:53.820138Z",
     "start_time": "2025-05-26T08:58:53.813984Z"
    }
   },
   "cell_type": "code",
   "source": [
    "\n",
    "frame3.fillna({'ball': 1, 'mug': 0, 'pen': 99})"
   ],
   "id": "81e3a936956629c5",
   "outputs": [
    {
     "data": {
      "text/plain": [
       "       ball  mug   pen\n",
       "blue    6.0  0.0   6.0\n",
       "green   1.0  0.0  99.0\n",
       "red     2.0  0.0   5.0"
      ],
      "text/html": [
       "<div>\n",
       "<style scoped>\n",
       "    .dataframe tbody tr th:only-of-type {\n",
       "        vertical-align: middle;\n",
       "    }\n",
       "\n",
       "    .dataframe tbody tr th {\n",
       "        vertical-align: top;\n",
       "    }\n",
       "\n",
       "    .dataframe thead th {\n",
       "        text-align: right;\n",
       "    }\n",
       "</style>\n",
       "<table border=\"1\" class=\"dataframe\">\n",
       "  <thead>\n",
       "    <tr style=\"text-align: right;\">\n",
       "      <th></th>\n",
       "      <th>ball</th>\n",
       "      <th>mug</th>\n",
       "      <th>pen</th>\n",
       "    </tr>\n",
       "  </thead>\n",
       "  <tbody>\n",
       "    <tr>\n",
       "      <th>blue</th>\n",
       "      <td>6.0</td>\n",
       "      <td>0.0</td>\n",
       "      <td>6.0</td>\n",
       "    </tr>\n",
       "    <tr>\n",
       "      <th>green</th>\n",
       "      <td>1.0</td>\n",
       "      <td>0.0</td>\n",
       "      <td>99.0</td>\n",
       "    </tr>\n",
       "    <tr>\n",
       "      <th>red</th>\n",
       "      <td>2.0</td>\n",
       "      <td>0.0</td>\n",
       "      <td>5.0</td>\n",
       "    </tr>\n",
       "  </tbody>\n",
       "</table>\n",
       "</div>"
      ]
     },
     "execution_count": 26,
     "metadata": {},
     "output_type": "execute_result"
    }
   ],
   "execution_count": 26
  },
  {
   "metadata": {},
   "cell_type": "markdown",
   "source": "# Reading and writing data",
   "id": "fbf02a87894653d9"
  },
  {
   "metadata": {
    "ExecuteTime": {
     "end_time": "2025-05-26T08:58:53.939010Z",
     "start_time": "2025-05-26T08:58:53.933483Z"
    }
   },
   "cell_type": "code",
   "source": [
    "import pandas as pd\n",
    "csvframe = pd.read_csv('ch05_01.csv')\n",
    "csvframe"
   ],
   "id": "26f7e33b214f9843",
   "outputs": [
    {
     "data": {
      "text/plain": [
       "   white  red  blue  green animal\n",
       "0      1    5     2      3    cat\n",
       "1      2    7     8      5    dog\n",
       "2      3    3     6      7  horse\n",
       "3      2    2     8      3   duck\n",
       "4      4    4     2      1  mouse"
      ],
      "text/html": [
       "<div>\n",
       "<style scoped>\n",
       "    .dataframe tbody tr th:only-of-type {\n",
       "        vertical-align: middle;\n",
       "    }\n",
       "\n",
       "    .dataframe tbody tr th {\n",
       "        vertical-align: top;\n",
       "    }\n",
       "\n",
       "    .dataframe thead th {\n",
       "        text-align: right;\n",
       "    }\n",
       "</style>\n",
       "<table border=\"1\" class=\"dataframe\">\n",
       "  <thead>\n",
       "    <tr style=\"text-align: right;\">\n",
       "      <th></th>\n",
       "      <th>white</th>\n",
       "      <th>red</th>\n",
       "      <th>blue</th>\n",
       "      <th>green</th>\n",
       "      <th>animal</th>\n",
       "    </tr>\n",
       "  </thead>\n",
       "  <tbody>\n",
       "    <tr>\n",
       "      <th>0</th>\n",
       "      <td>1</td>\n",
       "      <td>5</td>\n",
       "      <td>2</td>\n",
       "      <td>3</td>\n",
       "      <td>cat</td>\n",
       "    </tr>\n",
       "    <tr>\n",
       "      <th>1</th>\n",
       "      <td>2</td>\n",
       "      <td>7</td>\n",
       "      <td>8</td>\n",
       "      <td>5</td>\n",
       "      <td>dog</td>\n",
       "    </tr>\n",
       "    <tr>\n",
       "      <th>2</th>\n",
       "      <td>3</td>\n",
       "      <td>3</td>\n",
       "      <td>6</td>\n",
       "      <td>7</td>\n",
       "      <td>horse</td>\n",
       "    </tr>\n",
       "    <tr>\n",
       "      <th>3</th>\n",
       "      <td>2</td>\n",
       "      <td>2</td>\n",
       "      <td>8</td>\n",
       "      <td>3</td>\n",
       "      <td>duck</td>\n",
       "    </tr>\n",
       "    <tr>\n",
       "      <th>4</th>\n",
       "      <td>4</td>\n",
       "      <td>4</td>\n",
       "      <td>2</td>\n",
       "      <td>1</td>\n",
       "      <td>mouse</td>\n",
       "    </tr>\n",
       "  </tbody>\n",
       "</table>\n",
       "</div>"
      ]
     },
     "execution_count": 27,
     "metadata": {},
     "output_type": "execute_result"
    }
   ],
   "execution_count": 27
  },
  {
   "metadata": {
    "ExecuteTime": {
     "end_time": "2025-05-26T08:58:54.031640Z",
     "start_time": "2025-05-26T08:58:54.026316Z"
    }
   },
   "cell_type": "code",
   "source": "pd.read_csv('ch05_01.csv', header=None)\n",
   "id": "321d63a24f5a4124",
   "outputs": [
    {
     "data": {
      "text/plain": [
       "       0    1     2      3       4\n",
       "0  white  red  blue  green  animal\n",
       "1      1    5     2      3     cat\n",
       "2      2    7     8      5     dog\n",
       "3      3    3     6      7   horse\n",
       "4      2    2     8      3    duck\n",
       "5      4    4     2      1   mouse"
      ],
      "text/html": [
       "<div>\n",
       "<style scoped>\n",
       "    .dataframe tbody tr th:only-of-type {\n",
       "        vertical-align: middle;\n",
       "    }\n",
       "\n",
       "    .dataframe tbody tr th {\n",
       "        vertical-align: top;\n",
       "    }\n",
       "\n",
       "    .dataframe thead th {\n",
       "        text-align: right;\n",
       "    }\n",
       "</style>\n",
       "<table border=\"1\" class=\"dataframe\">\n",
       "  <thead>\n",
       "    <tr style=\"text-align: right;\">\n",
       "      <th></th>\n",
       "      <th>0</th>\n",
       "      <th>1</th>\n",
       "      <th>2</th>\n",
       "      <th>3</th>\n",
       "      <th>4</th>\n",
       "    </tr>\n",
       "  </thead>\n",
       "  <tbody>\n",
       "    <tr>\n",
       "      <th>0</th>\n",
       "      <td>white</td>\n",
       "      <td>red</td>\n",
       "      <td>blue</td>\n",
       "      <td>green</td>\n",
       "      <td>animal</td>\n",
       "    </tr>\n",
       "    <tr>\n",
       "      <th>1</th>\n",
       "      <td>1</td>\n",
       "      <td>5</td>\n",
       "      <td>2</td>\n",
       "      <td>3</td>\n",
       "      <td>cat</td>\n",
       "    </tr>\n",
       "    <tr>\n",
       "      <th>2</th>\n",
       "      <td>2</td>\n",
       "      <td>7</td>\n",
       "      <td>8</td>\n",
       "      <td>5</td>\n",
       "      <td>dog</td>\n",
       "    </tr>\n",
       "    <tr>\n",
       "      <th>3</th>\n",
       "      <td>3</td>\n",
       "      <td>3</td>\n",
       "      <td>6</td>\n",
       "      <td>7</td>\n",
       "      <td>horse</td>\n",
       "    </tr>\n",
       "    <tr>\n",
       "      <th>4</th>\n",
       "      <td>2</td>\n",
       "      <td>2</td>\n",
       "      <td>8</td>\n",
       "      <td>3</td>\n",
       "      <td>duck</td>\n",
       "    </tr>\n",
       "    <tr>\n",
       "      <th>5</th>\n",
       "      <td>4</td>\n",
       "      <td>4</td>\n",
       "      <td>2</td>\n",
       "      <td>1</td>\n",
       "      <td>mouse</td>\n",
       "    </tr>\n",
       "  </tbody>\n",
       "</table>\n",
       "</div>"
      ]
     },
     "execution_count": 28,
     "metadata": {},
     "output_type": "execute_result"
    }
   ],
   "execution_count": 28
  },
  {
   "metadata": {
    "ExecuteTime": {
     "end_time": "2025-05-26T09:05:01.495497Z",
     "start_time": "2025-05-26T09:05:01.472600Z"
    }
   },
   "cell_type": "code",
   "source": [
    "frame = pd.DataFrame(\n",
    "    np.arange(16).reshape((4,4)),\n",
    "    index=['red','blue','yellow','white'],\n",
    "    columns=['ball','pen','pencil','paper']\n",
    ")\n",
    "frame"
   ],
   "id": "c0d838ffde4272a3",
   "outputs": [
    {
     "data": {
      "text/plain": [
       "        ball  pen  pencil  paper\n",
       "red        0    1       2      3\n",
       "blue       4    5       6      7\n",
       "yellow     8    9      10     11\n",
       "white     12   13      14     15"
      ],
      "text/html": [
       "<div>\n",
       "<style scoped>\n",
       "    .dataframe tbody tr th:only-of-type {\n",
       "        vertical-align: middle;\n",
       "    }\n",
       "\n",
       "    .dataframe tbody tr th {\n",
       "        vertical-align: top;\n",
       "    }\n",
       "\n",
       "    .dataframe thead th {\n",
       "        text-align: right;\n",
       "    }\n",
       "</style>\n",
       "<table border=\"1\" class=\"dataframe\">\n",
       "  <thead>\n",
       "    <tr style=\"text-align: right;\">\n",
       "      <th></th>\n",
       "      <th>ball</th>\n",
       "      <th>pen</th>\n",
       "      <th>pencil</th>\n",
       "      <th>paper</th>\n",
       "    </tr>\n",
       "  </thead>\n",
       "  <tbody>\n",
       "    <tr>\n",
       "      <th>red</th>\n",
       "      <td>0</td>\n",
       "      <td>1</td>\n",
       "      <td>2</td>\n",
       "      <td>3</td>\n",
       "    </tr>\n",
       "    <tr>\n",
       "      <th>blue</th>\n",
       "      <td>4</td>\n",
       "      <td>5</td>\n",
       "      <td>6</td>\n",
       "      <td>7</td>\n",
       "    </tr>\n",
       "    <tr>\n",
       "      <th>yellow</th>\n",
       "      <td>8</td>\n",
       "      <td>9</td>\n",
       "      <td>10</td>\n",
       "      <td>11</td>\n",
       "    </tr>\n",
       "    <tr>\n",
       "      <th>white</th>\n",
       "      <td>12</td>\n",
       "      <td>13</td>\n",
       "      <td>14</td>\n",
       "      <td>15</td>\n",
       "    </tr>\n",
       "  </tbody>\n",
       "</table>\n",
       "</div>"
      ]
     },
     "execution_count": 35,
     "metadata": {},
     "output_type": "execute_result"
    }
   ],
   "execution_count": 35
  },
  {
   "metadata": {
    "ExecuteTime": {
     "end_time": "2025-05-26T09:05:02.860222Z",
     "start_time": "2025-05-26T09:05:02.854741Z"
    }
   },
   "cell_type": "code",
   "source": "frame.to_csv('ch05_07.csv')",
   "id": "c06cd8c0e74110c8",
   "outputs": [],
   "execution_count": 36
  },
  {
   "metadata": {
    "ExecuteTime": {
     "end_time": "2025-05-26T09:07:18.175431Z",
     "start_time": "2025-05-26T09:07:18.151012Z"
    }
   },
   "cell_type": "code",
   "source": "pd.read_csv('ch05_07.csv', index_col=0)",
   "id": "1094f43fe36c32e7",
   "outputs": [
    {
     "data": {
      "text/plain": [
       "        ball  pen  pencil  paper\n",
       "red        0    1       2      3\n",
       "blue       4    5       6      7\n",
       "yellow     8    9      10     11\n",
       "white     12   13      14     15"
      ],
      "text/html": [
       "<div>\n",
       "<style scoped>\n",
       "    .dataframe tbody tr th:only-of-type {\n",
       "        vertical-align: middle;\n",
       "    }\n",
       "\n",
       "    .dataframe tbody tr th {\n",
       "        vertical-align: top;\n",
       "    }\n",
       "\n",
       "    .dataframe thead th {\n",
       "        text-align: right;\n",
       "    }\n",
       "</style>\n",
       "<table border=\"1\" class=\"dataframe\">\n",
       "  <thead>\n",
       "    <tr style=\"text-align: right;\">\n",
       "      <th></th>\n",
       "      <th>ball</th>\n",
       "      <th>pen</th>\n",
       "      <th>pencil</th>\n",
       "      <th>paper</th>\n",
       "    </tr>\n",
       "  </thead>\n",
       "  <tbody>\n",
       "    <tr>\n",
       "      <th>red</th>\n",
       "      <td>0</td>\n",
       "      <td>1</td>\n",
       "      <td>2</td>\n",
       "      <td>3</td>\n",
       "    </tr>\n",
       "    <tr>\n",
       "      <th>blue</th>\n",
       "      <td>4</td>\n",
       "      <td>5</td>\n",
       "      <td>6</td>\n",
       "      <td>7</td>\n",
       "    </tr>\n",
       "    <tr>\n",
       "      <th>yellow</th>\n",
       "      <td>8</td>\n",
       "      <td>9</td>\n",
       "      <td>10</td>\n",
       "      <td>11</td>\n",
       "    </tr>\n",
       "    <tr>\n",
       "      <th>white</th>\n",
       "      <td>12</td>\n",
       "      <td>13</td>\n",
       "      <td>14</td>\n",
       "      <td>15</td>\n",
       "    </tr>\n",
       "  </tbody>\n",
       "</table>\n",
       "</div>"
      ]
     },
     "execution_count": 39,
     "metadata": {},
     "output_type": "execute_result"
    }
   ],
   "execution_count": 39
  },
  {
   "metadata": {
    "ExecuteTime": {
     "end_time": "2025-05-26T09:11:12.139807Z",
     "start_time": "2025-05-26T09:11:12.104548Z"
    }
   },
   "cell_type": "code",
   "source": [
    "excelframe = pd.read_excel('ch05_data2.xlsx', index_col=0)\n",
    "excelframe"
   ],
   "id": "f15f269b7dc689ba",
   "outputs": [
    {
     "data": {
      "text/plain": [
       "       Jan2015   Fab2015   Mar2015   Apr2005\n",
       "exp1  0.142039  0.546635  0.090242  0.665234\n",
       "exp2  0.087730  0.921791  0.536359  0.937995\n",
       "exp3  0.288152  0.229669  0.189153  0.271844\n",
       "exp4  0.814593  0.915312  0.795699  0.171684"
      ],
      "text/html": [
       "<div>\n",
       "<style scoped>\n",
       "    .dataframe tbody tr th:only-of-type {\n",
       "        vertical-align: middle;\n",
       "    }\n",
       "\n",
       "    .dataframe tbody tr th {\n",
       "        vertical-align: top;\n",
       "    }\n",
       "\n",
       "    .dataframe thead th {\n",
       "        text-align: right;\n",
       "    }\n",
       "</style>\n",
       "<table border=\"1\" class=\"dataframe\">\n",
       "  <thead>\n",
       "    <tr style=\"text-align: right;\">\n",
       "      <th></th>\n",
       "      <th>Jan2015</th>\n",
       "      <th>Fab2015</th>\n",
       "      <th>Mar2015</th>\n",
       "      <th>Apr2005</th>\n",
       "    </tr>\n",
       "  </thead>\n",
       "  <tbody>\n",
       "    <tr>\n",
       "      <th>exp1</th>\n",
       "      <td>0.142039</td>\n",
       "      <td>0.546635</td>\n",
       "      <td>0.090242</td>\n",
       "      <td>0.665234</td>\n",
       "    </tr>\n",
       "    <tr>\n",
       "      <th>exp2</th>\n",
       "      <td>0.087730</td>\n",
       "      <td>0.921791</td>\n",
       "      <td>0.536359</td>\n",
       "      <td>0.937995</td>\n",
       "    </tr>\n",
       "    <tr>\n",
       "      <th>exp3</th>\n",
       "      <td>0.288152</td>\n",
       "      <td>0.229669</td>\n",
       "      <td>0.189153</td>\n",
       "      <td>0.271844</td>\n",
       "    </tr>\n",
       "    <tr>\n",
       "      <th>exp4</th>\n",
       "      <td>0.814593</td>\n",
       "      <td>0.915312</td>\n",
       "      <td>0.795699</td>\n",
       "      <td>0.171684</td>\n",
       "    </tr>\n",
       "  </tbody>\n",
       "</table>\n",
       "</div>"
      ]
     },
     "execution_count": 40,
     "metadata": {},
     "output_type": "execute_result"
    }
   ],
   "execution_count": 40
  },
  {
   "metadata": {
    "ExecuteTime": {
     "end_time": "2025-05-26T09:11:13.586219Z",
     "start_time": "2025-05-26T09:11:13.572750Z"
    }
   },
   "cell_type": "code",
   "source": "excelframe.describe()",
   "id": "1f8e5538bf7e4f8c",
   "outputs": [
    {
     "data": {
      "text/plain": [
       "        Jan2015   Fab2015   Mar2015   Apr2005\n",
       "count  4.000000  4.000000  4.000000  4.000000\n",
       "mean   0.333128  0.653352  0.402863  0.511689\n",
       "std    0.331947  0.332455  0.324317  0.355172\n",
       "min    0.087730  0.229669  0.090242  0.171684\n",
       "25%    0.128462  0.467394  0.164426  0.246804\n",
       "50%    0.215096  0.730973  0.362756  0.468539\n",
       "75%    0.419762  0.916931  0.601194  0.733424\n",
       "max    0.814593  0.921791  0.795699  0.937995"
      ],
      "text/html": [
       "<div>\n",
       "<style scoped>\n",
       "    .dataframe tbody tr th:only-of-type {\n",
       "        vertical-align: middle;\n",
       "    }\n",
       "\n",
       "    .dataframe tbody tr th {\n",
       "        vertical-align: top;\n",
       "    }\n",
       "\n",
       "    .dataframe thead th {\n",
       "        text-align: right;\n",
       "    }\n",
       "</style>\n",
       "<table border=\"1\" class=\"dataframe\">\n",
       "  <thead>\n",
       "    <tr style=\"text-align: right;\">\n",
       "      <th></th>\n",
       "      <th>Jan2015</th>\n",
       "      <th>Fab2015</th>\n",
       "      <th>Mar2015</th>\n",
       "      <th>Apr2005</th>\n",
       "    </tr>\n",
       "  </thead>\n",
       "  <tbody>\n",
       "    <tr>\n",
       "      <th>count</th>\n",
       "      <td>4.000000</td>\n",
       "      <td>4.000000</td>\n",
       "      <td>4.000000</td>\n",
       "      <td>4.000000</td>\n",
       "    </tr>\n",
       "    <tr>\n",
       "      <th>mean</th>\n",
       "      <td>0.333128</td>\n",
       "      <td>0.653352</td>\n",
       "      <td>0.402863</td>\n",
       "      <td>0.511689</td>\n",
       "    </tr>\n",
       "    <tr>\n",
       "      <th>std</th>\n",
       "      <td>0.331947</td>\n",
       "      <td>0.332455</td>\n",
       "      <td>0.324317</td>\n",
       "      <td>0.355172</td>\n",
       "    </tr>\n",
       "    <tr>\n",
       "      <th>min</th>\n",
       "      <td>0.087730</td>\n",
       "      <td>0.229669</td>\n",
       "      <td>0.090242</td>\n",
       "      <td>0.171684</td>\n",
       "    </tr>\n",
       "    <tr>\n",
       "      <th>25%</th>\n",
       "      <td>0.128462</td>\n",
       "      <td>0.467394</td>\n",
       "      <td>0.164426</td>\n",
       "      <td>0.246804</td>\n",
       "    </tr>\n",
       "    <tr>\n",
       "      <th>50%</th>\n",
       "      <td>0.215096</td>\n",
       "      <td>0.730973</td>\n",
       "      <td>0.362756</td>\n",
       "      <td>0.468539</td>\n",
       "    </tr>\n",
       "    <tr>\n",
       "      <th>75%</th>\n",
       "      <td>0.419762</td>\n",
       "      <td>0.916931</td>\n",
       "      <td>0.601194</td>\n",
       "      <td>0.733424</td>\n",
       "    </tr>\n",
       "    <tr>\n",
       "      <th>max</th>\n",
       "      <td>0.814593</td>\n",
       "      <td>0.921791</td>\n",
       "      <td>0.795699</td>\n",
       "      <td>0.937995</td>\n",
       "    </tr>\n",
       "  </tbody>\n",
       "</table>\n",
       "</div>"
      ]
     },
     "execution_count": 41,
     "metadata": {},
     "output_type": "execute_result"
    }
   ],
   "execution_count": 41
  },
  {
   "metadata": {
    "ExecuteTime": {
     "end_time": "2025-05-26T09:11:30.813147Z",
     "start_time": "2025-05-26T09:11:30.790668Z"
    }
   },
   "cell_type": "code",
   "source": "excelframe.mean()",
   "id": "6c1d357fa06d1970",
   "outputs": [
    {
     "data": {
      "text/plain": [
       "Jan2015    0.333128\n",
       "Fab2015    0.653352\n",
       "Mar2015    0.402863\n",
       "Apr2005    0.511689\n",
       "dtype: float64"
      ]
     },
     "execution_count": 42,
     "metadata": {},
     "output_type": "execute_result"
    }
   ],
   "execution_count": 42
  },
  {
   "metadata": {
    "ExecuteTime": {
     "end_time": "2025-05-26T09:11:40.359871Z",
     "start_time": "2025-05-26T09:11:40.332119Z"
    }
   },
   "cell_type": "code",
   "source": "excelframe.sum()",
   "id": "f333abccd952d515",
   "outputs": [
    {
     "data": {
      "text/plain": [
       "Jan2015    1.332514\n",
       "Fab2015    2.613407\n",
       "Mar2015    1.611453\n",
       "Apr2005    2.046757\n",
       "dtype: float64"
      ]
     },
     "execution_count": 43,
     "metadata": {},
     "output_type": "execute_result"
    }
   ],
   "execution_count": 43
  },
  {
   "metadata": {
    "ExecuteTime": {
     "end_time": "2025-05-26T08:58:54.680172Z",
     "start_time": "2025-05-26T08:58:54.637610Z"
    }
   },
   "cell_type": "code",
   "source": [
    "frame = pd.DataFrame(\n",
    "    np.random.random((4, 4)),\n",
    "    index=['exp1','exp2','exp3','exp4'],\n",
    "    columns=['Jan2015','Fab2015','Mar2015','Apr2005']\n",
    ")\n",
    "frame.to_excel('ch05_data2.xlsx')"
   ],
   "id": "484a578fc300429b",
   "outputs": [],
   "execution_count": 31
  },
  {
   "metadata": {
    "ExecuteTime": {
     "end_time": "2025-05-26T08:58:54.834453Z",
     "start_time": "2025-05-26T08:58:54.811352Z"
    }
   },
   "cell_type": "code",
   "source": [
    "df1 = pd.DataFrame(\n",
    "    np.random.random((4, 4)),\n",
    ")\n",
    "df2 = pd.DataFrame(\n",
    "    np.random.random((7, 7)),\n",
    ")\n",
    "with pd.ExcelWriter('multiple_sheets.xlsx') as writer:\n",
    "    df1.to_excel(writer, sheet_name='Sheet1')\n",
    "    df2.to_excel(writer, sheet_name='Sheet2')"
   ],
   "id": "420e28a0ef11081b",
   "outputs": [],
   "execution_count": 32
  }
 ],
 "metadata": {
  "kernelspec": {
   "display_name": "Python 3",
   "language": "python",
   "name": "python3"
  },
  "language_info": {
   "codemirror_mode": {
    "name": "ipython",
    "version": 2
   },
   "file_extension": ".py",
   "mimetype": "text/x-python",
   "name": "python",
   "nbconvert_exporter": "python",
   "pygments_lexer": "ipython2",
   "version": "2.7.6"
  }
 },
 "nbformat": 4,
 "nbformat_minor": 5
}
