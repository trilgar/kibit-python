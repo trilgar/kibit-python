{
 "cells": [
  {
   "cell_type": "code",
   "id": "initial_id",
   "metadata": {
    "collapsed": true,
    "ExecuteTime": {
     "end_time": "2025-05-11T11:37:18.244128Z",
     "start_time": "2025-05-11T11:37:17.985391Z"
    }
   },
   "source": [
    "import pandas as pd\n",
    "import numpy as np\n"
   ],
   "outputs": [],
   "execution_count": 1
  },
  {
   "metadata": {
    "ExecuteTime": {
     "end_time": "2025-05-11T11:41:30.365026Z",
     "start_time": "2025-05-11T11:41:30.361523Z"
    }
   },
   "cell_type": "code",
   "source": [
    "s = pd.Series([12, -4, 7, 9])\n",
    "s"
   ],
   "id": "77887bd1bcd1a7a8",
   "outputs": [
    {
     "data": {
      "text/plain": [
       "0    12\n",
       "1    -4\n",
       "2     7\n",
       "3     9\n",
       "dtype: int64"
      ]
     },
     "execution_count": 3,
     "metadata": {},
     "output_type": "execute_result"
    }
   ],
   "execution_count": 3
  },
  {
   "metadata": {
    "ExecuteTime": {
     "end_time": "2025-05-11T11:41:40.286858Z",
     "start_time": "2025-05-11T11:41:40.281444Z"
    }
   },
   "cell_type": "code",
   "source": [
    "s = pd.Series([12, -4, 7, 9], index=['a', 'b', 'c', 'd'])\n",
    "s"
   ],
   "id": "8606c4f4a91d41ce",
   "outputs": [
    {
     "data": {
      "text/plain": [
       "a    12\n",
       "b    -4\n",
       "c     7\n",
       "d     9\n",
       "dtype: int64"
      ]
     },
     "execution_count": 4,
     "metadata": {},
     "output_type": "execute_result"
    }
   ],
   "execution_count": 4
  },
  {
   "metadata": {
    "ExecuteTime": {
     "end_time": "2025-05-11T11:43:09.670785Z",
     "start_time": "2025-05-11T11:43:09.665426Z"
    }
   },
   "cell_type": "code",
   "source": "s[2]      # 7\n",
   "id": "e0e6b42e91176225",
   "outputs": [
    {
     "name": "stderr",
     "output_type": "stream",
     "text": [
      "/var/folders/5z/_4ymrqb55gl_n9nt577w6kkm0000gn/T/ipykernel_84656/1713805820.py:1: FutureWarning: Series.__getitem__ treating keys as positions is deprecated. In a future version, integer keys will always be treated as labels (consistent with DataFrame behavior). To access a value by position, use `ser.iloc[pos]`\n",
      "  s[2]      # 7\n"
     ]
    },
    {
     "data": {
      "text/plain": [
       "np.int64(7)"
      ]
     },
     "execution_count": 5,
     "metadata": {},
     "output_type": "execute_result"
    }
   ],
   "execution_count": 5
  },
  {
   "metadata": {
    "ExecuteTime": {
     "end_time": "2025-05-11T11:43:49.730267Z",
     "start_time": "2025-05-11T11:43:49.726601Z"
    }
   },
   "cell_type": "code",
   "source": "s.iloc[2]",
   "id": "f717d6dfa69156be",
   "outputs": [
    {
     "data": {
      "text/plain": [
       "np.int64(7)"
      ]
     },
     "execution_count": 6,
     "metadata": {},
     "output_type": "execute_result"
    }
   ],
   "execution_count": 6
  },
  {
   "metadata": {
    "ExecuteTime": {
     "end_time": "2025-05-11T11:43:57.841929Z",
     "start_time": "2025-05-11T11:43:57.839469Z"
    }
   },
   "cell_type": "code",
   "source": "s['b']",
   "id": "96426c05ac98fc45",
   "outputs": [
    {
     "data": {
      "text/plain": [
       "np.int64(-4)"
      ]
     },
     "execution_count": 7,
     "metadata": {},
     "output_type": "execute_result"
    }
   ],
   "execution_count": 7
  },
  {
   "metadata": {
    "ExecuteTime": {
     "end_time": "2025-05-11T11:44:11.824827Z",
     "start_time": "2025-05-11T11:44:11.821250Z"
    }
   },
   "cell_type": "code",
   "source": [
    "s[0:2]              # a    12, b   -4\n",
    "      # b   -4, c    7\n"
   ],
   "id": "2aefd6484569ec7e",
   "outputs": [
    {
     "data": {
      "text/plain": [
       "a    12\n",
       "b    -4\n",
       "dtype: int64"
      ]
     },
     "execution_count": 9,
     "metadata": {},
     "output_type": "execute_result"
    }
   ],
   "execution_count": 9
  },
  {
   "metadata": {
    "ExecuteTime": {
     "end_time": "2025-05-11T11:44:13.181706Z",
     "start_time": "2025-05-11T11:44:13.176801Z"
    }
   },
   "cell_type": "code",
   "source": "s[['b', 'c']]",
   "id": "285a231072e282a2",
   "outputs": [
    {
     "data": {
      "text/plain": [
       "b   -4\n",
       "c    7\n",
       "dtype: int64"
      ]
     },
     "execution_count": 10,
     "metadata": {},
     "output_type": "execute_result"
    }
   ],
   "execution_count": 10
  },
  {
   "metadata": {
    "ExecuteTime": {
     "end_time": "2025-05-11T11:50:01.929101Z",
     "start_time": "2025-05-11T11:50:01.925086Z"
    }
   },
   "cell_type": "code",
   "source": [
    "s.iloc[1] = 0\n",
    "s['b'] = 999\n",
    "s"
   ],
   "id": "b8f13b51fc8ddf57",
   "outputs": [
    {
     "data": {
      "text/plain": [
       "a     12\n",
       "b    999\n",
       "c      7\n",
       "d      9\n",
       "dtype: int64"
      ]
     },
     "execution_count": 19,
     "metadata": {},
     "output_type": "execute_result"
    }
   ],
   "execution_count": 19
  },
  {
   "metadata": {
    "ExecuteTime": {
     "end_time": "2025-05-11T11:50:02.359132Z",
     "start_time": "2025-05-11T11:50:02.355966Z"
    }
   },
   "cell_type": "code",
   "source": [
    "arr = np.array([1, 2, 3, 4])\n",
    "s3 = pd.Series(arr)\n",
    "s3"
   ],
   "id": "1d9689943e3d4a5b",
   "outputs": [
    {
     "data": {
      "text/plain": [
       "0    1\n",
       "1    2\n",
       "2    3\n",
       "3    4\n",
       "dtype: int64"
      ]
     },
     "execution_count": 20,
     "metadata": {},
     "output_type": "execute_result"
    }
   ],
   "execution_count": 20
  },
  {
   "metadata": {
    "ExecuteTime": {
     "end_time": "2025-05-11T11:50:03.002962Z",
     "start_time": "2025-05-11T11:50:02.997863Z"
    }
   },
   "cell_type": "code",
   "source": "s[s > 8]",
   "id": "f32f373db5bd5cf0",
   "outputs": [
    {
     "data": {
      "text/plain": [
       "a     12\n",
       "b    999\n",
       "d      9\n",
       "dtype: int64"
      ]
     },
     "execution_count": 21,
     "metadata": {},
     "output_type": "execute_result"
    }
   ],
   "execution_count": 21
  },
  {
   "metadata": {
    "ExecuteTime": {
     "end_time": "2025-05-11T11:50:03.891937Z",
     "start_time": "2025-05-11T11:50:03.887028Z"
    }
   },
   "cell_type": "code",
   "source": "s / 2",
   "id": "a34d56de42762de0",
   "outputs": [
    {
     "data": {
      "text/plain": [
       "a      6.0\n",
       "b    499.5\n",
       "c      3.5\n",
       "d      4.5\n",
       "dtype: float64"
      ]
     },
     "execution_count": 22,
     "metadata": {},
     "output_type": "execute_result"
    }
   ],
   "execution_count": 22
  },
  {
   "metadata": {
    "ExecuteTime": {
     "end_time": "2025-05-11T11:50:04.943316Z",
     "start_time": "2025-05-11T11:50:04.939019Z"
    }
   },
   "cell_type": "code",
   "source": "np.log(s)",
   "id": "64bac34d0349565c",
   "outputs": [
    {
     "data": {
      "text/plain": [
       "a    2.484907\n",
       "b    6.906755\n",
       "c    1.945910\n",
       "d    2.197225\n",
       "dtype: float64"
      ]
     },
     "execution_count": 23,
     "metadata": {},
     "output_type": "execute_result"
    }
   ],
   "execution_count": 23
  },
  {
   "metadata": {},
   "cell_type": "markdown",
   "source": [
    "# Series Analysis\n",
    "| Метод                    | Опис                                                                 |\n",
    "|--------------------------|----------------------------------------------------------------------|\n",
    "| `Series.unique()`        | Повертає масив унікальних значень у Series                          |\n",
    "| `Series.value_counts()`  | Повертає кількість повторень кожного значення у Series               |\n",
    "| `Series.isin([...])`     | Повертає маску (True/False), чи входить значення до заданого списку  |\n"
   ],
   "id": "818fc7bb6f351c00"
  },
  {
   "metadata": {
    "ExecuteTime": {
     "end_time": "2025-05-11T11:58:10.191933Z",
     "start_time": "2025-05-11T11:58:10.185716Z"
    }
   },
   "cell_type": "code",
   "source": [
    "serd = pd.Series([1,0,2,1,2,3],\n",
    "                 index=['white','white','blue','green','green','yellow'])\n",
    "serd"
   ],
   "id": "8d51cca84054da33",
   "outputs": [
    {
     "data": {
      "text/plain": [
       "white     1\n",
       "white     0\n",
       "blue      2\n",
       "green     1\n",
       "green     2\n",
       "yellow    3\n",
       "dtype: int64"
      ]
     },
     "execution_count": 29,
     "metadata": {},
     "output_type": "execute_result"
    }
   ],
   "execution_count": 29
  },
  {
   "metadata": {
    "ExecuteTime": {
     "end_time": "2025-05-11T11:58:31.933868Z",
     "start_time": "2025-05-11T11:58:31.930121Z"
    }
   },
   "cell_type": "code",
   "source": "serd.unique()",
   "id": "58620ef8f8da9a33",
   "outputs": [
    {
     "data": {
      "text/plain": [
       "array([1, 0, 2, 3])"
      ]
     },
     "execution_count": 30,
     "metadata": {},
     "output_type": "execute_result"
    }
   ],
   "execution_count": 30
  },
  {
   "metadata": {
    "ExecuteTime": {
     "end_time": "2025-05-11T11:58:32.286555Z",
     "start_time": "2025-05-11T11:58:32.281864Z"
    }
   },
   "cell_type": "code",
   "source": "serd.value_counts()",
   "id": "630c2bc593c4e4cb",
   "outputs": [
    {
     "data": {
      "text/plain": [
       "1    2\n",
       "2    2\n",
       "0    1\n",
       "3    1\n",
       "Name: count, dtype: int64"
      ]
     },
     "execution_count": 31,
     "metadata": {},
     "output_type": "execute_result"
    }
   ],
   "execution_count": 31
  },
  {
   "metadata": {
    "ExecuteTime": {
     "end_time": "2025-05-11T11:58:33.305623Z",
     "start_time": "2025-05-11T11:58:33.301555Z"
    }
   },
   "cell_type": "code",
   "source": "serd.isin([0, 3])",
   "id": "c39fc3d3cfb15fa7",
   "outputs": [
    {
     "data": {
      "text/plain": [
       "white     False\n",
       "white      True\n",
       "blue      False\n",
       "green     False\n",
       "green     False\n",
       "yellow     True\n",
       "dtype: bool"
      ]
     },
     "execution_count": 32,
     "metadata": {},
     "output_type": "execute_result"
    }
   ],
   "execution_count": 32
  },
  {
   "metadata": {},
   "cell_type": "markdown",
   "source": [
    "NAN values\n",
    "| Метод                  | Опис                                                                 | Приклад                               |\n",
    "|------------------------|----------------------------------------------------------------------|----------------------------------------|\n",
    "| `Series.isnull()`      | Повертає маску: `True`, якщо значення є `NaN`                        | `s.isnull()`                           |\n",
    "| `Series.notnull()`     | Повертає маску: `True`, якщо значення **не** є `NaN`                 | `s.notnull()`                          |\n",
    "| `Series.isna()`        | Синонім до `isnull()`                                                | `s.isna()`                             |\n",
    "| `Series.notna()`       | Синонім до `notnull()`                                               | `s.notna()`                            |\n",
    "| `Series[mask]`         | Фільтрація за маскою                                                 | `s[s.notnull()]`                       |\n",
    "| `Series.fillna(value)` | Замінює всі `NaN` на задане значення                                 | `s.fillna(0)`                          |\n",
    "| `Series.dropna()`      | Видаляє всі елементи, де значення — `NaN`                            | `s.dropna()`                           |\n"
   ],
   "id": "464d87943423ca32"
  },
  {
   "metadata": {
    "ExecuteTime": {
     "end_time": "2025-05-11T12:14:17.247735Z",
     "start_time": "2025-05-11T12:14:17.231787Z"
    }
   },
   "cell_type": "code",
   "source": [
    "# Створимо Series з пропущеними значеннями\n",
    "s = pd.Series([10, np.nan, 30, np.nan, 50])\n",
    "\n",
    "print(\"Початкова Series:\")\n",
    "print(s)\n",
    "\n",
    "# isnull: де значення пропущене\n",
    "print(\"\\nМаска isnull():\")\n",
    "print(s.isnull())\n",
    "\n",
    "# notnull: де значення присутнє\n",
    "print(\"\\nМаска notnull():\")\n",
    "print(s.notnull())\n",
    "\n",
    "# isna/notna — те саме:\n",
    "print(\"\\nisna():\", s.isna())\n",
    "print(\"notna():\", s.notna())\n",
    "\n",
    "# Фільтрація лише непорожніх значень\n",
    "print(\"\\nФільтрація (s[s.notnull()]):\")\n",
    "print(s[s.notnull()])\n",
    "\n",
    "# Заповнення пропущених значень нулями\n",
    "print(\"\\nЗаповнення NaN нулями:\")\n",
    "print(s.fillna(0))\n",
    "\n",
    "# Видалення рядків з NaN\n",
    "print(\"\\nВидалення NaN (dropna):\")\n",
    "print(s.dropna())"
   ],
   "id": "afb0a7d4b7d2ed8d",
   "outputs": [
    {
     "name": "stdout",
     "output_type": "stream",
     "text": [
      "Початкова Series:\n",
      "0    10.0\n",
      "1     NaN\n",
      "2    30.0\n",
      "3     NaN\n",
      "4    50.0\n",
      "dtype: float64\n",
      "\n",
      "Маска isnull():\n",
      "0    False\n",
      "1     True\n",
      "2    False\n",
      "3     True\n",
      "4    False\n",
      "dtype: bool\n",
      "\n",
      "Маска notnull():\n",
      "0     True\n",
      "1    False\n",
      "2     True\n",
      "3    False\n",
      "4     True\n",
      "dtype: bool\n",
      "\n",
      "isna(): 0    False\n",
      "1     True\n",
      "2    False\n",
      "3     True\n",
      "4    False\n",
      "dtype: bool\n",
      "notna(): 0     True\n",
      "1    False\n",
      "2     True\n",
      "3    False\n",
      "4     True\n",
      "dtype: bool\n",
      "\n",
      "Фільтрація (s[s.notnull()]):\n",
      "0    10.0\n",
      "2    30.0\n",
      "4    50.0\n",
      "dtype: float64\n",
      "\n",
      "Заповнення NaN нулями:\n",
      "0    10.0\n",
      "1     0.0\n",
      "2    30.0\n",
      "3     0.0\n",
      "4    50.0\n",
      "dtype: float64\n",
      "\n",
      "Видалення NaN (dropna):\n",
      "0    10.0\n",
      "2    30.0\n",
      "4    50.0\n",
      "dtype: float64\n"
     ]
    }
   ],
   "execution_count": 36
  },
  {
   "metadata": {},
   "cell_type": "markdown",
   "source": "# Dictionary to Series",
   "id": "eab53be77c8d0d5"
  },
  {
   "metadata": {
    "ExecuteTime": {
     "end_time": "2025-05-11T12:14:24.028196Z",
     "start_time": "2025-05-11T12:14:24.020094Z"
    }
   },
   "cell_type": "code",
   "source": [
    "mydict = {'red': 2000, 'blue': 1000, 'yellow': 500, 'orange': 1000}\n",
    "myseries = pd.Series(mydict)\n",
    "myseries"
   ],
   "id": "6327a391e00cb920",
   "outputs": [
    {
     "data": {
      "text/plain": [
       "red       2000\n",
       "blue      1000\n",
       "yellow     500\n",
       "orange    1000\n",
       "dtype: int64"
      ]
     },
     "execution_count": 37,
     "metadata": {},
     "output_type": "execute_result"
    }
   ],
   "execution_count": 37
  },
  {
   "metadata": {
    "ExecuteTime": {
     "end_time": "2025-05-11T12:16:53.602047Z",
     "start_time": "2025-05-11T12:16:53.597276Z"
    }
   },
   "cell_type": "code",
   "source": [
    "colors = ['red', 'yellow', 'orange', 'blue', 'green']\n",
    "myseries = pd.Series(mydict, index=colors)\n",
    "myseries"
   ],
   "id": "573f7a5664c9ce24",
   "outputs": [
    {
     "data": {
      "text/plain": [
       "red       2000.0\n",
       "yellow     500.0\n",
       "orange    1000.0\n",
       "blue      1000.0\n",
       "green        NaN\n",
       "dtype: float64"
      ]
     },
     "execution_count": 39,
     "metadata": {},
     "output_type": "execute_result"
    }
   ],
   "execution_count": 39
  },
  {
   "metadata": {
    "ExecuteTime": {
     "end_time": "2025-05-11T12:16:56.718858Z",
     "start_time": "2025-05-11T12:16:56.712378Z"
    }
   },
   "cell_type": "code",
   "source": [
    "mydict2 = {'red': 400, 'yellow': 1000, 'black': 700}\n",
    "myseries2 = pd.Series(mydict2)\n",
    "result = myseries + myseries2\n",
    "result"
   ],
   "id": "8114ee79d33b16ab",
   "outputs": [
    {
     "data": {
      "text/plain": [
       "black        NaN\n",
       "blue         NaN\n",
       "green        NaN\n",
       "orange       NaN\n",
       "red       2400.0\n",
       "yellow    1500.0\n",
       "dtype: float64"
      ]
     },
     "execution_count": 40,
     "metadata": {},
     "output_type": "execute_result"
    }
   ],
   "execution_count": 40
  },
  {
   "metadata": {},
   "cell_type": "code",
   "outputs": [],
   "execution_count": null,
   "source": "",
   "id": "e3c400d5db7cbeeb"
  }
 ],
 "metadata": {
  "kernelspec": {
   "display_name": "Python 3",
   "language": "python",
   "name": "python3"
  },
  "language_info": {
   "codemirror_mode": {
    "name": "ipython",
    "version": 2
   },
   "file_extension": ".py",
   "mimetype": "text/x-python",
   "name": "python",
   "nbconvert_exporter": "python",
   "pygments_lexer": "ipython2",
   "version": "2.7.6"
  }
 },
 "nbformat": 4,
 "nbformat_minor": 5
}
