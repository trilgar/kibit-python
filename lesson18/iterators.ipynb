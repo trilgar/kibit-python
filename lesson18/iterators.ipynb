{
 "cells": [
  {
   "metadata": {},
   "cell_type": "markdown",
   "source": "# Ітератори в Python",
   "id": "38ab39e61f7e9bf6"
  },
  {
   "metadata": {
    "ExecuteTime": {
     "end_time": "2025-04-25T12:08:45.643690Z",
     "start_time": "2025-04-25T12:08:45.529830Z"
    }
   },
   "cell_type": "code",
   "source": [
    "from itertools import count\n",
    "\n",
    "s = iter([1, 2, 3])\n",
    "print(next(s))  # 1\n",
    "print(next(s))  # 2\n",
    "print(next(s))  # 3\n",
    "print(next(s))  # StopIteration"
   ],
   "id": "dedf11d5b0435181",
   "outputs": [
    {
     "name": "stdout",
     "output_type": "stream",
     "text": [
      "1\n",
      "2\n",
      "3\n"
     ]
    },
    {
     "ename": "StopIteration",
     "evalue": "",
     "output_type": "error",
     "traceback": [
      "\u001B[0;31m---------------------------------------------------------------------------\u001B[0m",
      "\u001B[0;31mStopIteration\u001B[0m                             Traceback (most recent call last)",
      "Cell \u001B[0;32mIn[1], line 5\u001B[0m\n\u001B[1;32m      3\u001B[0m \u001B[38;5;28mprint\u001B[39m(\u001B[38;5;28mnext\u001B[39m(s))  \u001B[38;5;66;03m# 2\u001B[39;00m\n\u001B[1;32m      4\u001B[0m \u001B[38;5;28mprint\u001B[39m(\u001B[38;5;28mnext\u001B[39m(s))  \u001B[38;5;66;03m# 3\u001B[39;00m\n\u001B[0;32m----> 5\u001B[0m \u001B[38;5;28mprint\u001B[39m(\u001B[38;5;28;43mnext\u001B[39;49m\u001B[43m(\u001B[49m\u001B[43ms\u001B[49m\u001B[43m)\u001B[49m)  \u001B[38;5;66;03m# StopIteration\u001B[39;00m\n",
      "\u001B[0;31mStopIteration\u001B[0m: "
     ]
    }
   ],
   "execution_count": 1
  },
  {
   "metadata": {},
   "cell_type": "markdown",
   "source": "Як насправді працює for цикл?",
   "id": "7ae80e4c2d0bd8b8"
  },
  {
   "metadata": {},
   "cell_type": "code",
   "outputs": [],
   "execution_count": null,
   "source": [
    "for element in [1, 2, 3]:\n",
    "    print(element)\n",
    "\n",
    "# еквівалентний код:\n",
    "\n",
    "iterator = iter([1, 2, 3])\n",
    "while True:\n",
    "    try:\n",
    "        element = next(iterator)\n",
    "        print(element)\n",
    "    except StopIteration:\n",
    "        break"
   ],
   "id": "9af3f133db92f26d"
  },
  {
   "metadata": {},
   "cell_type": "markdown",
   "source": "Як працює ітератор:",
   "id": "a818b25688609760"
  },
  {
   "metadata": {
    "ExecuteTime": {
     "end_time": "2025-04-25T17:34:29.428958Z",
     "start_time": "2025-04-25T17:34:29.408220Z"
    }
   },
   "cell_type": "code",
   "source": [
    "class Counter:\n",
    "    def __init__(self, max):\n",
    "        self.max = max\n",
    "        self.current = 0\n",
    "\n",
    "    def __iter__(self):\n",
    "        return self\n",
    "\n",
    "    def __next__(self):\n",
    "        if self.current < self.max:\n",
    "            self.current += 1\n",
    "            return self.current\n",
    "        raise StopIteration\n",
    "\n",
    "counter = Counter(10)\n",
    "for i in counter:\n",
    "    print(i)"
   ],
   "id": "51b92399290527e0",
   "outputs": [
    {
     "name": "stdout",
     "output_type": "stream",
     "text": [
      "1\n",
      "2\n",
      "3\n",
      "4\n",
      "5\n",
      "6\n",
      "7\n",
      "8\n",
      "9\n",
      "10\n"
     ]
    }
   ],
   "execution_count": 2
  },
  {
   "metadata": {
    "ExecuteTime": {
     "end_time": "2025-04-25T17:37:09.405772Z",
     "start_time": "2025-04-25T17:37:09.400865Z"
    }
   },
   "cell_type": "code",
   "source": [
    "# Клас — ітератор\n",
    "class Fibs:\n",
    "    # Конструктор\n",
    "    def __init__(self, n):\n",
    "        self.n = n      # Кількість чисел\n",
    "        self.start()    # Початкові значення\n",
    "\n",
    "    # Метод для повернення до початкового стану\n",
    "    def start(self):\n",
    "        self.count = 1  # Лічильник поточного числа\n",
    "        self.a = 1      # Перше число Фібоначчі\n",
    "        self.b = 1      # Друге число Фібоначчі\n",
    "\n",
    "    # Метод, який повертає ітератор\n",
    "    def __iter__(self):\n",
    "        return self\n",
    "\n",
    "    # Метод для генерації наступного елементу\n",
    "    def __next__(self):\n",
    "        if self.count > self.n:\n",
    "            self.start()\n",
    "            raise StopIteration\n",
    "        res = self.a\n",
    "        self.a, self.b = self.b, self.a + self.b\n",
    "        self.count += 1\n",
    "        return res\n",
    "\n",
    "\n",
    "# Створюємо екземпляр класу\n",
    "obj = Fibs(10)\n",
    "\n",
    "# Ітерація по перших 10 числах Фібоначчі\n",
    "print(\"Перші 10 чисел:\")\n",
    "for s in obj:\n",
    "    print(s, end=\" \")\n",
    "print()\n",
    "\n",
    "# Зміна значень полів вручну (починаємо з 3-го і 5-го)\n",
    "obj.a = 3      # Четверте число Фібоначчі\n",
    "obj.b = 5      # П’яте число Фібоначчі\n",
    "obj.count = 4  # З якого місця продовжити\n",
    "\n",
    "print(\"Продовження з заданих значень:\")\n",
    "for s in obj:\n",
    "    print(s, end=\" \")\n",
    "print()\n",
    "\n",
    "# Генеруємо вже 15 чисел\n",
    "obj.n = 15\n",
    "\n",
    "print(\"Новий прохід з n=15:\")\n",
    "for s in obj:\n",
    "    print(s, end=\" \")\n"
   ],
   "id": "5f73e02dd07e6897",
   "outputs": [
    {
     "name": "stdout",
     "output_type": "stream",
     "text": [
      "Перші 10 чисел:\n",
      "1 1 2 3 5 8 13 21 34 55 \n",
      "Продовження з заданих значень:\n",
      "3 5 8 13 21 34 55 \n",
      "Новий прохід з n=15:\n",
      "1 1 2 3 5 8 13 21 34 55 89 144 233 377 610 "
     ]
    }
   ],
   "execution_count": 4
  },
  {
   "metadata": {},
   "cell_type": "markdown",
   "source": "# Функції-генератори",
   "id": "466b2030434fb22b"
  },
  {
   "metadata": {
    "ExecuteTime": {
     "end_time": "2025-04-25T17:47:15.198962Z",
     "start_time": "2025-04-25T17:47:15.193412Z"
    }
   },
   "cell_type": "code",
   "source": [
    "# Функція-генератор для чисел Фібоначчі\n",
    "def fibs_gen(n):\n",
    "    a = 1  # Перше число послідовності\n",
    "    b = 1  # Друге число\n",
    "    for i in range(n):\n",
    "        res = a\n",
    "        a, b = b, a + b  # Перехід до наступного числа\n",
    "        yield res        # Повернення результату\n",
    "\n",
    "print(\"Спроба №1\")\n",
    "# Оператор циклу для виводу 10 чисел\n",
    "for s in fibs_gen(10):\n",
    "    print(s, end=\" \")\n",
    "\n",
    "print(\"\\nСпроба №2\")\n",
    "# Ще один виклик генератора для 10 чисел\n",
    "for s in fibs_gen(10):\n",
    "    print(s, end=\" \")\n",
    "\n",
    "print(\"\\nСпроба №3\")\n",
    "# Присвоєння генератора змінній\n",
    "f = fibs_gen(15)\n",
    "\n",
    "# Вивід 15 чисел через змінну\n",
    "for s in f:\n",
    "    print(s, end=\" \")\n",
    "\n",
    "print(\"\\nСпроба №4\")\n",
    "# Спроба повторного використання тієї ж змінної (вже вичерпано)\n",
    "for s in f:\n",
    "    print(s, end=\" \")\n",
    "\n",
    "print(\"\\nЗавершення роботи.\")\n"
   ],
   "id": "b9b8360a985e51f2",
   "outputs": [
    {
     "name": "stdout",
     "output_type": "stream",
     "text": [
      "Спроба №1\n",
      "1 1 2 3 5 8 13 21 34 55 \n",
      "Спроба №2\n",
      "1 1 2 3 5 8 13 21 34 55 \n",
      "Спроба №3\n",
      "1 1 2 3 5 8 13 21 34 55 89 144 233 377 610 \n",
      "Спроба №4\n",
      "\n",
      "Завершення роботи.\n"
     ]
    }
   ],
   "execution_count": 5
  },
  {
   "metadata": {
    "ExecuteTime": {
     "end_time": "2025-04-25T17:51:22.757696Z",
     "start_time": "2025-04-25T17:51:22.752543Z"
    }
   },
   "cell_type": "code",
   "source": [
    "def colors():\n",
    "    yield \"Червоний\"\n",
    "    yield \"Жовтий\"\n",
    "    yield \"Зелений\"\n",
    "\n",
    "\n",
    "cls = colors()\n",
    "print(type(cls))\n",
    "\n",
    "for clr in colors():\n",
    "    print(clr)\n"
   ],
   "id": "c66e0d9f92346fc1",
   "outputs": [
    {
     "name": "stdout",
     "output_type": "stream",
     "text": [
      "<class 'generator'>\n",
      "Червоний\n",
      "Жовтий\n",
      "Зелений\n"
     ]
    }
   ],
   "execution_count": 6
  }
 ],
 "metadata": {
  "kernelspec": {
   "display_name": "Python 3",
   "language": "python",
   "name": "python3"
  },
  "language_info": {
   "codemirror_mode": {
    "name": "ipython",
    "version": 2
   },
   "file_extension": ".py",
   "mimetype": "text/x-python",
   "name": "python",
   "nbconvert_exporter": "python",
   "pygments_lexer": "ipython2",
   "version": "2.7.6"
  }
 },
 "nbformat": 4,
 "nbformat_minor": 5
}
