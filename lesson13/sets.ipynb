{
 "cells": [
  {
   "cell_type": "code",
   "id": "initial_id",
   "metadata": {
    "collapsed": true,
    "ExecuteTime": {
     "end_time": "2025-03-03T12:47:30.037460Z",
     "start_time": "2025-03-03T12:47:30.030771Z"
    }
   },
   "source": [
    "A = [1, 30, \"text\", True, 30, 100, False]\n",
    "# Відображаємо вміст списку\n",
    "print(\"Список A:\", A)\n",
    "\n",
    "# На основі списку створюємо множину\n",
    "B = set(A)\n",
    "\n",
    "# Відображаємо вміст множини\n",
    "print(\"Множина B:\", B)\n",
    "\n",
    "# Створюємо ще одну множину\n",
    "C = {1, 30, \"text\", True, 30, 100, False}\n",
    "# Відображаємо вміст множини\n",
    "print(\"Множина C:\", C)\n",
    "\n",
    "# Перевіряємо рівність множин\n",
    "print(\"Рівність множин:\", B == C)\n",
    "\n",
    "# Входження елемента 1 у множину C\n",
    "print(\"Елемент 1 у множині C:\", 1 in C)"
   ],
   "outputs": [
    {
     "name": "stdout",
     "output_type": "stream",
     "text": [
      "Список A: [1, 30, 'text', True, 30, 100, False]\n",
      "Множина B: {False, 1, 100, 'text', 30}\n",
      "Множина C: {False, 1, 100, 'text', 30}\n",
      "Рівність множин: True\n",
      "Елемент 1 у множині C: True\n"
     ]
    }
   ],
   "execution_count": 1
  },
  {
   "metadata": {
    "ExecuteTime": {
     "end_time": "2025-03-03T12:52:36.133333Z",
     "start_time": "2025-03-03T12:52:36.128768Z"
    }
   },
   "cell_type": "code",
   "source": [
    "B.add(999)\n",
    "B.discard(\"text\")\n",
    "print(B)"
   ],
   "id": "1c17f9cff892ec33",
   "outputs": [
    {
     "name": "stdout",
     "output_type": "stream",
     "text": [
      "{False, 1, 100, 999, 30}\n"
     ]
    }
   ],
   "execution_count": 5
  },
  {
   "metadata": {
    "ExecuteTime": {
     "end_time": "2025-03-03T12:52:18.593873Z",
     "start_time": "2025-03-03T12:52:18.578441Z"
    }
   },
   "cell_type": "code",
   "source": "B.remove(\"not_known\")",
   "id": "dafeacd075731d35",
   "outputs": [
    {
     "ename": "KeyError",
     "evalue": "'not_known'",
     "output_type": "error",
     "traceback": [
      "\u001B[1;31m---------------------------------------------------------------------------\u001B[0m",
      "\u001B[1;31mKeyError\u001B[0m                                  Traceback (most recent call last)",
      "Cell \u001B[1;32mIn[4], line 1\u001B[0m\n\u001B[1;32m----> 1\u001B[0m \u001B[43mB\u001B[49m\u001B[38;5;241;43m.\u001B[39;49m\u001B[43mremove\u001B[49m\u001B[43m(\u001B[49m\u001B[38;5;124;43m\"\u001B[39;49m\u001B[38;5;124;43mnot_known\u001B[39;49m\u001B[38;5;124;43m\"\u001B[39;49m\u001B[43m)\u001B[49m\n",
      "\u001B[1;31mKeyError\u001B[0m: 'not_known'"
     ]
    }
   ],
   "execution_count": 4
  },
  {
   "metadata": {
    "ExecuteTime": {
     "end_time": "2025-03-03T12:52:42.552581Z",
     "start_time": "2025-03-03T12:52:42.549441Z"
    }
   },
   "cell_type": "code",
   "source": "B.discard(\"not_known\")",
   "id": "aa471a4c9079d4a5",
   "outputs": [],
   "execution_count": 6
  },
  {
   "metadata": {},
   "cell_type": "markdown",
   "source": "Операції над множинами",
   "id": "988adcc7dd2eb09a"
  },
  {
   "metadata": {
    "ExecuteTime": {
     "end_time": "2025-03-03T12:57:20.939203Z",
     "start_time": "2025-03-03T12:57:20.931215Z"
    }
   },
   "cell_type": "code",
   "source": [
    "# Перша множина (множина A)\n",
    "A = {1, 2, 3, 4}\n",
    "# Відображаємо вміст множини\n",
    "print(\"Множина A:\", A)\n",
    "\n",
    "# Друга множина (множина B)\n",
    "B = {3, 4, 5, 6}\n",
    "# Відображаємо вміст множини\n",
    "print(\"Множина B:\", B)\n",
    "\n",
    "# Об'єднання множин (множина C)\n",
    "C = A | B\n",
    "# Відображаємо результат\n",
    "print(\"Множина C = A | B:\", C)\n",
    "\n",
    "# Об'єднання множин через метод\n",
    "print(\"Множина A.union(B):\", A.union(B))\n",
    "print(\"Множина B.union(A):\", B.union(A))\n",
    "\n",
    "# Змінюємо множину A\n",
    "A.update(B)\n",
    "# Перевіряємо результат\n",
    "print(\"Множина A:\", A)\n",
    "\n",
    "# Змінюємо множину B\n",
    "B = {1, -1, -2, -3}\n",
    "# Перевіряємо результат\n",
    "print(\"Множина B:\", B)\n",
    "\n",
    "# Змінюємо множину C\n",
    "C = {7, 8, 9}\n",
    "# Перевіряємо результат\n",
    "print(\"Множина C:\", C)\n"
   ],
   "id": "83d44d9ada2fac3c",
   "outputs": [
    {
     "name": "stdout",
     "output_type": "stream",
     "text": [
      "Множина A: {1, 2, 3, 4}\n",
      "Множина B: {3, 4, 5, 6}\n",
      "Множина C = A | B: {1, 2, 3, 4, 5, 6}\n",
      "Множина A.union(B): {1, 2, 3, 4, 5, 6}\n",
      "Множина B.union(A): {1, 2, 3, 4, 5, 6}\n",
      "Множина A: {1, 2, 3, 4, 5, 6}\n",
      "Множина B: {1, -3, -1, -2}\n",
      "Множина C: {8, 9, 7}\n"
     ]
    }
   ],
   "execution_count": 7
  },
  {
   "metadata": {
    "ExecuteTime": {
     "end_time": "2025-03-03T13:01:28.837905Z",
     "start_time": "2025-03-03T13:01:28.830851Z"
    }
   },
   "cell_type": "code",
   "source": [
    "# Перша множина (множина A)\n",
    "A = {1, 2, 3, 4}\n",
    "# Відображаємо вміст множини\n",
    "print(\"Множина A:\", A)\n",
    "\n",
    "# Друга множина (множина B)\n",
    "B = {3, 4, 5, 6}\n",
    "# Відображаємо вміст множини\n",
    "print(\"Множина B:\", B)\n",
    "\n",
    "# Перетин множин (множина C)\n",
    "C = A & B\n",
    "# Відображаємо результат\n",
    "print(\"Множина C = A & B:\", C)\n",
    "\n",
    "# Перетин множин через метод\n",
    "print(\"Множина A.intersection(B):\", A.intersection(B))\n",
    "print(\"Множина B.intersection(A):\", B.intersection(A))\n",
    "\n",
    "# Змінюємо множину A\n",
    "A.intersection_update(B)\n",
    "# Перевіряємо результат\n",
    "print(\"Множина A:\", A)\n",
    "\n",
    "# Змінюємо множину B\n",
    "B = {4, 6, 8, 10}\n",
    "# Перевіряємо результат\n",
    "print(\"Множина B:\", B)\n",
    "\n",
    "# Змінюємо множину C\n",
    "C = {1, 2, 3}\n",
    "# Перевіряємо результат\n",
    "print(\"Множина C:\", C)\n"
   ],
   "id": "6faf127cf4403a0e",
   "outputs": [
    {
     "name": "stdout",
     "output_type": "stream",
     "text": [
      "Множина A: {1, 2, 3, 4}\n",
      "Множина B: {3, 4, 5, 6}\n",
      "Множина C = A & B: {3, 4}\n",
      "Множина A.intersection(B): {3, 4}\n",
      "Множина B.intersection(A): {3, 4}\n",
      "Множина A: {3, 4}\n",
      "Множина B: {8, 10, 4, 6}\n",
      "Множина C: {1, 2, 3}\n"
     ]
    }
   ],
   "execution_count": 8
  },
  {
   "metadata": {
    "ExecuteTime": {
     "end_time": "2025-03-03T13:02:58.168233Z",
     "start_time": "2025-03-03T13:02:58.162003Z"
    }
   },
   "cell_type": "code",
   "source": [
    "# Перша множина (множина A)\n",
    "A = {1, 2, 3, 4}\n",
    "# Відображаємо вміст множини\n",
    "print(\"Множина A:\", A)\n",
    "\n",
    "# Друга множина (множина B)\n",
    "B = {3, 4, 5, 6}\n",
    "# Відображаємо вміст множини\n",
    "print(\"Множина B:\", B)\n",
    "\n",
    "# Різниця множин (множина C)\n",
    "C = A - B\n",
    "# Відображаємо результат\n",
    "print(\"Множина C = A - B:\", C)\n",
    "\n",
    "# Різниця множин через метод\n",
    "print(\"Множина A.difference(B):\", A.difference(B))\n",
    "print(\"Множина B.difference(A):\", B.difference(A))\n",
    "\n",
    "# Змінюємо множину A\n",
    "A.difference_update(B)\n",
    "# Перевіряємо результат\n",
    "print(\"Множина A:\", A)\n",
    "\n",
    "# Змінюємо множину B\n",
    "B = {4, 6, 8, 10}\n",
    "# Перевіряємо результат\n",
    "print(\"Множина B:\", B)\n",
    "\n",
    "# Змінюємо множину C\n",
    "C = {1, 3, 5}\n",
    "# Перевіряємо результат\n",
    "print(\"Множина C:\", C)\n"
   ],
   "id": "3e44f57f0eb9345f",
   "outputs": [
    {
     "name": "stdout",
     "output_type": "stream",
     "text": [
      "Множина A: {1, 2, 3, 4}\n",
      "Множина B: {3, 4, 5, 6}\n",
      "Множина C = A - B: {1, 2}\n",
      "Множина A.difference(B): {1, 2}\n",
      "Множина B.difference(A): {5, 6}\n",
      "Множина A: {1, 2}\n",
      "Множина B: {8, 10, 4, 6}\n",
      "Множина C: {1, 3, 5}\n"
     ]
    }
   ],
   "execution_count": 9
  },
  {
   "metadata": {
    "ExecuteTime": {
     "end_time": "2025-03-03T13:04:05.969147Z",
     "start_time": "2025-03-03T13:04:05.962059Z"
    }
   },
   "cell_type": "code",
   "source": [
    "# Перша множина (множина A)\n",
    "A = {1, 2, 3, 4}\n",
    "# Відображаємо вміст множини\n",
    "print(\"Множина A:\", A)\n",
    "\n",
    "# Друга множина (множина B)\n",
    "B = {3, 4, 5, 6}\n",
    "# Відображаємо вміст множини\n",
    "print(\"Множина B:\", B)\n",
    "\n",
    "# Симетрична різниця множин (множина C)\n",
    "C = A ^ B\n",
    "# Відображаємо результат\n",
    "print(\"Множина C = A ^ B:\", C)\n",
    "\n",
    "# Різниця множин через метод\n",
    "print(\"Множина A.symmetric_difference(B):\", A.symmetric_difference(B))\n",
    "print(\"Множина B.symmetric_difference(A):\", B.symmetric_difference(A))\n",
    "\n",
    "# Змінюємо множину A\n",
    "A.symmetric_difference_update(B)\n",
    "# Перевіряємо результат\n",
    "print(\"Множина A:\", A)\n",
    "\n",
    "# Змінюємо множину B\n",
    "B = {4, 6, 8, 10}\n",
    "# Перевіряємо результат\n",
    "print(\"Множина B:\", B)\n",
    "\n",
    "# Змінюємо множину C\n",
    "C = {1, 3, 5}\n",
    "# Перевіряємо результат\n",
    "print(\"Множина C:\", C)\n"
   ],
   "id": "ead34f3e98423032",
   "outputs": [
    {
     "name": "stdout",
     "output_type": "stream",
     "text": [
      "Множина A: {1, 2, 3, 4}\n",
      "Множина B: {3, 4, 5, 6}\n",
      "Множина C = A ^ B: {1, 2, 5, 6}\n",
      "Множина A.symmetric_difference(B): {1, 2, 5, 6}\n",
      "Множина B.symmetric_difference(A): {1, 2, 5, 6}\n",
      "Множина A: {1, 2, 5, 6}\n",
      "Множина B: {8, 10, 4, 6}\n",
      "Множина C: {1, 3, 5}\n"
     ]
    }
   ],
   "execution_count": 10
  },
  {
   "metadata": {},
   "cell_type": "markdown",
   "source": "Оператори відношень для множин",
   "id": "9f0ddbd4dc18665f"
  },
  {
   "metadata": {
    "ExecuteTime": {
     "end_time": "2025-03-03T13:10:33.687803Z",
     "start_time": "2025-03-03T13:10:33.680301Z"
    }
   },
   "cell_type": "code",
   "source": [
    "# Демонстраційний приклад операцій відношення для множин\n",
    "\n",
    "def demo_relations(A, B):\n",
    "    print(\"Множина A =\", A)\n",
    "    print(\"Множина B =\", B)\n",
    "    print()\n",
    "\n",
    "    # Операції порівняння\n",
    "    print(\"A < B  :\", A < B)    # Істинно, якщо A - підмножина B і A != B\n",
    "    print(\"A <= B :\", A <= B)   # Істинно, якщо A - підмножина B (включно з випадком A == B)\n",
    "    print(\"A > B  :\", A > B)    # Істинно, якщо A - надмножина B і A != B\n",
    "    print(\"A >= B :\", A >= B)   # Істинно, якщо A - надмножина B (включно з випадком A == B)\n",
    "    print(\"A == B :\", A == B)   # Істинно, якщо множини ідентичні\n",
    "    print(\"A != B :\", A != B)   # Істинно, якщо множини різні\n",
    "    print()\n",
    "\n",
    "    # Еквівалентні методи\n",
    "    print(\"A.issubset(B)    :\", A.issubset(B))     # Те саме, що A <= B\n",
    "    print(\"A.issuperset(B)  :\", A.issuperset(B))   # Те саме, що A >= B\n",
    "    print(\"-\"*40, \"\\n\")\n",
    "\n",
    "# Приклад 1: A - підмножина B\n",
    "A1 = {1, 2, 3}\n",
    "B1 = {1, 2, 3, 4}\n",
    "demo_relations(A1, B1)\n",
    "\n",
    "# Приклад 2: A - надмножина B\n",
    "A2 = {10, 20, 30, 40}\n",
    "B2 = {20, 30}\n",
    "demo_relations(A2, B2)\n",
    "\n",
    "# Приклад 3: A і B не є підмножинами одна одної\n",
    "A3 = {2, 4, 6}\n",
    "B3 = {3, 4, 8}\n",
    "demo_relations(A3, B3)\n",
    "\n",
    "# Приклад 4: A і B рівні множини\n",
    "A4 = {7, 9, \"text\"}\n",
    "B4 = {\"text\", 7, 9}\n",
    "demo_relations(A4, B4)\n"
   ],
   "id": "8807d7c8d38a936d",
   "outputs": [
    {
     "name": "stdout",
     "output_type": "stream",
     "text": [
      "Множина A = {1, 2, 3}\n",
      "Множина B = {1, 2, 3, 4}\n",
      "\n",
      "A < B  : True\n",
      "A <= B : True\n",
      "A > B  : False\n",
      "A >= B : False\n",
      "A == B : False\n",
      "A != B : True\n",
      "\n",
      "A.issubset(B)    : True\n",
      "A.issuperset(B)  : False\n",
      "---------------------------------------- \n",
      "\n",
      "Множина A = {40, 10, 20, 30}\n",
      "Множина B = {20, 30}\n",
      "\n",
      "A < B  : False\n",
      "A <= B : False\n",
      "A > B  : True\n",
      "A >= B : True\n",
      "A == B : False\n",
      "A != B : True\n",
      "\n",
      "A.issubset(B)    : False\n",
      "A.issuperset(B)  : True\n",
      "---------------------------------------- \n",
      "\n",
      "Множина A = {2, 4, 6}\n",
      "Множина B = {8, 3, 4}\n",
      "\n",
      "A < B  : False\n",
      "A <= B : False\n",
      "A > B  : False\n",
      "A >= B : False\n",
      "A == B : False\n",
      "A != B : True\n",
      "\n",
      "A.issubset(B)    : False\n",
      "A.issuperset(B)  : False\n",
      "---------------------------------------- \n",
      "\n",
      "Множина A = {9, 'text', 7}\n",
      "Множина B = {9, 'text', 7}\n",
      "\n",
      "A < B  : False\n",
      "A <= B : True\n",
      "A > B  : False\n",
      "A >= B : True\n",
      "A == B : True\n",
      "A != B : False\n",
      "\n",
      "A.issubset(B)    : True\n",
      "A.issuperset(B)  : True\n",
      "---------------------------------------- \n",
      "\n"
     ]
    }
   ],
   "execution_count": 14
  },
  {
   "metadata": {},
   "cell_type": "markdown",
   "source": "Використання множин",
   "id": "970a7eb046962791"
  },
  {
   "metadata": {
    "ExecuteTime": {
     "end_time": "2025-03-03T13:06:58.910392Z",
     "start_time": "2025-03-03T13:06:58.902489Z"
    }
   },
   "cell_type": "code",
   "source": [
    "# Верхня межа\n",
    "n = 100\n",
    "\n",
    "# Множина натуральних чисел\n",
    "E = {s for s in range(1, n+1)}\n",
    "\n",
    "# Множина чисел, які при діленні на 5 дають в остачі 2\n",
    "A1 = {s for s in E if s % 5 == 2}\n",
    "\n",
    "# Множина чисел, які при діленні на 5 дають в остачі 4\n",
    "A2 = {s for s in E if s % 5 == 4}\n",
    "\n",
    "# Множина чисел, які при діленні на 5 дають в остачі 2 або 4\n",
    "A = A1 | A2\n",
    "\n",
    "# Множина чисел, які при діленні на 7 дають в остачі 3\n",
    "B = {s for s in E if s % 7 == 3}\n",
    "\n",
    "# Множина чисел, які при діленні на 3 не дають в остачі 1\n",
    "C = {s for s in E if s % 3 != 1}\n",
    "\n",
    "# Множина чисел, які при діленні на 5 дають в остачі 2 або 4,\n",
    "# або які при діленні на 7 дають в остачі 3, але при діленні на 3 не дають в остачі 1\n",
    "D = (A | B) - C\n",
    "\n",
    "# Відображаємо результат\n",
    "print(\"Наведені нижче числа від 1 до\", n)\n",
    "print(\"1) при діленні на 5 дають в остачі 2 або 4;\")\n",
    "print(\"2) при діленні на 7 дають в остачі 3;\")\n",
    "print(\"3) при діленні на 3 не дають в остачі 1.\")\n",
    "print(D)\n"
   ],
   "id": "cc09063d5acf998c",
   "outputs": [
    {
     "name": "stdout",
     "output_type": "stream",
     "text": [
      "Наведені нижче числа від 1 до 100\n",
      "1) при діленні на 5 дають в остачі 2 або 4;\n",
      "2) при діленні на 7 дають в остачі 3;\n",
      "3) при діленні на 3 не дають в остачі 1.\n",
      "{64, 97, 34, 67, 4, 37, 7, 73, 10, 79, 49, 82, 19, 52, 22, 94, 31}\n"
     ]
    }
   ],
   "execution_count": 11
  },
  {
   "metadata": {
    "ExecuteTime": {
     "end_time": "2025-03-03T13:08:05.428454Z",
     "start_time": "2025-03-03T13:08:05.422368Z"
    }
   },
   "cell_type": "code",
   "source": [
    "# Верхня межа\n",
    "n = 100\n",
    "\n",
    "# Множина чисел, які при діленні\n",
    "# на 5 дають в остачі 2 або 4, при діленні на 7\n",
    "# дають в остачі 3, а при діленні на 3 не дають\n",
    "# в остачі 1\n",
    "D = {s for s in range(1, n+1) if (s % 5 == 2 or s % 5 == 4) and s % 7 == 3 and s % 3 != 1}\n",
    "\n",
    "# Відображаємо результат\n",
    "print(\"Наведені нижче числа від 1 до\", n)\n",
    "print(\"1) при діленні на 5 дають в остачі 2 або 4;\")\n",
    "print(\"2) при діленні на 7 дають в остачі 3;\")\n",
    "print(\"3) при діленні на 3 не дають в остачі 1.\")\n",
    "print(D)"
   ],
   "id": "ab1d5b91aac5fa08",
   "outputs": [
    {
     "name": "stdout",
     "output_type": "stream",
     "text": [
      "Наведені нижче числа від 1 до 100\n",
      "1) при діленні на 5 дають в остачі 2 або 4;\n",
      "2) при діленні на 7 дають в остачі 3;\n",
      "3) при діленні на 3 не дають в остачі 1.\n",
      "{24, 17, 59, 87}\n"
     ]
    }
   ],
   "execution_count": 12
  },
  {
   "metadata": {
    "ExecuteTime": {
     "end_time": "2025-03-03T13:08:56.523146Z",
     "start_time": "2025-03-03T13:08:56.517081Z"
    }
   },
   "cell_type": "code",
   "source": [
    "# Верхня межа\n",
    "n = 100\n",
    "\n",
    "# Порожня множина\n",
    "D = set()\n",
    "\n",
    "# Формується множина чисел, які при діленні\n",
    "# на 5 дають в остачі 2 або 4, при діленні на 7\n",
    "# дають в остачі 3, а при діленні на 3 не дають\n",
    "# в остачі 1\n",
    "for s in range(1, n+1):\n",
    "    if s % 5 == 2 or s % 5 == 4:\n",
    "        if s % 7 == 3:\n",
    "            if s % 3 != 1:\n",
    "                D.add(s)\n",
    "\n",
    "# Відображаємо результат\n",
    "print(\"Наведені нижче числа від 1 до\", n)\n",
    "print(\"1) при діленні на 5 дають в остачі 2 або 4;\")\n",
    "print(\"2) при діленні на 7 дають в остачі 3;\")\n",
    "print(\"3) при діленні на 3 не дають в остачі 1.\")\n",
    "print(D)"
   ],
   "id": "db1c23a07edb5cdd",
   "outputs": [
    {
     "name": "stdout",
     "output_type": "stream",
     "text": [
      "Наведені нижче числа від 1 до 100\n",
      "1) при діленні на 5 дають в остачі 2 або 4;\n",
      "2) при діленні на 7 дають в остачі 3;\n",
      "3) при діленні на 3 не дають в остачі 1.\n",
      "{24, 17, 59, 87}\n"
     ]
    }
   ],
   "execution_count": 13
  },
  {
   "metadata": {},
   "cell_type": "markdown",
   "source": "Демонстраційний приклад із frozenset",
   "id": "b8f03feba5a18a6b"
  },
  {
   "metadata": {
    "ExecuteTime": {
     "end_time": "2025-03-03T13:13:13.635515Z",
     "start_time": "2025-03-03T13:13:13.628824Z"
    }
   },
   "cell_type": "code",
   "source": [
    "\n",
    "\n",
    "# Звичайна множина\n",
    "mutable_set = {1, 2, 3}\n",
    "print(\"Звичайна множина mutable_set:\", mutable_set)\n",
    "\n",
    "# Створюємо frozenset на основі списку\n",
    "immutable_fs = frozenset([3, 4, 5])\n",
    "print(\"Незмінюваний frozenset immutable_fs:\", immutable_fs)\n",
    "\n",
    "# Спробуємо додати елемент до frozenset (це викличе помилку)\n",
    "try:\n",
    "    immutable_fs.add(6)\n",
    "except AttributeError as e:\n",
    "    print(\"Помилка при спробі додати елемент до frozenset:\", e)\n",
    "\n",
    "# Об’єднання (union)\n",
    "union_result = mutable_set | immutable_fs\n",
    "print(\"Об’єднання (mutable_set ∪ immutable_fs):\", union_result)\n",
    "\n",
    "# Перетин (intersection)\n",
    "intersection_result = mutable_set & immutable_fs\n",
    "print(\"Перетин (mutable_set ∩ immutable_fs):\", intersection_result)\n",
    "\n",
    "# Різниця (difference)\n",
    "difference_result = immutable_fs - mutable_set\n",
    "print(\"Різниця (immutable_fs - mutable_set):\", difference_result)\n",
    "\n",
    "# frozenset можна використовувати як ключ у словнику, оскільки він хешований\n",
    "my_dict = {}\n",
    "my_dict[immutable_fs] = \"Це ключ типу frozenset\"\n",
    "print(\"Словник my_dict із frozenset як ключем:\", my_dict)\n",
    "\n",
    "# Можна створити множину з frozenset-елементами (вони теж хешовані)\n",
    "fs_set = {frozenset([1, 2]), frozenset([2, 3])}\n",
    "print(\"Множина з елементами типу frozenset:\", fs_set)\n"
   ],
   "id": "a669073c5b1b8087",
   "outputs": [
    {
     "name": "stdout",
     "output_type": "stream",
     "text": [
      "Звичайна множина mutable_set: {1, 2, 3}\n",
      "Незмінюваний frozenset immutable_fs: frozenset({3, 4, 5})\n",
      "Помилка при спробі додати елемент до frozenset: 'frozenset' object has no attribute 'add'\n",
      "Об’єднання (mutable_set ∪ immutable_fs): {1, 2, 3, 4, 5}\n",
      "Перетин (mutable_set ∩ immutable_fs): {3}\n",
      "Різниця (immutable_fs - mutable_set): frozenset({4, 5})\n",
      "Словник my_dict із frozenset як ключем: {frozenset({3, 4, 5}): 'Це ключ типу frozenset'}\n",
      "Множина з елементами типу frozenset: {frozenset({2, 3}), frozenset({1, 2})}\n"
     ]
    }
   ],
   "execution_count": 15
  },
  {
   "metadata": {},
   "cell_type": "code",
   "outputs": [],
   "execution_count": null,
   "source": "",
   "id": "6ec20ef1f742f284"
  }
 ],
 "metadata": {
  "kernelspec": {
   "display_name": "Python 3",
   "language": "python",
   "name": "python3"
  },
  "language_info": {
   "codemirror_mode": {
    "name": "ipython",
    "version": 2
   },
   "file_extension": ".py",
   "mimetype": "text/x-python",
   "name": "python",
   "nbconvert_exporter": "python",
   "pygments_lexer": "ipython2",
   "version": "2.7.6"
  }
 },
 "nbformat": 4,
 "nbformat_minor": 5
}
