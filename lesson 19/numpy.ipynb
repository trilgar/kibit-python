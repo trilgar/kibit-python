{
 "cells": [
  {
   "cell_type": "code",
   "id": "initial_id",
   "metadata": {
    "collapsed": true,
    "ExecuteTime": {
     "end_time": "2025-04-29T16:40:50.150216Z",
     "start_time": "2025-04-29T16:40:50.057882Z"
    }
   },
   "source": "import numpy as np",
   "outputs": [],
   "execution_count": 2
  },
  {
   "metadata": {},
   "cell_type": "markdown",
   "source": [
    "ndarray: Серце бібліотеки NumPy\n",
    "\n",
    "ndarray — це багатовимірний однорідний масив (всі елементи одного типу).\n",
    "\n",
    "Тип даних кожного елемента задається об'єктом dtype.\n",
    "\n",
    "Ключові атрибути масиву:\n",
    "\n",
    "| Атрибут     | Опис                                                             |\n",
    "|-------------|------------------------------------------------------------------|\n",
    "| `dtype`     | Тип елементів у масиві                                          |\n",
    "| `ndim`      | Кількість вимірів (осей)                                        |\n",
    "| `shape`     | Форма (розміри по кожній осі), наприклад `(3, 4)`               |\n",
    "| `size`      | Загальна кількість елементів у масиві                           |\n",
    "| `itemsize`  | Розмір одного елемента в байтах                                 |\n",
    "| `data`      | Вказівник на блок пам’яті з фактичними елементами масиву       |\n",
    "\n"
   ],
   "id": "6628e3cac792cca7"
  },
  {
   "metadata": {
    "ExecuteTime": {
     "end_time": "2025-04-25T19:06:56.764604Z",
     "start_time": "2025-04-25T19:06:56.759759Z"
    }
   },
   "cell_type": "code",
   "source": [
    "import numpy as np\n",
    "a = np.array([1, 2, 3])\n",
    "print(type(a))       # <class 'numpy.ndarray'>\n",
    "print(a.dtype)       # int32 (або int64)\n",
    "print(a.ndim)        # 1\n",
    "print(a.shape)       # (3,)\n",
    "print(a.size)        # 3\n",
    "print(a.itemsize)    # 4 або 8 (залежить від платформи)\n"
   ],
   "id": "37b5b580a13ff1ee",
   "outputs": [
    {
     "name": "stdout",
     "output_type": "stream",
     "text": [
      "<class 'numpy.ndarray'>\n",
      "int64\n",
      "1\n",
      "(3,)\n",
      "3\n",
      "8\n"
     ]
    }
   ],
   "execution_count": 3
  },
  {
   "metadata": {},
   "cell_type": "markdown",
   "source": "# Створення масиву",
   "id": "2d90176f66026237"
  },
  {
   "metadata": {
    "ExecuteTime": {
     "end_time": "2025-04-25T19:09:12.998753Z",
     "start_time": "2025-04-25T19:09:12.995817Z"
    }
   },
   "cell_type": "code",
   "source": "np.array([1, 2, 3])",
   "id": "16e449c763144788",
   "outputs": [
    {
     "data": {
      "text/plain": [
       "array([1, 2, 3])"
      ]
     },
     "execution_count": 5,
     "metadata": {},
     "output_type": "execute_result"
    }
   ],
   "execution_count": 5
  },
  {
   "metadata": {
    "ExecuteTime": {
     "end_time": "2025-04-25T19:09:13.999316Z",
     "start_time": "2025-04-25T19:09:13.995231Z"
    }
   },
   "cell_type": "code",
   "source": "np.array([[1, 2], [3, 4]])",
   "id": "24970cd1663fb7b6",
   "outputs": [
    {
     "data": {
      "text/plain": [
       "array([[1, 2],\n",
       "       [3, 4]])"
      ]
     },
     "execution_count": 6,
     "metadata": {},
     "output_type": "execute_result"
    }
   ],
   "execution_count": 6
  },
  {
   "metadata": {
    "ExecuteTime": {
     "end_time": "2025-04-25T19:09:36.545740Z",
     "start_time": "2025-04-25T19:09:36.542065Z"
    }
   },
   "cell_type": "code",
   "source": "np.array([(1, 2), [3, 4], (5, 6)])",
   "id": "2d57cea92ecbebf5",
   "outputs": [
    {
     "data": {
      "text/plain": [
       "array([[1, 2],\n",
       "       [3, 4],\n",
       "       [5, 6]])"
      ]
     },
     "execution_count": 7,
     "metadata": {},
     "output_type": "execute_result"
    }
   ],
   "execution_count": 7
  },
  {
   "metadata": {},
   "cell_type": "markdown",
   "source": [
    "## типи даних\n",
    "\n",
    "| Data Type   | Description                                                                                           |\n",
    "|:------------|:------------------------------------------------------------------------------------------------------|\n",
    "| `bool_`     | Булевий тип (true або false), збережений у вигляді байта                                               |\n",
    "| `int_`      | Знаковий тип цілого числа (як у C long та Python int; зазвичай int64 або int32 залежно від платформи) |\n",
    "| `intc`      | Знаковий тип цілого числа, ідентичний до C int (зазвичай int32 або int64)                             |\n",
    "| `intptr`    | Ціле число для індексування (як size_t у C; зазвичай int32 або int64)                                |\n",
    "| `int8`      | Псевдонім знакового цілого типу з 8 бітами (−128 до 127)                                             |\n",
    "| `int16`     | Псевдонім знакового цілого типу з 16 бітами (−32768 до 32767)                                        |\n",
    "| `int32`     | Псевдонім знакового цілого типу з 32 бітами (−2147483648 до 2147483647)                              |\n",
    "| `int64`     | Псевдонім знакового цілого типу з 64 бітами (−9223372036854775808 до 9223372036854775807)            |\n",
    "| `uint8`     | Псевдонім беззнакового цілого типу з 8 бітами (0 до 255)                                             |\n",
    "| `uint16`    | Псевдонім беззнакового цілого типу з 16 бітами (0 до 65535)                                          |\n",
    "| `uint32`    | Псевдонім беззнакового цілого типу з 32 бітами (0 до 4294967295)                                     |\n",
    "| `uint64`    | Псевдонім беззнакового цілого типу з 64 бітами (0 до 18446744073709551615)                          |\n",
    "| `float_`    | Скорочений запис для float64                                                                          |\n",
    "| `float16`   | Число з плаваючою комою напівточності: біт знаку, 5-бітний експонент, 10-бітова мантиса               |\n",
    "| `float32`   | Число з плаваючою комою одиничної точності: біт знаку, 8-бітний експонент, 23-бітова мантиса           |\n",
    "| `float64`   | Число з плаваючою комою подвійної точності: біт знаку, 11-бітний експонент, 52-бітова мантиса          |\n",
    "| `complex_`  | Скорочений запис для complex128                                                                       |\n",
    "| `complex64` | Комплексне число, представлене двома 32-бітними числами з плаваючою комою (дійсна та уявна частини)   |\n",
    "| `complex128`| Комплексне число, представлене двома 64-бітними числами з плаваючою комою (дійсна та уявна частини)   |\n"
   ],
   "id": "722a3cb0d167c64a"
  },
  {
   "metadata": {
    "ExecuteTime": {
     "end_time": "2025-04-25T19:23:57.977068Z",
     "start_time": "2025-04-25T19:23:57.972019Z"
    }
   },
   "cell_type": "code",
   "source": [
    "b = np.array([1.0, 2.0, 3.0], dtype=np.float32)\n",
    "print(b.dtype)  # float32\n"
   ],
   "id": "7cbeaaa104fbebf0",
   "outputs": [
    {
     "name": "stdout",
     "output_type": "stream",
     "text": [
      "float32\n"
     ]
    }
   ],
   "execution_count": 8
  },
  {
   "metadata": {},
   "cell_type": "markdown",
   "source": [
    "## Створення масивів іншими способами\n",
    "\n",
    "| Функція                         | Пояснення                                                                 |\n",
    "|-------------------------------|---------------------------------------------------------------------------|\n",
    "| `np.zeros(shape)`             | Створює масив заданої форми, заповнений нулями                            |\n",
    "| `np.ones(shape)`              | Створює масив заданої форми, заповнений одиницями                         |\n",
    "| `np.arange(stop)`             | Створює послідовність від 0 до `stop` (не включно)                         |\n",
    "| `np.arange(start, stop)`      | Послідовність від `start` до `stop` (не включно)                          |\n",
    "| `np.arange(start, stop, step)`| Послідовність з кроком `step`                                             |\n",
    "| `np.linspace(start, stop, num)` | Повертає `num` значень між `start` і `stop` з рівним інтервалом          |\n",
    "| `np.random.random(size)`      | Масив заданого розміру з випадковими числами від 0 до 1                   |\n",
    "| `arr.reshape(shape)`          | Перетворює одномірний масив у масив заданої форми                         |\n"
   ],
   "id": "e7413b6f0d322169"
  },
  {
   "metadata": {
    "ExecuteTime": {
     "end_time": "2025-04-25T19:25:33.304404Z",
     "start_time": "2025-04-25T19:25:33.298720Z"
    }
   },
   "cell_type": "code",
   "source": [
    "print(np.zeros((3, 3)))\n",
    "print(np.ones((3, 3)) )\n"
   ],
   "id": "e648ac0c9ab4a2ee",
   "outputs": [
    {
     "name": "stdout",
     "output_type": "stream",
     "text": [
      "[[0. 0. 0.]\n",
      " [0. 0. 0.]\n",
      " [0. 0. 0.]]\n",
      "[[1. 1. 1.]\n",
      " [1. 1. 1.]\n",
      " [1. 1. 1.]]\n"
     ]
    }
   ],
   "execution_count": 9
  },
  {
   "metadata": {
    "ExecuteTime": {
     "end_time": "2025-04-25T19:25:35.359020Z",
     "start_time": "2025-04-25T19:25:35.354885Z"
    }
   },
   "cell_type": "code",
   "source": [
    "print(np.arange(0, 10)  )\n",
    "print(np.arange(4, 10))\n",
    "print(np.arange(0, 12, 3))\n",
    "print(np.arange(0, 6, 0.6))\n",
    "print(np.arange(0, 12).reshape(3, 4))\n"
   ],
   "id": "d4967d65bf23358",
   "outputs": [
    {
     "name": "stdout",
     "output_type": "stream",
     "text": [
      "[0 1 2 3 4 5 6 7 8 9]\n",
      "[4 5 6 7 8 9]\n",
      "[0 3 6 9]\n",
      "[0.  0.6 1.2 1.8 2.4 3.  3.6 4.2 4.8 5.4]\n",
      "[[ 0  1  2  3]\n",
      " [ 4  5  6  7]\n",
      " [ 8  9 10 11]]\n"
     ]
    }
   ],
   "execution_count": 10
  },
  {
   "metadata": {
    "ExecuteTime": {
     "end_time": "2025-04-25T19:25:38.415114Z",
     "start_time": "2025-04-25T19:25:38.412746Z"
    }
   },
   "cell_type": "code",
   "source": "print(np.linspace(0, 10, 5))\n",
   "id": "60ed93bd7973f3df",
   "outputs": [
    {
     "name": "stdout",
     "output_type": "stream",
     "text": [
      "[ 0.   2.5  5.   7.5 10. ]\n"
     ]
    }
   ],
   "execution_count": 11
  },
  {
   "metadata": {
    "ExecuteTime": {
     "end_time": "2025-04-25T19:26:46.381506Z",
     "start_time": "2025-04-25T19:26:45.288502Z"
    }
   },
   "cell_type": "code",
   "source": [
    "print(np.random.random(3))\n",
    "print(np.random.rand(3, 3))"
   ],
   "id": "d443ff025aabff91",
   "outputs": [
    {
     "name": "stdout",
     "output_type": "stream",
     "text": [
      "[0.1255765  0.61653912 0.627763  ]\n",
      "[[0.43030696 0.07451866 0.8395686 ]\n",
      " [0.82335762 0.04221095 0.45876884]\n",
      " [0.10447972 0.24807051 0.54183393]]\n"
     ]
    }
   ],
   "execution_count": 12
  },
  {
   "metadata": {},
   "cell_type": "markdown",
   "source": "## Операції над масивами",
   "id": "d72df531cf3a73cd"
  },
  {
   "metadata": {
    "ExecuteTime": {
     "end_time": "2025-04-25T20:15:23.827175Z",
     "start_time": "2025-04-25T20:15:23.822311Z"
    }
   },
   "cell_type": "code",
   "source": [
    "a = np.arange(4)\n",
    "b = np.arange(4, 8)\n",
    "\n",
    "print(a + b)  # array([ 4,  6,  8, 10])\n",
    "print(a - b)  # array([-4, -4, -4, -4])\n",
    "print(a * b)  # array([ 0,  5, 12, 21])\n"
   ],
   "id": "41f37c81014fe65d",
   "outputs": [
    {
     "name": "stdout",
     "output_type": "stream",
     "text": [
      "[ 4  6  8 10]\n",
      "[-4 -4 -4 -4]\n",
      "[ 0  5 12 21]\n"
     ]
    }
   ],
   "execution_count": 14
  },
  {
   "metadata": {
    "ExecuteTime": {
     "end_time": "2025-04-25T20:15:24.926019Z",
     "start_time": "2025-04-25T20:15:24.918165Z"
    }
   },
   "cell_type": "code",
   "source": [
    "np.sin(b)\n",
    "np.sqrt(b)\n",
    "a * np.sqrt(b)"
   ],
   "id": "f4874e2115c4417",
   "outputs": [
    {
     "data": {
      "text/plain": [
       "array([0.        , 2.23606798, 4.89897949, 7.93725393])"
      ]
     },
     "execution_count": 15,
     "metadata": {},
     "output_type": "execute_result"
    }
   ],
   "execution_count": 15
  },
  {
   "metadata": {
    "ExecuteTime": {
     "end_time": "2025-04-25T20:16:05.884639Z",
     "start_time": "2025-04-25T20:16:05.882038Z"
    }
   },
   "cell_type": "code",
   "source": [
    "A = np.arange(0, 9).reshape(3, 3)\n",
    "B = np.ones((3, 3)) * 5\n",
    "print(A * B)\n"
   ],
   "id": "2f7b8f90b512924c",
   "outputs": [
    {
     "name": "stdout",
     "output_type": "stream",
     "text": [
      "[[ 0.  5. 10.]\n",
      " [15. 20. 25.]\n",
      " [30. 35. 40.]]\n"
     ]
    }
   ],
   "execution_count": 18
  },
  {
   "metadata": {
    "ExecuteTime": {
     "end_time": "2025-04-25T20:23:37.341740Z",
     "start_time": "2025-04-25T20:23:37.331409Z"
    }
   },
   "cell_type": "code",
   "source": [
    "A = np.arange(0, 9).reshape(3, 3)\n",
    "B = np.ones((3, 3))\n",
    "print(np.dot(A, B))\n",
    "print(A @ B)"
   ],
   "id": "df49edce24536b55",
   "outputs": [
    {
     "name": "stdout",
     "output_type": "stream",
     "text": [
      "[[ 3.  3.  3.]\n",
      " [12. 12. 12.]\n",
      " [21. 21. 21.]]\n",
      "[[ 3.  3.  3.]\n",
      " [12. 12. 12.]\n",
      " [21. 21. 21.]]\n"
     ]
    }
   ],
   "execution_count": 22
  },
  {
   "metadata": {
    "ExecuteTime": {
     "end_time": "2025-04-25T20:21:40.430959Z",
     "start_time": "2025-04-25T20:21:40.422973Z"
    }
   },
   "cell_type": "code",
   "source": [
    "a = np.arange(4)\n",
    "a+=1\n",
    "print(a)\n",
    "\n",
    "a -= 1\n",
    "print(a)"
   ],
   "id": "757446885ea6314e",
   "outputs": [
    {
     "name": "stdout",
     "output_type": "stream",
     "text": [
      "[1 2 3 4]\n",
      "[0 1 2 3]\n"
     ]
    }
   ],
   "execution_count": 21
  },
  {
   "metadata": {},
   "cell_type": "markdown",
   "source": [
    "# Ufunc — універсальні функції NumPy\n",
    "| Функція          | Опис                                                                  |\n",
    "|------------------|-----------------------------------------------------------------------|\n",
    "| `np.sqrt()`      | Обчислює **квадратний корінь** з кожного елемента.                   |\n",
    "| `np.log()`       | Обчислює **натуральний логарифм** кожного елемента.                 |\n",
    "| `np.sin()`       | Обчислює **синус** кожного елемента (в радіанах).                   |\n",
    "| `np.cos()`       | Обчислює **косинус** кожного елемента.                              |\n",
    "| `np.exp()`       | Обчислює **експоненту** (e^x) для кожного елемента.                 |\n",
    "| `np.abs()`       | Обчислює **модуль (абсолютне значення)** кожного елемента.          |\n",
    "| `np.floor()`     | Округлює кожен елемент **вниз** до найближчого цілого.              |\n",
    "| `np.ceil()`      | Округлює кожен елемент **вгору** до найближчого цілого.             |\n",
    "| `np.round()`     | Округлює кожен елемент до найближчого цілого."
   ],
   "id": "50cfe6709526349d"
  },
  {
   "metadata": {
    "ExecuteTime": {
     "end_time": "2025-04-25T20:27:06.065073Z",
     "start_time": "2025-04-25T20:27:06.056040Z"
    }
   },
   "cell_type": "code",
   "source": [
    "a = np.arange(1, 5)\n",
    "print(np.sqrt(a))  # корінь\n",
    "print(np.log(a))   # логарифм\n",
    "print(np.sin(a))   # синус\n"
   ],
   "id": "a4acc4cad54c9c60",
   "outputs": [
    {
     "name": "stdout",
     "output_type": "stream",
     "text": [
      "[1.         1.41421356 1.73205081 2.        ]\n",
      "[0.         0.69314718 1.09861229 1.38629436]\n",
      "[ 0.84147098  0.90929743  0.14112001 -0.7568025 ]\n"
     ]
    }
   ],
   "execution_count": 24
  },
  {
   "metadata": {},
   "cell_type": "markdown",
   "source": [
    "| Функція        | Опис                                                                 |\n",
    "|----------------|----------------------------------------------------------------------|\n",
    "| `np.sum()`     | Повертає **суму всіх елементів** у масиві.                          |\n",
    "| `np.min()`     | Повертає **найменше значення** серед елементів.                     |\n",
    "| `np.max()`     | Повертає **найбільше значення** серед елементів.                    |\n",
    "| `np.mean()`    | Обчислює **середнє арифметичне** значення масиву.                   |\n",
    "| `np.std()`     | Обчислює **стандартне відхилення** елементів.                       |\n",
    "| `np.var()`     | Обчислює **дисперсію** масиву (середнє квадратичне відхилення).     |\n",
    "| `np.prod()`    | Повертає **добуток всіх елементів** масиву.                         |"
   ],
   "id": "e42e5d2567834677"
  },
  {
   "metadata": {
    "ExecuteTime": {
     "end_time": "2025-04-25T20:27:53.435746Z",
     "start_time": "2025-04-25T20:27:53.431291Z"
    }
   },
   "cell_type": "code",
   "source": [
    "a = np.array([3.3, 4.5, 1.2, 5.7, 0.3])\n",
    "print(a.sum())\n",
    "print(a.min())\n",
    "print(a.max())\n",
    "print(a.mean())\n",
    "print(a.std())\n"
   ],
   "id": "aa19a064cc72272d",
   "outputs": [
    {
     "name": "stdout",
     "output_type": "stream",
     "text": [
      "15.0\n",
      "0.3\n",
      "5.7\n",
      "3.0\n",
      "2.0079840636817816\n"
     ]
    }
   ],
   "execution_count": 26
  },
  {
   "metadata": {},
   "cell_type": "markdown",
   "source": "## Indexing and iterating",
   "id": "fff71b50dc6ca83f"
  },
  {
   "metadata": {
    "ExecuteTime": {
     "end_time": "2025-04-29T16:41:40.976872Z",
     "start_time": "2025-04-29T16:41:40.973596Z"
    }
   },
   "cell_type": "code",
   "source": [
    "a = np.arange(10, 16)\n",
    "print(a[4])\n",
    "print(a[-1])\n",
    "print(a[-6])\n",
    "print(a[[1, 3, 4]])\n"
   ],
   "id": "4ce5c9f5ef515fba",
   "outputs": [
    {
     "name": "stdout",
     "output_type": "stream",
     "text": [
      "14\n",
      "15\n",
      "10\n",
      "[11 13 14]\n"
     ]
    }
   ],
   "execution_count": 4
  },
  {
   "metadata": {
    "ExecuteTime": {
     "end_time": "2025-04-29T16:43:16.667755Z",
     "start_time": "2025-04-29T16:43:16.663022Z"
    }
   },
   "cell_type": "code",
   "source": [
    "A = np.arange(10, 19).reshape((3, 3))\n",
    "print(A[1, 2])\n",
    "\n",
    "print(A[0, :])\n",
    "print(A[:, 0])\n",
    "\n"
   ],
   "id": "95349704a4c7649a",
   "outputs": [
    {
     "name": "stdout",
     "output_type": "stream",
     "text": [
      "15\n",
      "[10 11 12]\n",
      "[10 13 16]\n"
     ]
    }
   ],
   "execution_count": 5
  },
  {
   "metadata": {
    "ExecuteTime": {
     "end_time": "2025-04-29T16:44:50.748371Z",
     "start_time": "2025-04-29T16:44:50.744582Z"
    }
   },
   "cell_type": "code",
   "source": [
    "print(a[1:5])\n",
    "print(a[1:5:2])\n",
    "print(a[::2])\n",
    "print(a[:5:2])\n"
   ],
   "id": "352bd871f917bfa9",
   "outputs": [
    {
     "name": "stdout",
     "output_type": "stream",
     "text": [
      "[11 12 13 14]\n",
      "[11 13]\n",
      "[10 12 14]\n",
      "[10 12 14]\n"
     ]
    }
   ],
   "execution_count": 6
  },
  {
   "metadata": {
    "ExecuteTime": {
     "end_time": "2025-04-29T16:45:55.224613Z",
     "start_time": "2025-04-29T16:45:55.221777Z"
    }
   },
   "cell_type": "code",
   "source": [
    "print(A[0:2, 0:2])\n",
    "\n",
    "print(A[[0, 2], 0:2])\n"
   ],
   "id": "af4e6e6d39c32c47",
   "outputs": [
    {
     "name": "stdout",
     "output_type": "stream",
     "text": [
      "[[10 11]\n",
      " [13 14]]\n",
      "[[10 11]\n",
      " [16 17]]\n"
     ]
    }
   ],
   "execution_count": 8
  },
  {
   "metadata": {
    "ExecuteTime": {
     "end_time": "2025-04-29T16:51:24.913100Z",
     "start_time": "2025-04-29T16:51:24.909758Z"
    }
   },
   "cell_type": "code",
   "source": [
    "a = np.array([10, 11, 12, 13, 14, 15])\n",
    "\n",
    "for i in a:\n",
    "    print(i)"
   ],
   "id": "c2b4bd3ecd6f04bd",
   "outputs": [
    {
     "name": "stdout",
     "output_type": "stream",
     "text": [
      "10\n",
      "11\n",
      "12\n",
      "13\n",
      "14\n",
      "15\n"
     ]
    }
   ],
   "execution_count": 9
  },
  {
   "metadata": {},
   "cell_type": "markdown",
   "source": "## Conditions and boolean indexing",
   "id": "c5c4353cebda674e"
  },
  {
   "metadata": {
    "ExecuteTime": {
     "end_time": "2025-04-29T16:53:48.772417Z",
     "start_time": "2025-04-29T16:53:48.709167Z"
    }
   },
   "cell_type": "code",
   "source": [
    "A = np.random.random((4, 4))\n",
    "print(A)"
   ],
   "id": "dc85a2a89afa7c19",
   "outputs": [
    {
     "name": "stdout",
     "output_type": "stream",
     "text": [
      "[[0.8536988  0.74750043 0.89917012 0.66545954]\n",
      " [0.14617788 0.81452564 0.95109349 0.06757264]\n",
      " [0.85489232 0.87979132 0.08153446 0.48068425]\n",
      " [0.99244883 0.88964482 0.98176804 0.28259341]]\n"
     ]
    }
   ],
   "execution_count": 10
  },
  {
   "metadata": {
    "ExecuteTime": {
     "end_time": "2025-04-29T16:53:57.414245Z",
     "start_time": "2025-04-29T16:53:57.410736Z"
    }
   },
   "cell_type": "code",
   "source": [
    "A = np.random.random((4, 4))\n",
    "print(\"Matrix A:\")\n",
    "print(A)\n",
    "\n",
    "# Отримаємо булевий масив: True — де елемент < 0.5\n",
    "mask = A < 0.5\n",
    "print(\"\\nA < 0.5:\")\n",
    "print(mask)"
   ],
   "id": "7a6da4b4bd83bdb6",
   "outputs": [
    {
     "name": "stdout",
     "output_type": "stream",
     "text": [
      "Matrix A:\n",
      "[[0.40288076 0.11945007 0.1111165  0.17476368]\n",
      " [0.35685886 0.26443846 0.42765411 0.55768545]\n",
      " [0.36504821 0.77103729 0.19758015 0.33841641]\n",
      " [0.48708306 0.05923608 0.4796124  0.24174431]]\n",
      "\n",
      "A < 0.5:\n",
      "[[ True  True  True  True]\n",
      " [ True  True  True False]\n",
      " [ True False  True  True]\n",
      " [ True  True  True  True]]\n"
     ]
    }
   ],
   "execution_count": 11
  },
  {
   "metadata": {
    "ExecuteTime": {
     "end_time": "2025-04-29T16:55:34.729584Z",
     "start_time": "2025-04-29T16:55:34.725821Z"
    }
   },
   "cell_type": "code",
   "source": [
    "print(\"\\nElements in A less than 0.5:\")\n",
    "print(A[A < 0.5])"
   ],
   "id": "9e7e63f53ab8690e",
   "outputs": [
    {
     "name": "stdout",
     "output_type": "stream",
     "text": [
      "\n",
      "Elements in A less than 0.5:\n",
      "[0.40288076 0.11945007 0.1111165  0.17476368 0.35685886 0.26443846\n",
      " 0.42765411 0.36504821 0.19758015 0.33841641 0.48708306 0.05923608\n",
      " 0.4796124  0.24174431]\n"
     ]
    }
   ],
   "execution_count": 12
  },
  {
   "metadata": {},
   "cell_type": "markdown",
   "source": "# Arrays reshape",
   "id": "eccc1433b2eaf993"
  },
  {
   "metadata": {
    "ExecuteTime": {
     "end_time": "2025-05-01T18:14:19.849046Z",
     "start_time": "2025-05-01T18:14:19.735344Z"
    }
   },
   "cell_type": "code",
   "source": [
    "a = np.random.random(12)\n",
    "print(\"Оригінальний масив:\")\n",
    "print(a)\n",
    "\n",
    "A = a.reshape(3, 4)\n",
    "print(\"\\nПісля перетворення на матрицю 3x4:\")\n",
    "print(A)"
   ],
   "id": "e637501f3c98171c",
   "outputs": [
    {
     "name": "stdout",
     "output_type": "stream",
     "text": [
      "Оригінальний масив:\n",
      "[0.74762559 0.35845619 0.10794486 0.71367492 0.151479   0.63747156\n",
      " 0.44406008 0.38575697 0.9141618  0.50723197 0.98808932 0.60106271]\n",
      "\n",
      "Після перетворення на матрицю 3x4:\n",
      "[[0.74762559 0.35845619 0.10794486 0.71367492]\n",
      " [0.151479   0.63747156 0.44406008 0.38575697]\n",
      " [0.9141618  0.50723197 0.98808932 0.60106271]]\n"
     ]
    }
   ],
   "execution_count": 1
  },
  {
   "metadata": {
    "ExecuteTime": {
     "end_time": "2025-05-01T18:16:26.912868Z",
     "start_time": "2025-05-01T18:16:26.907967Z"
    }
   },
   "cell_type": "code",
   "source": [
    "a = np.random.random(12)\n",
    "a.shape = (3, 4)\n",
    "print(\"Зміна форми без створення нового об'єкта:\")\n",
    "print(a)"
   ],
   "id": "ac0df1ac9d1e15d7",
   "outputs": [
    {
     "name": "stdout",
     "output_type": "stream",
     "text": [
      "Зміна форми без створення нового об'єкта:\n",
      "[[0.4392854  0.82519573 0.28872302 0.09480376]\n",
      " [0.82670303 0.77903053 0.31328391 0.58524549]\n",
      " [0.66249816 0.04975003 0.04982369 0.69509072]]\n"
     ]
    }
   ],
   "execution_count": 2
  },
  {
   "metadata": {
    "ExecuteTime": {
     "end_time": "2025-05-01T18:17:36.861661Z",
     "start_time": "2025-05-01T18:17:36.857094Z"
    }
   },
   "cell_type": "code",
   "source": [
    "A = np.random.random((3, 4))\n",
    "print(\"Початкова матриця:\")\n",
    "print(A)\n",
    "\n",
    "a = A.ravel()\n",
    "print(\"\\nПеретворення матриці в 1D масив:\")\n",
    "print(a)"
   ],
   "id": "e450a8ea13c6aa94",
   "outputs": [
    {
     "name": "stdout",
     "output_type": "stream",
     "text": [
      "Початкова матриця:\n",
      "[[0.38981092 0.20219343 0.03829457 0.55058778]\n",
      " [0.90508013 0.6891343  0.90998629 0.01752347]\n",
      " [0.18517472 0.77097601 0.56123698 0.3685909 ]]\n",
      "\n",
      "Перетворення матриці в 1D масив:\n",
      "[0.38981092 0.20219343 0.03829457 0.55058778 0.90508013 0.6891343\n",
      " 0.90998629 0.01752347 0.18517472 0.77097601 0.56123698 0.3685909 ]\n"
     ]
    }
   ],
   "execution_count": 3
  },
  {
   "metadata": {
    "ExecuteTime": {
     "end_time": "2025-05-01T18:18:11.208186Z",
     "start_time": "2025-05-01T18:18:11.205297Z"
    }
   },
   "cell_type": "code",
   "source": [
    "A = np.random.random((3, 4))\n",
    "A.shape = (A.size,)\n",
    "print(\"Зміна форми матриці на 1D масив через size:\")\n",
    "print(A)"
   ],
   "id": "4f8c434297a3384f",
   "outputs": [
    {
     "name": "stdout",
     "output_type": "stream",
     "text": [
      "Зміна форми матриці на 1D масив через size:\n",
      "[0.73197027 0.03814548 0.96340563 0.94774814 0.05205259 0.26126829\n",
      " 0.8004033  0.26242927 0.82552224 0.49140101 0.94098901 0.12771502]\n"
     ]
    }
   ],
   "execution_count": 4
  },
  {
   "metadata": {
    "ExecuteTime": {
     "end_time": "2025-05-01T18:18:51.408988Z",
     "start_time": "2025-05-01T18:18:51.401367Z"
    }
   },
   "cell_type": "code",
   "source": [
    "A = np.random.random((3, 4))\n",
    "print(\"Початкова матриця:\")\n",
    "print(A)\n",
    "\n",
    "T = A.transpose()\n",
    "print(\"\\nТранспонована матриця:\")\n",
    "print(T)"
   ],
   "id": "54274eab2437fea8",
   "outputs": [
    {
     "name": "stdout",
     "output_type": "stream",
     "text": [
      "Початкова матриця:\n",
      "[[0.53771178 0.75184749 0.33787512 0.18240863]\n",
      " [0.27612238 0.98220473 0.99131185 0.71768519]\n",
      " [0.05313818 0.91399927 0.83336053 0.6010416 ]]\n",
      "\n",
      "Транспонована матриця:\n",
      "[[0.53771178 0.27612238 0.05313818]\n",
      " [0.75184749 0.98220473 0.91399927]\n",
      " [0.33787512 0.99131185 0.83336053]\n",
      " [0.18240863 0.71768519 0.6010416 ]]\n"
     ]
    }
   ],
   "execution_count": 5
  },
  {
   "metadata": {},
   "cell_type": "markdown",
   "source": "# Array manipulation",
   "id": "c33cb413d4ba9aa1"
  },
  {
   "metadata": {
    "ExecuteTime": {
     "end_time": "2025-05-01T18:21:29.615107Z",
     "start_time": "2025-05-01T18:21:29.609694Z"
    }
   },
   "cell_type": "code",
   "source": [
    "A = np.ones((3, 3))\n",
    "B = np.zeros((3, 3))\n",
    "\n",
    "print(\"Вертикальне об'єднання (vstack):\")\n",
    "print(np.vstack((A, B)))\n",
    "\n",
    "print(\"\\nГоризонтальне об'єднання (hstack):\")\n",
    "print(np.hstack((A, B)))"
   ],
   "id": "731068387dd6c562",
   "outputs": [
    {
     "name": "stdout",
     "output_type": "stream",
     "text": [
      "Вертикальне об'єднання (vstack):\n",
      "[[1. 1. 1.]\n",
      " [1. 1. 1.]\n",
      " [1. 1. 1.]\n",
      " [0. 0. 0.]\n",
      " [0. 0. 0.]\n",
      " [0. 0. 0.]]\n",
      "\n",
      "Горизонтальне об'єднання (hstack):\n",
      "[[1. 1. 1. 0. 0. 0.]\n",
      " [1. 1. 1. 0. 0. 0.]\n",
      " [1. 1. 1. 0. 0. 0.]]\n"
     ]
    }
   ],
   "execution_count": 6
  },
  {
   "metadata": {
    "ExecuteTime": {
     "end_time": "2025-05-01T18:23:19.095684Z",
     "start_time": "2025-05-01T18:23:19.092680Z"
    }
   },
   "cell_type": "code",
   "source": [
    "a = np.array([0, 1, 2])\n",
    "b = np.array([3, 4, 5])\n",
    "c = np.array([6, 7, 8])\n",
    "\n",
    "print(\"Об'єднання як стовпці:\")\n",
    "print(np.column_stack((a, b, c)))\n",
    "\n",
    "print(\"\\nОб'єднання як рядки:\")\n",
    "print(np.vstack((a, b, c)))"
   ],
   "id": "d8e936a24a7e6b63",
   "outputs": [
    {
     "name": "stdout",
     "output_type": "stream",
     "text": [
      "Об'єднання як стовпці:\n",
      "[[0 3 6]\n",
      " [1 4 7]\n",
      " [2 5 8]]\n",
      "\n",
      "Об'єднання як рядки:\n",
      "[[0 1 2]\n",
      " [3 4 5]\n",
      " [6 7 8]]\n"
     ]
    }
   ],
   "execution_count": 8
  },
  {
   "metadata": {
    "ExecuteTime": {
     "end_time": "2025-05-01T18:25:29.569916Z",
     "start_time": "2025-05-01T18:25:29.562771Z"
    }
   },
   "cell_type": "code",
   "source": [
    "A = np.arange(16).reshape((4, 4))\n",
    "print(\"Матриця A:\")\n",
    "print(A)\n",
    "\n",
    "# Горизонтальне розбиття (2 матриці по 2 стовпці)\n",
    "[B, C] = np.hsplit(A, 2)\n",
    "print(\"\\nГоризонтальне розбиття (hsplit):\")\n",
    "print(\"B:\\n\", B)\n",
    "print(\"C:\\n\", C)\n",
    "\n",
    "# Вертикальне розбиття (2 матриці по 2 рядки)\n",
    "[B, C] = np.vsplit(A, 2)\n",
    "print(\"\\nВертикальне розбиття (vsplit):\")\n",
    "print(\"B:\\n\", B)\n",
    "print(\"C:\\n\", C)"
   ],
   "id": "e33052f93ba85021",
   "outputs": [
    {
     "name": "stdout",
     "output_type": "stream",
     "text": [
      "Матриця A:\n",
      "[[ 0  1  2  3]\n",
      " [ 4  5  6  7]\n",
      " [ 8  9 10 11]\n",
      " [12 13 14 15]]\n",
      "\n",
      "Горизонтальне розбиття (hsplit):\n",
      "B:\n",
      " [[ 0  1]\n",
      " [ 4  5]\n",
      " [ 8  9]\n",
      " [12 13]]\n",
      "C:\n",
      " [[ 2  3]\n",
      " [ 6  7]\n",
      " [10 11]\n",
      " [14 15]]\n",
      "\n",
      "Вертикальне розбиття (vsplit):\n",
      "B:\n",
      " [[0 1 2 3]\n",
      " [4 5 6 7]]\n",
      "C:\n",
      " [[ 8  9 10 11]\n",
      " [12 13 14 15]]\n"
     ]
    }
   ],
   "execution_count": 9
  },
  {
   "metadata": {
    "ExecuteTime": {
     "end_time": "2025-05-01T18:27:59.924294Z",
     "start_time": "2025-05-01T18:27:59.921260Z"
    }
   },
   "cell_type": "code",
   "source": [
    "A = np.arange(16).reshape((4, 4))\n",
    "print(\"Матриця A:\")\n",
    "print(A)\n",
    "\n",
    "# Розбиваємо на три частини по стовпцях\n",
    "[A1, A2, A3] = np.split(A, [1, 3], axis=1)\n",
    "\n",
    "print(\"A1:\\n\", A1)\n",
    "print(\"A2:\\n\", A2)\n",
    "print(\"A3:\\n\", A3)"
   ],
   "id": "62da58243b3d38fb",
   "outputs": [
    {
     "name": "stdout",
     "output_type": "stream",
     "text": [
      "Матриця A:\n",
      "[[ 0  1  2  3]\n",
      " [ 4  5  6  7]\n",
      " [ 8  9 10 11]\n",
      " [12 13 14 15]]\n",
      "A1:\n",
      " [[ 0]\n",
      " [ 4]\n",
      " [ 8]\n",
      " [12]]\n",
      "A2:\n",
      " [[ 1  2]\n",
      " [ 5  6]\n",
      " [ 9 10]\n",
      " [13 14]]\n",
      "A3:\n",
      " [[ 3]\n",
      " [ 7]\n",
      " [11]\n",
      " [15]]\n"
     ]
    }
   ],
   "execution_count": 11
  },
  {
   "metadata": {
    "ExecuteTime": {
     "end_time": "2025-05-01T18:28:41.566537Z",
     "start_time": "2025-05-01T18:28:41.563869Z"
    }
   },
   "cell_type": "code",
   "source": [
    "[A1, A2, A3] = np.split(A, [1, 3], axis=0)\n",
    "\n",
    "print(\"A1:\\n\", A1)\n",
    "print(\"A2:\\n\", A2)\n",
    "print(\"A3:\\n\", A3)"
   ],
   "id": "99e1f67daa44c357",
   "outputs": [
    {
     "name": "stdout",
     "output_type": "stream",
     "text": [
      "A1:\n",
      " [[0 1 2 3]]\n",
      "A2:\n",
      " [[ 4  5  6  7]\n",
      " [ 8  9 10 11]]\n",
      "A3:\n",
      " [[12 13 14 15]]\n"
     ]
    }
   ],
   "execution_count": 12
  }
 ],
 "metadata": {
  "kernelspec": {
   "display_name": "Python 3",
   "language": "python",
   "name": "python3"
  },
  "language_info": {
   "codemirror_mode": {
    "name": "ipython",
    "version": 2
   },
   "file_extension": ".py",
   "mimetype": "text/x-python",
   "name": "python",
   "nbconvert_exporter": "python",
   "pygments_lexer": "ipython2",
   "version": "2.7.6"
  }
 },
 "nbformat": 4,
 "nbformat_minor": 5
}
