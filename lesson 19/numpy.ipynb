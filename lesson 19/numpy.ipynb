{
 "cells": [
  {
   "cell_type": "code",
   "id": "initial_id",
   "metadata": {
    "collapsed": true,
    "ExecuteTime": {
     "end_time": "2025-04-25T19:04:19.674749Z",
     "start_time": "2025-04-25T19:04:19.118013Z"
    }
   },
   "source": "import numpy as np",
   "outputs": [],
   "execution_count": 2
  },
  {
   "metadata": {},
   "cell_type": "markdown",
   "source": [
    "ndarray: Серце бібліотеки NumPy\n",
    "\n",
    "ndarray — це багатовимірний однорідний масив (всі елементи одного типу).\n",
    "\n",
    "Тип даних кожного елемента задається об'єктом dtype.\n",
    "\n",
    "Ключові атрибути масиву:\n",
    "\n",
    "| Атрибут     | Опис                                                             |\n",
    "|-------------|------------------------------------------------------------------|\n",
    "| `dtype`     | Тип елементів у масиві                                          |\n",
    "| `ndim`      | Кількість вимірів (осей)                                        |\n",
    "| `shape`     | Форма (розміри по кожній осі), наприклад `(3, 4)`               |\n",
    "| `size`      | Загальна кількість елементів у масиві                           |\n",
    "| `itemsize`  | Розмір одного елемента в байтах                                 |\n",
    "| `data`      | Вказівник на блок пам’яті з фактичними елементами масиву       |\n",
    "\n"
   ],
   "id": "6628e3cac792cca7"
  },
  {
   "metadata": {
    "ExecuteTime": {
     "end_time": "2025-04-25T19:06:56.764604Z",
     "start_time": "2025-04-25T19:06:56.759759Z"
    }
   },
   "cell_type": "code",
   "source": [
    "import numpy as np\n",
    "a = np.array([1, 2, 3])\n",
    "print(type(a))       # <class 'numpy.ndarray'>\n",
    "print(a.dtype)       # int32 (або int64)\n",
    "print(a.ndim)        # 1\n",
    "print(a.shape)       # (3,)\n",
    "print(a.size)        # 3\n",
    "print(a.itemsize)    # 4 або 8 (залежить від платформи)\n"
   ],
   "id": "37b5b580a13ff1ee",
   "outputs": [
    {
     "name": "stdout",
     "output_type": "stream",
     "text": [
      "<class 'numpy.ndarray'>\n",
      "int64\n",
      "1\n",
      "(3,)\n",
      "3\n",
      "8\n"
     ]
    }
   ],
   "execution_count": 3
  },
  {
   "metadata": {},
   "cell_type": "markdown",
   "source": "# Створення масиву",
   "id": "2d90176f66026237"
  },
  {
   "metadata": {
    "ExecuteTime": {
     "end_time": "2025-04-25T19:09:12.998753Z",
     "start_time": "2025-04-25T19:09:12.995817Z"
    }
   },
   "cell_type": "code",
   "source": "np.array([1, 2, 3])",
   "id": "16e449c763144788",
   "outputs": [
    {
     "data": {
      "text/plain": [
       "array([1, 2, 3])"
      ]
     },
     "execution_count": 5,
     "metadata": {},
     "output_type": "execute_result"
    }
   ],
   "execution_count": 5
  },
  {
   "metadata": {
    "ExecuteTime": {
     "end_time": "2025-04-25T19:09:13.999316Z",
     "start_time": "2025-04-25T19:09:13.995231Z"
    }
   },
   "cell_type": "code",
   "source": "np.array([[1, 2], [3, 4]])",
   "id": "24970cd1663fb7b6",
   "outputs": [
    {
     "data": {
      "text/plain": [
       "array([[1, 2],\n",
       "       [3, 4]])"
      ]
     },
     "execution_count": 6,
     "metadata": {},
     "output_type": "execute_result"
    }
   ],
   "execution_count": 6
  },
  {
   "metadata": {
    "ExecuteTime": {
     "end_time": "2025-04-25T19:09:36.545740Z",
     "start_time": "2025-04-25T19:09:36.542065Z"
    }
   },
   "cell_type": "code",
   "source": "np.array([(1, 2), [3, 4], (5, 6)])",
   "id": "2d57cea92ecbebf5",
   "outputs": [
    {
     "data": {
      "text/plain": [
       "array([[1, 2],\n",
       "       [3, 4],\n",
       "       [5, 6]])"
      ]
     },
     "execution_count": 7,
     "metadata": {},
     "output_type": "execute_result"
    }
   ],
   "execution_count": 7
  },
  {
   "metadata": {},
   "cell_type": "markdown",
   "source": [
    "## типи даних\n",
    "\n",
    "| Data Type   | Description                                                                                           |\n",
    "|:------------|:------------------------------------------------------------------------------------------------------|\n",
    "| `bool_`     | Булевий тип (true або false), збережений у вигляді байта                                               |\n",
    "| `int_`      | Знаковий тип цілого числа (як у C long та Python int; зазвичай int64 або int32 залежно від платформи) |\n",
    "| `intc`      | Знаковий тип цілого числа, ідентичний до C int (зазвичай int32 або int64)                             |\n",
    "| `intptr`    | Ціле число для індексування (як size_t у C; зазвичай int32 або int64)                                |\n",
    "| `int8`      | Псевдонім знакового цілого типу з 8 бітами (−128 до 127)                                             |\n",
    "| `int16`     | Псевдонім знакового цілого типу з 16 бітами (−32768 до 32767)                                        |\n",
    "| `int32`     | Псевдонім знакового цілого типу з 32 бітами (−2147483648 до 2147483647)                              |\n",
    "| `int64`     | Псевдонім знакового цілого типу з 64 бітами (−9223372036854775808 до 9223372036854775807)            |\n",
    "| `uint8`     | Псевдонім беззнакового цілого типу з 8 бітами (0 до 255)                                             |\n",
    "| `uint16`    | Псевдонім беззнакового цілого типу з 16 бітами (0 до 65535)                                          |\n",
    "| `uint32`    | Псевдонім беззнакового цілого типу з 32 бітами (0 до 4294967295)                                     |\n",
    "| `uint64`    | Псевдонім беззнакового цілого типу з 64 бітами (0 до 18446744073709551615)                          |\n",
    "| `float_`    | Скорочений запис для float64                                                                          |\n",
    "| `float16`   | Число з плаваючою комою напівточності: біт знаку, 5-бітний експонент, 10-бітова мантиса               |\n",
    "| `float32`   | Число з плаваючою комою одиничної точності: біт знаку, 8-бітний експонент, 23-бітова мантиса           |\n",
    "| `float64`   | Число з плаваючою комою подвійної точності: біт знаку, 11-бітний експонент, 52-бітова мантиса          |\n",
    "| `complex_`  | Скорочений запис для complex128                                                                       |\n",
    "| `complex64` | Комплексне число, представлене двома 32-бітними числами з плаваючою комою (дійсна та уявна частини)   |\n",
    "| `complex128`| Комплексне число, представлене двома 64-бітними числами з плаваючою комою (дійсна та уявна частини)   |\n"
   ],
   "id": "722a3cb0d167c64a"
  },
  {
   "metadata": {
    "ExecuteTime": {
     "end_time": "2025-04-25T19:23:57.977068Z",
     "start_time": "2025-04-25T19:23:57.972019Z"
    }
   },
   "cell_type": "code",
   "source": [
    "b = np.array([1.0, 2.0, 3.0], dtype=np.float32)\n",
    "print(b.dtype)  # float32\n"
   ],
   "id": "7cbeaaa104fbebf0",
   "outputs": [
    {
     "name": "stdout",
     "output_type": "stream",
     "text": [
      "float32\n"
     ]
    }
   ],
   "execution_count": 8
  },
  {
   "metadata": {},
   "cell_type": "markdown",
   "source": [
    "## Створення масивів іншими способами\n",
    "\n",
    "| Функція                         | Пояснення                                                                 |\n",
    "|-------------------------------|---------------------------------------------------------------------------|\n",
    "| `np.zeros(shape)`             | Створює масив заданої форми, заповнений нулями                            |\n",
    "| `np.ones(shape)`              | Створює масив заданої форми, заповнений одиницями                         |\n",
    "| `np.arange(stop)`             | Створює послідовність від 0 до `stop` (не включно)                         |\n",
    "| `np.arange(start, stop)`      | Послідовність від `start` до `stop` (не включно)                          |\n",
    "| `np.arange(start, stop, step)`| Послідовність з кроком `step`                                             |\n",
    "| `np.linspace(start, stop, num)` | Повертає `num` значень між `start` і `stop` з рівним інтервалом          |\n",
    "| `np.random.random(size)`      | Масив заданого розміру з випадковими числами від 0 до 1                   |\n",
    "| `arr.reshape(shape)`          | Перетворює одномірний масив у масив заданої форми                         |\n"
   ],
   "id": "e7413b6f0d322169"
  },
  {
   "metadata": {
    "ExecuteTime": {
     "end_time": "2025-04-25T19:25:33.304404Z",
     "start_time": "2025-04-25T19:25:33.298720Z"
    }
   },
   "cell_type": "code",
   "source": [
    "print(np.zeros((3, 3)))\n",
    "print(np.ones((3, 3)) )\n"
   ],
   "id": "e648ac0c9ab4a2ee",
   "outputs": [
    {
     "name": "stdout",
     "output_type": "stream",
     "text": [
      "[[0. 0. 0.]\n",
      " [0. 0. 0.]\n",
      " [0. 0. 0.]]\n",
      "[[1. 1. 1.]\n",
      " [1. 1. 1.]\n",
      " [1. 1. 1.]]\n"
     ]
    }
   ],
   "execution_count": 9
  },
  {
   "metadata": {
    "ExecuteTime": {
     "end_time": "2025-04-25T19:25:35.359020Z",
     "start_time": "2025-04-25T19:25:35.354885Z"
    }
   },
   "cell_type": "code",
   "source": [
    "print(np.arange(0, 10)  )\n",
    "print(np.arange(4, 10))\n",
    "print(np.arange(0, 12, 3))\n",
    "print(np.arange(0, 6, 0.6))\n",
    "print(np.arange(0, 12).reshape(3, 4))\n"
   ],
   "id": "d4967d65bf23358",
   "outputs": [
    {
     "name": "stdout",
     "output_type": "stream",
     "text": [
      "[0 1 2 3 4 5 6 7 8 9]\n",
      "[4 5 6 7 8 9]\n",
      "[0 3 6 9]\n",
      "[0.  0.6 1.2 1.8 2.4 3.  3.6 4.2 4.8 5.4]\n",
      "[[ 0  1  2  3]\n",
      " [ 4  5  6  7]\n",
      " [ 8  9 10 11]]\n"
     ]
    }
   ],
   "execution_count": 10
  },
  {
   "metadata": {
    "ExecuteTime": {
     "end_time": "2025-04-25T19:25:38.415114Z",
     "start_time": "2025-04-25T19:25:38.412746Z"
    }
   },
   "cell_type": "code",
   "source": "print(np.linspace(0, 10, 5))\n",
   "id": "60ed93bd7973f3df",
   "outputs": [
    {
     "name": "stdout",
     "output_type": "stream",
     "text": [
      "[ 0.   2.5  5.   7.5 10. ]\n"
     ]
    }
   ],
   "execution_count": 11
  },
  {
   "metadata": {
    "ExecuteTime": {
     "end_time": "2025-04-25T19:26:46.381506Z",
     "start_time": "2025-04-25T19:26:45.288502Z"
    }
   },
   "cell_type": "code",
   "source": [
    "print(np.random.random(3))\n",
    "print(np.random.rand(3, 3))"
   ],
   "id": "d443ff025aabff91",
   "outputs": [
    {
     "name": "stdout",
     "output_type": "stream",
     "text": [
      "[0.1255765  0.61653912 0.627763  ]\n",
      "[[0.43030696 0.07451866 0.8395686 ]\n",
      " [0.82335762 0.04221095 0.45876884]\n",
      " [0.10447972 0.24807051 0.54183393]]\n"
     ]
    }
   ],
   "execution_count": 12
  },
  {
   "metadata": {},
   "cell_type": "markdown",
   "source": "## Операції над масивами",
   "id": "d72df531cf3a73cd"
  },
  {
   "metadata": {
    "ExecuteTime": {
     "end_time": "2025-04-25T20:15:23.827175Z",
     "start_time": "2025-04-25T20:15:23.822311Z"
    }
   },
   "cell_type": "code",
   "source": [
    "a = np.arange(4)\n",
    "b = np.arange(4, 8)\n",
    "\n",
    "print(a + b)  # array([ 4,  6,  8, 10])\n",
    "print(a - b)  # array([-4, -4, -4, -4])\n",
    "print(a * b)  # array([ 0,  5, 12, 21])\n"
   ],
   "id": "41f37c81014fe65d",
   "outputs": [
    {
     "name": "stdout",
     "output_type": "stream",
     "text": [
      "[ 4  6  8 10]\n",
      "[-4 -4 -4 -4]\n",
      "[ 0  5 12 21]\n"
     ]
    }
   ],
   "execution_count": 14
  },
  {
   "metadata": {
    "ExecuteTime": {
     "end_time": "2025-04-25T20:15:24.926019Z",
     "start_time": "2025-04-25T20:15:24.918165Z"
    }
   },
   "cell_type": "code",
   "source": [
    "np.sin(b)\n",
    "np.sqrt(b)\n",
    "a * np.sqrt(b)"
   ],
   "id": "f4874e2115c4417",
   "outputs": [
    {
     "data": {
      "text/plain": [
       "array([0.        , 2.23606798, 4.89897949, 7.93725393])"
      ]
     },
     "execution_count": 15,
     "metadata": {},
     "output_type": "execute_result"
    }
   ],
   "execution_count": 15
  },
  {
   "metadata": {
    "ExecuteTime": {
     "end_time": "2025-04-25T20:16:05.884639Z",
     "start_time": "2025-04-25T20:16:05.882038Z"
    }
   },
   "cell_type": "code",
   "source": [
    "A = np.arange(0, 9).reshape(3, 3)\n",
    "B = np.ones((3, 3)) * 5\n",
    "print(A * B)\n"
   ],
   "id": "2f7b8f90b512924c",
   "outputs": [
    {
     "name": "stdout",
     "output_type": "stream",
     "text": [
      "[[ 0.  5. 10.]\n",
      " [15. 20. 25.]\n",
      " [30. 35. 40.]]\n"
     ]
    }
   ],
   "execution_count": 18
  },
  {
   "metadata": {
    "ExecuteTime": {
     "end_time": "2025-04-25T20:23:37.341740Z",
     "start_time": "2025-04-25T20:23:37.331409Z"
    }
   },
   "cell_type": "code",
   "source": [
    "A = np.arange(0, 9).reshape(3, 3)\n",
    "B = np.ones((3, 3))\n",
    "print(np.dot(A, B))\n",
    "print(A @ B)"
   ],
   "id": "df49edce24536b55",
   "outputs": [
    {
     "name": "stdout",
     "output_type": "stream",
     "text": [
      "[[ 3.  3.  3.]\n",
      " [12. 12. 12.]\n",
      " [21. 21. 21.]]\n",
      "[[ 3.  3.  3.]\n",
      " [12. 12. 12.]\n",
      " [21. 21. 21.]]\n"
     ]
    }
   ],
   "execution_count": 22
  },
  {
   "metadata": {
    "ExecuteTime": {
     "end_time": "2025-04-25T20:21:40.430959Z",
     "start_time": "2025-04-25T20:21:40.422973Z"
    }
   },
   "cell_type": "code",
   "source": [
    "a = np.arange(4)\n",
    "a+=1\n",
    "print(a)\n",
    "\n",
    "a -= 1\n",
    "print(a)"
   ],
   "id": "757446885ea6314e",
   "outputs": [
    {
     "name": "stdout",
     "output_type": "stream",
     "text": [
      "[1 2 3 4]\n",
      "[0 1 2 3]\n"
     ]
    }
   ],
   "execution_count": 21
  },
  {
   "metadata": {},
   "cell_type": "markdown",
   "source": [
    "# Ufunc — універсальні функції NumPy\n",
    "| Функція          | Опис                                                                  |\n",
    "|------------------|-----------------------------------------------------------------------|\n",
    "| `np.sqrt()`      | Обчислює **квадратний корінь** з кожного елемента.                   |\n",
    "| `np.log()`       | Обчислює **натуральний логарифм** кожного елемента.                 |\n",
    "| `np.sin()`       | Обчислює **синус** кожного елемента (в радіанах).                   |\n",
    "| `np.cos()`       | Обчислює **косинус** кожного елемента.                              |\n",
    "| `np.exp()`       | Обчислює **експоненту** (e^x) для кожного елемента.                 |\n",
    "| `np.abs()`       | Обчислює **модуль (абсолютне значення)** кожного елемента.          |\n",
    "| `np.floor()`     | Округлює кожен елемент **вниз** до найближчого цілого.              |\n",
    "| `np.ceil()`      | Округлює кожен елемент **вгору** до найближчого цілого.             |\n",
    "| `np.round()`     | Округлює кожен елемент до найближчого цілого."
   ],
   "id": "50cfe6709526349d"
  },
  {
   "metadata": {
    "ExecuteTime": {
     "end_time": "2025-04-25T20:27:06.065073Z",
     "start_time": "2025-04-25T20:27:06.056040Z"
    }
   },
   "cell_type": "code",
   "source": [
    "a = np.arange(1, 5)\n",
    "print(np.sqrt(a))  # корінь\n",
    "print(np.log(a))   # логарифм\n",
    "print(np.sin(a))   # синус\n"
   ],
   "id": "a4acc4cad54c9c60",
   "outputs": [
    {
     "name": "stdout",
     "output_type": "stream",
     "text": [
      "[1.         1.41421356 1.73205081 2.        ]\n",
      "[0.         0.69314718 1.09861229 1.38629436]\n",
      "[ 0.84147098  0.90929743  0.14112001 -0.7568025 ]\n"
     ]
    }
   ],
   "execution_count": 24
  },
  {
   "metadata": {},
   "cell_type": "markdown",
   "source": [
    "| Функція        | Опис                                                                 |\n",
    "|----------------|----------------------------------------------------------------------|\n",
    "| `np.sum()`     | Повертає **суму всіх елементів** у масиві.                          |\n",
    "| `np.min()`     | Повертає **найменше значення** серед елементів.                     |\n",
    "| `np.max()`     | Повертає **найбільше значення** серед елементів.                    |\n",
    "| `np.mean()`    | Обчислює **середнє арифметичне** значення масиву.                   |\n",
    "| `np.std()`     | Обчислює **стандартне відхилення** елементів.                       |\n",
    "| `np.var()`     | Обчислює **дисперсію** масиву (середнє квадратичне відхилення).     |\n",
    "| `np.prod()`    | Повертає **добуток всіх елементів** масиву.                         |"
   ],
   "id": "e42e5d2567834677"
  },
  {
   "metadata": {
    "ExecuteTime": {
     "end_time": "2025-04-25T20:27:53.435746Z",
     "start_time": "2025-04-25T20:27:53.431291Z"
    }
   },
   "cell_type": "code",
   "source": [
    "a = np.array([3.3, 4.5, 1.2, 5.7, 0.3])\n",
    "print(a.sum())\n",
    "print(a.min())\n",
    "print(a.max())\n",
    "print(a.mean())\n",
    "print(a.std())\n"
   ],
   "id": "aa19a064cc72272d",
   "outputs": [
    {
     "name": "stdout",
     "output_type": "stream",
     "text": [
      "15.0\n",
      "0.3\n",
      "5.7\n",
      "3.0\n",
      "2.0079840636817816\n"
     ]
    }
   ],
   "execution_count": 26
  }
 ],
 "metadata": {
  "kernelspec": {
   "display_name": "Python 3",
   "language": "python",
   "name": "python3"
  },
  "language_info": {
   "codemirror_mode": {
    "name": "ipython",
    "version": 2
   },
   "file_extension": ".py",
   "mimetype": "text/x-python",
   "name": "python",
   "nbconvert_exporter": "python",
   "pygments_lexer": "ipython2",
   "version": "2.7.6"
  }
 },
 "nbformat": 4,
 "nbformat_minor": 5
}
