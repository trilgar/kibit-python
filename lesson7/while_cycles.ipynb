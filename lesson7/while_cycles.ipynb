{
 "cells": [
  {
   "metadata": {},
   "cell_type": "markdown",
   "source": [
    "Цикл while створюється за наступним принципом: \n",
    "\n",
    "while умова:\n",
    "    Щось що треба виконати\n",
    "    Ще щось що треба виконати\n",
    "    Ще щось що треба виконати\n",
    "    \n",
    "Цикл while виконується доти, доки умова відповідає значенню True. Як тільки умова стає False, виконання циклу припиняється."
   ],
   "id": "7ac8c0455262c6fa"
  },
  {
   "metadata": {
    "ExecuteTime": {
     "end_time": "2025-01-24T17:07:17.657879Z",
     "start_time": "2025-01-24T17:07:17.653319Z"
    }
   },
   "cell_type": "code",
   "source": [
    "\n",
    "\n",
    "a = 1\n",
    "\n",
    "while a < 10:\n",
    "    print(a)\n",
    "    a += 1"
   ],
   "id": "initial_id",
   "outputs": [
    {
     "name": "stdout",
     "output_type": "stream",
     "text": [
      "1\n",
      "2\n",
      "3\n",
      "4\n",
      "5\n",
      "6\n",
      "7\n",
      "8\n",
      "9\n"
     ]
    }
   ],
   "execution_count": 1
  },
  {
   "metadata": {},
   "cell_type": "markdown",
   "source": "Цикл while може бути вкладений в інший цикл while або в будь-який інший цикл.",
   "id": "49e1b8156f1aba51"
  },
  {
   "metadata": {},
   "cell_type": "code",
   "outputs": [],
   "execution_count": null,
   "source": [
    "a = 1\n",
    "b = 1\n",
    "while a < 10:\n",
    "    while b < 10:\n",
    "        print(a, b)\n",
    "        b += 1\n",
    "    a += 1"
   ],
   "id": "4f52a1e2038e7499"
  },
  {
   "metadata": {},
   "cell_type": "markdown",
   "source": "While цикл може також бути розширений за допомогою оператора else. Цей оператор виконується, якщо умова циклу while стає False.",
   "id": "8fbef10572f10cad"
  },
  {
   "metadata": {},
   "cell_type": "code",
   "outputs": [],
   "execution_count": null,
   "source": [
    "a = 1\n",
    "while a < 10:\n",
    "    print(a)\n",
    "    a += 1\n",
    "else:\n",
    "    print('Цикл завершено')"
   ],
   "id": "7a0e1b7f98a02bdb"
  },
  {
   "metadata": {},
   "cell_type": "markdown",
   "source": "Але навіщо це, якщо можна написати те ж саме без оператора else? Різниця полягає у тому, що оператор else виконується тільки в тому випадку, якщо цикл завершується при перевірці умови. Якщо цикл завершується при виконанні break, оператор else не виконується.",
   "id": "61170e723552c55e"
  },
  {
   "metadata": {
    "ExecuteTime": {
     "end_time": "2025-01-24T17:23:18.233361Z",
     "start_time": "2025-01-24T17:23:18.228320Z"
    }
   },
   "cell_type": "code",
   "source": [
    "print(\"Сума натуральних чисел\")\n",
    "n = 100  # Кількість доданків\n",
    "\n",
    "# Формуємо текст для відображення результату\n",
    "text = \"1+2+...+\" + str(n) + \" =\"\n",
    "\n",
    "# Ітераційна змінна для оператора циклу\n",
    "i = 1\n",
    "# Змінна для запису суми\n",
    "s = 0\n",
    "\n",
    "# Оператор циклу для обчислення суми\n",
    "while i <= n:\n",
    "    # Додаємо доданок до суми\n",
    "    s = s + i\n",
    "    # Змінюємо ітераційну змінну\n",
    "    i = i + 1\n",
    "\n",
    "# Відображуємо результат\n",
    "print(text, s)"
   ],
   "id": "fdd291007ae1d448",
   "outputs": [
    {
     "name": "stdout",
     "output_type": "stream",
     "text": [
      "Сума натуральних чисел\n",
      "1+2+...+100 = 5050\n"
     ]
    }
   ],
   "execution_count": 2
  },
  {
   "metadata": {
    "ExecuteTime": {
     "end_time": "2025-01-24T17:25:53.665584Z",
     "start_time": "2025-01-24T17:25:53.661126Z"
    }
   },
   "cell_type": "code",
   "source": [
    "print(\"Сума натуральних чисел\")\n",
    "n = 100  # Кількість доданків\n",
    "\n",
    "# Формуємо текст для відображення результату\n",
    "text = \"1+2+...+\" + str(n) + \" =\"\n",
    "\n",
    "# Ітераційна змінна для оператора циклу\n",
    "i = 1\n",
    "# Змінна для запису суми\n",
    "s = 0\n",
    "\n",
    "# Оператор циклу для обчислення суми\n",
    "while True:\n",
    "    # Додаємо доданок до суми\n",
    "    s += i\n",
    "    # Змінюємо ітераційну змінну\n",
    "    i += 1\n",
    "    # Якщо ітераційна змінна перевищує n, виходимо з циклу\n",
    "    if i > n:\n",
    "        break\n",
    "\n",
    "# Відображуємо результат\n",
    "print(text, s)"
   ],
   "id": "6982d0a97359f017",
   "outputs": [
    {
     "name": "stdout",
     "output_type": "stream",
     "text": [
      "Сума натуральних чисел\n",
      "1+2+...+100 = 5050\n"
     ]
    }
   ],
   "execution_count": 3
  },
  {
   "metadata": {
    "ExecuteTime": {
     "end_time": "2025-01-24T18:35:24.699193Z",
     "start_time": "2025-01-24T18:35:24.695013Z"
    }
   },
   "cell_type": "code",
   "source": [
    "numbers = [1, 3, 5, 7, 9]\n",
    "target = 7\n",
    "\n",
    "i = 0\n",
    "while i < len(numbers):\n",
    "    if numbers[i] == target:\n",
    "        print(f\"Число {target} знайдено!\")\n",
    "        break\n",
    "    i += 1\n",
    "else:\n",
    "    print(f\"Число {target} не знайдено в списку.\")"
   ],
   "id": "d15e5fa741221ace",
   "outputs": [
    {
     "name": "stdout",
     "output_type": "stream",
     "text": [
      "Число 7 знайдено!\n"
     ]
    }
   ],
   "execution_count": 39
  },
  {
   "metadata": {},
   "cell_type": "markdown",
   "source": "Обчислення площі фігури Методом Монте-Карло (Монте-Карло — це метод числового моделювання, який базується на використанні випадкових чисел).",
   "id": "b486ef4052419362"
  },
  {
   "metadata": {
    "ExecuteTime": {
     "end_time": "2025-01-24T17:36:12.615896Z",
     "start_time": "2025-01-24T17:36:12.612464Z"
    }
   },
   "cell_type": "code",
   "source": [
    "def f1(x):\n",
    "    return x\n",
    "\n",
    "\n",
    "def f2(x):\n",
    "    return x ** 2"
   ],
   "id": "1f5df0ba7951cf89",
   "outputs": [],
   "execution_count": 4
  },
  {
   "metadata": {
    "ExecuteTime": {
     "end_time": "2025-01-24T18:13:17.793637Z",
     "start_time": "2025-01-24T18:13:17.687212Z"
    }
   },
   "cell_type": "code",
   "source": [
    "# Кількість рівних інтервалів, на які діляться\n",
    "# сторони одиничного квадрата\n",
    "n = 500\n",
    "\n",
    "# \"Ціна поділки\" - відстань між сусідніми точками\n",
    "dz = 1 / n\n",
    "\n",
    "# Кількість точок, які потрапляють усередину області\n",
    "pts = 0\n",
    "\n",
    "# Початкове значення індексу, що визначає стовпчик точок\n",
    "i = 0\n",
    "\n",
    "# Зовнішній оператор циклу. Перебираємо стовпчики точок\n",
    "while i <= n:\n",
    "    # x-координата точки\n",
    "    x = dz * i\n",
    "\n",
    "    # Початкове значення другого індексу\n",
    "    # для точок стовпчика\n",
    "    j = 0\n",
    "\n",
    "    # Внутрішній оператор циклу. Перебираємо точки\n",
    "    # в одному стовпчику\n",
    "    while j <= n:\n",
    "        # y-координата точки\n",
    "        y = dz * j\n",
    "\n",
    "        # Умовний оператор: перевіряємо, чи потрапила точка\n",
    "        # всередину області\n",
    "        if y <= x and y >= x ** 2:\n",
    "            # Ще одна точка всередині області\n",
    "            pts = pts + 1\n",
    "\n",
    "        # Значення другого індексу збільшуємо на одиницю\n",
    "        j = j + 1\n",
    "\n",
    "    # Значення першого індексу збільшуємо на одиницю\n",
    "    i = i + 1\n",
    "\n",
    "# Обчислюємо площу фігури\n",
    "s = pts / (n + 1) ** 2\n",
    "\n",
    "# Відображаємо результат\n",
    "print(\"Площа фігури:\", s)"
   ],
   "id": "7901c5d4d40cb9e6",
   "outputs": [
    {
     "name": "stdout",
     "output_type": "stream",
     "text": [
      "Площа фігури: 0.16694355799379285\n"
     ]
    }
   ],
   "execution_count": 26
  },
  {
   "metadata": {},
   "cell_type": "markdown",
   "source": "Простіший спосіб обчислення площі фігури (Чисто для демонстрації крутості Python)",
   "id": "1bb52c6b6aba8f80"
  },
  {
   "metadata": {
    "ExecuteTime": {
     "end_time": "2025-01-24T17:40:42.764862Z",
     "start_time": "2025-01-24T17:40:42.142045Z"
    }
   },
   "cell_type": "code",
   "source": [
    "import scipy.integrate as spi\n",
    "\n",
    "space1 = spi.quad(f1, 0, 1)\n",
    "space2 = spi.quad(f2, 0, 1)\n",
    "\n",
    "print(\"Площа фігури:\", space1[0] - space2[0])"
   ],
   "id": "6f147eab01e5c0bb",
   "outputs": [
    {
     "name": "stdout",
     "output_type": "stream",
     "text": [
      "Площа фігури: 0.16666666666666663\n"
     ]
    }
   ],
   "execution_count": 6
  },
  {
   "metadata": {},
   "cell_type": "markdown",
   "source": "Або навіть анімація для візуалізації точок, які потрапляють в область.",
   "id": "f6759556fe36b56b"
  },
  {
   "metadata": {
    "ExecuteTime": {
     "end_time": "2025-01-24T18:55:01.016196Z",
     "start_time": "2025-01-24T18:53:54.082673Z"
    }
   },
   "cell_type": "code",
   "source": [
    "import matplotlib.pyplot as plt\n",
    "from matplotlib.animation import FuncAnimation\n",
    "import numpy as np\n",
    "\n",
    "# Функції для обмеження області\n",
    "\n",
    "def f1(x):\n",
    "    return x\n",
    "\n",
    "\n",
    "def f2(x):\n",
    "    return x ** 2\n",
    "\n",
    "\n",
    "# Параметри\n",
    "n = 20  # Кількість рівних інтервалів\n",
    "dz = 1 / n  # Ціна поділки\n",
    "\n",
    "# Створення координатної сітки\n",
    "x_vals = np.linspace(0, 1, n + 1)\n",
    "y_vals = np.linspace(0, 1, n + 1)\n",
    "# Створення списку точок\n",
    "\n",
    "points = []  # Формат: (x, y, is_inside)\n",
    "for i in range(len(x_vals)):\n",
    "    for j in range(len(y_vals)):\n",
    "        x = x_vals[i]\n",
    "        y = y_vals[j]\n",
    "        is_inside = y <= f1(x) and y >= f2(x)\n",
    "        points.append((x, y, is_inside))\n",
    "\n",
    "# Підготовка для анімації\n",
    "\n",
    "fig, ax = plt.subplots(figsize=(8, 8), facecolor='white')\n",
    "ax.set_xlim(0, 1)\n",
    "ax.set_ylim(0, 1)\n",
    "ax.set_title(\"Візуалізація області з точками\")\n",
    "ax.set_xlabel(\"x\")\n",
    "ax.set_ylabel(\"y\")\n",
    "ax.plot(x_vals, x_vals, 'r-', linewidth=1, label='y = x')\n",
    "ax.plot(x_vals, x_vals ** 2, 'b-', linewidth=1, label='y = x^2')\n",
    "ax.legend()\n",
    "ax.grid(True)\n",
    "scatter = ax.scatter([], [])\n",
    "\n",
    "colors = []  # Список кольорів для точок\n",
    "positions = []  # Список позицій для точок\n",
    "sizes = []  # Список розмірів для точок\n",
    "# Анімаційна функція\n",
    "def update(frame):\n",
    "    x, y, is_inside = points[frame]\n",
    "\n",
    "    positions.append([x, y])\n",
    "    if is_inside:\n",
    "        colors.append('green')  # Якщо точка всередині\n",
    "        sizes.append(6)\n",
    "    else:\n",
    "        colors.append('grey')  # Якщо точка зовні\n",
    "        sizes.append(1)\n",
    "    scatter.set_offsets(np.array(positions))\n",
    "    scatter.set_color(colors)\n",
    "    scatter.set_sizes(sizes)\n",
    "    return scatter,\n",
    "# Створення анімації\n",
    "\n",
    "frames = len(points)  # Кількість кадрів\n",
    "ani = FuncAnimation(fig, update, frames=frames, interval=20, blit=True)\n",
    "\n",
    "# Збереження GIF\n",
    "ani.save(\"monte_carlo_visualized.gif\", writer=\"pillow\")\n",
    "plt.show()"
   ],
   "id": "2cc47e12a89d5fa6",
   "outputs": [
    {
     "data": {
      "text/plain": [
       "<Figure size 800x800 with 1 Axes>"
      ],
      "image/png": "[encoded data removed]"
     },
     "metadata": {},
     "output_type": "display_data"
    }
   ],
   "execution_count": 44
  },
  {
   "metadata": {},
   "cell_type": "code",
   "outputs": [],
   "execution_count": null,
   "source": "",
   "id": "f931e9f0cd5b2ae3"
  }
 ],
 "metadata": {
  "kernelspec": {
   "display_name": "Python 3",
   "language": "python",
   "name": "python3"
  },
  "language_info": {
   "codemirror_mode": {
    "name": "ipython",
    "version": 2
   },
   "file_extension": ".py",
   "mimetype": "text/x-python",
   "name": "python",
   "nbconvert_exporter": "python",
   "pygments_lexer": "ipython2",
   "version": "2.7.6"
  }
 },
 "nbformat": 4,
 "nbformat_minor": 5
}
