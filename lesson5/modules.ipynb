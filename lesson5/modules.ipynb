{
 "cells": [
  {
   "cell_type": "code",
   "id": "initial_id",
   "metadata": {
    "collapsed": true,
    "ExecuteTime": {
     "end_time": "2025-01-23T18:49:40.434008Z",
     "start_time": "2025-01-23T18:49:40.428972Z"
    }
   },
   "source": [
    "import math\n",
    "\n",
    "print(math.pi)"
   ],
   "outputs": [
    {
     "name": "stdout",
     "output_type": "stream",
     "text": [
      "3.141592653589793\n"
     ]
    }
   ],
   "execution_count": 1
  },
  {
   "metadata": {
    "ExecuteTime": {
     "end_time": "2025-01-23T18:50:05.925935Z",
     "start_time": "2025-01-23T18:50:05.921707Z"
    }
   },
   "cell_type": "code",
   "source": "print(math.factorial(10))",
   "id": "de2867fa5112499c",
   "outputs": [
    {
     "name": "stdout",
     "output_type": "stream",
     "text": [
      "3628800\n"
     ]
    }
   ],
   "execution_count": 2
  },
  {
   "metadata": {
    "ExecuteTime": {
     "end_time": "2025-01-23T18:51:47.436455Z",
     "start_time": "2025-01-23T18:51:47.432793Z"
    }
   },
   "cell_type": "code",
   "source": [
    "import math as m\n",
    "\n",
    "print(m.pi)"
   ],
   "id": "33ed0ab2ac734670",
   "outputs": [
    {
     "name": "stdout",
     "output_type": "stream",
     "text": [
      "3.141592653589793\n"
     ]
    }
   ],
   "execution_count": 3
  },
  {
   "metadata": {
    "ExecuteTime": {
     "end_time": "2025-01-23T19:07:22.991084Z",
     "start_time": "2025-01-23T19:07:22.986811Z"
    }
   },
   "cell_type": "code",
   "source": [
    "from math import floor\n",
    "\n",
    "print(floor(1783.223))"
   ],
   "id": "b275f7b7499c7316",
   "outputs": [
    {
     "name": "stdout",
     "output_type": "stream",
     "text": [
      "1783\n"
     ]
    }
   ],
   "execution_count": 4
  },
  {
   "metadata": {
    "ExecuteTime": {
     "end_time": "2025-01-23T19:08:39.494132Z",
     "start_time": "2025-01-23T19:08:39.490007Z"
    }
   },
   "cell_type": "code",
   "source": [
    "from math import *\n",
    "\n",
    "print(pow(1,2))\n",
    "print(tan(21))"
   ],
   "id": "1a8c2e23cc839139",
   "outputs": [
    {
     "name": "stdout",
     "output_type": "stream",
     "text": [
      "1.0\n",
      "-1.5274985276366035\n"
     ]
    }
   ],
   "execution_count": 5
  },
  {
   "metadata": {
    "ExecuteTime": {
     "end_time": "2025-01-23T19:35:50.250117Z",
     "start_time": "2025-01-23T19:35:50.235647Z"
    }
   },
   "cell_type": "code",
   "source": [
    "import custompackage.greeting_module as gm\n",
    "\n",
    "gm.greet(\"Oleg\")\n",
    "print(gm.PI)"
   ],
   "id": "1571c2e0e5142b28",
   "outputs": [
    {
     "name": "stdout",
     "output_type": "stream",
     "text": [
      "Доброго дня! Дякую що імпортували мій пакет!\n",
      "Привіт, Oleg!\n",
      "3.14159\n"
     ]
    }
   ],
   "execution_count": 1
  },
  {
   "metadata": {
    "ExecuteTime": {
     "end_time": "2025-01-23T19:39:14.636913Z",
     "start_time": "2025-01-23T19:39:14.627999Z"
    }
   },
   "cell_type": "code",
   "source": [
    "from custompackage.meowing_module import meow\n",
    "meow()"
   ],
   "id": "f464aaff2072da2a",
   "outputs": [
    {
     "name": "stdout",
     "output_type": "stream",
     "text": [
      "Доброго дня! Дякую що імпортували мій пакет!\n",
      "Meow!\n"
     ]
    }
   ],
   "execution_count": 1
  },
  {
   "metadata": {
    "ExecuteTime": {
     "end_time": "2025-01-23T19:51:22.824263Z",
     "start_time": "2025-01-23T19:51:22.810916Z"
    }
   },
   "cell_type": "code",
   "source": [
    "from custompackage import *\n",
    "\n",
    "\n",
    "greeting_module.greet(\"Anna\")\n",
    "meow()"
   ],
   "id": "88c414eca212412c",
   "outputs": [
    {
     "name": "stdout",
     "output_type": "stream",
     "text": [
      "Доброго дня! Дякую що імпортували мій пакет!\n",
      "Привіт, Anna!\n",
      "Meow!\n"
     ]
    }
   ],
   "execution_count": 1
  },
  {
   "metadata": {},
   "cell_type": "code",
   "outputs": [],
   "execution_count": null,
   "source": "",
   "id": "7653c3d668257554"
  }
 ],
 "metadata": {
  "kernelspec": {
   "display_name": "Python 3",
   "language": "python",
   "name": "python3"
  },
  "language_info": {
   "codemirror_mode": {
    "name": "ipython",
    "version": 2
   },
   "file_extension": ".py",
   "mimetype": "text/x-python",
   "name": "python",
   "nbconvert_exporter": "python",
   "pygments_lexer": "ipython2",
   "version": "2.7.6"
  }
 },
 "nbformat": 4,
 "nbformat_minor": 5
}
