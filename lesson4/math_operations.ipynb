{
 "cells": [
  {
   "metadata": {},
   "cell_type": "markdown",
   "source": "# Numeric types",
   "id": "1b9e08d93c70d4d2"
  },
  {
   "metadata": {},
   "cell_type": "code",
   "outputs": [],
   "execution_count": null,
   "source": [
    "age = 150\n",
    "\n",
    "height = 1.75\n",
    "\n",
    "some_complex_number = 1 + 2j"
   ],
   "id": "initial_id"
  },
  {
   "metadata": {},
   "cell_type": "markdown",
   "source": "# literals",
   "id": "7594d07294318022"
  },
  {
   "metadata": {},
   "cell_type": "code",
   "outputs": [],
   "execution_count": null,
   "source": [
    "# Here, 150 is an integer literal\n",
    "# \"John\" is a string literal\n",
    "a = 150\n",
    "name = \"John\""
   ],
   "id": "65ef03f73b632192"
  },
  {
   "metadata": {},
   "cell_type": "markdown",
   "source": "# types of numeric literals",
   "id": "30ab46671cd7bb52"
  },
  {
   "metadata": {},
   "cell_type": "code",
   "outputs": [],
   "execution_count": null,
   "source": [
    "# десяткові числа\n",
    "a = 10\n",
    "\n",
    "# двійкові числа\n",
    "b = 0b101\n",
    "\n",
    "# вісімкові числа\n",
    "c = 0o73\n",
    "\n",
    "# шістнадцяткові числа\n",
    "d = 0x7b"
   ],
   "id": "c1699be21232bf68"
  },
  {
   "metadata": {},
   "cell_type": "markdown",
   "source": "# Numeric functions",
   "id": "70d507abee173e0e"
  },
  {
   "metadata": {
    "ExecuteTime": {
     "end_time": "2025-01-18T12:57:40.607542Z",
     "start_time": "2025-01-18T12:57:40.602090Z"
    }
   },
   "cell_type": "code",
   "source": [
    "# Модуль числа\n",
    "print(abs(-5))      # Результат: 5\n",
    "print(abs(3 + 4j))  # Результат: 5.0 (модуль комплексного числа)"
   ],
   "id": "e0d4bffb0b3d2ab2",
   "outputs": [
    {
     "name": "stdout",
     "output_type": "stream",
     "text": [
      "5\n",
      "5.0\n"
     ]
    }
   ],
   "execution_count": 1
  },
  {
   "metadata": {
    "ExecuteTime": {
     "end_time": "2025-01-18T12:58:57.421465Z",
     "start_time": "2025-01-18T12:58:57.418299Z"
    }
   },
   "cell_type": "code",
   "source": [
    "# Перетворення числа у двійкову систему\n",
    "print(bin(9))  # Результат: '0b1001'\n",
    "print(bin(15)) # Результат: '0b1111'"
   ],
   "id": "126e1778a22b83c9",
   "outputs": [
    {
     "name": "stdout",
     "output_type": "stream",
     "text": [
      "0b1001\n",
      "0b1111\n"
     ]
    }
   ],
   "execution_count": 10
  },
  {
   "metadata": {
    "ExecuteTime": {
     "end_time": "2025-01-18T12:59:30.223639Z",
     "start_time": "2025-01-18T12:59:30.219392Z"
    }
   },
   "cell_type": "code",
   "source": [
    "# Перетворення числа у вісімкову систему\n",
    "print(oct(9))   # Результат: '0o11'\n",
    "print(oct(64))  # Результат: '0o100'"
   ],
   "id": "eda45ecf9a7064d9",
   "outputs": [
    {
     "name": "stdout",
     "output_type": "stream",
     "text": [
      "0o11\n",
      "0o100\n"
     ]
    }
   ],
   "execution_count": 12
  },
  {
   "metadata": {
    "ExecuteTime": {
     "end_time": "2025-01-18T12:59:33.459564Z",
     "start_time": "2025-01-18T12:59:33.456092Z"
    }
   },
   "cell_type": "code",
   "source": [
    "# Перетворення числа у шістнадцяткову систему\n",
    "print(hex(123))  # Результат: '0x7b'\n",
    "print(hex(255))  # Результат: '0xff'"
   ],
   "id": "c01c5ac221045ac8",
   "outputs": [
    {
     "name": "stdout",
     "output_type": "stream",
     "text": [
      "0x7b\n",
      "0xff\n"
     ]
    }
   ],
   "execution_count": 13
  },
  {
   "metadata": {},
   "cell_type": "code",
   "outputs": [
    {
     "name": "stdout",
     "output_type": "stream",
     "text": [
      "(3+4j)\n",
      "3.0\n",
      "4.0\n"
     ]
    }
   ],
   "execution_count": 3,
   "source": [
    "# Створення комплексного числа\n",
    "z = complex(3, 4)\n",
    "print(z)        # Результат: (3+4j)\n",
    "print(z.real)   # Дійсна частина: 3.0\n",
    "print(z.imag)   # Уявна частина: 4.0"
   ],
   "id": "6e637185a972048f"
  },
  {
   "metadata": {},
   "cell_type": "code",
   "outputs": [
    {
     "name": "stdout",
     "output_type": "stream",
     "text": [
      "5.0\n",
      "3.14\n"
     ]
    }
   ],
   "execution_count": 4,
   "source": [
    "# Перетворення у дійсне число\n",
    "print(float(5))       # Результат: 5.0\n",
    "print(float(\"3.14\"))  # Результат: 3.14"
   ],
   "id": "e6ee926769cc4575"
  },
  {
   "metadata": {
    "ExecuteTime": {
     "end_time": "2025-01-18T12:58:16.533496Z",
     "start_time": "2025-01-18T12:58:16.530066Z"
    }
   },
   "cell_type": "code",
   "source": [
    "# Перетворення у ціле число\n",
    "print(int(5.9))          # Результат: 5\n",
    "print(int(\"0b111\", 2))   # Результат: 7\n",
    "print(int(\"0x7b\", 16))   # Результат: 123"
   ],
   "id": "74b64dafaf4d6db6",
   "outputs": [
    {
     "name": "stdout",
     "output_type": "stream",
     "text": [
      "5\n",
      "7\n",
      "123\n"
     ]
    }
   ],
   "execution_count": 7
  },
  {
   "metadata": {
    "ExecuteTime": {
     "end_time": "2025-01-18T12:58:24.022298Z",
     "start_time": "2025-01-18T12:58:24.018664Z"
    }
   },
   "cell_type": "code",
   "source": [
    "# Максимальне значення\n",
    "print(max(-2, 4, 9))  # Результат: 9\n",
    "print(max(1, 5, -10)) # Результат: 5"
   ],
   "id": "6ae3a9d7c7390e30",
   "outputs": [
    {
     "name": "stdout",
     "output_type": "stream",
     "text": [
      "9\n",
      "5\n"
     ]
    }
   ],
   "execution_count": 8
  },
  {
   "metadata": {
    "ExecuteTime": {
     "end_time": "2025-01-18T12:58:31.789730Z",
     "start_time": "2025-01-18T12:58:31.786304Z"
    }
   },
   "cell_type": "code",
   "source": [
    "# Мінімальне значення\n",
    "print(min(-2, 4, 9))  # Результат: -2\n",
    "print(min(1, 5, -10)) # Результат: -10"
   ],
   "id": "64890f875b88bd1d",
   "outputs": [
    {
     "name": "stdout",
     "output_type": "stream",
     "text": [
      "-2\n",
      "-10\n"
     ]
    }
   ],
   "execution_count": 9
  },
  {
   "metadata": {
    "ExecuteTime": {
     "end_time": "2025-01-18T12:59:47.239905Z",
     "start_time": "2025-01-18T12:59:47.236316Z"
    }
   },
   "cell_type": "code",
   "source": [
    "# Піднесення до степеня\n",
    "print(pow(2, 3))       # Результат: 8 (2^3)\n",
    "print(pow(2, 3, 5))    # Результат: 3 ((2^3) % 5)"
   ],
   "id": "824a3f0e16d15953",
   "outputs": [
    {
     "name": "stdout",
     "output_type": "stream",
     "text": [
      "8\n",
      "3\n"
     ]
    }
   ],
   "execution_count": 15
  },
  {
   "metadata": {
    "ExecuteTime": {
     "end_time": "2025-01-18T12:59:57.352298Z",
     "start_time": "2025-01-18T12:59:57.348826Z"
    }
   },
   "cell_type": "code",
   "source": [
    "# Округлення числа\n",
    "print(round(4.6))          # Результат: 5\n",
    "print(round(4.4))          # Результат: 4\n",
    "print(round(1.23456, 3))   # Результат: 1.235"
   ],
   "id": "5f4db7d19c28804e",
   "outputs": [
    {
     "name": "stdout",
     "output_type": "stream",
     "text": [
      "5\n",
      "4\n",
      "1.235\n"
     ]
    }
   ],
   "execution_count": 16
  },
  {
   "metadata": {
    "ExecuteTime": {
     "end_time": "2025-01-18T13:00:24.498699Z",
     "start_time": "2025-01-18T13:00:24.494946Z"
    }
   },
   "cell_type": "code",
   "source": [
    "import math\n",
    "\n",
    "# Тригонометричні функції\n",
    "print(math.sin(math.pi / 2))  # Результат: 1.0\n",
    "print(math.cos(0))           # Результат: 1.0\n",
    "print(math.tan(math.pi / 4)) # Результат: 1.0\n",
    "\n",
    "# Константи\n",
    "print(math.pi)  # Результат: 3.141592653589793\n",
    "print(math.e)   # Результат: 2.718281828459045"
   ],
   "id": "2a1d8831fb61a6ec",
   "outputs": [
    {
     "name": "stdout",
     "output_type": "stream",
     "text": [
      "1.0\n",
      "1.0\n",
      "0.9999999999999999\n",
      "3.141592653589793\n",
      "2.718281828459045\n"
     ]
    }
   ],
   "execution_count": 17
  }
 ],
 "metadata": {
  "kernelspec": {
   "display_name": "Python 3",
   "language": "python",
   "name": "python3"
  },
  "language_info": {
   "codemirror_mode": {
    "name": "ipython",
    "version": 2
   },
   "file_extension": ".py",
   "mimetype": "text/x-python",
   "name": "python",
   "nbconvert_exporter": "python",
   "pygments_lexer": "ipython2",
   "version": "2.7.6"
  }
 },
 "nbformat": 4,
 "nbformat_minor": 5
}
