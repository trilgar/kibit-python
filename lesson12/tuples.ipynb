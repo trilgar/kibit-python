{
 "cells": [
  {
   "cell_type": "code",
   "id": "initial_id",
   "metadata": {
    "collapsed": true,
    "ExecuteTime": {
     "end_time": "2025-03-03T12:23:46.514308Z",
     "start_time": "2025-03-03T12:23:46.508069Z"
    }
   },
   "source": [
    "from operator import index\n",
    "\n",
    "# Створюємо порожній кортеж\n",
    "t=()\n",
    "print(t)"
   ],
   "outputs": [
    {
     "name": "stdout",
     "output_type": "stream",
     "text": [
      "()\n"
     ]
    }
   ],
   "execution_count": 1
  },
  {
   "metadata": {
    "ExecuteTime": {
     "end_time": "2025-03-03T12:23:53.540640Z",
     "start_time": "2025-03-03T12:23:53.536602Z"
    }
   },
   "cell_type": "code",
   "source": [
    "# Кортеж з чисел, на основі списку\n",
    "lst=[10,20,30]\n",
    "t=tuple(lst)\n",
    "print(t)\n"
   ],
   "id": "49195dd1232ed269",
   "outputs": [
    {
     "name": "stdout",
     "output_type": "stream",
     "text": [
      "(10, 20, 30)\n"
     ]
    }
   ],
   "execution_count": 2
  },
  {
   "metadata": {
    "ExecuteTime": {
     "end_time": "2025-03-03T12:23:57.737636Z",
     "start_time": "2025-03-03T12:23:57.733196Z"
    }
   },
   "cell_type": "code",
   "source": [
    "# Кортеж з одного елемента\n",
    "t=(40,)\n",
    "print(t)\n"
   ],
   "id": "346a181fd3dd94f8",
   "outputs": [
    {
     "name": "stdout",
     "output_type": "stream",
     "text": [
      "(40,)\n"
     ]
    }
   ],
   "execution_count": 3
  },
  {
   "metadata": {
    "ExecuteTime": {
     "end_time": "2025-03-03T12:24:01.271390Z",
     "start_time": "2025-03-03T12:24:01.266702Z"
    }
   },
   "cell_type": "code",
   "source": [
    "# Кортеж без дужок\n",
    "t=50,60,70\n",
    "print(t)"
   ],
   "id": "2381f9adf762a08c",
   "outputs": [
    {
     "name": "stdout",
     "output_type": "stream",
     "text": [
      "(50, 60, 70)\n"
     ]
    }
   ],
   "execution_count": 4
  },
  {
   "metadata": {
    "ExecuteTime": {
     "end_time": "2025-03-03T12:26:04.106147Z",
     "start_time": "2025-03-03T12:26:04.101673Z"
    }
   },
   "cell_type": "code",
   "source": [
    "# Створюємо кортеж на основі тексту\n",
    "c = tuple(\"Python\")\n",
    "# Перевіряємо вміст кортежу\n",
    "print(c)"
   ],
   "id": "923a2659dc4b429a",
   "outputs": [
    {
     "name": "stdout",
     "output_type": "stream",
     "text": [
      "('P', 'y', 't', 'h', 'o', 'n')\n"
     ]
    }
   ],
   "execution_count": 5
  },
  {
   "metadata": {
    "ExecuteTime": {
     "end_time": "2025-03-03T12:26:42.220710Z",
     "start_time": "2025-03-03T12:26:42.216431Z"
    }
   },
   "cell_type": "code",
   "source": [
    "a = t + (40, (1, 2, 3), 60)\n",
    "print(a)"
   ],
   "id": "132b24a7de8bb905",
   "outputs": [
    {
     "name": "stdout",
     "output_type": "stream",
     "text": [
      "(50, 60, 70, 40, (1, 2, 3), 60)\n"
     ]
    }
   ],
   "execution_count": 6
  },
  {
   "metadata": {
    "ExecuteTime": {
     "end_time": "2025-03-03T12:31:29.296010Z",
     "start_time": "2025-03-03T12:31:29.287683Z"
    }
   },
   "cell_type": "code",
   "source": "a.index(60)",
   "id": "87b69147f6561fbe",
   "outputs": [
    {
     "data": {
      "text/plain": [
       "1"
      ]
     },
     "execution_count": 7,
     "metadata": {},
     "output_type": "execute_result"
    }
   ],
   "execution_count": 7
  },
  {
   "metadata": {
    "ExecuteTime": {
     "end_time": "2025-03-03T12:31:43.880798Z",
     "start_time": "2025-03-03T12:31:43.874666Z"
    }
   },
   "cell_type": "code",
   "source": "a.index(40)",
   "id": "297afceb4e2a89a3",
   "outputs": [
    {
     "data": {
      "text/plain": [
       "3"
      ]
     },
     "execution_count": 8,
     "metadata": {},
     "output_type": "execute_result"
    }
   ],
   "execution_count": 8
  },
  {
   "metadata": {
    "ExecuteTime": {
     "end_time": "2025-03-03T12:31:53.081762Z",
     "start_time": "2025-03-03T12:31:53.076929Z"
    }
   },
   "cell_type": "code",
   "source": "a.count(60)",
   "id": "4d9d00292748253c",
   "outputs": [
    {
     "data": {
      "text/plain": [
       "2"
      ]
     },
     "execution_count": 9,
     "metadata": {},
     "output_type": "execute_result"
    }
   ],
   "execution_count": 9
  },
  {
   "metadata": {
    "ExecuteTime": {
     "end_time": "2025-03-03T12:32:01.293910Z",
     "start_time": "2025-03-03T12:32:01.288802Z"
    }
   },
   "cell_type": "code",
   "source": "a.count((1,2,3))",
   "id": "159f07c06d312969",
   "outputs": [
    {
     "data": {
      "text/plain": [
       "1"
      ]
     },
     "execution_count": 10,
     "metadata": {},
     "output_type": "execute_result"
    }
   ],
   "execution_count": 10
  },
  {
   "metadata": {
    "ExecuteTime": {
     "end_time": "2025-03-03T12:32:09.699881Z",
     "start_time": "2025-03-03T12:32:09.695053Z"
    }
   },
   "cell_type": "code",
   "source": "a.count(40)",
   "id": "f924e1553bca2876",
   "outputs": [
    {
     "data": {
      "text/plain": [
       "1"
      ]
     },
     "execution_count": 11,
     "metadata": {},
     "output_type": "execute_result"
    }
   ],
   "execution_count": 11
  },
  {
   "metadata": {},
   "cell_type": "markdown",
   "source": "Кортежі та функції",
   "id": "78c6dcd3faf31065"
  },
  {
   "metadata": {
    "ExecuteTime": {
     "end_time": "2025-03-03T12:35:52.026099Z",
     "start_time": "2025-03-03T12:35:52.021050Z"
    }
   },
   "cell_type": "code",
   "source": [
    "def transform(a, b, f):\n",
    "    a = f(a)\n",
    "    b = f(b)\n",
    "    return a, b\n",
    "\n",
    "a = 100\n",
    "b = 200\n",
    "\n",
    "f = lambda x: x**2 - 33 + 7*x\n",
    "\n",
    "a,b = transform(a,b,f)\n",
    "print(f\"a={a},b={b}\")"
   ],
   "id": "e241847f579c4d85",
   "outputs": [
    {
     "name": "stdout",
     "output_type": "stream",
     "text": [
      "a=10667,b=41367\n"
     ]
    }
   ],
   "execution_count": 13
  },
  {
   "metadata": {},
   "cell_type": "code",
   "outputs": [],
   "execution_count": null,
   "source": "",
   "id": "4cdade5b47daec0c"
  }
 ],
 "metadata": {
  "kernelspec": {
   "display_name": "Python 3",
   "language": "python",
   "name": "python3"
  },
  "language_info": {
   "codemirror_mode": {
    "name": "ipython",
    "version": 2
   },
   "file_extension": ".py",
   "mimetype": "text/x-python",
   "name": "python",
   "nbconvert_exporter": "python",
   "pygments_lexer": "ipython2",
   "version": "2.7.6"
  }
 },
 "nbformat": 4,
 "nbformat_minor": 5
}
