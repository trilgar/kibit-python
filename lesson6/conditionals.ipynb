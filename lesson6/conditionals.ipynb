{
 "cells": [
  {
   "cell_type": "code",
   "id": "initial_id",
   "metadata": {
    "collapsed": true,
    "ExecuteTime": {
     "end_time": "2025-01-23T20:10:37.630253Z",
     "start_time": "2025-01-23T20:10:37.624746Z"
    }
   },
   "source": [
    "a = True\n",
    "if (a):\n",
    "    print(\"a is true\")\n",
    "    print(\"Hello\")\n",
    "\n",
    "else:\n",
    "    print(\"a is false\")\n",
    "    print(\"World\")"
   ],
   "outputs": [
    {
     "name": "stdout",
     "output_type": "stream",
     "text": [
      "a is true\n",
      "Hello\n"
     ]
    }
   ],
   "execution_count": 1
  },
  {
   "metadata": {
    "ExecuteTime": {
     "end_time": "2025-01-23T20:13:37.887442Z",
     "start_time": "2025-01-23T20:13:32.781178Z"
    }
   },
   "cell_type": "code",
   "source": [
    "# Користувач вводить значення\n",
    "res = eval(input(\"Уведіть що-небудь: \"))\n",
    "\n",
    "# Використовуємо умовний оператор для перевірки\n",
    "# типу введеного користувачем значення\n",
    "if type(res) == int:\n",
    "    # Якщо ціле число\n",
    "    print(\"Ви ввели ціле число!\")\n",
    "else:\n",
    "    # Якщо щось інше\n",
    "    print(\"Це точно не ціле число!\")\n",
    "\n",
    "# Після виконання умовного оператора\n",
    "print(\"Роботу закінчено!\")"
   ],
   "id": "66f46666bbaf2af",
   "outputs": [
    {
     "name": "stdout",
     "output_type": "stream",
     "text": [
      "Це точно не ціле число!\n",
      "Роботу закінчено!\n"
     ]
    }
   ],
   "execution_count": 5
  },
  {
   "metadata": {
    "ExecuteTime": {
     "end_time": "2025-01-23T20:16:45.386659Z",
     "start_time": "2025-01-23T20:16:43.464609Z"
    }
   },
   "cell_type": "code",
   "source": [
    "# Користувач вводить значення\n",
    "res=eval(input(\"Уведіть що-небудь: \"))\n",
    "\n",
    "# Тип значення запам’ятовуємо в змінній\n",
    "resType=type(res)\n",
    "\n",
    "# Використовуємо умовні оператори (спрощена форма)\n",
    "# для перевірки типу введеного користувачем значення\n",
    "if resType==int:\n",
    "    # Якщо ціле число\n",
    "    print(\"Це ціле число!\")\n",
    "if resType==float:\n",
    "    # Якщо дійсне число\n",
    "    print(\"Це дійсне число!\")\n",
    "if resType!=int and resType!=float:\n",
    "    # Якщо не число\n",
    "    print(\"Напевно, це текст!\")\n",
    "\n",
    "# Після виконання умовних операторів\n",
    "print(\"Роботу закінчено!\")"
   ],
   "id": "a4b0d85711fa722d",
   "outputs": [
    {
     "name": "stdout",
     "output_type": "stream",
     "text": [
      "Роботу закінчено!\n"
     ]
    }
   ],
   "execution_count": 7
  },
  {
   "metadata": {},
   "cell_type": "code",
   "outputs": [],
   "execution_count": null,
   "source": [
    "# Користувач вводить значення\n",
    "res=eval(input(\"Уведіть що-небудь: \"))\n",
    "\n",
    "# Тип значення запам’ятовуємо в змінній\n",
    "resType=type(res)\n",
    "\n",
    "# Використовуємо умовний оператор (з декількома умовами)\n",
    "# для перевірки типу введеного користувачем значення\n",
    "if resType==int:\n",
    "    # Якщо ціле число\n",
    "    print(\"Це ціле число!\")\n",
    "elif resType==float:\n",
    "    # Якщо дійсне число\n",
    "    print(\"Це дійсне число!\")\n",
    "else:\n",
    "    # Якщо не число\n",
    "    print(\"Напевно, це текст!\")\n",
    "\n",
    "# Після виконання умовних операторів\n",
    "print(\"Роботу закінчено!\")"
   ],
   "id": "a9cfc083d249d48f"
  }
 ],
 "metadata": {
  "kernelspec": {
   "display_name": "Python 3",
   "language": "python",
   "name": "python3"
  },
  "language_info": {
   "codemirror_mode": {
    "name": "ipython",
    "version": 2
   },
   "file_extension": ".py",
   "mimetype": "text/x-python",
   "name": "python",
   "nbconvert_exporter": "python",
   "pygments_lexer": "ipython2",
   "version": "2.7.6"
  }
 },
 "nbformat": 4,
 "nbformat_minor": 5
}
