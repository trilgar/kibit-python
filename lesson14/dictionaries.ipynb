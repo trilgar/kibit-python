{
 "cells": [
  {
   "cell_type": "code",
   "id": "initial_id",
   "metadata": {
    "collapsed": true,
    "ExecuteTime": {
     "end_time": "2025-03-10T19:51:59.163550Z",
     "start_time": "2025-03-10T19:51:59.159468Z"
    }
   },
   "source": [
    "# Список для формування словника\n",
    "A = [[\"Шевченко Т.Г.\", \"Кобзар\"], [\"Франко І.Я.\", \"Лис Микита\"], [\"Сковорода Г.С.\", \"Сад божественних пісень\"]]\n",
    "# Створюємо словник на основі списку\n",
    "writers = dict(A)\n",
    "# Відображаємо вміст словника\n",
    "print(\"Словник:\")\n",
    "print(writers)"
   ],
   "outputs": [
    {
     "name": "stdout",
     "output_type": "stream",
     "text": [
      "Словник:\n",
      "{'Шевченко Т.Г.': 'Кобзар', 'Франко І.Я.': 'Лис Микита', 'Сковорода Г.С.': 'Сад божественних пісень'}\n"
     ]
    }
   ],
   "execution_count": 37
  },
  {
   "metadata": {
    "ExecuteTime": {
     "end_time": "2025-03-10T19:51:59.241112Z",
     "start_time": "2025-03-10T19:51:59.236683Z"
    }
   },
   "cell_type": "code",
   "source": [
    "# Звертання до елемента словника за ключем\n",
    "print(\"Франко написав казку:\", writers[\"Франко І.Я.\"])\n"
   ],
   "id": "9b1ebc9e641d18a1",
   "outputs": [
    {
     "name": "stdout",
     "output_type": "stream",
     "text": [
      "Франко написав казку: Лис Микита\n"
     ]
    }
   ],
   "execution_count": 38
  },
  {
   "metadata": {
    "ExecuteTime": {
     "end_time": "2025-03-10T19:51:59.296420Z",
     "start_time": "2025-03-10T19:51:59.283091Z"
    }
   },
   "cell_type": "code",
   "source": "writers[\"Пєлєвін\"]",
   "id": "ead38b3eb27995bf",
   "outputs": [
    {
     "ename": "KeyError",
     "evalue": "'Пєлєвін'",
     "output_type": "error",
     "traceback": [
      "\u001B[1;31m---------------------------------------------------------------------------\u001B[0m",
      "\u001B[1;31mKeyError\u001B[0m                                  Traceback (most recent call last)",
      "Cell \u001B[1;32mIn[39], line 1\u001B[0m\n\u001B[1;32m----> 1\u001B[0m \u001B[43mwriters\u001B[49m\u001B[43m[\u001B[49m\u001B[38;5;124;43m\"\u001B[39;49m\u001B[38;5;124;43mПєлєвін\u001B[39;49m\u001B[38;5;124;43m\"\u001B[39;49m\u001B[43m]\u001B[49m\n",
      "\u001B[1;31mKeyError\u001B[0m: 'Пєлєвін'"
     ]
    }
   ],
   "execution_count": 39
  },
  {
   "metadata": {
    "ExecuteTime": {
     "end_time": "2025-03-10T19:52:12.416567Z",
     "start_time": "2025-03-10T19:52:12.412859Z"
    }
   },
   "cell_type": "code",
   "source": [
    "print(\"something\" in writers)\n",
    "print(\"Франко І.Я.\" in writers)"
   ],
   "id": "d6574182f1e8b724",
   "outputs": [
    {
     "name": "stdout",
     "output_type": "stream",
     "text": [
      "False\n",
      "True\n"
     ]
    }
   ],
   "execution_count": 40
  },
  {
   "metadata": {
    "ExecuteTime": {
     "end_time": "2025-03-10T19:52:12.606460Z",
     "start_time": "2025-03-10T19:52:12.602787Z"
    }
   },
   "cell_type": "code",
   "source": [
    "print(writers.get(\"Франко І.Я.\"))\n",
    "print(writers.get(\"not existing id\"))"
   ],
   "id": "c623f1029fff373d",
   "outputs": [
    {
     "name": "stdout",
     "output_type": "stream",
     "text": [
      "Лис Микита\n",
      "None\n"
     ]
    }
   ],
   "execution_count": 41
  },
  {
   "metadata": {
    "ExecuteTime": {
     "end_time": "2025-03-10T19:52:12.793861Z",
     "start_time": "2025-03-10T19:52:12.789951Z"
    }
   },
   "cell_type": "code",
   "source": "print(writers.get(\"fake key\", \"default value\"))",
   "id": "fca11e03adaef225",
   "outputs": [
    {
     "name": "stdout",
     "output_type": "stream",
     "text": [
      "default value\n"
     ]
    }
   ],
   "execution_count": 42
  },
  {
   "metadata": {
    "ExecuteTime": {
     "end_time": "2025-03-10T19:52:12.919718Z",
     "start_time": "2025-03-10T19:52:12.914825Z"
    }
   },
   "cell_type": "code",
   "source": [
    "# Змінюємо значення елемента словника\n",
    "writers[\"Франко І.Я.\"] = \"Украдене щастя\"\n",
    "\n",
    "# Перевіряємо зміни\n",
    "print(writers)\n",
    "print(\"Словник після зміни елемента:\")\n",
    "print(writers)"
   ],
   "id": "2b8f3d1f70f8547f",
   "outputs": [
    {
     "name": "stdout",
     "output_type": "stream",
     "text": [
      "{'Шевченко Т.Г.': 'Кобзар', 'Франко І.Я.': 'Украдене щастя', 'Сковорода Г.С.': 'Сад божественних пісень'}\n",
      "Словник після зміни елемента:\n",
      "{'Шевченко Т.Г.': 'Кобзар', 'Франко І.Я.': 'Украдене щастя', 'Сковорода Г.С.': 'Сад божественних пісень'}\n"
     ]
    }
   ],
   "execution_count": 43
  },
  {
   "metadata": {
    "ExecuteTime": {
     "end_time": "2025-03-10T19:52:13.076049Z",
     "start_time": "2025-03-10T19:52:13.071899Z"
    }
   },
   "cell_type": "code",
   "source": [
    "# Додаємо до словника новий елемент\n",
    "writers[\"Костенко Л.В.\"] = \"Записки українського самашедшого\"\n",
    "# Перевіряємо вміст словника\n",
    "print(\"Словник після додавання елемента:\")\n",
    "print(writers)\n",
    "print()"
   ],
   "id": "fe1ed8721db30f0a",
   "outputs": [
    {
     "name": "stdout",
     "output_type": "stream",
     "text": [
      "Словник після додавання елемента:\n",
      "{'Шевченко Т.Г.': 'Кобзар', 'Франко І.Я.': 'Украдене щастя', 'Сковорода Г.С.': 'Сад божественних пісень', 'Костенко Л.В.': 'Записки українського самашедшого'}\n",
      "\n"
     ]
    }
   ],
   "execution_count": 44
  },
  {
   "metadata": {
    "ExecuteTime": {
     "end_time": "2025-03-10T19:52:13.234438Z",
     "start_time": "2025-03-10T19:52:13.229769Z"
    }
   },
   "cell_type": "code",
   "source": [
    "# Перебір елементів словника за ключем\n",
    "print(\"Автори та їхні твори.\")\n",
    "for s in writers.keys():\n",
    "    print(\"Автор:\", s)\n",
    "    print(\"Твір:\", writers[s])\n",
    "print()"
   ],
   "id": "9352e39f32d4e855",
   "outputs": [
    {
     "name": "stdout",
     "output_type": "stream",
     "text": [
      "Автори та їхні твори.\n",
      "Автор: Шевченко Т.Г.\n",
      "Твір: Кобзар\n",
      "Автор: Франко І.Я.\n",
      "Твір: Украдене щастя\n",
      "Автор: Сковорода Г.С.\n",
      "Твір: Сад божественних пісень\n",
      "Автор: Костенко Л.В.\n",
      "Твір: Записки українського самашедшого\n",
      "\n"
     ]
    }
   ],
   "execution_count": 45
  },
  {
   "metadata": {
    "ExecuteTime": {
     "end_time": "2025-03-10T19:52:13.425820Z",
     "start_time": "2025-03-10T19:52:13.421587Z"
    }
   },
   "cell_type": "code",
   "source": [
    "# Створюємо новий словник\n",
    "lights = dict(червоне=\"рух заборонено\", жовте=\"увага\", зелене=\"рух дозволено\")\n",
    "# Перевіряємо вміст словника\n",
    "print(\"Новий словник:\")\n",
    "print(lights)"
   ],
   "id": "e32f0b20e7f500ff",
   "outputs": [
    {
     "name": "stdout",
     "output_type": "stream",
     "text": [
      "Новий словник:\n",
      "{'червоне': 'рух заборонено', 'жовте': 'увага', 'зелене': 'рух дозволено'}\n"
     ]
    }
   ],
   "execution_count": 46
  },
  {
   "metadata": {
    "ExecuteTime": {
     "end_time": "2025-03-10T19:52:13.562139Z",
     "start_time": "2025-03-10T19:52:13.557692Z"
    }
   },
   "cell_type": "code",
   "source": [
    "# Значення ключа\n",
    "color = \"зелене\"\n",
    "# Звертання до елемента словника за ключем\n",
    "print(\"Якщо горить\", color, \"світло, то\", lights[color] + \"!\")\n",
    "print()"
   ],
   "id": "f52f20b79e2c291a",
   "outputs": [
    {
     "name": "stdout",
     "output_type": "stream",
     "text": [
      "Якщо горить зелене світло, то рух дозволено!\n",
      "\n"
     ]
    }
   ],
   "execution_count": 47
  },
  {
   "metadata": {
    "ExecuteTime": {
     "end_time": "2025-03-10T19:52:13.691912Z",
     "start_time": "2025-03-10T19:52:13.687816Z"
    }
   },
   "cell_type": "code",
   "source": [
    "# Створюємо ще один словник\n",
    "girls = {(90, 60, 90): \"Світлана\", (85, 65, 89): \"Юля\", (92, 58, 91): \"Ніна\"}\n",
    "# Перевіряємо вміст словника\n",
    "print(\"Ще один словник:\")\n",
    "print(girls)\n",
    "# Значення ключа\n",
    "params = (90, 60, 90)\n",
    "# Звертання до елемента словника за ключем\n",
    "print(girls[params] + \":\", params)"
   ],
   "id": "b6c87f2889270457",
   "outputs": [
    {
     "name": "stdout",
     "output_type": "stream",
     "text": [
      "Ще один словник:\n",
      "{(90, 60, 90): 'Світлана', (85, 65, 89): 'Юля', (92, 58, 91): 'Ніна'}\n",
      "Світлана: (90, 60, 90)\n"
     ]
    }
   ],
   "execution_count": 48
  },
  {
   "metadata": {},
   "cell_type": "markdown",
   "source": [
    "# Операції над словниками\n",
    "\n",
    "keys() – повертає ключі словника\n",
    "values() – повертає значення словника\n",
    "items() – повертає пари (ключ, значення)\n",
    "pop(ключ) – видаляє елемент за ключем та повертає його значення\n",
    "del – видаляє елемент за ключем без повернення значення\n",
    "clear() – очищає словник\n",
    "update() – додає або оновлює елементи словника"
   ],
   "id": "e9b22261311fa243"
  },
  {
   "metadata": {
    "ExecuteTime": {
     "end_time": "2025-03-10T19:52:13.995674Z",
     "start_time": "2025-03-10T19:52:13.991663Z"
    }
   },
   "cell_type": "code",
   "source": [
    "# Створюємо словник\n",
    "symbs = dict([[\"a\", \"перший\"], [\"b\", \"другий\"]])\n",
    "# Створюємо ще один словник\n",
    "more_symbs = dict([[\"c\", \"третій\"], [\"d\", \"четвертий\"]])\n",
    "# Додаємо другий словник у перший\n",
    "symbs.update(more_symbs)\n",
    "# Вміст словника\n",
    "\n",
    "print(\"Словник:\", symbs)"
   ],
   "id": "d62fee8d276f50b6",
   "outputs": [
    {
     "name": "stdout",
     "output_type": "stream",
     "text": [
      "Словник: {'a': 'перший', 'b': 'другий', 'c': 'третій', 'd': 'четвертий'}\n"
     ]
    }
   ],
   "execution_count": 49
  },
  {
   "metadata": {
    "ExecuteTime": {
     "end_time": "2025-03-10T19:52:14.146174Z",
     "start_time": "2025-03-10T19:52:14.142212Z"
    }
   },
   "cell_type": "code",
   "source": [
    "# Довжина словника\n",
    "print(\"Кількість ключів у словнику:\", len(symbs))"
   ],
   "id": "416f7209448a8e94",
   "outputs": [
    {
     "name": "stdout",
     "output_type": "stream",
     "text": [
      "Кількість ключів у словнику: 4\n"
     ]
    }
   ],
   "execution_count": 50
  },
  {
   "metadata": {
    "ExecuteTime": {
     "end_time": "2025-03-10T19:52:14.350028Z",
     "start_time": "2025-03-10T19:52:14.346848Z"
    }
   },
   "cell_type": "code",
   "source": [
    "# Доступ до елемента за ключем (ключ у словнику є)\n",
    "print(\"Елемент із ключем 'c':\", symbs.get(\"c\", \"немає такого ключа!\"))"
   ],
   "id": "e206755bfedfac5",
   "outputs": [
    {
     "name": "stdout",
     "output_type": "stream",
     "text": [
      "Елемент із ключем 'c': третій\n"
     ]
    }
   ],
   "execution_count": 51
  },
  {
   "metadata": {
    "ExecuteTime": {
     "end_time": "2025-03-10T19:52:14.551048Z",
     "start_time": "2025-03-10T19:52:14.546916Z"
    }
   },
   "cell_type": "code",
   "source": [
    "# Перевіряємо наявність ключа в словнику\n",
    "print(\"Наявність елемента з ключем 'c':\", \"c\" in symbs)\n"
   ],
   "id": "d3868f03b834a01a",
   "outputs": [
    {
     "name": "stdout",
     "output_type": "stream",
     "text": [
      "Наявність елемента з ключем 'c': True\n"
     ]
    }
   ],
   "execution_count": 52
  },
  {
   "metadata": {
    "ExecuteTime": {
     "end_time": "2025-03-10T19:52:14.863958Z",
     "start_time": "2025-03-10T19:52:14.860221Z"
    }
   },
   "cell_type": "code",
   "source": [
    "# Видаляємо елемент зі словника\n",
    "del symbs[\"c\"]\n",
    "# Вміст словника\n",
    "print(\"Словник:\", symbs)"
   ],
   "id": "891e146d1b58131b",
   "outputs": [
    {
     "name": "stdout",
     "output_type": "stream",
     "text": [
      "Словник: {'a': 'перший', 'b': 'другий', 'd': 'четвертий'}\n"
     ]
    }
   ],
   "execution_count": 53
  },
  {
   "metadata": {
    "ExecuteTime": {
     "end_time": "2025-03-10T19:52:15.149319Z",
     "start_time": "2025-03-10T19:52:15.145373Z"
    }
   },
   "cell_type": "code",
   "source": [
    "# Доступ до елемента за ключем (ключа в словнику немає)\n",
    "print(\"Елемент із ключем 'c':\", symbs.get(\"c\", \"немає такого ключа!\"))"
   ],
   "id": "62230d31ec16d4f0",
   "outputs": [
    {
     "name": "stdout",
     "output_type": "stream",
     "text": [
      "Елемент із ключем 'c': немає такого ключа!\n"
     ]
    }
   ],
   "execution_count": 54
  },
  {
   "metadata": {
    "ExecuteTime": {
     "end_time": "2025-03-10T19:52:15.320637Z",
     "start_time": "2025-03-10T19:52:15.316968Z"
    }
   },
   "cell_type": "code",
   "source": [
    "# Перевіряємо наявність ключа в словнику\n",
    "print(\"Наявність елемента з ключем 'c':\", \"c\" in symbs)"
   ],
   "id": "116d7f03dc3a9714",
   "outputs": [
    {
     "name": "stdout",
     "output_type": "stream",
     "text": [
      "Наявність елемента з ключем 'c': False\n"
     ]
    }
   ],
   "execution_count": 55
  },
  {
   "metadata": {
    "ExecuteTime": {
     "end_time": "2025-03-10T19:52:15.493444Z",
     "start_time": "2025-03-10T19:52:15.490102Z"
    }
   },
   "cell_type": "code",
   "source": [
    "# Список ключів словника\n",
    "print(\"Ключі словника:\", list(symbs.keys()))"
   ],
   "id": "a972d1528be95552",
   "outputs": [
    {
     "name": "stdout",
     "output_type": "stream",
     "text": [
      "Ключі словника: ['a', 'b', 'd']\n"
     ]
    }
   ],
   "execution_count": 56
  },
  {
   "metadata": {
    "ExecuteTime": {
     "end_time": "2025-03-10T19:52:15.647329Z",
     "start_time": "2025-03-10T19:52:15.644072Z"
    }
   },
   "cell_type": "code",
   "source": [
    "# Список значень елементів словника\n",
    "print(\"Значення елементів словника:\", list(symbs.values()))"
   ],
   "id": "70ae8f3003d42cad",
   "outputs": [
    {
     "name": "stdout",
     "output_type": "stream",
     "text": [
      "Значення елементів словника: ['перший', 'другий', 'четвертий']\n"
     ]
    }
   ],
   "execution_count": 57
  },
  {
   "metadata": {
    "ExecuteTime": {
     "end_time": "2025-03-10T19:52:15.804511Z",
     "start_time": "2025-03-10T19:52:15.800738Z"
    }
   },
   "cell_type": "code",
   "source": [
    "# Вміст словника\n",
    "print(\"Вміст словника:\", list(symbs.items()))"
   ],
   "id": "76d3a0f18fb98473",
   "outputs": [
    {
     "name": "stdout",
     "output_type": "stream",
     "text": [
      "Вміст словника: [('a', 'перший'), ('b', 'другий'), ('d', 'четвертий')]\n"
     ]
    }
   ],
   "execution_count": 58
  },
  {
   "metadata": {
    "ExecuteTime": {
     "end_time": "2025-03-10T19:52:16.196090Z",
     "start_time": "2025-03-10T19:52:16.192236Z"
    }
   },
   "cell_type": "code",
   "source": [
    "# Видалення елемента зі словника\n",
    "print(\"Видаляється елемент зі значенням:\", symbs.pop(\"b\"))\n",
    "# Вміст словника\n",
    "print(\"Словник:\", symbs)"
   ],
   "id": "ab91bf74f5ea68ab",
   "outputs": [
    {
     "name": "stdout",
     "output_type": "stream",
     "text": [
      "Видаляється елемент зі значенням: другий\n",
      "Словник: {'a': 'перший', 'd': 'четвертий'}\n"
     ]
    }
   ],
   "execution_count": 59
  },
  {
   "metadata": {
    "ExecuteTime": {
     "end_time": "2025-03-10T19:52:16.823429Z",
     "start_time": "2025-03-10T19:52:16.819836Z"
    }
   },
   "cell_type": "code",
   "source": [
    "# Очищаємо словник\n",
    "symbs.clear()\n",
    "# Вміст словника\n",
    "print(\"Словник:\", symbs)"
   ],
   "id": "26aa482f73756dd0",
   "outputs": [
    {
     "name": "stdout",
     "output_type": "stream",
     "text": [
      "Словник: {}\n"
     ]
    }
   ],
   "execution_count": 60
  },
  {
   "metadata": {
    "ExecuteTime": {
     "end_time": "2025-03-10T19:55:46.649336Z",
     "start_time": "2025-03-10T19:55:46.645422Z"
    }
   },
   "cell_type": "code",
   "source": [
    "# Створюємо початковий словник\n",
    "original_dict = {\"a\": 1, \"b\": 2, \"c\": 3}\n",
    "print(\"Оригінальний словник:\", original_dict)\n",
    "\n",
    "# Використання copy()\n",
    "copy_dict = original_dict.copy()\n",
    "print(\"Копія словника:\", copy_dict)"
   ],
   "id": "eb628221035bcf72",
   "outputs": [
    {
     "name": "stdout",
     "output_type": "stream",
     "text": [
      "Оригінальний словник: {'a': 1, 'b': 2, 'c': 3}\n",
      "Копія словника: {'a': 1, 'b': 2, 'c': 3}\n"
     ]
    }
   ],
   "execution_count": 61
  },
  {
   "metadata": {
    "ExecuteTime": {
     "end_time": "2025-03-10T20:03:37.245175Z",
     "start_time": "2025-03-10T20:03:37.239633Z"
    }
   },
   "cell_type": "code",
   "source": [
    "from copy import deepcopy\n",
    "\n",
    "original_dict = {\n",
    "    \"a\": {\n",
    "        \"key\": \"value\",\n",
    "        \"hello\": \"world\",\n",
    "        1: 66271,\n",
    "        2: 777\n",
    "    },\n",
    "    \"b\": 2,\n",
    "    \"c\": 3}\n",
    "print(f\"original_dict: {original_dict}\")\n",
    "print()\n",
    "\n",
    "copied = original_dict.copy()\n",
    "deep_copied = deepcopy(original_dict)\n",
    "\n",
    "original_dict[\"a\"][1] = -99999999\n",
    "original_dict[\"a\"][\"key\"] = \"CHANGED_VALUE\"\n",
    "\n",
    "print(\"after change: \")\n",
    "print(f\"original_dict: {original_dict}\")\n",
    "print(f\"shallow copied: {copied}\")\n",
    "print(f\"deep_copied: {deep_copied}\")\n"
   ],
   "id": "745e7bef8681a1b3",
   "outputs": [
    {
     "name": "stdout",
     "output_type": "stream",
     "text": [
      "original_dict: {'a': {'key': 'value', 'hello': 'world', 1: 66271, 2: 777}, 'b': 2, 'c': 3}\n",
      "\n",
      "after change: \n",
      "original_dict: {'a': {'key': 'CHANGED_VALUE', 'hello': 'world', 1: -99999999, 2: 777}, 'b': 2, 'c': 3}\n",
      "shallow copied: {'a': {'key': 'CHANGED_VALUE', 'hello': 'world', 1: -99999999, 2: 777}, 'b': 2, 'c': 3}\n",
      "deep_copied: {'a': {'key': 'value', 'hello': 'world', 1: 66271, 2: 777}, 'b': 2, 'c': 3}\n"
     ]
    }
   ],
   "execution_count": 67
  },
  {
   "metadata": {
    "ExecuteTime": {
     "end_time": "2025-03-10T19:55:53.367138Z",
     "start_time": "2025-03-10T19:55:53.363177Z"
    }
   },
   "cell_type": "code",
   "source": [
    "# Використання fromkeys()\n",
    "keys_list = [\"x\", \"y\", \"z\"]\n",
    "default_value = 0\n",
    "new_dict = dict.fromkeys(keys_list, default_value)\n",
    "print(\"Словник, створений за допомогою fromkeys():\", new_dict)"
   ],
   "id": "d3dd80c04e58cc9c",
   "outputs": [
    {
     "name": "stdout",
     "output_type": "stream",
     "text": [
      "Словник, створений за допомогою fromkeys(): {'x': 0, 'y': 0, 'z': 0}\n"
     ]
    }
   ],
   "execution_count": 62
  },
  {
   "metadata": {
    "ExecuteTime": {
     "end_time": "2025-03-10T19:56:11.062552Z",
     "start_time": "2025-03-10T19:56:11.058664Z"
    }
   },
   "cell_type": "code",
   "source": [
    "# Використання popitem()\n",
    "last_item = original_dict.popitem()\n",
    "print(\"Видалений останній елемент:\", last_item)\n",
    "print(\"Словник після popitem():\", original_dict)"
   ],
   "id": "d422267c1ba46b3b",
   "outputs": [
    {
     "name": "stdout",
     "output_type": "stream",
     "text": [
      "Видалений останній елемент: ('c', 3)\n",
      "Словник після popitem(): {'a': 1, 'b': 2}\n"
     ]
    }
   ],
   "execution_count": 63
  },
  {
   "metadata": {
    "ExecuteTime": {
     "end_time": "2025-03-10T19:56:16.290214Z",
     "start_time": "2025-03-10T19:56:16.286970Z"
    }
   },
   "cell_type": "code",
   "source": [
    "# Використання setdefault()\n",
    "default_value = original_dict.setdefault(\"d\", 100)\n",
    "print(\"Значення для ключа 'd' (додано, якщо його не було):\", default_value)\n",
    "print(\"Словник після setdefault():\", original_dict)"
   ],
   "id": "112e4c9d4ff0088d",
   "outputs": [
    {
     "name": "stdout",
     "output_type": "stream",
     "text": [
      "Значення для ключа 'd' (додано, якщо його не було): 100\n",
      "Словник після setdefault(): {'a': 1, 'b': 2, 'd': 100}\n"
     ]
    }
   ],
   "execution_count": 64
  },
  {
   "metadata": {},
   "cell_type": "markdown",
   "source": "# Генератори словників",
   "id": "aa6c04016fe6b23a"
  },
  {
   "metadata": {
    "ExecuteTime": {
     "end_time": "2025-03-10T20:09:08.241282Z",
     "start_time": "2025-03-10T20:09:08.235965Z"
    }
   },
   "cell_type": "code",
   "source": [
    "colors = [\"червоне\", \"жовте\", \"зелене\"]\n",
    "actions = [\"стоп\", \"увага\", \"рухаємось\"]\n",
    "\n",
    "# Генератор словника\n",
    "traffic_dict = {colors[i]: actions[i] for i in range(len(colors))}\n",
    "\n",
    "print(\"Словник світлофора:\", traffic_dict)\n"
   ],
   "id": "e7f2f51936f486fb",
   "outputs": [
    {
     "name": "stdout",
     "output_type": "stream",
     "text": [
      "Словник світлофора: {'червоне': 'стоп', 'жовте': 'увага', 'зелене': 'рухаємось'}\n"
     ]
    }
   ],
   "execution_count": 68
  },
  {
   "metadata": {
    "ExecuteTime": {
     "end_time": "2025-03-10T20:09:23.766834Z",
     "start_time": "2025-03-10T20:09:23.762906Z"
    }
   },
   "cell_type": "code",
   "source": [
    "numbers = [1, 2, 3, 4, 5]\n",
    "\n",
    "# Генератор словника: число -> його квадрат\n",
    "squares_dict = {num: num**2 for num in numbers}\n",
    "\n",
    "print(\"Квадрати чисел:\", squares_dict)\n"
   ],
   "id": "c3128b036fbde297",
   "outputs": [
    {
     "name": "stdout",
     "output_type": "stream",
     "text": [
      "Квадрати чисел: {1: 1, 2: 4, 3: 9, 4: 16, 5: 25}\n"
     ]
    }
   ],
   "execution_count": 69
  },
  {
   "metadata": {
    "ExecuteTime": {
     "end_time": "2025-03-10T20:09:31.426590Z",
     "start_time": "2025-03-10T20:09:31.422650Z"
    }
   },
   "cell_type": "code",
   "source": [
    "numbers = range(10)\n",
    "\n",
    "# Генератор словника: лише парні числа -> їхні квадрати\n",
    "even_squares = {num: num**2 for num in numbers if num % 2 == 0}\n",
    "\n",
    "print(\"Квадрати парних чисел:\", even_squares)\n"
   ],
   "id": "3f8db3bb1a8f6159",
   "outputs": [
    {
     "name": "stdout",
     "output_type": "stream",
     "text": [
      "Квадрати парних чисел: {0: 0, 2: 4, 4: 16, 6: 36, 8: 64}\n"
     ]
    }
   ],
   "execution_count": 70
  },
  {
   "metadata": {
    "ExecuteTime": {
     "end_time": "2025-03-10T20:09:43.258287Z",
     "start_time": "2025-03-10T20:09:43.254594Z"
    }
   },
   "cell_type": "code",
   "source": [
    "words = [\"яблуко\", \"банан\", \"вишня\", \"кавун\"]\n",
    "\n",
    "# Генератор словника: слово -> його довжина\n",
    "word_lengths = {word: len(word) for word in words}\n",
    "\n",
    "print(\"Довжини слів:\", word_lengths)\n"
   ],
   "id": "612f42571dc7eff8",
   "outputs": [
    {
     "name": "stdout",
     "output_type": "stream",
     "text": [
      "Довжини слів: {'яблуко': 6, 'банан': 5, 'вишня': 5, 'кавун': 5}\n"
     ]
    }
   ],
   "execution_count": 71
  },
  {
   "metadata": {
    "ExecuteTime": {
     "end_time": "2025-03-10T20:09:49.582414Z",
     "start_time": "2025-03-10T20:09:49.578132Z"
    }
   },
   "cell_type": "code",
   "source": [
    "students = [\"Олексій\", \"Марія\", \"Іван\"]\n",
    "grades = [[5, 4, 3], [4, 4, 5], [3, 3, 4]]\n",
    "\n",
    "# Генератор словника: ім'я студента -> середня оцінка\n",
    "student_avg = {students[i]: sum(grades[i]) / len(grades[i]) for i in range(len(students))}\n",
    "\n",
    "print(\"Середні оцінки студентів:\", student_avg)\n"
   ],
   "id": "6d3253ce50531ef5",
   "outputs": [
    {
     "name": "stdout",
     "output_type": "stream",
     "text": [
      "Середні оцінки студентів: {'Олексій': 4.0, 'Марія': 4.333333333333333, 'Іван': 3.3333333333333335}\n"
     ]
    }
   ],
   "execution_count": 72
  },
  {
   "metadata": {
    "ExecuteTime": {
     "end_time": "2025-03-10T20:10:12.304690Z",
     "start_time": "2025-03-10T20:10:12.300593Z"
    }
   },
   "cell_type": "code",
   "source": [
    "data = [(\"apple\", 3), (\"banana\", 5), (\"cherry\", 2)]\n",
    "\n",
    "# Генератор словника: розпаковуємо кортежі\n",
    "fruit_dict = {fruit: count for fruit, count in data}\n",
    "\n",
    "print(\"Фрукти у кошику:\", fruit_dict)\n"
   ],
   "id": "630847bebd7566cf",
   "outputs": [
    {
     "name": "stdout",
     "output_type": "stream",
     "text": [
      "Фрукти у кошику: {'apple': 3, 'banana': 5, 'cherry': 2}\n"
     ]
    }
   ],
   "execution_count": 73
  },
  {
   "metadata": {},
   "cell_type": "code",
   "outputs": [],
   "execution_count": null,
   "source": "",
   "id": "a18a597a3983fe69"
  }
 ],
 "metadata": {
  "kernelspec": {
   "display_name": "Python 3",
   "language": "python",
   "name": "python3"
  },
  "language_info": {
   "codemirror_mode": {
    "name": "ipython",
    "version": 2
   },
   "file_extension": ".py",
   "mimetype": "text/x-python",
   "name": "python",
   "nbconvert_exporter": "python",
   "pygments_lexer": "ipython2",
   "version": "2.7.6"
  }
 },
 "nbformat": 4,
 "nbformat_minor": 5
}
