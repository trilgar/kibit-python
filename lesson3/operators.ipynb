{
 "cells": [
  {
   "metadata": {},
   "cell_type": "markdown",
   "source": "# Арифметичні оператори",
   "id": "e624693db613e4fc"
  },
  {
   "metadata": {
    "ExecuteTime": {
     "end_time": "2025-01-15T18:16:29.229837Z",
     "start_time": "2025-01-15T18:16:29.223569Z"
    }
   },
   "cell_type": "code",
   "source": [
    "# Variables\n",
    "a = 15\n",
    "b = 4\n",
    "\n",
    "# Addition\n",
    "print(\"Addition:\", a + b)  \n",
    "\n",
    "# Subtraction\n",
    "print(\"Subtraction:\", a - b) \n",
    "\n",
    "# Multiplication\n",
    "print(\"Multiplication:\", a * b)  \n",
    "\n",
    "# Division\n",
    "print(\"Division:\", a / b) \n",
    "\n",
    "# Floor Division\n",
    "print(\"Floor Division:\", a // b)  \n",
    "\n",
    "# Modulus\n",
    "print(\"Modulus:\", a % b) \n",
    "\n",
    "# Exponentiation\n",
    "print(\"Exponentiation:\", a ** b)"
   ],
   "id": "9f69d304ac5cbbfc",
   "outputs": [
    {
     "name": "stdout",
     "output_type": "stream",
     "text": [
      "Addition: 19\n",
      "Subtraction: 11\n",
      "Multiplication: 60\n",
      "Division: 3.75\n",
      "Floor Division: 3\n",
      "Modulus: 3\n",
      "Exponentiation: 50625\n"
     ]
    }
   ],
   "execution_count": 1
  },
  {
   "metadata": {
    "ExecuteTime": {
     "end_time": "2025-01-15T18:20:15.624167Z",
     "start_time": "2025-01-15T18:20:15.620500Z"
    }
   },
   "cell_type": "code",
   "source": [
    "a = (5 + 2) ** 2 - 3 * 2  # Результат: 43\n",
    "b = 6 - 5 / 2             # Результат: 3.5\n",
    "c = 10 // 4 + 10 % 3      # Результат: 3\n",
    "print(\"Результати обчислень:\")\n",
    "print(a, b, c)"
   ],
   "id": "f3c2da2ea4ddd63e",
   "outputs": [
    {
     "name": "stdout",
     "output_type": "stream",
     "text": [
      "Результати обчислень:\n",
      "43 3.5 3\n"
     ]
    }
   ],
   "execution_count": 3
  },
  {
   "metadata": {},
   "cell_type": "markdown",
   "source": "## Функція eval()",
   "id": "e2395312872d907a"
  },
  {
   "metadata": {
    "ExecuteTime": {
     "end_time": "2025-01-15T18:21:04.076312Z",
     "start_time": "2025-01-15T18:21:04.072113Z"
    }
   },
   "cell_type": "code",
   "source": [
    "a = \"(5 + 2) ** 2 - 3 * 2\"  # Текстове значення\n",
    "b = \"6 - 5 / 2\"             # Текстове значення\n",
    "c = \"10 // 4 + 10 % 3\"      # Текстове значення\n",
    "print(\"Обчислення з eval():\")\n",
    "print(eval(a))  # 43\n",
    "print(eval(b))  # 3.5\n",
    "print(eval(c))  # 3"
   ],
   "id": "d786e30f89033876",
   "outputs": [
    {
     "name": "stdout",
     "output_type": "stream",
     "text": [
      "Обчислення з eval():\n",
      "43\n",
      "3.5\n",
      "3\n"
     ]
    }
   ],
   "execution_count": 4
  },
  {
   "metadata": {
    "ExecuteTime": {
     "end_time": "2025-01-15T18:25:27.632044Z",
     "start_time": "2025-01-15T18:25:27.628752Z"
    }
   },
   "cell_type": "code",
   "source": [
    "x = 3\n",
    "y = 7\n",
    "z = \"x + y\"\n",
    "\n",
    "print(z,\"=\", eval(z))  # 10"
   ],
   "id": "43460c7e77f7101e",
   "outputs": [
    {
     "name": "stdout",
     "output_type": "stream",
     "text": [
      "x + y = 10\n"
     ]
    }
   ],
   "execution_count": 5
  },
  {
   "metadata": {},
   "cell_type": "markdown",
   "source": "##  Арифметичні операції можна застосовувати до рядків",
   "id": "8b167f21f1aaeff1"
  },
  {
   "metadata": {},
   "cell_type": "code",
   "outputs": [
    {
     "name": "stdout",
     "output_type": "stream",
     "text": [
      "Python3\n"
     ]
    }
   ],
   "execution_count": 6,
   "source": [
    "text = \"Python\" + \"3\"\n",
    "print(text)  "
   ],
   "id": "c8adfc2e9bdba220"
  },
  {
   "metadata": {},
   "cell_type": "code",
   "outputs": [
    {
     "name": "stdout",
     "output_type": "stream",
     "text": [
      "PythonPythonPython\n"
     ]
    }
   ],
   "execution_count": 7,
   "source": [
    "text = \"Python\" * 3\n",
    "print(text)  "
   ],
   "id": "76ee18cb9dbf37c3"
  },
  {
   "metadata": {},
   "cell_type": "markdown",
   "source": "# Побітові оператори",
   "id": "ec7cdde957fe9c7d"
  },
  {
   "metadata": {
    "ExecuteTime": {
     "end_time": "2025-01-15T18:48:22.837696Z",
     "start_time": "2025-01-15T18:48:22.833330Z"
    }
   },
   "cell_type": "code",
   "source": [
    "a = 10\n",
    "b = 4\n",
    "print(\"binary a = \", bin(a))\n",
    "print(\"binary b = \", bin(b))\n",
    "\n",
    "print(a & b)\n",
    "print(a | b)\n",
    "print(~a)\n",
    "print(a ^ b)\n",
    "print(a >> 2)\n",
    "print(a << 2)"
   ],
   "id": "dfaf6daa97178988",
   "outputs": [
    {
     "name": "stdout",
     "output_type": "stream",
     "text": [
      "binary a =  0b1010\n",
      "binary b =  0b100\n",
      "0\n",
      "14\n",
      "-11\n",
      "14\n",
      "2\n",
      "40\n"
     ]
    }
   ],
   "execution_count": 12
  },
  {
   "metadata": {},
   "cell_type": "markdown",
   "source": "# Оператори порівняння",
   "id": "4ca6d6a54e579591"
  },
  {
   "metadata": {
    "ExecuteTime": {
     "end_time": "2025-01-15T18:17:30.140283Z",
     "start_time": "2025-01-15T18:17:30.136037Z"
    }
   },
   "cell_type": "code",
   "source": [
    "a = 13\n",
    "b = 33\n",
    "\n",
    "print(a > b)\n",
    "print(a < b)\n",
    "print(a == b)\n",
    "print(a != b)\n",
    "print(a >= b)\n",
    "print(a <= b)"
   ],
   "id": "497c92e537edc484",
   "outputs": [
    {
     "name": "stdout",
     "output_type": "stream",
     "text": [
      "False\n",
      "True\n",
      "False\n",
      "True\n",
      "False\n",
      "True\n"
     ]
    }
   ],
   "execution_count": 2
  },
  {
   "metadata": {},
   "cell_type": "markdown",
   "source": "# Логічні оператори",
   "id": "619e122d5633c038"
  },
  {
   "metadata": {},
   "cell_type": "code",
   "outputs": [],
   "execution_count": null,
   "source": [
    "a = True\n",
    "b = False\n",
    "print(a and b)\n",
    "print(a or b)\n",
    "print(not a)"
   ],
   "id": "de455a6f14d96f29"
  },
  {
   "metadata": {
    "ExecuteTime": {
     "end_time": "2025-01-15T18:59:08.797678Z",
     "start_time": "2025-01-15T18:59:08.793235Z"
    }
   },
   "cell_type": "code",
   "source": [
    "if(True):\n",
    "    print(\"True\")\n",
    "else:\n",
    "    print(\"False\")\n",
    "    \n",
    "if(1):\n",
    "    print(\"True\")\n",
    "else:\n",
    "    print(\"False\")\n",
    "  \n",
    "if(0):\n",
    "    print(\"True\")\n",
    "else:\n",
    "    print(\"False\")\n",
    "    \n",
    "if(1.0):\n",
    "    print(\"True\")\n",
    "else:\n",
    "    print(\"False\")\n",
    "\n",
    "if(-1):\n",
    "    print(\"True\")"
   ],
   "id": "b555bb45bab453b2",
   "outputs": [
    {
     "name": "stdout",
     "output_type": "stream",
     "text": [
      "True\n",
      "True\n",
      "False\n",
      "True\n",
      "True\n"
     ]
    }
   ],
   "execution_count": 14
  },
  {
   "metadata": {
    "ExecuteTime": {
     "end_time": "2025-01-15T19:01:11.641423Z",
     "start_time": "2025-01-15T19:01:11.637387Z"
    }
   },
   "cell_type": "code",
   "source": [
    "x = 10\n",
    "y = 20\n",
    "z = x and y\n",
    "print(z)\n",
    "\n",
    "z = x or y\n",
    "print(z)\n",
    "\n",
    "z = not x\n",
    "print(z)"
   ],
   "id": "543fd6d9c9f6d51e",
   "outputs": [
    {
     "name": "stdout",
     "output_type": "stream",
     "text": [
      "20\n",
      "10\n",
      "False\n"
     ]
    }
   ],
   "execution_count": 15
  },
  {
   "metadata": {},
   "cell_type": "markdown",
   "source": "# Оператори присвоювання",
   "id": "a96dcd344f88bc65"
  },
  {
   "metadata": {
    "ExecuteTime": {
     "end_time": "2025-01-15T19:15:30.965323Z",
     "start_time": "2025-01-15T19:15:30.960873Z"
    }
   },
   "cell_type": "code",
   "source": [
    "a = 10\n",
    "b = a\n",
    "print(b)\n",
    "b += a\n",
    "print(b)\n",
    "b -= a\n",
    "print(b)\n",
    "b *= a\n",
    "print(b)\n",
    "b <<= a\n",
    "print(b)\n",
    "\n",
    "b = 10\n",
    "b**=a\n",
    "print(b)\n",
    "\n"
   ],
   "id": "522fa82231a7233b",
   "outputs": [
    {
     "name": "stdout",
     "output_type": "stream",
     "text": [
      "10\n",
      "20\n",
      "10\n",
      "100\n",
      "102400\n"
     ]
    }
   ],
   "execution_count": 16
  },
  {
   "metadata": {},
   "cell_type": "markdown",
   "source": "## Warlus оператор",
   "id": "b7f45b0255bf6c19"
  },
  {
   "metadata": {
    "ExecuteTime": {
     "end_time": "2025-01-15T19:25:03.452510Z",
     "start_time": "2025-01-15T19:24:55.230837Z"
    }
   },
   "cell_type": "code",
   "source": [
    "while (user_input := input(\"Введіть щось (введіть 'вихід' для завершення): \")) != \"вихід\":\n",
    "    print(f\"Ви ввели: {user_input}\")"
   ],
   "id": "6df49583b42d6052",
   "outputs": [
    {
     "name": "stdout",
     "output_type": "stream",
     "text": [
      "Ви ввели: привіт\n",
      "Ви ввели: ало\n"
     ]
    }
   ],
   "execution_count": 17
  },
  {
   "metadata": {},
   "cell_type": "code",
   "outputs": [],
   "execution_count": null,
   "source": [
    "my_list = [1, 2, 3, 4, 5, 6, 7, 8, 9, 10]\n",
    "if (length := len(my_list)) > 5:\n",
    "    print(f\"Список занадто довгий ({length} елементів).\")"
   ],
   "id": "956ebd9a2a62f3b2"
  }
 ],
 "metadata": {
  "kernelspec": {
   "display_name": "Python 3",
   "language": "python",
   "name": "python3"
  },
  "language_info": {
   "codemirror_mode": {
    "name": "ipython",
    "version": 2
   },
   "file_extension": ".py",
   "mimetype": "text/x-python",
   "name": "python",
   "nbconvert_exporter": "python",
   "pygments_lexer": "ipython2",
   "version": "2.7.6"
  }
 },
 "nbformat": 4,
 "nbformat_minor": 5
}
