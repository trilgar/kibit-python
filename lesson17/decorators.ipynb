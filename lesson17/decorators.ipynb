{
 "cells": [
  {
   "metadata": {},
   "cell_type": "markdown",
   "source": [
    "# Декоратори\n",
    "\n",
    "Декторатори фукнцій"
   ],
   "id": "e4929c9eae10ef2"
  },
  {
   "metadata": {
    "collapsed": true,
    "ExecuteTime": {
     "end_time": "2025-04-25T10:44:19.181385Z",
     "start_time": "2025-04-25T10:44:19.175472Z"
    }
   },
   "cell_type": "code",
   "outputs": [
    {
     "name": "stdout",
     "output_type": "stream",
     "text": [
      "10\n"
     ]
    }
   ],
   "execution_count": 1,
   "source": [
    "def F(f):\n",
    "    def wrapper(x):\n",
    "        return f(x) + 1\n",
    "    return wrapper\n",
    "\n",
    "@F\n",
    "def square(x):\n",
    "    return x ** 2\n",
    "\n",
    "print(square(3))"
   ],
   "id": "initial_id"
  },
  {
   "metadata": {
    "ExecuteTime": {
     "end_time": "2025-04-25T10:49:41.781302Z",
     "start_time": "2025-04-25T10:49:41.774591Z"
    }
   },
   "cell_type": "code",
   "source": [
    "# Імпорт математичних функцій\n",
    "from math import exp, sin, cos, tan\n",
    "\n",
    "# Декоратор F: повертає функцію exp(-f(x)**2)\n",
    "def F(f):\n",
    "    return lambda x: exp(-(f(x))**2)\n",
    "\n",
    "# Декоратор Q: повертає функцію tan(f(x))\n",
    "def Q(f):\n",
    "    def q(x):\n",
    "        return tan(f(x))\n",
    "    return q\n",
    "\n",
    "# Функція з декоратором F\n",
    "@F\n",
    "def f(x):\n",
    "    return sin(x)\n",
    "\n",
    "# Функція з декоратором F\n",
    "@F\n",
    "def g(x):\n",
    "    return cos(x)\n",
    "\n",
    "# Функція з двома декораторами: спочатку F, потім Q\n",
    "@Q  # застосовується останнім\n",
    "@F  # застосовується першим\n",
    "def h(x):\n",
    "    return x\n",
    "\n",
    "# Кількість точок для тестування\n",
    "n = 5\n",
    "\n",
    "# Значення функції f(x) у різних точках\n",
    "print(\"Функція f(x):\")\n",
    "for i in range(n + 1):\n",
    "    z = i / n\n",
    "    print(f\"f({z}) -> {f(z)}  |  очікуване: {exp(-sin(z)**2)}\")\n",
    "\n",
    "# Значення функції g(x) у різних точках\n",
    "print(\"\\nФункція g(x):\")\n",
    "for i in range(n + 1):\n",
    "    z = i / n\n",
    "    print(f\"g({z}) -> {g(z)}  |  очікуване: {exp(-cos(z)**2)}\")\n",
    "\n",
    "# Значення функції h(x) у різних точках\n",
    "print(\"\\nФункція h(x):\")\n",
    "for i in range(n + 1):\n",
    "    z = i / n\n",
    "    print(f\"h({z}) -> {h(z)}  |  очікуване: {tan(exp(-z**2))}\")\n"
   ],
   "id": "137d9173416d2f3f",
   "outputs": [
    {
     "name": "stdout",
     "output_type": "stream",
     "text": [
      "Функція f(x):\n",
      "f(0.0) -> 1.0  |  очікуване: 1.0\n",
      "f(0.2) -> 0.961299270288799  |  очікуване: 0.961299270288799\n",
      "f(0.4) -> 0.8592918618974276  |  очікуване: 0.8592918618974276\n",
      "f(0.6) -> 0.7270055824268487  |  очікуване: 0.7270055824268487\n",
      "f(0.8) -> 0.5977397854322518  |  очікуване: 0.5977397854322518\n",
      "f(1.0) -> 0.49259230319603176  |  очікуване: 0.49259230319603176\n",
      "\n",
      "Функція g(x):\n",
      "g(0.0) -> 0.36787944117144233  |  очікуване: 0.36787944117144233\n",
      "g(0.2) -> 0.38268981631591364  |  очікуване: 0.38268981631591364\n",
      "g(0.4) -> 0.4281193125221935  |  очікуване: 0.4281193125221935\n",
      "g(0.6) -> 0.5060201050223136  |  очікуване: 0.5060201050223136\n",
      "g(0.8) -> 0.6154508201347391  |  очікуване: 0.6154508201347391\n",
      "g(1.0) -> 0.7468233644427067  |  очікуване: 0.7468233644427067\n",
      "\n",
      "Функція h(x):\n",
      "h(0.0) -> 1.557407724654902  |  очікуване: 1.557407724654902\n",
      "h(0.2) -> 1.4307602577401104  |  очікуване: 1.4307602577401104\n",
      "h(0.4) -> 1.1432664745039478  |  очікуване: 1.1432664745039478\n",
      "h(0.6) -> 0.8383239288289559  |  очікуване: 0.8383239288289559\n",
      "h(0.8) -> 0.582285681136045  |  очікуване: 0.582285681136045\n",
      "h(1.0) -> 0.38542559176909813  |  очікуване: 0.38542559176909813\n"
     ]
    }
   ],
   "execution_count": 3
  },
  {
   "metadata": {},
   "cell_type": "markdown",
   "source": "Декоратори класів",
   "id": "2583ff315ae70659"
  },
  {
   "metadata": {
    "ExecuteTime": {
     "end_time": "2025-04-25T10:54:00.137763Z",
     "start_time": "2025-04-25T10:54:00.132442Z"
    }
   },
   "cell_type": "code",
   "source": [
    "# Функція з аргументом — класом\n",
    "# і результатом — об'єктом класу\n",
    "def F(A):\n",
    "    # Внутрішній клас\n",
    "    class Alpha(A):\n",
    "        # Метод екземпляра внутрішнього класу\n",
    "        def hi(self):\n",
    "            print(\"Клас Alpha!\")\n",
    "    # Результат функції — клас\n",
    "    return Alpha\n",
    "\n",
    "# Інша функція-декоратор для класів\n",
    "def Q(A):\n",
    "    # Внутрішній клас\n",
    "    class Bravo(A):\n",
    "        def hi(self):\n",
    "            print(\"Клас Bravo!\")\n",
    "    return Bravo\n",
    "\n",
    "# Клас із декоратором F\n",
    "@F\n",
    "class First:\n",
    "    def hello(self):\n",
    "        print(\"Клас First!\")\n",
    "\n",
    "# Клас із декоратором Q\n",
    "@Q\n",
    "class Second:\n",
    "    def hello(self):\n",
    "        print(\"Клас Second!\")\n",
    "\n",
    "# Клас із двома декораторами Q(F(...))\n",
    "@Q  # застосовується останнім\n",
    "@F  # застосовується першим\n",
    "class Combined:\n",
    "    def hello(self):\n",
    "        print(\"Комбінований клас\")\n",
    "\n",
    "# Приклади виклику\n",
    "print(\"First:\")\n",
    "x = First()\n",
    "x.hello()\n",
    "x.hi()\n",
    "\n",
    "print(\"\\nSecond:\")\n",
    "y = Second()\n",
    "y.hello()\n",
    "y.hi()\n",
    "\n",
    "print(\"\\nCombined:\")\n",
    "z = Combined()\n",
    "z.hello()\n",
    "z.hi()\n"
   ],
   "id": "df830b9d0f81763e",
   "outputs": [
    {
     "name": "stdout",
     "output_type": "stream",
     "text": [
      "First:\n",
      "Клас First!\n",
      "Клас Alpha!\n",
      "\n",
      "Second:\n",
      "Клас Second!\n",
      "Клас Bravo!\n",
      "\n",
      "Combined:\n",
      "Комбінований клас\n",
      "Клас Bravo!\n"
     ]
    }
   ],
   "execution_count": 4
  },
  {
   "metadata": {},
   "cell_type": "markdown",
   "source": "# Деякі стандартні декоратори",
   "id": "ddf093ee4e490467"
  },
  {
   "metadata": {
    "ExecuteTime": {
     "end_time": "2025-04-25T11:06:41.097571Z",
     "start_time": "2025-04-25T11:06:41.094024Z"
    }
   },
   "cell_type": "code",
   "source": [
    "class Math:\n",
    "    @staticmethod\n",
    "    def add(a, b):\n",
    "        return a + b\n",
    "\n",
    "print(Math.add(2, 3))  # 5"
   ],
   "id": "3f08fc600c5a81d3",
   "outputs": [
    {
     "name": "stdout",
     "output_type": "stream",
     "text": [
      "5\n"
     ]
    }
   ],
   "execution_count": 5
  },
  {
   "metadata": {
    "ExecuteTime": {
     "end_time": "2025-04-25T11:07:25.320154Z",
     "start_time": "2025-04-25T11:07:25.317005Z"
    }
   },
   "cell_type": "code",
   "source": [
    "class Person:\n",
    "    count = 0\n",
    "\n",
    "    def __init__(self):\n",
    "        Person.count += 1\n",
    "\n",
    "    @classmethod\n",
    "    def get_count(cls):\n",
    "        return cls.count\n",
    "\n",
    "print(Person.get_count())\n",
    "\n",
    "p1 = Person()\n",
    "p2 = Person()\n",
    "print(Person.get_count())\n"
   ],
   "id": "f1862b9b10f5b116",
   "outputs": [
    {
     "name": "stdout",
     "output_type": "stream",
     "text": [
      "0\n",
      "2\n"
     ]
    }
   ],
   "execution_count": 8
  },
  {
   "metadata": {
    "ExecuteTime": {
     "end_time": "2025-04-25T11:08:45.755529Z",
     "start_time": "2025-04-25T11:08:45.743876Z"
    }
   },
   "cell_type": "code",
   "source": [
    "class Circle:\n",
    "    def __init__(self, radius):\n",
    "        self._radius = radius\n",
    "\n",
    "    @property\n",
    "    def diameter(self):\n",
    "        return self._radius * 2\n",
    "\n",
    "    @diameter.setter\n",
    "    def diameter(self, value):\n",
    "        self._radius = value / 2\n",
    "\n",
    "\n",
    "c = Circle(5)\n",
    "print(c.diameter)  # 10\n",
    "\n",
    "c.diameter = 10\n",
    "print(c._radius)  # 5"
   ],
   "id": "ccfa6f56169179ef",
   "outputs": [
    {
     "name": "stdout",
     "output_type": "stream",
     "text": [
      "10\n",
      "5.0\n"
     ]
    }
   ],
   "execution_count": 10
  },
  {
   "metadata": {
    "ExecuteTime": {
     "end_time": "2025-04-25T11:09:31.372817Z",
     "start_time": "2025-04-25T11:09:31.369093Z"
    }
   },
   "cell_type": "code",
   "source": [
    "from functools import lru_cache\n",
    "\n",
    "@lru_cache(maxsize=None)\n",
    "def fib(n):\n",
    "    if n < 2:\n",
    "        return n\n",
    "    return fib(n-1) + fib(n-2)\n",
    "\n",
    "print(fib(10))"
   ],
   "id": "a31ec68c0aa92a63",
   "outputs": [
    {
     "name": "stdout",
     "output_type": "stream",
     "text": [
      "55\n"
     ]
    }
   ],
   "execution_count": 11
  },
  {
   "metadata": {
    "ExecuteTime": {
     "end_time": "2025-04-25T11:10:25.406303Z",
     "start_time": "2025-04-25T11:10:25.383344Z"
    }
   },
   "cell_type": "code",
   "source": [
    "from abc import ABC, abstractmethod\n",
    "\n",
    "class Animal(ABC):\n",
    "    @abstractmethod\n",
    "    def make_sound(self):\n",
    "        pass\n",
    "\n",
    "class Dog(Animal):\n",
    "    # no implementation of make_sound\n",
    "        pass\n",
    "\n",
    "d = Dog()\n",
    "d.make_sound()"
   ],
   "id": "a9fef743cdf9546a",
   "outputs": [
    {
     "ename": "TypeError",
     "evalue": "Can't instantiate abstract class Dog with abstract method make_sound",
     "output_type": "error",
     "traceback": [
      "\u001B[0;31m---------------------------------------------------------------------------\u001B[0m",
      "\u001B[0;31mTypeError\u001B[0m                                 Traceback (most recent call last)",
      "Cell \u001B[0;32mIn[13], line 12\u001B[0m\n\u001B[1;32m      8\u001B[0m \u001B[38;5;28;01mclass\u001B[39;00m\u001B[38;5;250m \u001B[39m\u001B[38;5;21;01mDog\u001B[39;00m(Animal):\n\u001B[1;32m      9\u001B[0m     \u001B[38;5;66;03m# no implementation of make_sound\u001B[39;00m\n\u001B[1;32m     10\u001B[0m         \u001B[38;5;28;01mpass\u001B[39;00m\n\u001B[0;32m---> 12\u001B[0m d \u001B[38;5;241m=\u001B[39m \u001B[43mDog\u001B[49m\u001B[43m(\u001B[49m\u001B[43m)\u001B[49m\n\u001B[1;32m     13\u001B[0m d\u001B[38;5;241m.\u001B[39mmake_sound()\n",
      "\u001B[0;31mTypeError\u001B[0m: Can't instantiate abstract class Dog with abstract method make_sound"
     ]
    }
   ],
   "execution_count": 13
  },
  {
   "metadata": {},
   "cell_type": "code",
   "outputs": [],
   "execution_count": null,
   "source": "",
   "id": "72e214023c0e2b2d"
  }
 ],
 "metadata": {
  "kernelspec": {
   "display_name": "Python 3",
   "language": "python",
   "name": "python3"
  },
  "language_info": {
   "codemirror_mode": {
    "name": "ipython",
    "version": 2
   },
   "file_extension": ".py",
   "mimetype": "text/x-python",
   "name": "python",
   "nbconvert_exporter": "python",
   "pygments_lexer": "ipython2",
   "version": "2.7.6"
  }
 },
 "nbformat": 4,
 "nbformat_minor": 5
}
