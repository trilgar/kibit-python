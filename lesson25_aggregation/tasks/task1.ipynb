{
 "cells": [
  {
   "cell_type": "code",
   "id": "initial_id",
   "metadata": {
    "collapsed": true,
    "ExecuteTime": {
     "end_time": "2025-08-12T19:12:52.912729Z",
     "start_time": "2025-08-12T19:12:52.575814Z"
    }
   },
   "source": [
    "import numpy as np\n",
    "import pandas as pd\n",
    "\n",
    "np.random.seed(7)\n",
    "\n",
    "cities   = ['Kyiv','Kyiv','Kyiv','Lviv','Lviv','Lviv','Odesa','Odesa','Odesa','Kyiv','Lviv','Odesa']\n",
    "shops    = ['K1','K1','K2','L1','L2','L2','O1','O1','O2','K2','L1','O2']\n",
    "products = ['espresso','latte','croissant','espresso','tea','croissant','latte','espresso','tea','tea','latte','croissant']\n",
    "category_map = {'espresso':'drink','latte':'drink','tea':'drink','croissant':'food'}\n",
    "price_map    = {'espresso':2.50,'latte':3.80,'tea':1.90,'croissant':2.20}\n",
    "\n",
    "qty = np.random.randint(10, 50, size=len(products))\n",
    "\n",
    "sales = pd.DataFrame({\n",
    "    'city': cities,\n",
    "    'shop': shops,\n",
    "    'product': products,\n",
    "    'category': [category_map[p] for p in products],\n",
    "    'price': [price_map[p] for p in products],\n",
    "    'qty': qty\n",
    "})\n",
    "\n",
    "sales"
   ],
   "outputs": [
    {
     "data": {
      "text/plain": [
       "     city shop    product category  price  qty\n",
       "0    Kyiv   K1   espresso    drink    2.5   14\n",
       "1    Kyiv   K1      latte    drink    3.8   35\n",
       "2    Kyiv   K2  croissant     food    2.2   13\n",
       "3    Lviv   L1   espresso    drink    2.5   29\n",
       "4    Lviv   L2        tea    drink    1.9   33\n",
       "5    Lviv   L2  croissant     food    2.2   49\n",
       "6   Odesa   O1      latte    drink    3.8   38\n",
       "7   Odesa   O1   espresso    drink    2.5   24\n",
       "8   Odesa   O2        tea    drink    1.9   33\n",
       "9    Kyiv   K2        tea    drink    1.9   18\n",
       "10   Lviv   L1      latte    drink    3.8   35\n",
       "11  Odesa   O2  croissant     food    2.2   36"
      ],
      "text/html": [
       "<div>\n",
       "<style scoped>\n",
       "    .dataframe tbody tr th:only-of-type {\n",
       "        vertical-align: middle;\n",
       "    }\n",
       "\n",
       "    .dataframe tbody tr th {\n",
       "        vertical-align: top;\n",
       "    }\n",
       "\n",
       "    .dataframe thead th {\n",
       "        text-align: right;\n",
       "    }\n",
       "</style>\n",
       "<table border=\"1\" class=\"dataframe\">\n",
       "  <thead>\n",
       "    <tr style=\"text-align: right;\">\n",
       "      <th></th>\n",
       "      <th>city</th>\n",
       "      <th>shop</th>\n",
       "      <th>product</th>\n",
       "      <th>category</th>\n",
       "      <th>price</th>\n",
       "      <th>qty</th>\n",
       "    </tr>\n",
       "  </thead>\n",
       "  <tbody>\n",
       "    <tr>\n",
       "      <th>0</th>\n",
       "      <td>Kyiv</td>\n",
       "      <td>K1</td>\n",
       "      <td>espresso</td>\n",
       "      <td>drink</td>\n",
       "      <td>2.5</td>\n",
       "      <td>14</td>\n",
       "    </tr>\n",
       "    <tr>\n",
       "      <th>1</th>\n",
       "      <td>Kyiv</td>\n",
       "      <td>K1</td>\n",
       "      <td>latte</td>\n",
       "      <td>drink</td>\n",
       "      <td>3.8</td>\n",
       "      <td>35</td>\n",
       "    </tr>\n",
       "    <tr>\n",
       "      <th>2</th>\n",
       "      <td>Kyiv</td>\n",
       "      <td>K2</td>\n",
       "      <td>croissant</td>\n",
       "      <td>food</td>\n",
       "      <td>2.2</td>\n",
       "      <td>13</td>\n",
       "    </tr>\n",
       "    <tr>\n",
       "      <th>3</th>\n",
       "      <td>Lviv</td>\n",
       "      <td>L1</td>\n",
       "      <td>espresso</td>\n",
       "      <td>drink</td>\n",
       "      <td>2.5</td>\n",
       "      <td>29</td>\n",
       "    </tr>\n",
       "    <tr>\n",
       "      <th>4</th>\n",
       "      <td>Lviv</td>\n",
       "      <td>L2</td>\n",
       "      <td>tea</td>\n",
       "      <td>drink</td>\n",
       "      <td>1.9</td>\n",
       "      <td>33</td>\n",
       "    </tr>\n",
       "    <tr>\n",
       "      <th>5</th>\n",
       "      <td>Lviv</td>\n",
       "      <td>L2</td>\n",
       "      <td>croissant</td>\n",
       "      <td>food</td>\n",
       "      <td>2.2</td>\n",
       "      <td>49</td>\n",
       "    </tr>\n",
       "    <tr>\n",
       "      <th>6</th>\n",
       "      <td>Odesa</td>\n",
       "      <td>O1</td>\n",
       "      <td>latte</td>\n",
       "      <td>drink</td>\n",
       "      <td>3.8</td>\n",
       "      <td>38</td>\n",
       "    </tr>\n",
       "    <tr>\n",
       "      <th>7</th>\n",
       "      <td>Odesa</td>\n",
       "      <td>O1</td>\n",
       "      <td>espresso</td>\n",
       "      <td>drink</td>\n",
       "      <td>2.5</td>\n",
       "      <td>24</td>\n",
       "    </tr>\n",
       "    <tr>\n",
       "      <th>8</th>\n",
       "      <td>Odesa</td>\n",
       "      <td>O2</td>\n",
       "      <td>tea</td>\n",
       "      <td>drink</td>\n",
       "      <td>1.9</td>\n",
       "      <td>33</td>\n",
       "    </tr>\n",
       "    <tr>\n",
       "      <th>9</th>\n",
       "      <td>Kyiv</td>\n",
       "      <td>K2</td>\n",
       "      <td>tea</td>\n",
       "      <td>drink</td>\n",
       "      <td>1.9</td>\n",
       "      <td>18</td>\n",
       "    </tr>\n",
       "    <tr>\n",
       "      <th>10</th>\n",
       "      <td>Lviv</td>\n",
       "      <td>L1</td>\n",
       "      <td>latte</td>\n",
       "      <td>drink</td>\n",
       "      <td>3.8</td>\n",
       "      <td>35</td>\n",
       "    </tr>\n",
       "    <tr>\n",
       "      <th>11</th>\n",
       "      <td>Odesa</td>\n",
       "      <td>O2</td>\n",
       "      <td>croissant</td>\n",
       "      <td>food</td>\n",
       "      <td>2.2</td>\n",
       "      <td>36</td>\n",
       "    </tr>\n",
       "  </tbody>\n",
       "</table>\n",
       "</div>"
      ]
     },
     "execution_count": 1,
     "metadata": {},
     "output_type": "execute_result"
    }
   ],
   "execution_count": 1
  },
  {
   "metadata": {
    "ExecuteTime": {
     "end_time": "2025-08-12T19:13:23.340306Z",
     "start_time": "2025-08-12T19:13:23.326944Z"
    }
   },
   "cell_type": "code",
   "source": [
    "sales['revenue'] = sales['price'] * sales['qty']\n",
    "sales"
   ],
   "id": "5e208e640d561369",
   "outputs": [
    {
     "data": {
      "text/plain": [
       "     city shop    product category  price  qty  revenue\n",
       "0    Kyiv   K1   espresso    drink    2.5   14     35.0\n",
       "1    Kyiv   K1      latte    drink    3.8   35    133.0\n",
       "2    Kyiv   K2  croissant     food    2.2   13     28.6\n",
       "3    Lviv   L1   espresso    drink    2.5   29     72.5\n",
       "4    Lviv   L2        tea    drink    1.9   33     62.7\n",
       "5    Lviv   L2  croissant     food    2.2   49    107.8\n",
       "6   Odesa   O1      latte    drink    3.8   38    144.4\n",
       "7   Odesa   O1   espresso    drink    2.5   24     60.0\n",
       "8   Odesa   O2        tea    drink    1.9   33     62.7\n",
       "9    Kyiv   K2        tea    drink    1.9   18     34.2\n",
       "10   Lviv   L1      latte    drink    3.8   35    133.0\n",
       "11  Odesa   O2  croissant     food    2.2   36     79.2"
      ],
      "text/html": [
       "<div>\n",
       "<style scoped>\n",
       "    .dataframe tbody tr th:only-of-type {\n",
       "        vertical-align: middle;\n",
       "    }\n",
       "\n",
       "    .dataframe tbody tr th {\n",
       "        vertical-align: top;\n",
       "    }\n",
       "\n",
       "    .dataframe thead th {\n",
       "        text-align: right;\n",
       "    }\n",
       "</style>\n",
       "<table border=\"1\" class=\"dataframe\">\n",
       "  <thead>\n",
       "    <tr style=\"text-align: right;\">\n",
       "      <th></th>\n",
       "      <th>city</th>\n",
       "      <th>shop</th>\n",
       "      <th>product</th>\n",
       "      <th>category</th>\n",
       "      <th>price</th>\n",
       "      <th>qty</th>\n",
       "      <th>revenue</th>\n",
       "    </tr>\n",
       "  </thead>\n",
       "  <tbody>\n",
       "    <tr>\n",
       "      <th>0</th>\n",
       "      <td>Kyiv</td>\n",
       "      <td>K1</td>\n",
       "      <td>espresso</td>\n",
       "      <td>drink</td>\n",
       "      <td>2.5</td>\n",
       "      <td>14</td>\n",
       "      <td>35.0</td>\n",
       "    </tr>\n",
       "    <tr>\n",
       "      <th>1</th>\n",
       "      <td>Kyiv</td>\n",
       "      <td>K1</td>\n",
       "      <td>latte</td>\n",
       "      <td>drink</td>\n",
       "      <td>3.8</td>\n",
       "      <td>35</td>\n",
       "      <td>133.0</td>\n",
       "    </tr>\n",
       "    <tr>\n",
       "      <th>2</th>\n",
       "      <td>Kyiv</td>\n",
       "      <td>K2</td>\n",
       "      <td>croissant</td>\n",
       "      <td>food</td>\n",
       "      <td>2.2</td>\n",
       "      <td>13</td>\n",
       "      <td>28.6</td>\n",
       "    </tr>\n",
       "    <tr>\n",
       "      <th>3</th>\n",
       "      <td>Lviv</td>\n",
       "      <td>L1</td>\n",
       "      <td>espresso</td>\n",
       "      <td>drink</td>\n",
       "      <td>2.5</td>\n",
       "      <td>29</td>\n",
       "      <td>72.5</td>\n",
       "    </tr>\n",
       "    <tr>\n",
       "      <th>4</th>\n",
       "      <td>Lviv</td>\n",
       "      <td>L2</td>\n",
       "      <td>tea</td>\n",
       "      <td>drink</td>\n",
       "      <td>1.9</td>\n",
       "      <td>33</td>\n",
       "      <td>62.7</td>\n",
       "    </tr>\n",
       "    <tr>\n",
       "      <th>5</th>\n",
       "      <td>Lviv</td>\n",
       "      <td>L2</td>\n",
       "      <td>croissant</td>\n",
       "      <td>food</td>\n",
       "      <td>2.2</td>\n",
       "      <td>49</td>\n",
       "      <td>107.8</td>\n",
       "    </tr>\n",
       "    <tr>\n",
       "      <th>6</th>\n",
       "      <td>Odesa</td>\n",
       "      <td>O1</td>\n",
       "      <td>latte</td>\n",
       "      <td>drink</td>\n",
       "      <td>3.8</td>\n",
       "      <td>38</td>\n",
       "      <td>144.4</td>\n",
       "    </tr>\n",
       "    <tr>\n",
       "      <th>7</th>\n",
       "      <td>Odesa</td>\n",
       "      <td>O1</td>\n",
       "      <td>espresso</td>\n",
       "      <td>drink</td>\n",
       "      <td>2.5</td>\n",
       "      <td>24</td>\n",
       "      <td>60.0</td>\n",
       "    </tr>\n",
       "    <tr>\n",
       "      <th>8</th>\n",
       "      <td>Odesa</td>\n",
       "      <td>O2</td>\n",
       "      <td>tea</td>\n",
       "      <td>drink</td>\n",
       "      <td>1.9</td>\n",
       "      <td>33</td>\n",
       "      <td>62.7</td>\n",
       "    </tr>\n",
       "    <tr>\n",
       "      <th>9</th>\n",
       "      <td>Kyiv</td>\n",
       "      <td>K2</td>\n",
       "      <td>tea</td>\n",
       "      <td>drink</td>\n",
       "      <td>1.9</td>\n",
       "      <td>18</td>\n",
       "      <td>34.2</td>\n",
       "    </tr>\n",
       "    <tr>\n",
       "      <th>10</th>\n",
       "      <td>Lviv</td>\n",
       "      <td>L1</td>\n",
       "      <td>latte</td>\n",
       "      <td>drink</td>\n",
       "      <td>3.8</td>\n",
       "      <td>35</td>\n",
       "      <td>133.0</td>\n",
       "    </tr>\n",
       "    <tr>\n",
       "      <th>11</th>\n",
       "      <td>Odesa</td>\n",
       "      <td>O2</td>\n",
       "      <td>croissant</td>\n",
       "      <td>food</td>\n",
       "      <td>2.2</td>\n",
       "      <td>36</td>\n",
       "      <td>79.2</td>\n",
       "    </tr>\n",
       "  </tbody>\n",
       "</table>\n",
       "</div>"
      ]
     },
     "execution_count": 2,
     "metadata": {},
     "output_type": "execute_result"
    }
   ],
   "execution_count": 2
  },
  {
   "metadata": {
    "ExecuteTime": {
     "end_time": "2025-08-12T19:14:10.520794Z",
     "start_time": "2025-08-12T19:14:10.501966Z"
    }
   },
   "cell_type": "code",
   "source": "sales.groupby('city')['qty'].sum()",
   "id": "db5b55b86e8d6a02",
   "outputs": [
    {
     "data": {
      "text/plain": [
       "city\n",
       "Kyiv      80\n",
       "Lviv     146\n",
       "Odesa    131\n",
       "Name: qty, dtype: int64"
      ]
     },
     "execution_count": 3,
     "metadata": {},
     "output_type": "execute_result"
    }
   ],
   "execution_count": 3
  },
  {
   "metadata": {
    "ExecuteTime": {
     "end_time": "2025-08-12T19:14:30.038913Z",
     "start_time": "2025-08-12T19:14:30.028647Z"
    }
   },
   "cell_type": "code",
   "source": "sales.groupby('city')['revenue'].sum()",
   "id": "4e5ec94755af3e1b",
   "outputs": [
    {
     "data": {
      "text/plain": [
       "city\n",
       "Kyiv     230.8\n",
       "Lviv     376.0\n",
       "Odesa    346.3\n",
       "Name: revenue, dtype: float64"
      ]
     },
     "execution_count": 4,
     "metadata": {},
     "output_type": "execute_result"
    }
   ],
   "execution_count": 4
  },
  {
   "metadata": {
    "ExecuteTime": {
     "end_time": "2025-08-12T19:14:43.482219Z",
     "start_time": "2025-08-12T19:14:43.472497Z"
    }
   },
   "cell_type": "code",
   "source": "sales.groupby('city')['price'].mean()",
   "id": "9ad38e394a8a14a5",
   "outputs": [
    {
     "data": {
      "text/plain": [
       "city\n",
       "Kyiv     2.6\n",
       "Lviv     2.6\n",
       "Odesa    2.6\n",
       "Name: price, dtype: float64"
      ]
     },
     "execution_count": 5,
     "metadata": {},
     "output_type": "execute_result"
    }
   ],
   "execution_count": 5
  },
  {
   "metadata": {
    "ExecuteTime": {
     "end_time": "2025-08-12T19:16:55.751421Z",
     "start_time": "2025-08-12T19:16:55.740956Z"
    }
   },
   "cell_type": "code",
   "source": [
    "def value_range(series):\n",
    "    return series.max() - series.min()\n",
    "\n",
    "print(sales.groupby('city')[['price','revenue']].agg(['mean','std', value_range]))"
   ],
   "id": "7ce6fb824651ef80",
   "outputs": [
    {
     "name": "stdout",
     "output_type": "stream",
     "text": [
      "      price                      revenue                       \n",
      "       mean      std value_range    mean        std value_range\n",
      "city                                                           \n",
      "Kyiv    2.6  0.83666         1.9  57.700  50.280679       104.4\n",
      "Lviv    2.6  0.83666         1.9  94.000  32.421084        70.3\n",
      "Odesa   2.6  0.83666         1.9  86.575  39.473060        84.4\n"
     ]
    }
   ],
   "execution_count": 8
  },
  {
   "metadata": {
    "ExecuteTime": {
     "end_time": "2025-08-12T19:20:31.123763Z",
     "start_time": "2025-08-12T19:20:31.108823Z"
    }
   },
   "cell_type": "code",
   "source": [
    "city_category = sales.groupby(['city', 'category'])['revenue'].sum()\n",
    "city_category"
   ],
   "id": "fa870b9253744099",
   "outputs": [
    {
     "data": {
      "text/plain": [
       "city   category\n",
       "Kyiv   drink       202.2\n",
       "       food         28.6\n",
       "Lviv   drink       268.2\n",
       "       food        107.8\n",
       "Odesa  drink       267.1\n",
       "       food         79.2\n",
       "Name: revenue, dtype: float64"
      ]
     },
     "execution_count": 10,
     "metadata": {},
     "output_type": "execute_result"
    }
   ],
   "execution_count": 10
  },
  {
   "metadata": {
    "ExecuteTime": {
     "end_time": "2025-08-12T19:22:39.558293Z",
     "start_time": "2025-08-12T19:22:39.553151Z"
    }
   },
   "cell_type": "code",
   "source": [
    "q06=sales.groupby('city')['price'].quantile(0.6)\n",
    "q06"
   ],
   "id": "fd1e8b82af080457",
   "outputs": [
    {
     "data": {
      "text/plain": [
       "city\n",
       "Kyiv     2.44\n",
       "Lviv     2.44\n",
       "Odesa    2.44\n",
       "Name: price, dtype: float64"
      ]
     },
     "execution_count": 12,
     "metadata": {},
     "output_type": "execute_result"
    }
   ],
   "execution_count": 12
  },
  {
   "metadata": {
    "ExecuteTime": {
     "end_time": "2025-08-12T19:27:15.686790Z",
     "start_time": "2025-08-12T19:27:15.676216Z"
    }
   },
   "cell_type": "code",
   "source": [
    "for name, grp in sales.groupby('city'):\n",
    "    print(name)\n",
    "    print(len(grp['product'].unique()))\n",
    "    print(grp.loc[grp['qty'].idxmax()]['product'])\n",
    "    print(\"___________________________\")\n"
   ],
   "id": "d7821330ebee7414",
   "outputs": [
    {
     "name": "stdout",
     "output_type": "stream",
     "text": [
      "Kyiv\n",
      "4\n",
      "latte\n",
      "___________________________\n",
      "Lviv\n",
      "4\n",
      "croissant\n",
      "___________________________\n",
      "Odesa\n",
      "4\n",
      "latte\n",
      "___________________________\n"
     ]
    }
   ],
   "execution_count": 17
  },
  {
   "metadata": {
    "ExecuteTime": {
     "end_time": "2025-08-12T19:28:16.566106Z",
     "start_time": "2025-08-12T19:28:16.549894Z"
    }
   },
   "cell_type": "code",
   "source": "sales.groupby('city').mean(numeric_only=True).add_prefix('mean_')",
   "id": "e8fbb2407db4046a",
   "outputs": [
    {
     "data": {
      "text/plain": [
       "       mean_price  mean_qty  mean_revenue\n",
       "city                                     \n",
       "Kyiv          2.6     20.00        57.700\n",
       "Lviv          2.6     36.50        94.000\n",
       "Odesa         2.6     32.75        86.575"
      ],
      "text/html": [
       "<div>\n",
       "<style scoped>\n",
       "    .dataframe tbody tr th:only-of-type {\n",
       "        vertical-align: middle;\n",
       "    }\n",
       "\n",
       "    .dataframe tbody tr th {\n",
       "        vertical-align: top;\n",
       "    }\n",
       "\n",
       "    .dataframe thead th {\n",
       "        text-align: right;\n",
       "    }\n",
       "</style>\n",
       "<table border=\"1\" class=\"dataframe\">\n",
       "  <thead>\n",
       "    <tr style=\"text-align: right;\">\n",
       "      <th></th>\n",
       "      <th>mean_price</th>\n",
       "      <th>mean_qty</th>\n",
       "      <th>mean_revenue</th>\n",
       "    </tr>\n",
       "    <tr>\n",
       "      <th>city</th>\n",
       "      <th></th>\n",
       "      <th></th>\n",
       "      <th></th>\n",
       "    </tr>\n",
       "  </thead>\n",
       "  <tbody>\n",
       "    <tr>\n",
       "      <th>Kyiv</th>\n",
       "      <td>2.6</td>\n",
       "      <td>20.00</td>\n",
       "      <td>57.700</td>\n",
       "    </tr>\n",
       "    <tr>\n",
       "      <th>Lviv</th>\n",
       "      <td>2.6</td>\n",
       "      <td>36.50</td>\n",
       "      <td>94.000</td>\n",
       "    </tr>\n",
       "    <tr>\n",
       "      <th>Odesa</th>\n",
       "      <td>2.6</td>\n",
       "      <td>32.75</td>\n",
       "      <td>86.575</td>\n",
       "    </tr>\n",
       "  </tbody>\n",
       "</table>\n",
       "</div>"
      ]
     },
     "execution_count": 18,
     "metadata": {},
     "output_type": "execute_result"
    }
   ],
   "execution_count": 18
  },
  {
   "metadata": {},
   "cell_type": "code",
   "outputs": [],
   "execution_count": null,
   "source": "",
   "id": "2182e77984077b72"
  }
 ],
 "metadata": {
  "kernelspec": {
   "display_name": "Python 3",
   "language": "python",
   "name": "python3"
  },
  "language_info": {
   "codemirror_mode": {
    "name": "ipython",
    "version": 2
   },
   "file_extension": ".py",
   "mimetype": "text/x-python",
   "name": "python",
   "nbconvert_exporter": "python",
   "pygments_lexer": "ipython2",
   "version": "2.7.6"
  }
 },
 "nbformat": 4,
 "nbformat_minor": 5
}
