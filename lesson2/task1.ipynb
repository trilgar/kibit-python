{
 "cells": [
  {
   "metadata": {},
   "cell_type": "markdown",
   "source": [
    "Завдання:\n",
    "Навчитися працювати з базовими типами даних (str, int, float) та умовними операторами, а також створювати прості програми з використанням вводу та виводу.\n",
    "\n",
    "1. Запитайте у користувача його ім'я, вік та зріст\n",
    "2. Виведіть вітання: \"Привіт, {name}! Давайте дізнаємось кілька цікавих фактів про вас.\"\n",
    "3. Розрахуйте \"жартівливий\" факт про зріст у перший рік життя. Щось типу \"Якщо б ви росли рівномірно, то в один рік ваш зріст складав би приблизно ... см!\"\n",
    "4. Розрахуйте кількість прожитих днів\n",
    "5. Зріст у метрах\n",
    "6. Перевірте, чи є користувач повнолітнім"
   ],
   "id": "52c0cb280ec3bb76"
  },
  {
   "metadata": {},
   "cell_type": "code",
   "outputs": [],
   "execution_count": null,
   "source": "",
   "id": "initial_id"
  }
 ],
 "metadata": {
  "kernelspec": {
   "display_name": "Python 3",
   "language": "python",
   "name": "python3"
  },
  "language_info": {
   "codemirror_mode": {
    "name": "ipython",
    "version": 2
   },
   "file_extension": ".py",
   "mimetype": "text/x-python",
   "name": "python",
   "nbconvert_exporter": "python",
   "pygments_lexer": "ipython2",
   "version": "2.7.6"
  }
 },
 "nbformat": 4,
 "nbformat_minor": 5
}
