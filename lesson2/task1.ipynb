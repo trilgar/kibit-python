{
 "cells": [
  {
   "metadata": {},
   "cell_type": "code",
   "outputs": [],
   "execution_count": null,
   "source": [
    "\"\"\"\n",
    "Завдання:\n",
    "Навчитися працювати з базовими типами даних (str, int, float) та умовними операторами, а також створювати прості програми з використанням вводу та виводу.\n",
    "\n",
    "1. Запитайте у користувача його ім'я, вік та зріст\n",
    "2. Виведіть вітання: \"Привіт, {name}! Давайте дізнаємось кілька цікавих фактів про вас.\"\n",
    "3. Розрахуйте \"жартівливий\" факт про зріст у перший рік життя. Щось типу \"Якщо б ви росли рівномірно, то в один рік ваш зріст складав би приблизно ... см!\"\n",
    "4. Розрахуйте кількість прожитих днів\n",
    "5. Зріст у метрах\n",
    "6. Перевірте, чи є користувач повнолітнім\n",
    "\"\"\""
   ],
   "id": "e0f692bf6221415a"
  },
  {
   "metadata": {
    "ExecuteTime": {
     "end_time": "2025-01-14T20:54:38.212571Z",
     "start_time": "2025-01-14T20:54:33.570574Z"
    }
   },
   "cell_type": "code",
   "source": "",
   "id": "initial_id",
   "outputs": [
    {
     "name": "stdout",
     "output_type": "stream",
     "text": [
      "Привіт, Oleg! Давайте дізнаємось кілька цікавих фактів про вас.\n"
     ]
    }
   ],
   "execution_count": 1
  }
 ],
 "metadata": {
  "kernelspec": {
   "display_name": "Python 3",
   "language": "python",
   "name": "python3"
  },
  "language_info": {
   "codemirror_mode": {
    "name": "ipython",
    "version": 2
   },
   "file_extension": ".py",
   "mimetype": "text/x-python",
   "name": "python",
   "nbconvert_exporter": "python",
   "pygments_lexer": "ipython2",
   "version": "2.7.6"
  }
 },
 "nbformat": 4,
 "nbformat_minor": 5
}
