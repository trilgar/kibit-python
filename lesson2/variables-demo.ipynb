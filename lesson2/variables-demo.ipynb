{
 "cells": [
  {
   "cell_type": "code",
   "execution_count": null,
   "id": "initial_id",
   "metadata": {
    "collapsed": true
   },
   "outputs": [],
   "source": [
    "# Variables are used to store data in memory.\n",
    "a = 100\n",
    "b = 200\n",
    "print(a + b)"
   ]
  },
  {
   "metadata": {},
   "cell_type": "code",
   "outputs": [],
   "execution_count": null,
   "source": [
    "# Variables should start with a letter or an underscore.\n",
    "# They can contain letters, numbers and underscores.\n",
    "# They should start with a lowercase letter and written in snake_case.\n",
    "\n",
    "name = \"Alice\"\n",
    "_surname = \"Smith\"\n",
    "a_cat_with_a_very_long_name = \"Fluffyxxxxxxxxxxxxxxxxxxxxxxxxxxxx\""
   ],
   "id": "b24d786a195c2515"
  },
  {
   "metadata": {
    "ExecuteTime": {
     "end_time": "2025-01-14T20:05:09.818373Z",
     "start_time": "2025-01-14T20:05:09.813473Z"
    }
   },
   "cell_type": "code",
   "source": [
    "# There are also some reserved keywords that MUST NOT be used as variable names. You can do that, but it is not recommended.\n",
    "AssertionError = \"This variable shadows the built-in AssertionError exception variable defined in Python. Do not use that for a variable name!\"\n",
    "print(AssertionError)"
   ],
   "id": "a7c24508a1db6859",
   "outputs": [
    {
     "name": "stdout",
     "output_type": "stream",
     "text": [
      "100\n"
     ]
    }
   ],
   "execution_count": 1
  },
  {
   "metadata": {
    "ExecuteTime": {
     "end_time": "2025-01-14T20:26:40.644681Z",
     "start_time": "2025-01-14T20:26:40.641419Z"
    }
   },
   "cell_type": "code",
   "source": [
    "# You don't need to specify the type of variable in Python.\n",
    "# Python is a dynamically typed language.\n",
    "\n",
    "# Not int a = 100 , but just \n",
    "a = 100"
   ],
   "id": "4b879f868bd2c541",
   "outputs": [],
   "execution_count": 5
  },
  {
   "metadata": {
    "ExecuteTime": {
     "end_time": "2025-01-14T20:29:31.103975Z",
     "start_time": "2025-01-14T20:29:31.100336Z"
    }
   },
   "cell_type": "code",
   "source": [
    "# For variable type definition you can use type() function.\n",
    "a = 100\n",
    "b = \"Hello\"\n",
    "c = 3.14\n",
    "print(\"type of a is {}\".format(type(a)))\n",
    "print(\"type of b is {}\".format(type(b)))\n",
    "print(\"type of c is {}\".format(type(c)))"
   ],
   "id": "37ab57444f8e5648",
   "outputs": [
    {
     "name": "stdout",
     "output_type": "stream",
     "text": [
      "type of a is <class 'int'>\n",
      "type of b is <class 'str'>\n",
      "type of c is <class 'float'>\n"
     ]
    }
   ],
   "execution_count": 6
  },
  {
   "metadata": {
    "ExecuteTime": {
     "end_time": "2025-01-14T20:35:09.425863Z",
     "start_time": "2025-01-14T20:35:09.111641Z"
    }
   },
   "cell_type": "code",
   "source": [
    "# to delete a variable from memory use del keyword.\n",
    "a = 100\n",
    "print(a)\n",
    "del a\n",
    "print(a) # This will raise an error because a is deleted."
   ],
   "id": "1ac29980f7757eab",
   "outputs": [
    {
     "name": "stdout",
     "output_type": "stream",
     "text": [
      "100\n"
     ]
    },
    {
     "ename": "NameError",
     "evalue": "name 'a' is not defined",
     "output_type": "error",
     "traceback": [
      "\u001B[1;31m---------------------------------------------------------------------------\u001B[0m",
      "\u001B[1;31mNameError\u001B[0m                                 Traceback (most recent call last)",
      "Cell \u001B[1;32mIn[7], line 5\u001B[0m\n\u001B[0;32m      3\u001B[0m \u001B[38;5;28mprint\u001B[39m(a)\n\u001B[0;32m      4\u001B[0m \u001B[38;5;28;01mdel\u001B[39;00m a\n\u001B[1;32m----> 5\u001B[0m \u001B[38;5;28mprint\u001B[39m(\u001B[43ma\u001B[49m) \u001B[38;5;66;03m# This will raise an error because a is deleted.\u001B[39;00m\n",
      "\u001B[1;31mNameError\u001B[0m: name 'a' is not defined"
     ]
    }
   ],
   "execution_count": 7
  },
  {
   "metadata": {},
   "cell_type": "code",
   "outputs": [],
   "execution_count": null,
   "source": [
    "# Most common variable types are int, float, str, bool, list, tuple, dict, set.\n",
    "text = \"Hello, Python!\"\n",
    "\n",
    "integer_number = 42\n",
    "floating_number = 3.14\n",
    "complex_number = 2 + 3j\n",
    "\n",
    "boolean_value = True\n",
    "\n",
    "my_list = [1, 2, 3, \"Python\", 4.5]\n",
    "\n",
    "my_set = {1, 2, 3, \"Python\"}\n",
    "\n",
    "my_tuple = (1, 2, 3, \"Python\", 4.5)\n",
    "\n",
    "my_dict = {\"name\": \"Python\", \"version\": 3.10}"
   ],
   "id": "4e7e77c835b4afcf"
  }
 ],
 "metadata": {
  "kernelspec": {
   "display_name": "Python 3",
   "language": "python",
   "name": "python3"
  },
  "language_info": {
   "codemirror_mode": {
    "name": "ipython",
    "version": 2
   },
   "file_extension": ".py",
   "mimetype": "text/x-python",
   "name": "python",
   "nbconvert_exporter": "python",
   "pygments_lexer": "ipython2",
   "version": "2.7.6"
  }
 },
 "nbformat": 4,
 "nbformat_minor": 5
}
