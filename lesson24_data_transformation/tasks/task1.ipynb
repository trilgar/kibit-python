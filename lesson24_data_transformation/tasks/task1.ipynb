{
 "cells": [
  {
   "cell_type": "code",
   "id": "initial_id",
   "metadata": {
    "collapsed": true,
    "ExecuteTime": {
     "end_time": "2025-08-09T09:45:45.307476Z",
     "start_time": "2025-08-09T09:45:45.299349Z"
    }
   },
   "source": [
    "import numpy as np\n",
    "import pandas as pd\n",
    "\n",
    "np.random.seed(7)\n",
    "\n",
    "menu = pd.DataFrame({\n",
    "    \"dish\": [\"taco\", \"ramen\", \"falafel\", \"taco\", \"pierogi\", \"gelato\", \"falafel\"],\n",
    "    \"cuisine\": [\"mex\", \"jpn\", \"me\", \"mex\", \"pl\", \"it\", \"me\"],\n",
    "    \"label\": [\"veggie\", \"picante\", \"vegano\", \"veggie\", \"mięsne\", \"dolce\", \"vegetarian\"],\n",
    "    \"base_price\": [5.0, 9.5, 7.0, 5.0, 6.0, 4.5, 7.0]\n",
    "})"
   ],
   "outputs": [],
   "execution_count": 10
  },
  {
   "metadata": {
    "ExecuteTime": {
     "end_time": "2025-08-09T09:45:46.356519Z",
     "start_time": "2025-08-09T09:45:46.349655Z"
    }
   },
   "cell_type": "code",
   "source": "menu",
   "id": "eaed48c41f6c6276",
   "outputs": [
    {
     "data": {
      "text/plain": [
       "      dish cuisine       label  base_price\n",
       "0     taco     mex      veggie         5.0\n",
       "1    ramen     jpn     picante         9.5\n",
       "2  falafel      me      vegano         7.0\n",
       "3     taco     mex      veggie         5.0\n",
       "4  pierogi      pl      mięsne         6.0\n",
       "5   gelato      it       dolce         4.5\n",
       "6  falafel      me  vegetarian         7.0"
      ],
      "text/html": [
       "<div>\n",
       "<style scoped>\n",
       "    .dataframe tbody tr th:only-of-type {\n",
       "        vertical-align: middle;\n",
       "    }\n",
       "\n",
       "    .dataframe tbody tr th {\n",
       "        vertical-align: top;\n",
       "    }\n",
       "\n",
       "    .dataframe thead th {\n",
       "        text-align: right;\n",
       "    }\n",
       "</style>\n",
       "<table border=\"1\" class=\"dataframe\">\n",
       "  <thead>\n",
       "    <tr style=\"text-align: right;\">\n",
       "      <th></th>\n",
       "      <th>dish</th>\n",
       "      <th>cuisine</th>\n",
       "      <th>label</th>\n",
       "      <th>base_price</th>\n",
       "    </tr>\n",
       "  </thead>\n",
       "  <tbody>\n",
       "    <tr>\n",
       "      <th>0</th>\n",
       "      <td>taco</td>\n",
       "      <td>mex</td>\n",
       "      <td>veggie</td>\n",
       "      <td>5.0</td>\n",
       "    </tr>\n",
       "    <tr>\n",
       "      <th>1</th>\n",
       "      <td>ramen</td>\n",
       "      <td>jpn</td>\n",
       "      <td>picante</td>\n",
       "      <td>9.5</td>\n",
       "    </tr>\n",
       "    <tr>\n",
       "      <th>2</th>\n",
       "      <td>falafel</td>\n",
       "      <td>me</td>\n",
       "      <td>vegano</td>\n",
       "      <td>7.0</td>\n",
       "    </tr>\n",
       "    <tr>\n",
       "      <th>3</th>\n",
       "      <td>taco</td>\n",
       "      <td>mex</td>\n",
       "      <td>veggie</td>\n",
       "      <td>5.0</td>\n",
       "    </tr>\n",
       "    <tr>\n",
       "      <th>4</th>\n",
       "      <td>pierogi</td>\n",
       "      <td>pl</td>\n",
       "      <td>mięsne</td>\n",
       "      <td>6.0</td>\n",
       "    </tr>\n",
       "    <tr>\n",
       "      <th>5</th>\n",
       "      <td>gelato</td>\n",
       "      <td>it</td>\n",
       "      <td>dolce</td>\n",
       "      <td>4.5</td>\n",
       "    </tr>\n",
       "    <tr>\n",
       "      <th>6</th>\n",
       "      <td>falafel</td>\n",
       "      <td>me</td>\n",
       "      <td>vegetarian</td>\n",
       "      <td>7.0</td>\n",
       "    </tr>\n",
       "  </tbody>\n",
       "</table>\n",
       "</div>"
      ]
     },
     "execution_count": 11,
     "metadata": {},
     "output_type": "execute_result"
    }
   ],
   "execution_count": 11
  },
  {
   "metadata": {
    "ExecuteTime": {
     "end_time": "2025-08-09T09:45:48.201715Z",
     "start_time": "2025-08-09T09:45:48.196830Z"
    }
   },
   "cell_type": "code",
   "source": [
    "popularity = pd.Series([4.2, np.nan, 3.8, 4.2, 4.0, np.nan, 3.8], name=\"popularity\")\n",
    "popularity"
   ],
   "id": "3aba933490a59495",
   "outputs": [
    {
     "data": {
      "text/plain": [
       "0    4.2\n",
       "1    NaN\n",
       "2    3.8\n",
       "3    4.2\n",
       "4    4.0\n",
       "5    NaN\n",
       "6    3.8\n",
       "Name: popularity, dtype: float64"
      ]
     },
     "execution_count": 12,
     "metadata": {},
     "output_type": "execute_result"
    }
   ],
   "execution_count": 12
  },
  {
   "metadata": {
    "ExecuteTime": {
     "end_time": "2025-08-09T09:45:51.664618Z",
     "start_time": "2025-08-09T09:45:51.660228Z"
    }
   },
   "cell_type": "code",
   "source": [
    "duplicates_count = menu.duplicated().sum()\n",
    "duplicates_count"
   ],
   "id": "89da5111754df161",
   "outputs": [
    {
     "data": {
      "text/plain": [
       "np.int64(1)"
      ]
     },
     "execution_count": 13,
     "metadata": {},
     "output_type": "execute_result"
    }
   ],
   "execution_count": 13
  },
  {
   "metadata": {
    "ExecuteTime": {
     "end_time": "2025-08-09T09:45:55.250596Z",
     "start_time": "2025-08-09T09:45:55.243753Z"
    }
   },
   "cell_type": "code",
   "source": [
    "duplicates = menu[menu.duplicated()]\n",
    "duplicates"
   ],
   "id": "eccb8a854477523",
   "outputs": [
    {
     "data": {
      "text/plain": [
       "   dish cuisine   label  base_price\n",
       "3  taco     mex  veggie         5.0"
      ],
      "text/html": [
       "<div>\n",
       "<style scoped>\n",
       "    .dataframe tbody tr th:only-of-type {\n",
       "        vertical-align: middle;\n",
       "    }\n",
       "\n",
       "    .dataframe tbody tr th {\n",
       "        vertical-align: top;\n",
       "    }\n",
       "\n",
       "    .dataframe thead th {\n",
       "        text-align: right;\n",
       "    }\n",
       "</style>\n",
       "<table border=\"1\" class=\"dataframe\">\n",
       "  <thead>\n",
       "    <tr style=\"text-align: right;\">\n",
       "      <th></th>\n",
       "      <th>dish</th>\n",
       "      <th>cuisine</th>\n",
       "      <th>label</th>\n",
       "      <th>base_price</th>\n",
       "    </tr>\n",
       "  </thead>\n",
       "  <tbody>\n",
       "    <tr>\n",
       "      <th>3</th>\n",
       "      <td>taco</td>\n",
       "      <td>mex</td>\n",
       "      <td>veggie</td>\n",
       "      <td>5.0</td>\n",
       "    </tr>\n",
       "  </tbody>\n",
       "</table>\n",
       "</div>"
      ]
     },
     "execution_count": 14,
     "metadata": {},
     "output_type": "execute_result"
    }
   ],
   "execution_count": 14
  },
  {
   "metadata": {
    "ExecuteTime": {
     "end_time": "2025-08-09T09:46:00.695535Z",
     "start_time": "2025-08-09T09:46:00.687926Z"
    }
   },
   "cell_type": "code",
   "source": [
    "menu.drop_duplicates(inplace=True)\n",
    "menu"
   ],
   "id": "5d8bc3d2a567933",
   "outputs": [
    {
     "data": {
      "text/plain": [
       "      dish cuisine       label  base_price\n",
       "0     taco     mex      veggie         5.0\n",
       "1    ramen     jpn     picante         9.5\n",
       "2  falafel      me      vegano         7.0\n",
       "4  pierogi      pl      mięsne         6.0\n",
       "5   gelato      it       dolce         4.5\n",
       "6  falafel      me  vegetarian         7.0"
      ],
      "text/html": [
       "<div>\n",
       "<style scoped>\n",
       "    .dataframe tbody tr th:only-of-type {\n",
       "        vertical-align: middle;\n",
       "    }\n",
       "\n",
       "    .dataframe tbody tr th {\n",
       "        vertical-align: top;\n",
       "    }\n",
       "\n",
       "    .dataframe thead th {\n",
       "        text-align: right;\n",
       "    }\n",
       "</style>\n",
       "<table border=\"1\" class=\"dataframe\">\n",
       "  <thead>\n",
       "    <tr style=\"text-align: right;\">\n",
       "      <th></th>\n",
       "      <th>dish</th>\n",
       "      <th>cuisine</th>\n",
       "      <th>label</th>\n",
       "      <th>base_price</th>\n",
       "    </tr>\n",
       "  </thead>\n",
       "  <tbody>\n",
       "    <tr>\n",
       "      <th>0</th>\n",
       "      <td>taco</td>\n",
       "      <td>mex</td>\n",
       "      <td>veggie</td>\n",
       "      <td>5.0</td>\n",
       "    </tr>\n",
       "    <tr>\n",
       "      <th>1</th>\n",
       "      <td>ramen</td>\n",
       "      <td>jpn</td>\n",
       "      <td>picante</td>\n",
       "      <td>9.5</td>\n",
       "    </tr>\n",
       "    <tr>\n",
       "      <th>2</th>\n",
       "      <td>falafel</td>\n",
       "      <td>me</td>\n",
       "      <td>vegano</td>\n",
       "      <td>7.0</td>\n",
       "    </tr>\n",
       "    <tr>\n",
       "      <th>4</th>\n",
       "      <td>pierogi</td>\n",
       "      <td>pl</td>\n",
       "      <td>mięsne</td>\n",
       "      <td>6.0</td>\n",
       "    </tr>\n",
       "    <tr>\n",
       "      <th>5</th>\n",
       "      <td>gelato</td>\n",
       "      <td>it</td>\n",
       "      <td>dolce</td>\n",
       "      <td>4.5</td>\n",
       "    </tr>\n",
       "    <tr>\n",
       "      <th>6</th>\n",
       "      <td>falafel</td>\n",
       "      <td>me</td>\n",
       "      <td>vegetarian</td>\n",
       "      <td>7.0</td>\n",
       "    </tr>\n",
       "  </tbody>\n",
       "</table>\n",
       "</div>"
      ]
     },
     "execution_count": 15,
     "metadata": {},
     "output_type": "execute_result"
    }
   ],
   "execution_count": 15
  },
  {
   "metadata": {
    "ExecuteTime": {
     "end_time": "2025-08-09T09:46:06.754120Z",
     "start_time": "2025-08-09T09:46:06.747654Z"
    }
   },
   "cell_type": "code",
   "source": [
    "mapping = {\n",
    "    \"veggie\": \"vegetarian\",\n",
    "    \"vegano\": \"vegetarian\",\n",
    "    \"vegetarian\": \"vegetarian\",\n",
    "    \"picante\": \"spicy\",\n",
    "    \"piccante\": \"spicy\",\n",
    "    \"mięsne\": \"meat\",\n",
    "    \"dolce\": \"dessert\"\n",
    "}\n",
    "menu[\"label\"] = menu[\"label\"].replace(mapping)\n",
    "menu"
   ],
   "id": "97a2ae75b9f2e7ec",
   "outputs": [
    {
     "data": {
      "text/plain": [
       "      dish cuisine       label  base_price\n",
       "0     taco     mex  vegetarian         5.0\n",
       "1    ramen     jpn       spicy         9.5\n",
       "2  falafel      me  vegetarian         7.0\n",
       "4  pierogi      pl        meat         6.0\n",
       "5   gelato      it     dessert         4.5\n",
       "6  falafel      me  vegetarian         7.0"
      ],
      "text/html": [
       "<div>\n",
       "<style scoped>\n",
       "    .dataframe tbody tr th:only-of-type {\n",
       "        vertical-align: middle;\n",
       "    }\n",
       "\n",
       "    .dataframe tbody tr th {\n",
       "        vertical-align: top;\n",
       "    }\n",
       "\n",
       "    .dataframe thead th {\n",
       "        text-align: right;\n",
       "    }\n",
       "</style>\n",
       "<table border=\"1\" class=\"dataframe\">\n",
       "  <thead>\n",
       "    <tr style=\"text-align: right;\">\n",
       "      <th></th>\n",
       "      <th>dish</th>\n",
       "      <th>cuisine</th>\n",
       "      <th>label</th>\n",
       "      <th>base_price</th>\n",
       "    </tr>\n",
       "  </thead>\n",
       "  <tbody>\n",
       "    <tr>\n",
       "      <th>0</th>\n",
       "      <td>taco</td>\n",
       "      <td>mex</td>\n",
       "      <td>vegetarian</td>\n",
       "      <td>5.0</td>\n",
       "    </tr>\n",
       "    <tr>\n",
       "      <th>1</th>\n",
       "      <td>ramen</td>\n",
       "      <td>jpn</td>\n",
       "      <td>spicy</td>\n",
       "      <td>9.5</td>\n",
       "    </tr>\n",
       "    <tr>\n",
       "      <th>2</th>\n",
       "      <td>falafel</td>\n",
       "      <td>me</td>\n",
       "      <td>vegetarian</td>\n",
       "      <td>7.0</td>\n",
       "    </tr>\n",
       "    <tr>\n",
       "      <th>4</th>\n",
       "      <td>pierogi</td>\n",
       "      <td>pl</td>\n",
       "      <td>meat</td>\n",
       "      <td>6.0</td>\n",
       "    </tr>\n",
       "    <tr>\n",
       "      <th>5</th>\n",
       "      <td>gelato</td>\n",
       "      <td>it</td>\n",
       "      <td>dessert</td>\n",
       "      <td>4.5</td>\n",
       "    </tr>\n",
       "    <tr>\n",
       "      <th>6</th>\n",
       "      <td>falafel</td>\n",
       "      <td>me</td>\n",
       "      <td>vegetarian</td>\n",
       "      <td>7.0</td>\n",
       "    </tr>\n",
       "  </tbody>\n",
       "</table>\n",
       "</div>"
      ]
     },
     "execution_count": 16,
     "metadata": {},
     "output_type": "execute_result"
    }
   ],
   "execution_count": 16
  },
  {
   "metadata": {
    "ExecuteTime": {
     "end_time": "2025-08-09T09:46:08.221797Z",
     "start_time": "2025-08-09T09:46:08.215654Z"
    }
   },
   "cell_type": "code",
   "source": [
    "popularity = popularity.replace(np.nan, 0)\n",
    "menu[\"popularity\"] = popularity\n",
    "menu"
   ],
   "id": "df4ab455548d9f8e",
   "outputs": [
    {
     "data": {
      "text/plain": [
       "      dish cuisine       label  base_price  popularity\n",
       "0     taco     mex  vegetarian         5.0         4.2\n",
       "1    ramen     jpn       spicy         9.5         0.0\n",
       "2  falafel      me  vegetarian         7.0         3.8\n",
       "4  pierogi      pl        meat         6.0         4.0\n",
       "5   gelato      it     dessert         4.5         0.0\n",
       "6  falafel      me  vegetarian         7.0         3.8"
      ],
      "text/html": [
       "<div>\n",
       "<style scoped>\n",
       "    .dataframe tbody tr th:only-of-type {\n",
       "        vertical-align: middle;\n",
       "    }\n",
       "\n",
       "    .dataframe tbody tr th {\n",
       "        vertical-align: top;\n",
       "    }\n",
       "\n",
       "    .dataframe thead th {\n",
       "        text-align: right;\n",
       "    }\n",
       "</style>\n",
       "<table border=\"1\" class=\"dataframe\">\n",
       "  <thead>\n",
       "    <tr style=\"text-align: right;\">\n",
       "      <th></th>\n",
       "      <th>dish</th>\n",
       "      <th>cuisine</th>\n",
       "      <th>label</th>\n",
       "      <th>base_price</th>\n",
       "      <th>popularity</th>\n",
       "    </tr>\n",
       "  </thead>\n",
       "  <tbody>\n",
       "    <tr>\n",
       "      <th>0</th>\n",
       "      <td>taco</td>\n",
       "      <td>mex</td>\n",
       "      <td>vegetarian</td>\n",
       "      <td>5.0</td>\n",
       "      <td>4.2</td>\n",
       "    </tr>\n",
       "    <tr>\n",
       "      <th>1</th>\n",
       "      <td>ramen</td>\n",
       "      <td>jpn</td>\n",
       "      <td>spicy</td>\n",
       "      <td>9.5</td>\n",
       "      <td>0.0</td>\n",
       "    </tr>\n",
       "    <tr>\n",
       "      <th>2</th>\n",
       "      <td>falafel</td>\n",
       "      <td>me</td>\n",
       "      <td>vegetarian</td>\n",
       "      <td>7.0</td>\n",
       "      <td>3.8</td>\n",
       "    </tr>\n",
       "    <tr>\n",
       "      <th>4</th>\n",
       "      <td>pierogi</td>\n",
       "      <td>pl</td>\n",
       "      <td>meat</td>\n",
       "      <td>6.0</td>\n",
       "      <td>4.0</td>\n",
       "    </tr>\n",
       "    <tr>\n",
       "      <th>5</th>\n",
       "      <td>gelato</td>\n",
       "      <td>it</td>\n",
       "      <td>dessert</td>\n",
       "      <td>4.5</td>\n",
       "      <td>0.0</td>\n",
       "    </tr>\n",
       "    <tr>\n",
       "      <th>6</th>\n",
       "      <td>falafel</td>\n",
       "      <td>me</td>\n",
       "      <td>vegetarian</td>\n",
       "      <td>7.0</td>\n",
       "      <td>3.8</td>\n",
       "    </tr>\n",
       "  </tbody>\n",
       "</table>\n",
       "</div>"
      ]
     },
     "execution_count": 17,
     "metadata": {},
     "output_type": "execute_result"
    }
   ],
   "execution_count": 17
  },
  {
   "metadata": {
    "ExecuteTime": {
     "end_time": "2025-08-09T09:48:06.367132Z",
     "start_time": "2025-08-09T09:48:06.342336Z"
    }
   },
   "cell_type": "code",
   "source": [
    "service_fee_dict = {\"mex\": 1.5, \"jpn\": 2.0, \"me\": 1.0, \"pl\": 0.8, \"it\": 1.2}\n",
    "menu[\"service_fee\"] = menu[\"cuisine\"].map(service_fee_dict)\n",
    "menu[\"final_price\"] = menu[\"base_price\"] + menu[\"service_fee\"]\n",
    "menu"
   ],
   "id": "9db5bb25f0bbb678",
   "outputs": [
    {
     "data": {
      "text/plain": [
       "      dish cuisine       label  base_price  popularity  service_fee  \\\n",
       "0     taco     mex  vegetarian         5.0         4.2          1.5   \n",
       "1    ramen     jpn       spicy         9.5         0.0          2.0   \n",
       "2  falafel      me  vegetarian         7.0         3.8          1.0   \n",
       "4  pierogi      pl        meat         6.0         4.0          0.8   \n",
       "5   gelato      it     dessert         4.5         0.0          1.2   \n",
       "6  falafel      me  vegetarian         7.0         3.8          1.0   \n",
       "\n",
       "   final_price  \n",
       "0          6.5  \n",
       "1         11.5  \n",
       "2          8.0  \n",
       "4          6.8  \n",
       "5          5.7  \n",
       "6          8.0  "
      ],
      "text/html": [
       "<div>\n",
       "<style scoped>\n",
       "    .dataframe tbody tr th:only-of-type {\n",
       "        vertical-align: middle;\n",
       "    }\n",
       "\n",
       "    .dataframe tbody tr th {\n",
       "        vertical-align: top;\n",
       "    }\n",
       "\n",
       "    .dataframe thead th {\n",
       "        text-align: right;\n",
       "    }\n",
       "</style>\n",
       "<table border=\"1\" class=\"dataframe\">\n",
       "  <thead>\n",
       "    <tr style=\"text-align: right;\">\n",
       "      <th></th>\n",
       "      <th>dish</th>\n",
       "      <th>cuisine</th>\n",
       "      <th>label</th>\n",
       "      <th>base_price</th>\n",
       "      <th>popularity</th>\n",
       "      <th>service_fee</th>\n",
       "      <th>final_price</th>\n",
       "    </tr>\n",
       "  </thead>\n",
       "  <tbody>\n",
       "    <tr>\n",
       "      <th>0</th>\n",
       "      <td>taco</td>\n",
       "      <td>mex</td>\n",
       "      <td>vegetarian</td>\n",
       "      <td>5.0</td>\n",
       "      <td>4.2</td>\n",
       "      <td>1.5</td>\n",
       "      <td>6.5</td>\n",
       "    </tr>\n",
       "    <tr>\n",
       "      <th>1</th>\n",
       "      <td>ramen</td>\n",
       "      <td>jpn</td>\n",
       "      <td>spicy</td>\n",
       "      <td>9.5</td>\n",
       "      <td>0.0</td>\n",
       "      <td>2.0</td>\n",
       "      <td>11.5</td>\n",
       "    </tr>\n",
       "    <tr>\n",
       "      <th>2</th>\n",
       "      <td>falafel</td>\n",
       "      <td>me</td>\n",
       "      <td>vegetarian</td>\n",
       "      <td>7.0</td>\n",
       "      <td>3.8</td>\n",
       "      <td>1.0</td>\n",
       "      <td>8.0</td>\n",
       "    </tr>\n",
       "    <tr>\n",
       "      <th>4</th>\n",
       "      <td>pierogi</td>\n",
       "      <td>pl</td>\n",
       "      <td>meat</td>\n",
       "      <td>6.0</td>\n",
       "      <td>4.0</td>\n",
       "      <td>0.8</td>\n",
       "      <td>6.8</td>\n",
       "    </tr>\n",
       "    <tr>\n",
       "      <th>5</th>\n",
       "      <td>gelato</td>\n",
       "      <td>it</td>\n",
       "      <td>dessert</td>\n",
       "      <td>4.5</td>\n",
       "      <td>0.0</td>\n",
       "      <td>1.2</td>\n",
       "      <td>5.7</td>\n",
       "    </tr>\n",
       "    <tr>\n",
       "      <th>6</th>\n",
       "      <td>falafel</td>\n",
       "      <td>me</td>\n",
       "      <td>vegetarian</td>\n",
       "      <td>7.0</td>\n",
       "      <td>3.8</td>\n",
       "      <td>1.0</td>\n",
       "      <td>8.0</td>\n",
       "    </tr>\n",
       "  </tbody>\n",
       "</table>\n",
       "</div>"
      ]
     },
     "execution_count": 18,
     "metadata": {},
     "output_type": "execute_result"
    }
   ],
   "execution_count": 18
  },
  {
   "metadata": {
    "ExecuteTime": {
     "end_time": "2025-08-09T09:51:35.003600Z",
     "start_time": "2025-08-09T09:51:34.995160Z"
    }
   },
   "cell_type": "code",
   "source": [
    "menu = menu.rename(columns={\"dish\": \"item\"})\n",
    "index_dict = {i: f\"r{i:03d}\" for i in range(0, len(menu) + 1)}\n",
    "menu = menu.rename(columns={\"base_price\": \"price_base\"}, index=index_dict)"
   ],
   "id": "457fc278f03632af",
   "outputs": [],
   "execution_count": 21
  },
  {
   "metadata": {
    "ExecuteTime": {
     "end_time": "2025-08-09T09:51:36.695722Z",
     "start_time": "2025-08-09T09:51:36.688668Z"
    }
   },
   "cell_type": "code",
   "source": [
    "menu\n",
    "#"
   ],
   "id": "faa63530be0a87ec",
   "outputs": [
    {
     "data": {
      "text/plain": [
       "         item cuisine       label  price_base  popularity  service_fee  \\\n",
       "r000     taco     mex  vegetarian         5.0         4.2          1.5   \n",
       "r001    ramen     jpn       spicy         9.5         0.0          2.0   \n",
       "r002  falafel      me  vegetarian         7.0         3.8          1.0   \n",
       "r004  pierogi      pl        meat         6.0         4.0          0.8   \n",
       "r005   gelato      it     dessert         4.5         0.0          1.2   \n",
       "r006  falafel      me  vegetarian         7.0         3.8          1.0   \n",
       "\n",
       "      final_price  \n",
       "r000          6.5  \n",
       "r001         11.5  \n",
       "r002          8.0  \n",
       "r004          6.8  \n",
       "r005          5.7  \n",
       "r006          8.0  "
      ],
      "text/html": [
       "<div>\n",
       "<style scoped>\n",
       "    .dataframe tbody tr th:only-of-type {\n",
       "        vertical-align: middle;\n",
       "    }\n",
       "\n",
       "    .dataframe tbody tr th {\n",
       "        vertical-align: top;\n",
       "    }\n",
       "\n",
       "    .dataframe thead th {\n",
       "        text-align: right;\n",
       "    }\n",
       "</style>\n",
       "<table border=\"1\" class=\"dataframe\">\n",
       "  <thead>\n",
       "    <tr style=\"text-align: right;\">\n",
       "      <th></th>\n",
       "      <th>item</th>\n",
       "      <th>cuisine</th>\n",
       "      <th>label</th>\n",
       "      <th>price_base</th>\n",
       "      <th>popularity</th>\n",
       "      <th>service_fee</th>\n",
       "      <th>final_price</th>\n",
       "    </tr>\n",
       "  </thead>\n",
       "  <tbody>\n",
       "    <tr>\n",
       "      <th>r000</th>\n",
       "      <td>taco</td>\n",
       "      <td>mex</td>\n",
       "      <td>vegetarian</td>\n",
       "      <td>5.0</td>\n",
       "      <td>4.2</td>\n",
       "      <td>1.5</td>\n",
       "      <td>6.5</td>\n",
       "    </tr>\n",
       "    <tr>\n",
       "      <th>r001</th>\n",
       "      <td>ramen</td>\n",
       "      <td>jpn</td>\n",
       "      <td>spicy</td>\n",
       "      <td>9.5</td>\n",
       "      <td>0.0</td>\n",
       "      <td>2.0</td>\n",
       "      <td>11.5</td>\n",
       "    </tr>\n",
       "    <tr>\n",
       "      <th>r002</th>\n",
       "      <td>falafel</td>\n",
       "      <td>me</td>\n",
       "      <td>vegetarian</td>\n",
       "      <td>7.0</td>\n",
       "      <td>3.8</td>\n",
       "      <td>1.0</td>\n",
       "      <td>8.0</td>\n",
       "    </tr>\n",
       "    <tr>\n",
       "      <th>r004</th>\n",
       "      <td>pierogi</td>\n",
       "      <td>pl</td>\n",
       "      <td>meat</td>\n",
       "      <td>6.0</td>\n",
       "      <td>4.0</td>\n",
       "      <td>0.8</td>\n",
       "      <td>6.8</td>\n",
       "    </tr>\n",
       "    <tr>\n",
       "      <th>r005</th>\n",
       "      <td>gelato</td>\n",
       "      <td>it</td>\n",
       "      <td>dessert</td>\n",
       "      <td>4.5</td>\n",
       "      <td>0.0</td>\n",
       "      <td>1.2</td>\n",
       "      <td>5.7</td>\n",
       "    </tr>\n",
       "    <tr>\n",
       "      <th>r006</th>\n",
       "      <td>falafel</td>\n",
       "      <td>me</td>\n",
       "      <td>vegetarian</td>\n",
       "      <td>7.0</td>\n",
       "      <td>3.8</td>\n",
       "      <td>1.0</td>\n",
       "      <td>8.0</td>\n",
       "    </tr>\n",
       "  </tbody>\n",
       "</table>\n",
       "</div>"
      ]
     },
     "execution_count": 22,
     "metadata": {},
     "output_type": "execute_result"
    }
   ],
   "execution_count": 22
  }
 ],
 "metadata": {
  "kernelspec": {
   "display_name": "Python 3",
   "language": "python",
   "name": "python3"
  },
  "language_info": {
   "codemirror_mode": {
    "name": "ipython",
    "version": 2
   },
   "file_extension": ".py",
   "mimetype": "text/x-python",
   "name": "python",
   "nbconvert_exporter": "python",
   "pygments_lexer": "ipython2",
   "version": "2.7.6"
  }
 },
 "nbformat": 4,
 "nbformat_minor": 5
}
