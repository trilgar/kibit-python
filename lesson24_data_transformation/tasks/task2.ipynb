{
 "cells": [
  {
   "cell_type": "code",
   "id": "initial_id",
   "metadata": {
    "collapsed": true,
    "ExecuteTime": {
     "end_time": "2025-08-09T11:18:39.177126Z",
     "start_time": "2025-08-09T11:18:39.161784Z"
    }
   },
   "source": [
    "import numpy as np\n",
    "import pandas as pd\n",
    "from numpy.random import permutation\n",
    "\n",
    "np.random.seed(2025)\n",
    "\n",
    "# 25 показників \"якість сигналу\" у діапазоні 0–100 (реальні числа)\n",
    "results = list(np.round(np.random.uniform(0, 100, size=25), 1))\n",
    "# контрольні значення на межах інтервалів\n",
    "results.extend([0.0, 25.0, 50.0, 75.0, 100.0])\n",
    "\n",
    "# 1200 випадкових вимірювань по трьох осях (із кількома штучними викидами)\n",
    "randframe = pd.DataFrame(np.random.randn(1200, 3), columns=['ax', 'ay', 'az'])\n",
    "randframe.loc[[99, 777], 'ay'] = [6.5, -7.0]   # extreme\n",
    "randframe.loc[321, 'az'] = 8.2\n",
    "\n",
    "# Невелика таблиця для перестановок/семплінгу\n",
    "nframe = pd.DataFrame(np.arange(30).reshape(6, 5), columns=list('ABCDE'))"
   ],
   "outputs": [],
   "execution_count": 46
  },
  {
   "metadata": {
    "ExecuteTime": {
     "end_time": "2025-08-09T11:18:39.189779Z",
     "start_time": "2025-08-09T11:18:39.184161Z"
    }
   },
   "cell_type": "code",
   "source": "randframe",
   "id": "e4a8857c972b69ec",
   "outputs": [
    {
     "data": {
      "text/plain": [
       "            ax        ay        az\n",
       "0    -0.049538  0.099418 -1.212462\n",
       "1     0.069020  0.007183  0.268326\n",
       "2    -0.259820 -1.803209  0.129280\n",
       "3     0.080078  0.680031 -0.169539\n",
       "4     1.419880 -0.001824 -0.043246\n",
       "...        ...       ...       ...\n",
       "1195  0.474469 -1.262630 -2.181257\n",
       "1196  0.217057 -1.565543 -0.322148\n",
       "1197  1.236125  0.619358 -1.164810\n",
       "1198 -0.703357  0.746462 -1.157144\n",
       "1199  0.197904 -0.304615 -1.193810\n",
       "\n",
       "[1200 rows x 3 columns]"
      ],
      "text/html": [
       "<div>\n",
       "<style scoped>\n",
       "    .dataframe tbody tr th:only-of-type {\n",
       "        vertical-align: middle;\n",
       "    }\n",
       "\n",
       "    .dataframe tbody tr th {\n",
       "        vertical-align: top;\n",
       "    }\n",
       "\n",
       "    .dataframe thead th {\n",
       "        text-align: right;\n",
       "    }\n",
       "</style>\n",
       "<table border=\"1\" class=\"dataframe\">\n",
       "  <thead>\n",
       "    <tr style=\"text-align: right;\">\n",
       "      <th></th>\n",
       "      <th>ax</th>\n",
       "      <th>ay</th>\n",
       "      <th>az</th>\n",
       "    </tr>\n",
       "  </thead>\n",
       "  <tbody>\n",
       "    <tr>\n",
       "      <th>0</th>\n",
       "      <td>-0.049538</td>\n",
       "      <td>0.099418</td>\n",
       "      <td>-1.212462</td>\n",
       "    </tr>\n",
       "    <tr>\n",
       "      <th>1</th>\n",
       "      <td>0.069020</td>\n",
       "      <td>0.007183</td>\n",
       "      <td>0.268326</td>\n",
       "    </tr>\n",
       "    <tr>\n",
       "      <th>2</th>\n",
       "      <td>-0.259820</td>\n",
       "      <td>-1.803209</td>\n",
       "      <td>0.129280</td>\n",
       "    </tr>\n",
       "    <tr>\n",
       "      <th>3</th>\n",
       "      <td>0.080078</td>\n",
       "      <td>0.680031</td>\n",
       "      <td>-0.169539</td>\n",
       "    </tr>\n",
       "    <tr>\n",
       "      <th>4</th>\n",
       "      <td>1.419880</td>\n",
       "      <td>-0.001824</td>\n",
       "      <td>-0.043246</td>\n",
       "    </tr>\n",
       "    <tr>\n",
       "      <th>...</th>\n",
       "      <td>...</td>\n",
       "      <td>...</td>\n",
       "      <td>...</td>\n",
       "    </tr>\n",
       "    <tr>\n",
       "      <th>1195</th>\n",
       "      <td>0.474469</td>\n",
       "      <td>-1.262630</td>\n",
       "      <td>-2.181257</td>\n",
       "    </tr>\n",
       "    <tr>\n",
       "      <th>1196</th>\n",
       "      <td>0.217057</td>\n",
       "      <td>-1.565543</td>\n",
       "      <td>-0.322148</td>\n",
       "    </tr>\n",
       "    <tr>\n",
       "      <th>1197</th>\n",
       "      <td>1.236125</td>\n",
       "      <td>0.619358</td>\n",
       "      <td>-1.164810</td>\n",
       "    </tr>\n",
       "    <tr>\n",
       "      <th>1198</th>\n",
       "      <td>-0.703357</td>\n",
       "      <td>0.746462</td>\n",
       "      <td>-1.157144</td>\n",
       "    </tr>\n",
       "    <tr>\n",
       "      <th>1199</th>\n",
       "      <td>0.197904</td>\n",
       "      <td>-0.304615</td>\n",
       "      <td>-1.193810</td>\n",
       "    </tr>\n",
       "  </tbody>\n",
       "</table>\n",
       "<p>1200 rows × 3 columns</p>\n",
       "</div>"
      ]
     },
     "execution_count": 47,
     "metadata": {},
     "output_type": "execute_result"
    }
   ],
   "execution_count": 47
  },
  {
   "metadata": {
    "ExecuteTime": {
     "end_time": "2025-08-09T11:18:39.227264Z",
     "start_time": "2025-08-09T11:18:39.223590Z"
    }
   },
   "cell_type": "code",
   "source": "nframe",
   "id": "7e4da662233bb340",
   "outputs": [
    {
     "data": {
      "text/plain": [
       "    A   B   C   D   E\n",
       "0   0   1   2   3   4\n",
       "1   5   6   7   8   9\n",
       "2  10  11  12  13  14\n",
       "3  15  16  17  18  19\n",
       "4  20  21  22  23  24\n",
       "5  25  26  27  28  29"
      ],
      "text/html": [
       "<div>\n",
       "<style scoped>\n",
       "    .dataframe tbody tr th:only-of-type {\n",
       "        vertical-align: middle;\n",
       "    }\n",
       "\n",
       "    .dataframe tbody tr th {\n",
       "        vertical-align: top;\n",
       "    }\n",
       "\n",
       "    .dataframe thead th {\n",
       "        text-align: right;\n",
       "    }\n",
       "</style>\n",
       "<table border=\"1\" class=\"dataframe\">\n",
       "  <thead>\n",
       "    <tr style=\"text-align: right;\">\n",
       "      <th></th>\n",
       "      <th>A</th>\n",
       "      <th>B</th>\n",
       "      <th>C</th>\n",
       "      <th>D</th>\n",
       "      <th>E</th>\n",
       "    </tr>\n",
       "  </thead>\n",
       "  <tbody>\n",
       "    <tr>\n",
       "      <th>0</th>\n",
       "      <td>0</td>\n",
       "      <td>1</td>\n",
       "      <td>2</td>\n",
       "      <td>3</td>\n",
       "      <td>4</td>\n",
       "    </tr>\n",
       "    <tr>\n",
       "      <th>1</th>\n",
       "      <td>5</td>\n",
       "      <td>6</td>\n",
       "      <td>7</td>\n",
       "      <td>8</td>\n",
       "      <td>9</td>\n",
       "    </tr>\n",
       "    <tr>\n",
       "      <th>2</th>\n",
       "      <td>10</td>\n",
       "      <td>11</td>\n",
       "      <td>12</td>\n",
       "      <td>13</td>\n",
       "      <td>14</td>\n",
       "    </tr>\n",
       "    <tr>\n",
       "      <th>3</th>\n",
       "      <td>15</td>\n",
       "      <td>16</td>\n",
       "      <td>17</td>\n",
       "      <td>18</td>\n",
       "      <td>19</td>\n",
       "    </tr>\n",
       "    <tr>\n",
       "      <th>4</th>\n",
       "      <td>20</td>\n",
       "      <td>21</td>\n",
       "      <td>22</td>\n",
       "      <td>23</td>\n",
       "      <td>24</td>\n",
       "    </tr>\n",
       "    <tr>\n",
       "      <th>5</th>\n",
       "      <td>25</td>\n",
       "      <td>26</td>\n",
       "      <td>27</td>\n",
       "      <td>28</td>\n",
       "      <td>29</td>\n",
       "    </tr>\n",
       "  </tbody>\n",
       "</table>\n",
       "</div>"
      ]
     },
     "execution_count": 48,
     "metadata": {},
     "output_type": "execute_result"
    }
   ],
   "execution_count": 48
  },
  {
   "metadata": {
    "ExecuteTime": {
     "end_time": "2025-08-09T11:18:39.280596Z",
     "start_time": "2025-08-09T11:18:39.276786Z"
    }
   },
   "cell_type": "code",
   "source": [
    "edges = [0, 25, 50, 75, 100]\n",
    "cat = pd.cut(results, edges, include_lowest=True, right=False)\n",
    "cat"
   ],
   "id": "4089176b088c32e9",
   "outputs": [
    {
     "data": {
      "text/plain": [
       "[[0, 25), [75, 100), [75, 100), [25, 50), [25, 50), ..., [0.0, 25.0), [25.0, 50.0), [50.0, 75.0), [75.0, 100.0), NaN]\n",
       "Length: 30\n",
       "Categories (4, interval[int64, left]): [[0, 25) < [25, 50) < [50, 75) < [75, 100)]"
      ]
     },
     "execution_count": 49,
     "metadata": {},
     "output_type": "execute_result"
    }
   ],
   "execution_count": 49
  },
  {
   "metadata": {
    "ExecuteTime": {
     "end_time": "2025-08-09T11:18:39.348574Z",
     "start_time": "2025-08-09T11:18:39.345999Z"
    }
   },
   "cell_type": "code",
   "source": "cat.categories",
   "id": "df2cda84dfb8fdd7",
   "outputs": [
    {
     "data": {
      "text/plain": [
       "IntervalIndex([[0, 25), [25, 50), [50, 75), [75, 100)], dtype='interval[int64, left]')"
      ]
     },
     "execution_count": 50,
     "metadata": {},
     "output_type": "execute_result"
    }
   ],
   "execution_count": 50
  },
  {
   "metadata": {
    "ExecuteTime": {
     "end_time": "2025-08-09T11:18:39.412684Z",
     "start_time": "2025-08-09T11:18:39.410344Z"
    }
   },
   "cell_type": "code",
   "source": "cat.codes",
   "id": "908def20a45869f2",
   "outputs": [
    {
     "data": {
      "text/plain": [
       "array([ 0,  3,  3,  1,  1,  1,  2,  1,  3,  3,  1,  3,  0,  3,  0,  1,  2,\n",
       "        3,  1,  0,  2,  3,  1,  0,  3,  0,  1,  2,  3, -1], dtype=int8)"
      ]
     },
     "execution_count": 51,
     "metadata": {},
     "output_type": "execute_result"
    }
   ],
   "execution_count": 51
  },
  {
   "metadata": {
    "ExecuteTime": {
     "end_time": "2025-08-09T11:18:39.439539Z",
     "start_time": "2025-08-09T11:18:39.436207Z"
    }
   },
   "cell_type": "code",
   "source": "cat.value_counts()",
   "id": "cf2b2cae7a16d925",
   "outputs": [
    {
     "data": {
      "text/plain": [
       "[0, 25)       6\n",
       "[25, 50)      9\n",
       "[50, 75)      4\n",
       "[75, 100)    10\n",
       "Name: count, dtype: int64"
      ]
     },
     "execution_count": 52,
     "metadata": {},
     "output_type": "execute_result"
    }
   ],
   "execution_count": 52
  },
  {
   "metadata": {
    "ExecuteTime": {
     "end_time": "2025-08-09T11:18:39.473037Z",
     "start_time": "2025-08-09T11:18:39.469432Z"
    }
   },
   "cell_type": "code",
   "source": [
    "labels = ['low', 'mid-low', 'mid-high', 'high']\n",
    "cat_named = pd.cut(results, edges, include_lowest=True, right=False, labels=labels)\n",
    "pd.Series(cat_named)"
   ],
   "id": "6d2c5b209725f14f",
   "outputs": [
    {
     "data": {
      "text/plain": [
       "0          low\n",
       "1         high\n",
       "2         high\n",
       "3      mid-low\n",
       "4      mid-low\n",
       "5      mid-low\n",
       "6     mid-high\n",
       "7      mid-low\n",
       "8         high\n",
       "9         high\n",
       "10     mid-low\n",
       "11        high\n",
       "12         low\n",
       "13        high\n",
       "14         low\n",
       "15     mid-low\n",
       "16    mid-high\n",
       "17        high\n",
       "18     mid-low\n",
       "19         low\n",
       "20    mid-high\n",
       "21        high\n",
       "22     mid-low\n",
       "23         low\n",
       "24        high\n",
       "25         low\n",
       "26     mid-low\n",
       "27    mid-high\n",
       "28        high\n",
       "29         NaN\n",
       "dtype: category\n",
       "Categories (4, object): ['low' < 'mid-low' < 'mid-high' < 'high']"
      ]
     },
     "execution_count": 53,
     "metadata": {},
     "output_type": "execute_result"
    }
   ],
   "execution_count": 53
  },
  {
   "metadata": {
    "ExecuteTime": {
     "end_time": "2025-08-09T11:18:39.517424Z",
     "start_time": "2025-08-09T11:18:39.512995Z"
    }
   },
   "cell_type": "code",
   "source": [
    "cat_qcut = pd.Series(pd.qcut(results, 4, duplicates='drop'))\n",
    "cat_qcut"
   ],
   "id": "f668e6cd524594a0",
   "outputs": [
    {
     "data": {
      "text/plain": [
       "0     (-0.001, 26.675]\n",
       "1        (80.1, 100.0]\n",
       "2        (80.1, 100.0]\n",
       "3      (26.675, 49.65]\n",
       "4      (26.675, 49.65]\n",
       "5     (-0.001, 26.675]\n",
       "6        (49.65, 80.1]\n",
       "7      (26.675, 49.65]\n",
       "8        (80.1, 100.0]\n",
       "9        (49.65, 80.1]\n",
       "10     (26.675, 49.65]\n",
       "11       (49.65, 80.1]\n",
       "12    (-0.001, 26.675]\n",
       "13       (49.65, 80.1]\n",
       "14    (-0.001, 26.675]\n",
       "15     (26.675, 49.65]\n",
       "16       (49.65, 80.1]\n",
       "17       (80.1, 100.0]\n",
       "18     (26.675, 49.65]\n",
       "19    (-0.001, 26.675]\n",
       "20       (49.65, 80.1]\n",
       "21       (80.1, 100.0]\n",
       "22     (26.675, 49.65]\n",
       "23    (-0.001, 26.675]\n",
       "24       (80.1, 100.0]\n",
       "25    (-0.001, 26.675]\n",
       "26    (-0.001, 26.675]\n",
       "27       (49.65, 80.1]\n",
       "28       (49.65, 80.1]\n",
       "29       (80.1, 100.0]\n",
       "dtype: category\n",
       "Categories (4, interval[float64, right]): [(-0.001, 26.675] < (26.675, 49.65] < (49.65, 80.1] < (80.1, 100.0]]"
      ]
     },
     "execution_count": 54,
     "metadata": {},
     "output_type": "execute_result"
    }
   ],
   "execution_count": 54
  },
  {
   "metadata": {
    "ExecuteTime": {
     "end_time": "2025-08-09T11:18:39.621778Z",
     "start_time": "2025-08-09T11:18:39.618601Z"
    }
   },
   "cell_type": "code",
   "source": "cat_qcut.value_counts()",
   "id": "f9634c77a645f161",
   "outputs": [
    {
     "data": {
      "text/plain": [
       "(-0.001, 26.675]    8\n",
       "(49.65, 80.1]       8\n",
       "(26.675, 49.65]     7\n",
       "(80.1, 100.0]       7\n",
       "Name: count, dtype: int64"
      ]
     },
     "execution_count": 55,
     "metadata": {},
     "output_type": "execute_result"
    }
   ],
   "execution_count": 55
  },
  {
   "metadata": {
    "ExecuteTime": {
     "end_time": "2025-08-09T11:18:39.690268Z",
     "start_time": "2025-08-09T11:18:39.684516Z"
    }
   },
   "cell_type": "code",
   "source": "randframe.describe()",
   "id": "fd5ab8de4bf532fe",
   "outputs": [
    {
     "data": {
      "text/plain": [
       "                ax           ay           az\n",
       "count  1200.000000  1200.000000  1200.000000\n",
       "mean     -0.018509    -0.023660     0.049737\n",
       "std       1.006631     1.030968     1.038295\n",
       "min      -3.586499    -7.000000    -3.903772\n",
       "25%      -0.696465    -0.688818    -0.608959\n",
       "50%      -0.004205    -0.027693     0.056776\n",
       "75%       0.693865     0.651293     0.713963\n",
       "max       3.249025     6.500000     8.200000"
      ],
      "text/html": [
       "<div>\n",
       "<style scoped>\n",
       "    .dataframe tbody tr th:only-of-type {\n",
       "        vertical-align: middle;\n",
       "    }\n",
       "\n",
       "    .dataframe tbody tr th {\n",
       "        vertical-align: top;\n",
       "    }\n",
       "\n",
       "    .dataframe thead th {\n",
       "        text-align: right;\n",
       "    }\n",
       "</style>\n",
       "<table border=\"1\" class=\"dataframe\">\n",
       "  <thead>\n",
       "    <tr style=\"text-align: right;\">\n",
       "      <th></th>\n",
       "      <th>ax</th>\n",
       "      <th>ay</th>\n",
       "      <th>az</th>\n",
       "    </tr>\n",
       "  </thead>\n",
       "  <tbody>\n",
       "    <tr>\n",
       "      <th>count</th>\n",
       "      <td>1200.000000</td>\n",
       "      <td>1200.000000</td>\n",
       "      <td>1200.000000</td>\n",
       "    </tr>\n",
       "    <tr>\n",
       "      <th>mean</th>\n",
       "      <td>-0.018509</td>\n",
       "      <td>-0.023660</td>\n",
       "      <td>0.049737</td>\n",
       "    </tr>\n",
       "    <tr>\n",
       "      <th>std</th>\n",
       "      <td>1.006631</td>\n",
       "      <td>1.030968</td>\n",
       "      <td>1.038295</td>\n",
       "    </tr>\n",
       "    <tr>\n",
       "      <th>min</th>\n",
       "      <td>-3.586499</td>\n",
       "      <td>-7.000000</td>\n",
       "      <td>-3.903772</td>\n",
       "    </tr>\n",
       "    <tr>\n",
       "      <th>25%</th>\n",
       "      <td>-0.696465</td>\n",
       "      <td>-0.688818</td>\n",
       "      <td>-0.608959</td>\n",
       "    </tr>\n",
       "    <tr>\n",
       "      <th>50%</th>\n",
       "      <td>-0.004205</td>\n",
       "      <td>-0.027693</td>\n",
       "      <td>0.056776</td>\n",
       "    </tr>\n",
       "    <tr>\n",
       "      <th>75%</th>\n",
       "      <td>0.693865</td>\n",
       "      <td>0.651293</td>\n",
       "      <td>0.713963</td>\n",
       "    </tr>\n",
       "    <tr>\n",
       "      <th>max</th>\n",
       "      <td>3.249025</td>\n",
       "      <td>6.500000</td>\n",
       "      <td>8.200000</td>\n",
       "    </tr>\n",
       "  </tbody>\n",
       "</table>\n",
       "</div>"
      ]
     },
     "execution_count": 56,
     "metadata": {},
     "output_type": "execute_result"
    }
   ],
   "execution_count": 56
  },
  {
   "metadata": {
    "ExecuteTime": {
     "end_time": "2025-08-09T11:18:39.748512Z",
     "start_time": "2025-08-09T11:18:39.746597Z"
    }
   },
   "cell_type": "code",
   "source": "std = randframe.std()",
   "id": "88878f881cc97fd3",
   "outputs": [],
   "execution_count": 57
  },
  {
   "metadata": {
    "ExecuteTime": {
     "end_time": "2025-08-09T11:18:39.803927Z",
     "start_time": "2025-08-09T11:18:39.799182Z"
    }
   },
   "cell_type": "code",
   "source": [
    "outliers = randframe[(np.abs(randframe) > (3 * std)).any(axis=1)]\n",
    "outliers"
   ],
   "id": "29234c4ee2e63049",
   "outputs": [
    {
     "data": {
      "text/plain": [
       "            ax        ay        az\n",
       "99    0.725209  6.500000 -0.122689\n",
       "141   0.644094  3.093397  0.280416\n",
       "321   0.795250 -0.149737  8.200000\n",
       "331  -0.323533  3.171714 -0.606823\n",
       "447  -0.438246  0.753566 -3.903772\n",
       "488   2.621531 -1.078721 -3.218680\n",
       "630  -3.586499 -0.604186  0.836046\n",
       "706  -0.268785 -1.877115 -3.286758\n",
       "777   0.768249 -7.000000 -0.593741\n",
       "984   3.249025 -2.222199 -2.128120\n",
       "997   0.069392 -3.125968  2.520048\n",
       "1079  3.119393 -0.365548  1.273481\n",
       "1164  1.041390 -3.093253 -0.772238"
      ],
      "text/html": [
       "<div>\n",
       "<style scoped>\n",
       "    .dataframe tbody tr th:only-of-type {\n",
       "        vertical-align: middle;\n",
       "    }\n",
       "\n",
       "    .dataframe tbody tr th {\n",
       "        vertical-align: top;\n",
       "    }\n",
       "\n",
       "    .dataframe thead th {\n",
       "        text-align: right;\n",
       "    }\n",
       "</style>\n",
       "<table border=\"1\" class=\"dataframe\">\n",
       "  <thead>\n",
       "    <tr style=\"text-align: right;\">\n",
       "      <th></th>\n",
       "      <th>ax</th>\n",
       "      <th>ay</th>\n",
       "      <th>az</th>\n",
       "    </tr>\n",
       "  </thead>\n",
       "  <tbody>\n",
       "    <tr>\n",
       "      <th>99</th>\n",
       "      <td>0.725209</td>\n",
       "      <td>6.500000</td>\n",
       "      <td>-0.122689</td>\n",
       "    </tr>\n",
       "    <tr>\n",
       "      <th>141</th>\n",
       "      <td>0.644094</td>\n",
       "      <td>3.093397</td>\n",
       "      <td>0.280416</td>\n",
       "    </tr>\n",
       "    <tr>\n",
       "      <th>321</th>\n",
       "      <td>0.795250</td>\n",
       "      <td>-0.149737</td>\n",
       "      <td>8.200000</td>\n",
       "    </tr>\n",
       "    <tr>\n",
       "      <th>331</th>\n",
       "      <td>-0.323533</td>\n",
       "      <td>3.171714</td>\n",
       "      <td>-0.606823</td>\n",
       "    </tr>\n",
       "    <tr>\n",
       "      <th>447</th>\n",
       "      <td>-0.438246</td>\n",
       "      <td>0.753566</td>\n",
       "      <td>-3.903772</td>\n",
       "    </tr>\n",
       "    <tr>\n",
       "      <th>488</th>\n",
       "      <td>2.621531</td>\n",
       "      <td>-1.078721</td>\n",
       "      <td>-3.218680</td>\n",
       "    </tr>\n",
       "    <tr>\n",
       "      <th>630</th>\n",
       "      <td>-3.586499</td>\n",
       "      <td>-0.604186</td>\n",
       "      <td>0.836046</td>\n",
       "    </tr>\n",
       "    <tr>\n",
       "      <th>706</th>\n",
       "      <td>-0.268785</td>\n",
       "      <td>-1.877115</td>\n",
       "      <td>-3.286758</td>\n",
       "    </tr>\n",
       "    <tr>\n",
       "      <th>777</th>\n",
       "      <td>0.768249</td>\n",
       "      <td>-7.000000</td>\n",
       "      <td>-0.593741</td>\n",
       "    </tr>\n",
       "    <tr>\n",
       "      <th>984</th>\n",
       "      <td>3.249025</td>\n",
       "      <td>-2.222199</td>\n",
       "      <td>-2.128120</td>\n",
       "    </tr>\n",
       "    <tr>\n",
       "      <th>997</th>\n",
       "      <td>0.069392</td>\n",
       "      <td>-3.125968</td>\n",
       "      <td>2.520048</td>\n",
       "    </tr>\n",
       "    <tr>\n",
       "      <th>1079</th>\n",
       "      <td>3.119393</td>\n",
       "      <td>-0.365548</td>\n",
       "      <td>1.273481</td>\n",
       "    </tr>\n",
       "    <tr>\n",
       "      <th>1164</th>\n",
       "      <td>1.041390</td>\n",
       "      <td>-3.093253</td>\n",
       "      <td>-0.772238</td>\n",
       "    </tr>\n",
       "  </tbody>\n",
       "</table>\n",
       "</div>"
      ]
     },
     "execution_count": 58,
     "metadata": {},
     "output_type": "execute_result"
    }
   ],
   "execution_count": 58
  },
  {
   "metadata": {
    "ExecuteTime": {
     "end_time": "2025-08-09T11:18:39.870980Z",
     "start_time": "2025-08-09T11:18:39.865443Z"
    }
   },
   "cell_type": "code",
   "source": [
    "randframe.drop(outliers.index, inplace=True)\n",
    "randframe.describe()"
   ],
   "id": "8949a409af84343",
   "outputs": [
    {
     "data": {
      "text/plain": [
       "                ax           ay           az\n",
       "count  1187.000000  1187.000000  1187.000000\n",
       "mean     -0.025803    -0.018866     0.051564\n",
       "std       0.993627     0.977714     0.994991\n",
       "min      -3.009869    -2.987318    -3.083494\n",
       "25%      -0.705234    -0.677535    -0.605826\n",
       "50%      -0.009226    -0.024333     0.057636\n",
       "75%       0.677955     0.651086     0.710701\n",
       "max       2.960335     2.483224     3.014649"
      ],
      "text/html": [
       "<div>\n",
       "<style scoped>\n",
       "    .dataframe tbody tr th:only-of-type {\n",
       "        vertical-align: middle;\n",
       "    }\n",
       "\n",
       "    .dataframe tbody tr th {\n",
       "        vertical-align: top;\n",
       "    }\n",
       "\n",
       "    .dataframe thead th {\n",
       "        text-align: right;\n",
       "    }\n",
       "</style>\n",
       "<table border=\"1\" class=\"dataframe\">\n",
       "  <thead>\n",
       "    <tr style=\"text-align: right;\">\n",
       "      <th></th>\n",
       "      <th>ax</th>\n",
       "      <th>ay</th>\n",
       "      <th>az</th>\n",
       "    </tr>\n",
       "  </thead>\n",
       "  <tbody>\n",
       "    <tr>\n",
       "      <th>count</th>\n",
       "      <td>1187.000000</td>\n",
       "      <td>1187.000000</td>\n",
       "      <td>1187.000000</td>\n",
       "    </tr>\n",
       "    <tr>\n",
       "      <th>mean</th>\n",
       "      <td>-0.025803</td>\n",
       "      <td>-0.018866</td>\n",
       "      <td>0.051564</td>\n",
       "    </tr>\n",
       "    <tr>\n",
       "      <th>std</th>\n",
       "      <td>0.993627</td>\n",
       "      <td>0.977714</td>\n",
       "      <td>0.994991</td>\n",
       "    </tr>\n",
       "    <tr>\n",
       "      <th>min</th>\n",
       "      <td>-3.009869</td>\n",
       "      <td>-2.987318</td>\n",
       "      <td>-3.083494</td>\n",
       "    </tr>\n",
       "    <tr>\n",
       "      <th>25%</th>\n",
       "      <td>-0.705234</td>\n",
       "      <td>-0.677535</td>\n",
       "      <td>-0.605826</td>\n",
       "    </tr>\n",
       "    <tr>\n",
       "      <th>50%</th>\n",
       "      <td>-0.009226</td>\n",
       "      <td>-0.024333</td>\n",
       "      <td>0.057636</td>\n",
       "    </tr>\n",
       "    <tr>\n",
       "      <th>75%</th>\n",
       "      <td>0.677955</td>\n",
       "      <td>0.651086</td>\n",
       "      <td>0.710701</td>\n",
       "    </tr>\n",
       "    <tr>\n",
       "      <th>max</th>\n",
       "      <td>2.960335</td>\n",
       "      <td>2.483224</td>\n",
       "      <td>3.014649</td>\n",
       "    </tr>\n",
       "  </tbody>\n",
       "</table>\n",
       "</div>"
      ]
     },
     "execution_count": 59,
     "metadata": {},
     "output_type": "execute_result"
    }
   ],
   "execution_count": 59
  },
  {
   "metadata": {
    "ExecuteTime": {
     "end_time": "2025-08-09T11:19:13.800886Z",
     "start_time": "2025-08-09T11:19:13.788907Z"
    }
   },
   "cell_type": "code",
   "source": [
    "random_order = np.random.permutation(nframe.shape[1])\n",
    "random_order"
   ],
   "id": "a762e7e56847f5a5",
   "outputs": [
    {
     "data": {
      "text/plain": [
       "array([3, 1, 4, 0, 2])"
      ]
     },
     "execution_count": 62,
     "metadata": {},
     "output_type": "execute_result"
    }
   ],
   "execution_count": 62
  },
  {
   "metadata": {
    "ExecuteTime": {
     "end_time": "2025-08-09T11:20:31.601711Z",
     "start_time": "2025-08-09T11:20:31.583204Z"
    }
   },
   "cell_type": "code",
   "source": [
    "permutated_nframe = nframe.take(random_order, axis=1)\n",
    "permutated_nframe"
   ],
   "id": "664f77c6fe6d4cb1",
   "outputs": [
    {
     "data": {
      "text/plain": [
       "    D   B   E   A   C\n",
       "0   3   1   4   0   2\n",
       "1   8   6   9   5   7\n",
       "2  13  11  14  10  12\n",
       "3  18  16  19  15  17\n",
       "4  23  21  24  20  22\n",
       "5  28  26  29  25  27"
      ],
      "text/html": [
       "<div>\n",
       "<style scoped>\n",
       "    .dataframe tbody tr th:only-of-type {\n",
       "        vertical-align: middle;\n",
       "    }\n",
       "\n",
       "    .dataframe tbody tr th {\n",
       "        vertical-align: top;\n",
       "    }\n",
       "\n",
       "    .dataframe thead th {\n",
       "        text-align: right;\n",
       "    }\n",
       "</style>\n",
       "<table border=\"1\" class=\"dataframe\">\n",
       "  <thead>\n",
       "    <tr style=\"text-align: right;\">\n",
       "      <th></th>\n",
       "      <th>D</th>\n",
       "      <th>B</th>\n",
       "      <th>E</th>\n",
       "      <th>A</th>\n",
       "      <th>C</th>\n",
       "    </tr>\n",
       "  </thead>\n",
       "  <tbody>\n",
       "    <tr>\n",
       "      <th>0</th>\n",
       "      <td>3</td>\n",
       "      <td>1</td>\n",
       "      <td>4</td>\n",
       "      <td>0</td>\n",
       "      <td>2</td>\n",
       "    </tr>\n",
       "    <tr>\n",
       "      <th>1</th>\n",
       "      <td>8</td>\n",
       "      <td>6</td>\n",
       "      <td>9</td>\n",
       "      <td>5</td>\n",
       "      <td>7</td>\n",
       "    </tr>\n",
       "    <tr>\n",
       "      <th>2</th>\n",
       "      <td>13</td>\n",
       "      <td>11</td>\n",
       "      <td>14</td>\n",
       "      <td>10</td>\n",
       "      <td>12</td>\n",
       "    </tr>\n",
       "    <tr>\n",
       "      <th>3</th>\n",
       "      <td>18</td>\n",
       "      <td>16</td>\n",
       "      <td>19</td>\n",
       "      <td>15</td>\n",
       "      <td>17</td>\n",
       "    </tr>\n",
       "    <tr>\n",
       "      <th>4</th>\n",
       "      <td>23</td>\n",
       "      <td>21</td>\n",
       "      <td>24</td>\n",
       "      <td>20</td>\n",
       "      <td>22</td>\n",
       "    </tr>\n",
       "    <tr>\n",
       "      <th>5</th>\n",
       "      <td>28</td>\n",
       "      <td>26</td>\n",
       "      <td>29</td>\n",
       "      <td>25</td>\n",
       "      <td>27</td>\n",
       "    </tr>\n",
       "  </tbody>\n",
       "</table>\n",
       "</div>"
      ]
     },
     "execution_count": 65,
     "metadata": {},
     "output_type": "execute_result"
    }
   ],
   "execution_count": 65
  },
  {
   "metadata": {
    "ExecuteTime": {
     "end_time": "2025-08-09T11:20:51.222335Z",
     "start_time": "2025-08-09T11:20:51.201301Z"
    }
   },
   "cell_type": "code",
   "source": "nframe.take(random_order, axis=0)",
   "id": "f73bf6561ee72ee5",
   "outputs": [
    {
     "data": {
      "text/plain": [
       "    A   B   C   D   E\n",
       "3  15  16  17  18  19\n",
       "1   5   6   7   8   9\n",
       "4  20  21  22  23  24\n",
       "0   0   1   2   3   4\n",
       "2  10  11  12  13  14"
      ],
      "text/html": [
       "<div>\n",
       "<style scoped>\n",
       "    .dataframe tbody tr th:only-of-type {\n",
       "        vertical-align: middle;\n",
       "    }\n",
       "\n",
       "    .dataframe tbody tr th {\n",
       "        vertical-align: top;\n",
       "    }\n",
       "\n",
       "    .dataframe thead th {\n",
       "        text-align: right;\n",
       "    }\n",
       "</style>\n",
       "<table border=\"1\" class=\"dataframe\">\n",
       "  <thead>\n",
       "    <tr style=\"text-align: right;\">\n",
       "      <th></th>\n",
       "      <th>A</th>\n",
       "      <th>B</th>\n",
       "      <th>C</th>\n",
       "      <th>D</th>\n",
       "      <th>E</th>\n",
       "    </tr>\n",
       "  </thead>\n",
       "  <tbody>\n",
       "    <tr>\n",
       "      <th>3</th>\n",
       "      <td>15</td>\n",
       "      <td>16</td>\n",
       "      <td>17</td>\n",
       "      <td>18</td>\n",
       "      <td>19</td>\n",
       "    </tr>\n",
       "    <tr>\n",
       "      <th>1</th>\n",
       "      <td>5</td>\n",
       "      <td>6</td>\n",
       "      <td>7</td>\n",
       "      <td>8</td>\n",
       "      <td>9</td>\n",
       "    </tr>\n",
       "    <tr>\n",
       "      <th>4</th>\n",
       "      <td>20</td>\n",
       "      <td>21</td>\n",
       "      <td>22</td>\n",
       "      <td>23</td>\n",
       "      <td>24</td>\n",
       "    </tr>\n",
       "    <tr>\n",
       "      <th>0</th>\n",
       "      <td>0</td>\n",
       "      <td>1</td>\n",
       "      <td>2</td>\n",
       "      <td>3</td>\n",
       "      <td>4</td>\n",
       "    </tr>\n",
       "    <tr>\n",
       "      <th>2</th>\n",
       "      <td>10</td>\n",
       "      <td>11</td>\n",
       "      <td>12</td>\n",
       "      <td>13</td>\n",
       "      <td>14</td>\n",
       "    </tr>\n",
       "  </tbody>\n",
       "</table>\n",
       "</div>"
      ]
     },
     "execution_count": 66,
     "metadata": {},
     "output_type": "execute_result"
    }
   ],
   "execution_count": 66
  },
  {
   "metadata": {},
   "cell_type": "code",
   "outputs": [],
   "execution_count": null,
   "source": "",
   "id": "ff02a1364ee7b870"
  }
 ],
 "metadata": {
  "kernelspec": {
   "display_name": "Python 3",
   "language": "python",
   "name": "python3"
  },
  "language_info": {
   "codemirror_mode": {
    "name": "ipython",
    "version": 2
   },
   "file_extension": ".py",
   "mimetype": "text/x-python",
   "name": "python",
   "nbconvert_exporter": "python",
   "pygments_lexer": "ipython2",
   "version": "2.7.6"
  }
 },
 "nbformat": 4,
 "nbformat_minor": 5
}
