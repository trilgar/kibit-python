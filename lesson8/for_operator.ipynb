{
 "cells": [
  {
   "metadata": {},
   "cell_type": "markdown",
   "source": [
    "Цикл for — спеціалізований оператор для ітерації.    \n",
    "Використовується для перебору значень у послідовності (наприклад, списки, рядки).\n",
    "\n",
    "``` python\n",
    "for елемент in послідовність:\n",
    "    команди\n",
    "```"
   ],
   "id": "aa70b4c350f6a165"
  },
  {
   "metadata": {
    "ExecuteTime": {
     "end_time": "2025-01-29T18:39:38.923543Z",
     "start_time": "2025-01-29T18:39:38.918563Z"
    }
   },
   "cell_type": "code",
   "source": [
    "names = [\"Oleg\", \"Stanislav\", \"Olena\", \"Anna\"]\n",
    "print(\"List of names:\")\n",
    "for name in names:\n",
    "    print(name)"
   ],
   "id": "initial_id",
   "outputs": [
    {
     "name": "stdout",
     "output_type": "stream",
     "text": [
      "List of names:\n",
      "Oleg\n",
      "Stanislav\n",
      "Olena\n",
      "Anna\n"
     ]
    }
   ],
   "execution_count": 1
  },
  {
   "metadata": {},
   "cell_type": "markdown",
   "source": [
    "Цикл for може також використовуватися із оператором else\n",
    "\n",
    "``` python\n",
    "for елемент in послідовність:\n",
    "    команди\n",
    "else:\n",
    "    команди\n",
    "```"
   ],
   "id": "68e03f16cc7f85df"
  },
  {
   "metadata": {
    "ExecuteTime": {
     "end_time": "2025-01-29T18:48:19.223880Z",
     "start_time": "2025-01-29T18:48:19.219619Z"
    }
   },
   "cell_type": "code",
   "source": [
    "names = [\"Oleg\", \"Stanislav\", \"Olena\", \"Anna\"]\n",
    "\n",
    "for name in names:\n",
    "    if name == \"Olena\":\n",
    "        print(\"Olena is found\")\n",
    "        break\n",
    "    else:\n",
    "        print(name)\n",
    "else:\n",
    "    print(\"Olena is not found\")"
   ],
   "id": "5958057412980d8e",
   "outputs": [
    {
     "name": "stdout",
     "output_type": "stream",
     "text": [
      "Oleg\n",
      "Stanislav\n",
      "Olena is found\n"
     ]
    }
   ],
   "execution_count": 3
  },
  {
   "metadata": {},
   "cell_type": "markdown",
   "source": [
    "Функція range()\n",
    "\n",
    "Призначення: створення віртуальної послідовності чисел\n",
    "``` python\n",
    "range(start, stop, step)\n",
    "```      \n",
    "start — початкове значення (за замовчуванням 0).      \n",
    "stop — кінцеве значення (не включно).      \n",
    "step — крок (за замовчуванням 1).\n"
   ],
   "id": "34502368785df6e3"
  },
  {
   "metadata": {
    "ExecuteTime": {
     "end_time": "2025-01-29T18:53:07.378358Z",
     "start_time": "2025-01-29T18:53:07.374831Z"
    }
   },
   "cell_type": "code",
   "source": [
    "for i in range(5):\n",
    "    print(i)"
   ],
   "id": "4c7c74b0a235ca19",
   "outputs": [
    {
     "name": "stdout",
     "output_type": "stream",
     "text": [
      "0\n",
      "1\n",
      "2\n",
      "3\n",
      "4\n"
     ]
    }
   ],
   "execution_count": 4
  },
  {
   "metadata": {
    "ExecuteTime": {
     "end_time": "2025-01-29T18:53:33.534589Z",
     "start_time": "2025-01-29T18:53:33.530979Z"
    }
   },
   "cell_type": "code",
   "source": [
    "rng = range(1, 10, 2)\n",
    "print(rng)"
   ],
   "id": "c1558940bbdd2154",
   "outputs": [
    {
     "name": "stdout",
     "output_type": "stream",
     "text": [
      "range(1, 10, 2)\n"
     ]
    }
   ],
   "execution_count": 6
  },
  {
   "metadata": {
    "ExecuteTime": {
     "end_time": "2025-01-29T18:53:35.231370Z",
     "start_time": "2025-01-29T18:53:35.227647Z"
    }
   },
   "cell_type": "code",
   "source": "print(list(rng))",
   "id": "8329fcab2b4f85cd",
   "outputs": [
    {
     "name": "stdout",
     "output_type": "stream",
     "text": [
      "[1, 3, 5, 7, 9]\n"
     ]
    }
   ],
   "execution_count": 7
  },
  {
   "metadata": {},
   "cell_type": "markdown",
   "source": "Обчислення суми натуральних чисел від 1 до n",
   "id": "56e810f250a2f1f"
  },
  {
   "metadata": {
    "ExecuteTime": {
     "end_time": "2025-01-29T19:04:07.697103Z",
     "start_time": "2025-01-29T19:04:07.692672Z"
    }
   },
   "cell_type": "code",
   "source": [
    "print(\"Сума натуральних чисел\")\n",
    "n = 100  # Кількість доданків\n",
    "text = \"1+2+...+\" + str(n) + \" =\"  # Текст для результату\n",
    "s = 0  # Змінна для суми\n",
    "for i in range(1, n + 1):\n",
    "    s += i  # Додаємо доданок до суми\n",
    "print(text, s)"
   ],
   "id": "f5ac0f641923f24c",
   "outputs": [
    {
     "name": "stdout",
     "output_type": "stream",
     "text": [
      "Сума натуральних чисел\n",
      "1+2+...+100 = 5050\n"
     ]
    }
   ],
   "execution_count": 8
  },
  {
   "metadata": {},
   "cell_type": "markdown",
   "source": "Суму можна обчислити за допомогою функції sum()",
   "id": "264ed1087822a049"
  },
  {
   "metadata": {
    "ExecuteTime": {
     "end_time": "2025-01-29T19:07:10.256430Z",
     "start_time": "2025-01-29T19:07:10.249774Z"
    }
   },
   "cell_type": "code",
   "source": "sum(range(1, n + 1))",
   "id": "f4577bac4f93d468",
   "outputs": [
    {
     "data": {
      "text/plain": [
       "5050"
      ]
     },
     "execution_count": 9,
     "metadata": {},
     "output_type": "execute_result"
    }
   ],
   "execution_count": 9
  },
  {
   "metadata": {},
   "cell_type": "markdown",
   "source": "Цикл for може використовуватися для перебору символів у рядку",
   "id": "3010600e397c4afe"
  },
  {
   "metadata": {
    "ExecuteTime": {
     "end_time": "2025-01-29T19:08:17.372420Z",
     "start_time": "2025-01-29T19:08:17.368631Z"
    }
   },
   "cell_type": "code",
   "source": [
    "txt = \"Python\"  # Текст для перебору\n",
    "i = 1  # Змінна для нумерації букв\n",
    "for s in txt:\n",
    "    t = str(i) + \"-a буква:\"  # Формуємо допоміжний текст\n",
    "    print(t, s)  # Виводимо повідомлення\n",
    "    i += 1  # Збільшуємо номер букви\n",
    "print(\"Роботу програми закінчено!\")"
   ],
   "id": "2549233c7b92632d",
   "outputs": [
    {
     "name": "stdout",
     "output_type": "stream",
     "text": [
      "1-a буква: P\n",
      "2-a буква: y\n",
      "3-a буква: t\n",
      "4-a буква: h\n",
      "5-a буква: o\n",
      "6-a буква: n\n",
      "Роботу програми закінчено!\n"
     ]
    }
   ],
   "execution_count": 10
  },
  {
   "metadata": {},
   "cell_type": "markdown",
   "source": "Використання break та else у циклі for",
   "id": "6a2920dabe8e57a8"
  },
  {
   "metadata": {
    "ExecuteTime": {
     "end_time": "2025-01-29T19:12:47.260419Z",
     "start_time": "2025-01-29T19:12:47.256141Z"
    }
   },
   "cell_type": "code",
   "source": [
    "print(\"Перевіряємо вміст списку:\")\n",
    "myList = [1, 3+2j, True, 4.0]  # Список без текстових елементів\n",
    "print(\"Список:\", myList)\n",
    "for s in myList:\n",
    "    if type(s) == str:\n",
    "        print(\"У списку є текстові елементи!\")\n",
    "        break\n",
    "else:\n",
    "    print(\"У списку немає текстових елементів!\")\n",
    "print(\"Перевірку закінчено.\")"
   ],
   "id": "2da5fc14c1c57181",
   "outputs": [
    {
     "name": "stdout",
     "output_type": "stream",
     "text": [
      "Перевіряємо вміст списку:\n",
      "Список: [1, (3+2j), True, 4.0]\n",
      "У списку немає текстових елементів!\n",
      "Перевірку закінчено.\n"
     ]
    }
   ],
   "execution_count": 13
  },
  {
   "metadata": {},
   "cell_type": "markdown",
   "source": "Порівняння двох списків",
   "id": "ea2308e1b1488afb"
  },
  {
   "metadata": {
    "ExecuteTime": {
     "end_time": "2025-01-29T19:14:00.334027Z",
     "start_time": "2025-01-29T19:14:00.329428Z"
    }
   },
   "cell_type": "code",
   "source": [
    "A = [2, False, 9.1, 2-1j, \"hello\", 5, \"Python\"]\n",
    "B = [5, 3, \"HELLO\", 7, 12.5, \"Python\", True, False]\n",
    "print(\"1-й список:\", A)\n",
    "print(\"2-й список:\", B)\n",
    "print(\"Збігаються:\")\n",
    "i = 0\n",
    "for a in A:\n",
    "    i += 1\n",
    "    j = 0\n",
    "    for b in B:\n",
    "        j += 1\n",
    "        if a == b:\n",
    "            txt = str(i) + \"-й елемент із 1-го списку і \" + str(j) + \"-й елемент із 2-го списку\"\n",
    "            print(txt)\n",
    "print(\"Пошук закінчено.\")"
   ],
   "id": "70dce3d35b2f3f93",
   "outputs": [
    {
     "name": "stdout",
     "output_type": "stream",
     "text": [
      "1-й список: [2, False, 9.1, (2-1j), 'hello', 5, 'Python']\n",
      "2-й список: [5, 3, 'HELLO', 7, 12.5, 'Python', True, False]\n",
      "Збігаються:\n",
      "2-й елемент із 1-го списку і 8-й елемент із 2-го списку\n",
      "6-й елемент із 1-го списку і 1-й елемент із 2-го списку\n",
      "7-й елемент із 1-го списку і 6-й елемент із 2-го списку\n",
      "Пошук закінчено.\n"
     ]
    }
   ],
   "execution_count": 14
  },
  {
   "metadata": {},
   "cell_type": "code",
   "outputs": [],
   "execution_count": null,
   "source": "",
   "id": "117d230e788d13e2"
  }
 ],
 "metadata": {
  "kernelspec": {
   "display_name": "Python 3",
   "language": "python",
   "name": "python3"
  },
  "language_info": {
   "codemirror_mode": {
    "name": "ipython",
    "version": 2
   },
   "file_extension": ".py",
   "mimetype": "text/x-python",
   "name": "python",
   "nbconvert_exporter": "python",
   "pygments_lexer": "ipython2",
   "version": "2.7.6"
  }
 },
 "nbformat": 4,
 "nbformat_minor": 5
}
