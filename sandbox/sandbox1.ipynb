{
 "cells": [
  {
   "metadata": {
    "ExecuteTime": {
     "end_time": "2025-05-26T08:23:46.362629Z",
     "start_time": "2025-05-26T08:23:45.794905Z"
    }
   },
   "cell_type": "code",
   "source": [
    "import pandas as pd\n",
    "import numpy as np"
   ],
   "id": "dcfcbfd4b31366ea",
   "outputs": [],
   "execution_count": 2
  },
  {
   "metadata": {
    "ExecuteTime": {
     "end_time": "2025-05-26T08:23:46.382668Z",
     "start_time": "2025-05-26T08:23:46.372397Z"
    }
   },
   "cell_type": "code",
   "source": [
    "cats = {\n",
    "    'name': ['Bob', 'Jessica', 'Mary', 'John', 'Mel'],\n",
    "    'color': ['green', 'black', 'red', 'red', 'blue'],\n",
    "    'age': [24, 53, 23, 48, 70],\n",
    "    'chunkiness': [1, 5, 2, 6, 7]\n",
    "}\n",
    "\n",
    "cats_df = pd.DataFrame(cats)\n",
    "cats_df"
   ],
   "id": "751444a0c8267c4f",
   "outputs": [
    {
     "data": {
      "text/plain": [
       "      name  color  age  chunkiness\n",
       "0      Bob  green   24           1\n",
       "1  Jessica  black   53           5\n",
       "2     Mary    red   23           2\n",
       "3     John    red   48           6\n",
       "4      Mel   blue   70           7"
      ],
      "text/html": [
       "<div>\n",
       "<style scoped>\n",
       "    .dataframe tbody tr th:only-of-type {\n",
       "        vertical-align: middle;\n",
       "    }\n",
       "\n",
       "    .dataframe tbody tr th {\n",
       "        vertical-align: top;\n",
       "    }\n",
       "\n",
       "    .dataframe thead th {\n",
       "        text-align: right;\n",
       "    }\n",
       "</style>\n",
       "<table border=\"1\" class=\"dataframe\">\n",
       "  <thead>\n",
       "    <tr style=\"text-align: right;\">\n",
       "      <th></th>\n",
       "      <th>name</th>\n",
       "      <th>color</th>\n",
       "      <th>age</th>\n",
       "      <th>chunkiness</th>\n",
       "    </tr>\n",
       "  </thead>\n",
       "  <tbody>\n",
       "    <tr>\n",
       "      <th>0</th>\n",
       "      <td>Bob</td>\n",
       "      <td>green</td>\n",
       "      <td>24</td>\n",
       "      <td>1</td>\n",
       "    </tr>\n",
       "    <tr>\n",
       "      <th>1</th>\n",
       "      <td>Jessica</td>\n",
       "      <td>black</td>\n",
       "      <td>53</td>\n",
       "      <td>5</td>\n",
       "    </tr>\n",
       "    <tr>\n",
       "      <th>2</th>\n",
       "      <td>Mary</td>\n",
       "      <td>red</td>\n",
       "      <td>23</td>\n",
       "      <td>2</td>\n",
       "    </tr>\n",
       "    <tr>\n",
       "      <th>3</th>\n",
       "      <td>John</td>\n",
       "      <td>red</td>\n",
       "      <td>48</td>\n",
       "      <td>6</td>\n",
       "    </tr>\n",
       "    <tr>\n",
       "      <th>4</th>\n",
       "      <td>Mel</td>\n",
       "      <td>blue</td>\n",
       "      <td>70</td>\n",
       "      <td>7</td>\n",
       "    </tr>\n",
       "  </tbody>\n",
       "</table>\n",
       "</div>"
      ]
     },
     "execution_count": 3,
     "metadata": {},
     "output_type": "execute_result"
    }
   ],
   "execution_count": 3
  },
  {
   "metadata": {
    "ExecuteTime": {
     "end_time": "2025-05-26T08:23:46.423115Z",
     "start_time": "2025-05-26T08:23:46.417413Z"
    }
   },
   "cell_type": "code",
   "source": [
    "cats_df = pd.DataFrame(cats, index=['bo', 'je', 'ma', 'jo', 'me'])\n",
    "cats_df"
   ],
   "id": "424d3bdd72126e76",
   "outputs": [
    {
     "data": {
      "text/plain": [
       "       name  color  age  chunkiness\n",
       "bo      Bob  green   24           1\n",
       "je  Jessica  black   53           5\n",
       "ma     Mary    red   23           2\n",
       "jo     John    red   48           6\n",
       "me      Mel   blue   70           7"
      ],
      "text/html": [
       "<div>\n",
       "<style scoped>\n",
       "    .dataframe tbody tr th:only-of-type {\n",
       "        vertical-align: middle;\n",
       "    }\n",
       "\n",
       "    .dataframe tbody tr th {\n",
       "        vertical-align: top;\n",
       "    }\n",
       "\n",
       "    .dataframe thead th {\n",
       "        text-align: right;\n",
       "    }\n",
       "</style>\n",
       "<table border=\"1\" class=\"dataframe\">\n",
       "  <thead>\n",
       "    <tr style=\"text-align: right;\">\n",
       "      <th></th>\n",
       "      <th>name</th>\n",
       "      <th>color</th>\n",
       "      <th>age</th>\n",
       "      <th>chunkiness</th>\n",
       "    </tr>\n",
       "  </thead>\n",
       "  <tbody>\n",
       "    <tr>\n",
       "      <th>bo</th>\n",
       "      <td>Bob</td>\n",
       "      <td>green</td>\n",
       "      <td>24</td>\n",
       "      <td>1</td>\n",
       "    </tr>\n",
       "    <tr>\n",
       "      <th>je</th>\n",
       "      <td>Jessica</td>\n",
       "      <td>black</td>\n",
       "      <td>53</td>\n",
       "      <td>5</td>\n",
       "    </tr>\n",
       "    <tr>\n",
       "      <th>ma</th>\n",
       "      <td>Mary</td>\n",
       "      <td>red</td>\n",
       "      <td>23</td>\n",
       "      <td>2</td>\n",
       "    </tr>\n",
       "    <tr>\n",
       "      <th>jo</th>\n",
       "      <td>John</td>\n",
       "      <td>red</td>\n",
       "      <td>48</td>\n",
       "      <td>6</td>\n",
       "    </tr>\n",
       "    <tr>\n",
       "      <th>me</th>\n",
       "      <td>Mel</td>\n",
       "      <td>blue</td>\n",
       "      <td>70</td>\n",
       "      <td>7</td>\n",
       "    </tr>\n",
       "  </tbody>\n",
       "</table>\n",
       "</div>"
      ]
     },
     "execution_count": 4,
     "metadata": {},
     "output_type": "execute_result"
    }
   ],
   "execution_count": 4
  },
  {
   "metadata": {
    "ExecuteTime": {
     "end_time": "2025-05-26T08:23:46.490846Z",
     "start_time": "2025-05-26T08:23:46.484445Z"
    }
   },
   "cell_type": "code",
   "source": [
    "cats_df = pd.DataFrame(np.array([['Bob', 'Jessica', 'Mary', 'John', 'Mel'],\n",
    "                                 ['green', 'black', 'red', 'red', 'blue'],\n",
    "                                 [24, 53, 23, 48, 70],\n",
    "                                 [1, 5, 2, 6, 7]]).T,\n",
    "                       index=['bo', 'je', 'ma', 'jo', 'me'],\n",
    "                       columns=['name', 'color', 'age', 'chunkiness'])\n",
    "cats_df"
   ],
   "id": "43c50549943224e2",
   "outputs": [
    {
     "data": {
      "text/plain": [
       "       name  color age chunkiness\n",
       "bo      Bob  green  24          1\n",
       "je  Jessica  black  53          5\n",
       "ma     Mary    red  23          2\n",
       "jo     John    red  48          6\n",
       "me      Mel   blue  70          7"
      ],
      "text/html": [
       "<div>\n",
       "<style scoped>\n",
       "    .dataframe tbody tr th:only-of-type {\n",
       "        vertical-align: middle;\n",
       "    }\n",
       "\n",
       "    .dataframe tbody tr th {\n",
       "        vertical-align: top;\n",
       "    }\n",
       "\n",
       "    .dataframe thead th {\n",
       "        text-align: right;\n",
       "    }\n",
       "</style>\n",
       "<table border=\"1\" class=\"dataframe\">\n",
       "  <thead>\n",
       "    <tr style=\"text-align: right;\">\n",
       "      <th></th>\n",
       "      <th>name</th>\n",
       "      <th>color</th>\n",
       "      <th>age</th>\n",
       "      <th>chunkiness</th>\n",
       "    </tr>\n",
       "  </thead>\n",
       "  <tbody>\n",
       "    <tr>\n",
       "      <th>bo</th>\n",
       "      <td>Bob</td>\n",
       "      <td>green</td>\n",
       "      <td>24</td>\n",
       "      <td>1</td>\n",
       "    </tr>\n",
       "    <tr>\n",
       "      <th>je</th>\n",
       "      <td>Jessica</td>\n",
       "      <td>black</td>\n",
       "      <td>53</td>\n",
       "      <td>5</td>\n",
       "    </tr>\n",
       "    <tr>\n",
       "      <th>ma</th>\n",
       "      <td>Mary</td>\n",
       "      <td>red</td>\n",
       "      <td>23</td>\n",
       "      <td>2</td>\n",
       "    </tr>\n",
       "    <tr>\n",
       "      <th>jo</th>\n",
       "      <td>John</td>\n",
       "      <td>red</td>\n",
       "      <td>48</td>\n",
       "      <td>6</td>\n",
       "    </tr>\n",
       "    <tr>\n",
       "      <th>me</th>\n",
       "      <td>Mel</td>\n",
       "      <td>blue</td>\n",
       "      <td>70</td>\n",
       "      <td>7</td>\n",
       "    </tr>\n",
       "  </tbody>\n",
       "</table>\n",
       "</div>"
      ]
     },
     "execution_count": 5,
     "metadata": {},
     "output_type": "execute_result"
    }
   ],
   "execution_count": 5
  },
  {
   "metadata": {
    "ExecuteTime": {
     "end_time": "2025-05-26T08:23:46.622218Z",
     "start_time": "2025-05-26T08:23:46.618608Z"
    }
   },
   "cell_type": "code",
   "source": "cats_df.columns",
   "id": "f6c24175820ca12f",
   "outputs": [
    {
     "data": {
      "text/plain": [
       "Index(['name', 'color', 'age', 'chunkiness'], dtype='object')"
      ]
     },
     "execution_count": 6,
     "metadata": {},
     "output_type": "execute_result"
    }
   ],
   "execution_count": 6
  },
  {
   "metadata": {
    "ExecuteTime": {
     "end_time": "2025-05-26T08:23:46.727867Z",
     "start_time": "2025-05-26T08:23:46.724875Z"
    }
   },
   "cell_type": "code",
   "source": "cats_df.index",
   "id": "722f4cf95cf937cc",
   "outputs": [
    {
     "data": {
      "text/plain": [
       "Index(['bo', 'je', 'ma', 'jo', 'me'], dtype='object')"
      ]
     },
     "execution_count": 7,
     "metadata": {},
     "output_type": "execute_result"
    }
   ],
   "execution_count": 7
  },
  {
   "metadata": {
    "ExecuteTime": {
     "end_time": "2025-05-26T08:23:46.851052Z",
     "start_time": "2025-05-26T08:23:46.847537Z"
    }
   },
   "cell_type": "code",
   "source": "cats_df.values",
   "id": "907b6f5b8c529fed",
   "outputs": [
    {
     "data": {
      "text/plain": [
       "array([['Bob', 'green', '24', '1'],\n",
       "       ['Jessica', 'black', '53', '5'],\n",
       "       ['Mary', 'red', '23', '2'],\n",
       "       ['John', 'red', '48', '6'],\n",
       "       ['Mel', 'blue', '70', '7']], dtype=object)"
      ]
     },
     "execution_count": 8,
     "metadata": {},
     "output_type": "execute_result"
    }
   ],
   "execution_count": 8
  },
  {
   "metadata": {
    "ExecuteTime": {
     "end_time": "2025-05-26T08:23:46.926813Z",
     "start_time": "2025-05-26T08:23:46.921446Z"
    }
   },
   "cell_type": "code",
   "source": "cats_df",
   "id": "dc6f7cf4ba75ffef",
   "outputs": [
    {
     "data": {
      "text/plain": [
       "       name  color age chunkiness\n",
       "bo      Bob  green  24          1\n",
       "je  Jessica  black  53          5\n",
       "ma     Mary    red  23          2\n",
       "jo     John    red  48          6\n",
       "me      Mel   blue  70          7"
      ],
      "text/html": [
       "<div>\n",
       "<style scoped>\n",
       "    .dataframe tbody tr th:only-of-type {\n",
       "        vertical-align: middle;\n",
       "    }\n",
       "\n",
       "    .dataframe tbody tr th {\n",
       "        vertical-align: top;\n",
       "    }\n",
       "\n",
       "    .dataframe thead th {\n",
       "        text-align: right;\n",
       "    }\n",
       "</style>\n",
       "<table border=\"1\" class=\"dataframe\">\n",
       "  <thead>\n",
       "    <tr style=\"text-align: right;\">\n",
       "      <th></th>\n",
       "      <th>name</th>\n",
       "      <th>color</th>\n",
       "      <th>age</th>\n",
       "      <th>chunkiness</th>\n",
       "    </tr>\n",
       "  </thead>\n",
       "  <tbody>\n",
       "    <tr>\n",
       "      <th>bo</th>\n",
       "      <td>Bob</td>\n",
       "      <td>green</td>\n",
       "      <td>24</td>\n",
       "      <td>1</td>\n",
       "    </tr>\n",
       "    <tr>\n",
       "      <th>je</th>\n",
       "      <td>Jessica</td>\n",
       "      <td>black</td>\n",
       "      <td>53</td>\n",
       "      <td>5</td>\n",
       "    </tr>\n",
       "    <tr>\n",
       "      <th>ma</th>\n",
       "      <td>Mary</td>\n",
       "      <td>red</td>\n",
       "      <td>23</td>\n",
       "      <td>2</td>\n",
       "    </tr>\n",
       "    <tr>\n",
       "      <th>jo</th>\n",
       "      <td>John</td>\n",
       "      <td>red</td>\n",
       "      <td>48</td>\n",
       "      <td>6</td>\n",
       "    </tr>\n",
       "    <tr>\n",
       "      <th>me</th>\n",
       "      <td>Mel</td>\n",
       "      <td>blue</td>\n",
       "      <td>70</td>\n",
       "      <td>7</td>\n",
       "    </tr>\n",
       "  </tbody>\n",
       "</table>\n",
       "</div>"
      ]
     },
     "execution_count": 9,
     "metadata": {},
     "output_type": "execute_result"
    }
   ],
   "execution_count": 9
  },
  {
   "metadata": {
    "ExecuteTime": {
     "end_time": "2025-05-26T08:23:47.002678Z",
     "start_time": "2025-05-26T08:23:46.999011Z"
    }
   },
   "cell_type": "code",
   "source": "cats_df['color']",
   "id": "6c8ce61c7fe3d305",
   "outputs": [
    {
     "data": {
      "text/plain": [
       "bo    green\n",
       "je    black\n",
       "ma      red\n",
       "jo      red\n",
       "me     blue\n",
       "Name: color, dtype: object"
      ]
     },
     "execution_count": 10,
     "metadata": {},
     "output_type": "execute_result"
    }
   ],
   "execution_count": 10
  },
  {
   "metadata": {
    "ExecuteTime": {
     "end_time": "2025-05-26T08:23:47.105369Z",
     "start_time": "2025-05-26T08:23:47.102334Z"
    }
   },
   "cell_type": "code",
   "source": "cats_df.color",
   "id": "414203f1621bd5d",
   "outputs": [
    {
     "data": {
      "text/plain": [
       "bo    green\n",
       "je    black\n",
       "ma      red\n",
       "jo      red\n",
       "me     blue\n",
       "Name: color, dtype: object"
      ]
     },
     "execution_count": 11,
     "metadata": {},
     "output_type": "execute_result"
    }
   ],
   "execution_count": 11
  },
  {
   "metadata": {
    "ExecuteTime": {
     "end_time": "2025-05-26T08:23:47.201535Z",
     "start_time": "2025-05-26T08:23:47.192923Z"
    }
   },
   "cell_type": "code",
   "source": "cats_df.loc['jo']",
   "id": "725b53b75a8f2db2",
   "outputs": [
    {
     "data": {
      "text/plain": [
       "name          John\n",
       "color          red\n",
       "age             48\n",
       "chunkiness       6\n",
       "Name: jo, dtype: object"
      ]
     },
     "execution_count": 12,
     "metadata": {},
     "output_type": "execute_result"
    }
   ],
   "execution_count": 12
  },
  {
   "metadata": {
    "ExecuteTime": {
     "end_time": "2025-05-26T08:23:47.386076Z",
     "start_time": "2025-05-26T08:23:47.380169Z"
    }
   },
   "cell_type": "code",
   "source": "cats_df.loc[['je', 'ma']]",
   "id": "ffaf0f6a22156d25",
   "outputs": [
    {
     "data": {
      "text/plain": [
       "       name  color age chunkiness\n",
       "je  Jessica  black  53          5\n",
       "ma     Mary    red  23          2"
      ],
      "text/html": [
       "<div>\n",
       "<style scoped>\n",
       "    .dataframe tbody tr th:only-of-type {\n",
       "        vertical-align: middle;\n",
       "    }\n",
       "\n",
       "    .dataframe tbody tr th {\n",
       "        vertical-align: top;\n",
       "    }\n",
       "\n",
       "    .dataframe thead th {\n",
       "        text-align: right;\n",
       "    }\n",
       "</style>\n",
       "<table border=\"1\" class=\"dataframe\">\n",
       "  <thead>\n",
       "    <tr style=\"text-align: right;\">\n",
       "      <th></th>\n",
       "      <th>name</th>\n",
       "      <th>color</th>\n",
       "      <th>age</th>\n",
       "      <th>chunkiness</th>\n",
       "    </tr>\n",
       "  </thead>\n",
       "  <tbody>\n",
       "    <tr>\n",
       "      <th>je</th>\n",
       "      <td>Jessica</td>\n",
       "      <td>black</td>\n",
       "      <td>53</td>\n",
       "      <td>5</td>\n",
       "    </tr>\n",
       "    <tr>\n",
       "      <th>ma</th>\n",
       "      <td>Mary</td>\n",
       "      <td>red</td>\n",
       "      <td>23</td>\n",
       "      <td>2</td>\n",
       "    </tr>\n",
       "  </tbody>\n",
       "</table>\n",
       "</div>"
      ]
     },
     "execution_count": 13,
     "metadata": {},
     "output_type": "execute_result"
    }
   ],
   "execution_count": 13
  },
  {
   "metadata": {
    "ExecuteTime": {
     "end_time": "2025-05-26T08:23:47.470830Z",
     "start_time": "2025-05-26T08:23:47.466289Z"
    }
   },
   "cell_type": "code",
   "source": "cats_df[0:3]",
   "id": "6c6a6f658cdf41af",
   "outputs": [
    {
     "data": {
      "text/plain": [
       "       name  color age chunkiness\n",
       "bo      Bob  green  24          1\n",
       "je  Jessica  black  53          5\n",
       "ma     Mary    red  23          2"
      ],
      "text/html": [
       "<div>\n",
       "<style scoped>\n",
       "    .dataframe tbody tr th:only-of-type {\n",
       "        vertical-align: middle;\n",
       "    }\n",
       "\n",
       "    .dataframe tbody tr th {\n",
       "        vertical-align: top;\n",
       "    }\n",
       "\n",
       "    .dataframe thead th {\n",
       "        text-align: right;\n",
       "    }\n",
       "</style>\n",
       "<table border=\"1\" class=\"dataframe\">\n",
       "  <thead>\n",
       "    <tr style=\"text-align: right;\">\n",
       "      <th></th>\n",
       "      <th>name</th>\n",
       "      <th>color</th>\n",
       "      <th>age</th>\n",
       "      <th>chunkiness</th>\n",
       "    </tr>\n",
       "  </thead>\n",
       "  <tbody>\n",
       "    <tr>\n",
       "      <th>bo</th>\n",
       "      <td>Bob</td>\n",
       "      <td>green</td>\n",
       "      <td>24</td>\n",
       "      <td>1</td>\n",
       "    </tr>\n",
       "    <tr>\n",
       "      <th>je</th>\n",
       "      <td>Jessica</td>\n",
       "      <td>black</td>\n",
       "      <td>53</td>\n",
       "      <td>5</td>\n",
       "    </tr>\n",
       "    <tr>\n",
       "      <th>ma</th>\n",
       "      <td>Mary</td>\n",
       "      <td>red</td>\n",
       "      <td>23</td>\n",
       "      <td>2</td>\n",
       "    </tr>\n",
       "  </tbody>\n",
       "</table>\n",
       "</div>"
      ]
     },
     "execution_count": 14,
     "metadata": {},
     "output_type": "execute_result"
    }
   ],
   "execution_count": 14
  },
  {
   "metadata": {
    "ExecuteTime": {
     "end_time": "2025-05-26T08:23:47.622974Z",
     "start_time": "2025-05-26T08:23:47.617732Z"
    }
   },
   "cell_type": "code",
   "source": "cats_df",
   "id": "f175ba3eb24bc942",
   "outputs": [
    {
     "data": {
      "text/plain": [
       "       name  color age chunkiness\n",
       "bo      Bob  green  24          1\n",
       "je  Jessica  black  53          5\n",
       "ma     Mary    red  23          2\n",
       "jo     John    red  48          6\n",
       "me      Mel   blue  70          7"
      ],
      "text/html": [
       "<div>\n",
       "<style scoped>\n",
       "    .dataframe tbody tr th:only-of-type {\n",
       "        vertical-align: middle;\n",
       "    }\n",
       "\n",
       "    .dataframe tbody tr th {\n",
       "        vertical-align: top;\n",
       "    }\n",
       "\n",
       "    .dataframe thead th {\n",
       "        text-align: right;\n",
       "    }\n",
       "</style>\n",
       "<table border=\"1\" class=\"dataframe\">\n",
       "  <thead>\n",
       "    <tr style=\"text-align: right;\">\n",
       "      <th></th>\n",
       "      <th>name</th>\n",
       "      <th>color</th>\n",
       "      <th>age</th>\n",
       "      <th>chunkiness</th>\n",
       "    </tr>\n",
       "  </thead>\n",
       "  <tbody>\n",
       "    <tr>\n",
       "      <th>bo</th>\n",
       "      <td>Bob</td>\n",
       "      <td>green</td>\n",
       "      <td>24</td>\n",
       "      <td>1</td>\n",
       "    </tr>\n",
       "    <tr>\n",
       "      <th>je</th>\n",
       "      <td>Jessica</td>\n",
       "      <td>black</td>\n",
       "      <td>53</td>\n",
       "      <td>5</td>\n",
       "    </tr>\n",
       "    <tr>\n",
       "      <th>ma</th>\n",
       "      <td>Mary</td>\n",
       "      <td>red</td>\n",
       "      <td>23</td>\n",
       "      <td>2</td>\n",
       "    </tr>\n",
       "    <tr>\n",
       "      <th>jo</th>\n",
       "      <td>John</td>\n",
       "      <td>red</td>\n",
       "      <td>48</td>\n",
       "      <td>6</td>\n",
       "    </tr>\n",
       "    <tr>\n",
       "      <th>me</th>\n",
       "      <td>Mel</td>\n",
       "      <td>blue</td>\n",
       "      <td>70</td>\n",
       "      <td>7</td>\n",
       "    </tr>\n",
       "  </tbody>\n",
       "</table>\n",
       "</div>"
      ]
     },
     "execution_count": 15,
     "metadata": {},
     "output_type": "execute_result"
    }
   ],
   "execution_count": 15
  },
  {
   "metadata": {
    "ExecuteTime": {
     "end_time": "2025-05-26T08:23:47.761026Z",
     "start_time": "2025-05-26T08:23:47.757648Z"
    }
   },
   "cell_type": "code",
   "source": "cats_df['age']['je']",
   "id": "b2823821531b8f9b",
   "outputs": [
    {
     "data": {
      "text/plain": [
       "'53'"
      ]
     },
     "execution_count": 16,
     "metadata": {},
     "output_type": "execute_result"
    }
   ],
   "execution_count": 16
  },
  {
   "metadata": {
    "ExecuteTime": {
     "end_time": "2025-05-26T08:23:47.938883Z",
     "start_time": "2025-05-26T08:23:47.933367Z"
    }
   },
   "cell_type": "code",
   "source": [
    "cats_df.index.name = 'id'\n",
    "cats_df.columns.name = 'attribute'\n",
    "cats_df"
   ],
   "id": "cc1c53cb458e9084",
   "outputs": [
    {
     "data": {
      "text/plain": [
       "attribute     name  color age chunkiness\n",
       "id                                      \n",
       "bo             Bob  green  24          1\n",
       "je         Jessica  black  53          5\n",
       "ma            Mary    red  23          2\n",
       "jo            John    red  48          6\n",
       "me             Mel   blue  70          7"
      ],
      "text/html": [
       "<div>\n",
       "<style scoped>\n",
       "    .dataframe tbody tr th:only-of-type {\n",
       "        vertical-align: middle;\n",
       "    }\n",
       "\n",
       "    .dataframe tbody tr th {\n",
       "        vertical-align: top;\n",
       "    }\n",
       "\n",
       "    .dataframe thead th {\n",
       "        text-align: right;\n",
       "    }\n",
       "</style>\n",
       "<table border=\"1\" class=\"dataframe\">\n",
       "  <thead>\n",
       "    <tr style=\"text-align: right;\">\n",
       "      <th>attribute</th>\n",
       "      <th>name</th>\n",
       "      <th>color</th>\n",
       "      <th>age</th>\n",
       "      <th>chunkiness</th>\n",
       "    </tr>\n",
       "    <tr>\n",
       "      <th>id</th>\n",
       "      <th></th>\n",
       "      <th></th>\n",
       "      <th></th>\n",
       "      <th></th>\n",
       "    </tr>\n",
       "  </thead>\n",
       "  <tbody>\n",
       "    <tr>\n",
       "      <th>bo</th>\n",
       "      <td>Bob</td>\n",
       "      <td>green</td>\n",
       "      <td>24</td>\n",
       "      <td>1</td>\n",
       "    </tr>\n",
       "    <tr>\n",
       "      <th>je</th>\n",
       "      <td>Jessica</td>\n",
       "      <td>black</td>\n",
       "      <td>53</td>\n",
       "      <td>5</td>\n",
       "    </tr>\n",
       "    <tr>\n",
       "      <th>ma</th>\n",
       "      <td>Mary</td>\n",
       "      <td>red</td>\n",
       "      <td>23</td>\n",
       "      <td>2</td>\n",
       "    </tr>\n",
       "    <tr>\n",
       "      <th>jo</th>\n",
       "      <td>John</td>\n",
       "      <td>red</td>\n",
       "      <td>48</td>\n",
       "      <td>6</td>\n",
       "    </tr>\n",
       "    <tr>\n",
       "      <th>me</th>\n",
       "      <td>Mel</td>\n",
       "      <td>blue</td>\n",
       "      <td>70</td>\n",
       "      <td>7</td>\n",
       "    </tr>\n",
       "  </tbody>\n",
       "</table>\n",
       "</div>"
      ]
     },
     "execution_count": 17,
     "metadata": {},
     "output_type": "execute_result"
    }
   ],
   "execution_count": 17
  },
  {
   "metadata": {
    "ExecuteTime": {
     "end_time": "2025-05-26T08:23:48.019568Z",
     "start_time": "2025-05-26T08:23:48.014132Z"
    }
   },
   "cell_type": "code",
   "source": [
    "cats_df['new'] = [1, 2, 3, 4, 5]\n",
    "cats_df"
   ],
   "id": "35632a14147ed9c3",
   "outputs": [
    {
     "data": {
      "text/plain": [
       "attribute     name  color age chunkiness  new\n",
       "id                                           \n",
       "bo             Bob  green  24          1    1\n",
       "je         Jessica  black  53          5    2\n",
       "ma            Mary    red  23          2    3\n",
       "jo            John    red  48          6    4\n",
       "me             Mel   blue  70          7    5"
      ],
      "text/html": [
       "<div>\n",
       "<style scoped>\n",
       "    .dataframe tbody tr th:only-of-type {\n",
       "        vertical-align: middle;\n",
       "    }\n",
       "\n",
       "    .dataframe tbody tr th {\n",
       "        vertical-align: top;\n",
       "    }\n",
       "\n",
       "    .dataframe thead th {\n",
       "        text-align: right;\n",
       "    }\n",
       "</style>\n",
       "<table border=\"1\" class=\"dataframe\">\n",
       "  <thead>\n",
       "    <tr style=\"text-align: right;\">\n",
       "      <th>attribute</th>\n",
       "      <th>name</th>\n",
       "      <th>color</th>\n",
       "      <th>age</th>\n",
       "      <th>chunkiness</th>\n",
       "      <th>new</th>\n",
       "    </tr>\n",
       "    <tr>\n",
       "      <th>id</th>\n",
       "      <th></th>\n",
       "      <th></th>\n",
       "      <th></th>\n",
       "      <th></th>\n",
       "      <th></th>\n",
       "    </tr>\n",
       "  </thead>\n",
       "  <tbody>\n",
       "    <tr>\n",
       "      <th>bo</th>\n",
       "      <td>Bob</td>\n",
       "      <td>green</td>\n",
       "      <td>24</td>\n",
       "      <td>1</td>\n",
       "      <td>1</td>\n",
       "    </tr>\n",
       "    <tr>\n",
       "      <th>je</th>\n",
       "      <td>Jessica</td>\n",
       "      <td>black</td>\n",
       "      <td>53</td>\n",
       "      <td>5</td>\n",
       "      <td>2</td>\n",
       "    </tr>\n",
       "    <tr>\n",
       "      <th>ma</th>\n",
       "      <td>Mary</td>\n",
       "      <td>red</td>\n",
       "      <td>23</td>\n",
       "      <td>2</td>\n",
       "      <td>3</td>\n",
       "    </tr>\n",
       "    <tr>\n",
       "      <th>jo</th>\n",
       "      <td>John</td>\n",
       "      <td>red</td>\n",
       "      <td>48</td>\n",
       "      <td>6</td>\n",
       "      <td>4</td>\n",
       "    </tr>\n",
       "    <tr>\n",
       "      <th>me</th>\n",
       "      <td>Mel</td>\n",
       "      <td>blue</td>\n",
       "      <td>70</td>\n",
       "      <td>7</td>\n",
       "      <td>5</td>\n",
       "    </tr>\n",
       "  </tbody>\n",
       "</table>\n",
       "</div>"
      ]
     },
     "execution_count": 18,
     "metadata": {},
     "output_type": "execute_result"
    }
   ],
   "execution_count": 18
  },
  {
   "metadata": {
    "ExecuteTime": {
     "end_time": "2025-05-26T08:23:48.113189Z",
     "start_time": "2025-05-26T08:23:48.107787Z"
    }
   },
   "cell_type": "code",
   "source": [
    "cats_df['new'] = 0\n",
    "cats_df"
   ],
   "id": "a33d06e85206540b",
   "outputs": [
    {
     "data": {
      "text/plain": [
       "attribute     name  color age chunkiness  new\n",
       "id                                           \n",
       "bo             Bob  green  24          1    0\n",
       "je         Jessica  black  53          5    0\n",
       "ma            Mary    red  23          2    0\n",
       "jo            John    red  48          6    0\n",
       "me             Mel   blue  70          7    0"
      ],
      "text/html": [
       "<div>\n",
       "<style scoped>\n",
       "    .dataframe tbody tr th:only-of-type {\n",
       "        vertical-align: middle;\n",
       "    }\n",
       "\n",
       "    .dataframe tbody tr th {\n",
       "        vertical-align: top;\n",
       "    }\n",
       "\n",
       "    .dataframe thead th {\n",
       "        text-align: right;\n",
       "    }\n",
       "</style>\n",
       "<table border=\"1\" class=\"dataframe\">\n",
       "  <thead>\n",
       "    <tr style=\"text-align: right;\">\n",
       "      <th>attribute</th>\n",
       "      <th>name</th>\n",
       "      <th>color</th>\n",
       "      <th>age</th>\n",
       "      <th>chunkiness</th>\n",
       "      <th>new</th>\n",
       "    </tr>\n",
       "    <tr>\n",
       "      <th>id</th>\n",
       "      <th></th>\n",
       "      <th></th>\n",
       "      <th></th>\n",
       "      <th></th>\n",
       "      <th></th>\n",
       "    </tr>\n",
       "  </thead>\n",
       "  <tbody>\n",
       "    <tr>\n",
       "      <th>bo</th>\n",
       "      <td>Bob</td>\n",
       "      <td>green</td>\n",
       "      <td>24</td>\n",
       "      <td>1</td>\n",
       "      <td>0</td>\n",
       "    </tr>\n",
       "    <tr>\n",
       "      <th>je</th>\n",
       "      <td>Jessica</td>\n",
       "      <td>black</td>\n",
       "      <td>53</td>\n",
       "      <td>5</td>\n",
       "      <td>0</td>\n",
       "    </tr>\n",
       "    <tr>\n",
       "      <th>ma</th>\n",
       "      <td>Mary</td>\n",
       "      <td>red</td>\n",
       "      <td>23</td>\n",
       "      <td>2</td>\n",
       "      <td>0</td>\n",
       "    </tr>\n",
       "    <tr>\n",
       "      <th>jo</th>\n",
       "      <td>John</td>\n",
       "      <td>red</td>\n",
       "      <td>48</td>\n",
       "      <td>6</td>\n",
       "      <td>0</td>\n",
       "    </tr>\n",
       "    <tr>\n",
       "      <th>me</th>\n",
       "      <td>Mel</td>\n",
       "      <td>blue</td>\n",
       "      <td>70</td>\n",
       "      <td>7</td>\n",
       "      <td>0</td>\n",
       "    </tr>\n",
       "  </tbody>\n",
       "</table>\n",
       "</div>"
      ]
     },
     "execution_count": 19,
     "metadata": {},
     "output_type": "execute_result"
    }
   ],
   "execution_count": 19
  },
  {
   "metadata": {
    "ExecuteTime": {
     "end_time": "2025-05-26T08:23:48.205132Z",
     "start_time": "2025-05-26T08:23:48.200458Z"
    }
   },
   "cell_type": "code",
   "source": [
    "cats_df.chunkiness = [6, 2, 3, 5, 1]\n",
    "cats_df"
   ],
   "id": "a71f54dc6d198ac6",
   "outputs": [
    {
     "data": {
      "text/plain": [
       "attribute     name  color age  chunkiness  new\n",
       "id                                            \n",
       "bo             Bob  green  24           6    0\n",
       "je         Jessica  black  53           2    0\n",
       "ma            Mary    red  23           3    0\n",
       "jo            John    red  48           5    0\n",
       "me             Mel   blue  70           1    0"
      ],
      "text/html": [
       "<div>\n",
       "<style scoped>\n",
       "    .dataframe tbody tr th:only-of-type {\n",
       "        vertical-align: middle;\n",
       "    }\n",
       "\n",
       "    .dataframe tbody tr th {\n",
       "        vertical-align: top;\n",
       "    }\n",
       "\n",
       "    .dataframe thead th {\n",
       "        text-align: right;\n",
       "    }\n",
       "</style>\n",
       "<table border=\"1\" class=\"dataframe\">\n",
       "  <thead>\n",
       "    <tr style=\"text-align: right;\">\n",
       "      <th>attribute</th>\n",
       "      <th>name</th>\n",
       "      <th>color</th>\n",
       "      <th>age</th>\n",
       "      <th>chunkiness</th>\n",
       "      <th>new</th>\n",
       "    </tr>\n",
       "    <tr>\n",
       "      <th>id</th>\n",
       "      <th></th>\n",
       "      <th></th>\n",
       "      <th></th>\n",
       "      <th></th>\n",
       "      <th></th>\n",
       "    </tr>\n",
       "  </thead>\n",
       "  <tbody>\n",
       "    <tr>\n",
       "      <th>bo</th>\n",
       "      <td>Bob</td>\n",
       "      <td>green</td>\n",
       "      <td>24</td>\n",
       "      <td>6</td>\n",
       "      <td>0</td>\n",
       "    </tr>\n",
       "    <tr>\n",
       "      <th>je</th>\n",
       "      <td>Jessica</td>\n",
       "      <td>black</td>\n",
       "      <td>53</td>\n",
       "      <td>2</td>\n",
       "      <td>0</td>\n",
       "    </tr>\n",
       "    <tr>\n",
       "      <th>ma</th>\n",
       "      <td>Mary</td>\n",
       "      <td>red</td>\n",
       "      <td>23</td>\n",
       "      <td>3</td>\n",
       "      <td>0</td>\n",
       "    </tr>\n",
       "    <tr>\n",
       "      <th>jo</th>\n",
       "      <td>John</td>\n",
       "      <td>red</td>\n",
       "      <td>48</td>\n",
       "      <td>5</td>\n",
       "      <td>0</td>\n",
       "    </tr>\n",
       "    <tr>\n",
       "      <th>me</th>\n",
       "      <td>Mel</td>\n",
       "      <td>blue</td>\n",
       "      <td>70</td>\n",
       "      <td>1</td>\n",
       "      <td>0</td>\n",
       "    </tr>\n",
       "  </tbody>\n",
       "</table>\n",
       "</div>"
      ]
     },
     "execution_count": 20,
     "metadata": {},
     "output_type": "execute_result"
    }
   ],
   "execution_count": 20
  },
  {
   "metadata": {
    "ExecuteTime": {
     "end_time": "2025-05-26T08:23:48.346354Z",
     "start_time": "2025-05-26T08:23:48.341864Z"
    }
   },
   "cell_type": "code",
   "source": [
    "cats_df.new = pd.Series([1, 2, 3, 4, 5], index=['bo', 'je', 'ma', 'jo', 'me'])\n",
    "cats_df"
   ],
   "id": "7f152cc8f585d0a3",
   "outputs": [
    {
     "data": {
      "text/plain": [
       "attribute     name  color age  chunkiness  new\n",
       "id                                            \n",
       "bo             Bob  green  24           6    1\n",
       "je         Jessica  black  53           2    2\n",
       "ma            Mary    red  23           3    3\n",
       "jo            John    red  48           5    4\n",
       "me             Mel   blue  70           1    5"
      ],
      "text/html": [
       "<div>\n",
       "<style scoped>\n",
       "    .dataframe tbody tr th:only-of-type {\n",
       "        vertical-align: middle;\n",
       "    }\n",
       "\n",
       "    .dataframe tbody tr th {\n",
       "        vertical-align: top;\n",
       "    }\n",
       "\n",
       "    .dataframe thead th {\n",
       "        text-align: right;\n",
       "    }\n",
       "</style>\n",
       "<table border=\"1\" class=\"dataframe\">\n",
       "  <thead>\n",
       "    <tr style=\"text-align: right;\">\n",
       "      <th>attribute</th>\n",
       "      <th>name</th>\n",
       "      <th>color</th>\n",
       "      <th>age</th>\n",
       "      <th>chunkiness</th>\n",
       "      <th>new</th>\n",
       "    </tr>\n",
       "    <tr>\n",
       "      <th>id</th>\n",
       "      <th></th>\n",
       "      <th></th>\n",
       "      <th></th>\n",
       "      <th></th>\n",
       "      <th></th>\n",
       "    </tr>\n",
       "  </thead>\n",
       "  <tbody>\n",
       "    <tr>\n",
       "      <th>bo</th>\n",
       "      <td>Bob</td>\n",
       "      <td>green</td>\n",
       "      <td>24</td>\n",
       "      <td>6</td>\n",
       "      <td>1</td>\n",
       "    </tr>\n",
       "    <tr>\n",
       "      <th>je</th>\n",
       "      <td>Jessica</td>\n",
       "      <td>black</td>\n",
       "      <td>53</td>\n",
       "      <td>2</td>\n",
       "      <td>2</td>\n",
       "    </tr>\n",
       "    <tr>\n",
       "      <th>ma</th>\n",
       "      <td>Mary</td>\n",
       "      <td>red</td>\n",
       "      <td>23</td>\n",
       "      <td>3</td>\n",
       "      <td>3</td>\n",
       "    </tr>\n",
       "    <tr>\n",
       "      <th>jo</th>\n",
       "      <td>John</td>\n",
       "      <td>red</td>\n",
       "      <td>48</td>\n",
       "      <td>5</td>\n",
       "      <td>4</td>\n",
       "    </tr>\n",
       "    <tr>\n",
       "      <th>me</th>\n",
       "      <td>Mel</td>\n",
       "      <td>blue</td>\n",
       "      <td>70</td>\n",
       "      <td>1</td>\n",
       "      <td>5</td>\n",
       "    </tr>\n",
       "  </tbody>\n",
       "</table>\n",
       "</div>"
      ]
     },
     "execution_count": 21,
     "metadata": {},
     "output_type": "execute_result"
    }
   ],
   "execution_count": 21
  },
  {
   "metadata": {
    "ExecuteTime": {
     "end_time": "2025-05-26T08:23:48.457601Z",
     "start_time": "2025-05-26T08:23:48.448925Z"
    }
   },
   "cell_type": "code",
   "source": [
    "cats_df.new = pd.Series([1, 2, 3, 4, 5], index=['je', 'bo', 'ma', 'jo', 'io'])\n",
    "cats_df"
   ],
   "id": "51058cea4e71b447",
   "outputs": [
    {
     "data": {
      "text/plain": [
       "attribute     name  color age  chunkiness  new\n",
       "id                                            \n",
       "bo             Bob  green  24           6  2.0\n",
       "je         Jessica  black  53           2  1.0\n",
       "ma            Mary    red  23           3  3.0\n",
       "jo            John    red  48           5  4.0\n",
       "me             Mel   blue  70           1  NaN"
      ],
      "text/html": [
       "<div>\n",
       "<style scoped>\n",
       "    .dataframe tbody tr th:only-of-type {\n",
       "        vertical-align: middle;\n",
       "    }\n",
       "\n",
       "    .dataframe tbody tr th {\n",
       "        vertical-align: top;\n",
       "    }\n",
       "\n",
       "    .dataframe thead th {\n",
       "        text-align: right;\n",
       "    }\n",
       "</style>\n",
       "<table border=\"1\" class=\"dataframe\">\n",
       "  <thead>\n",
       "    <tr style=\"text-align: right;\">\n",
       "      <th>attribute</th>\n",
       "      <th>name</th>\n",
       "      <th>color</th>\n",
       "      <th>age</th>\n",
       "      <th>chunkiness</th>\n",
       "      <th>new</th>\n",
       "    </tr>\n",
       "    <tr>\n",
       "      <th>id</th>\n",
       "      <th></th>\n",
       "      <th></th>\n",
       "      <th></th>\n",
       "      <th></th>\n",
       "      <th></th>\n",
       "    </tr>\n",
       "  </thead>\n",
       "  <tbody>\n",
       "    <tr>\n",
       "      <th>bo</th>\n",
       "      <td>Bob</td>\n",
       "      <td>green</td>\n",
       "      <td>24</td>\n",
       "      <td>6</td>\n",
       "      <td>2.0</td>\n",
       "    </tr>\n",
       "    <tr>\n",
       "      <th>je</th>\n",
       "      <td>Jessica</td>\n",
       "      <td>black</td>\n",
       "      <td>53</td>\n",
       "      <td>2</td>\n",
       "      <td>1.0</td>\n",
       "    </tr>\n",
       "    <tr>\n",
       "      <th>ma</th>\n",
       "      <td>Mary</td>\n",
       "      <td>red</td>\n",
       "      <td>23</td>\n",
       "      <td>3</td>\n",
       "      <td>3.0</td>\n",
       "    </tr>\n",
       "    <tr>\n",
       "      <th>jo</th>\n",
       "      <td>John</td>\n",
       "      <td>red</td>\n",
       "      <td>48</td>\n",
       "      <td>5</td>\n",
       "      <td>4.0</td>\n",
       "    </tr>\n",
       "    <tr>\n",
       "      <th>me</th>\n",
       "      <td>Mel</td>\n",
       "      <td>blue</td>\n",
       "      <td>70</td>\n",
       "      <td>1</td>\n",
       "      <td>NaN</td>\n",
       "    </tr>\n",
       "  </tbody>\n",
       "</table>\n",
       "</div>"
      ]
     },
     "execution_count": 22,
     "metadata": {},
     "output_type": "execute_result"
    }
   ],
   "execution_count": 22
  },
  {
   "metadata": {
    "ExecuteTime": {
     "end_time": "2025-05-26T08:23:48.626171Z",
     "start_time": "2025-05-26T08:23:48.620567Z"
    }
   },
   "cell_type": "code",
   "source": [
    "cats_df['new']['me'] = 999\n",
    "cats_df"
   ],
   "id": "517ca13079fd522",
   "outputs": [
    {
     "name": "stderr",
     "output_type": "stream",
     "text": [
      "/var/folders/5z/_4ymrqb55gl_n9nt577w6kkm0000gn/T/ipykernel_97126/730843231.py:1: FutureWarning: ChainedAssignmentError: behaviour will change in pandas 3.0!\n",
      "You are setting values through chained assignment. Currently this works in certain cases, but when using Copy-on-Write (which will become the default behaviour in pandas 3.0) this will never work to update the original DataFrame or Series, because the intermediate object on which we are setting values will behave as a copy.\n",
      "A typical example is when you are setting values in a column of a DataFrame, like:\n",
      "\n",
      "df[\"col\"][row_indexer] = value\n",
      "\n",
      "Use `df.loc[row_indexer, \"col\"] = values` instead, to perform the assignment in a single step and ensure this keeps updating the original `df`.\n",
      "\n",
      "See the caveats in the documentation: https://pandas.pydata.org/pandas-docs/stable/user_guide/indexing.html#returning-a-view-versus-a-copy\n",
      "\n",
      "  cats_df['new']['me'] = 999\n",
      "/var/folders/5z/_4ymrqb55gl_n9nt577w6kkm0000gn/T/ipykernel_97126/730843231.py:1: SettingWithCopyWarning: \n",
      "A value is trying to be set on a copy of a slice from a DataFrame\n",
      "\n",
      "See the caveats in the documentation: https://pandas.pydata.org/pandas-docs/stable/user_guide/indexing.html#returning-a-view-versus-a-copy\n",
      "  cats_df['new']['me'] = 999\n"
     ]
    },
    {
     "data": {
      "text/plain": [
       "attribute     name  color age  chunkiness    new\n",
       "id                                              \n",
       "bo             Bob  green  24           6    2.0\n",
       "je         Jessica  black  53           2    1.0\n",
       "ma            Mary    red  23           3    3.0\n",
       "jo            John    red  48           5    4.0\n",
       "me             Mel   blue  70           1  999.0"
      ],
      "text/html": [
       "<div>\n",
       "<style scoped>\n",
       "    .dataframe tbody tr th:only-of-type {\n",
       "        vertical-align: middle;\n",
       "    }\n",
       "\n",
       "    .dataframe tbody tr th {\n",
       "        vertical-align: top;\n",
       "    }\n",
       "\n",
       "    .dataframe thead th {\n",
       "        text-align: right;\n",
       "    }\n",
       "</style>\n",
       "<table border=\"1\" class=\"dataframe\">\n",
       "  <thead>\n",
       "    <tr style=\"text-align: right;\">\n",
       "      <th>attribute</th>\n",
       "      <th>name</th>\n",
       "      <th>color</th>\n",
       "      <th>age</th>\n",
       "      <th>chunkiness</th>\n",
       "      <th>new</th>\n",
       "    </tr>\n",
       "    <tr>\n",
       "      <th>id</th>\n",
       "      <th></th>\n",
       "      <th></th>\n",
       "      <th></th>\n",
       "      <th></th>\n",
       "      <th></th>\n",
       "    </tr>\n",
       "  </thead>\n",
       "  <tbody>\n",
       "    <tr>\n",
       "      <th>bo</th>\n",
       "      <td>Bob</td>\n",
       "      <td>green</td>\n",
       "      <td>24</td>\n",
       "      <td>6</td>\n",
       "      <td>2.0</td>\n",
       "    </tr>\n",
       "    <tr>\n",
       "      <th>je</th>\n",
       "      <td>Jessica</td>\n",
       "      <td>black</td>\n",
       "      <td>53</td>\n",
       "      <td>2</td>\n",
       "      <td>1.0</td>\n",
       "    </tr>\n",
       "    <tr>\n",
       "      <th>ma</th>\n",
       "      <td>Mary</td>\n",
       "      <td>red</td>\n",
       "      <td>23</td>\n",
       "      <td>3</td>\n",
       "      <td>3.0</td>\n",
       "    </tr>\n",
       "    <tr>\n",
       "      <th>jo</th>\n",
       "      <td>John</td>\n",
       "      <td>red</td>\n",
       "      <td>48</td>\n",
       "      <td>5</td>\n",
       "      <td>4.0</td>\n",
       "    </tr>\n",
       "    <tr>\n",
       "      <th>me</th>\n",
       "      <td>Mel</td>\n",
       "      <td>blue</td>\n",
       "      <td>70</td>\n",
       "      <td>1</td>\n",
       "      <td>999.0</td>\n",
       "    </tr>\n",
       "  </tbody>\n",
       "</table>\n",
       "</div>"
      ]
     },
     "execution_count": 23,
     "metadata": {},
     "output_type": "execute_result"
    }
   ],
   "execution_count": 23
  },
  {
   "metadata": {
    "ExecuteTime": {
     "end_time": "2025-05-26T08:23:48.756208Z",
     "start_time": "2025-05-26T08:23:48.754142Z"
    }
   },
   "cell_type": "code",
   "source": "cats_df.loc['me', 'new'] = 888",
   "id": "bc1ffa38a40dc8d4",
   "outputs": [],
   "execution_count": 24
  },
  {
   "metadata": {
    "ExecuteTime": {
     "end_time": "2025-05-26T08:23:48.886424Z",
     "start_time": "2025-05-26T08:23:48.882108Z"
    }
   },
   "cell_type": "code",
   "source": "cats_df",
   "id": "d169d7a50ed6bd76",
   "outputs": [
    {
     "data": {
      "text/plain": [
       "attribute     name  color age  chunkiness    new\n",
       "id                                              \n",
       "bo             Bob  green  24           6    2.0\n",
       "je         Jessica  black  53           2    1.0\n",
       "ma            Mary    red  23           3    3.0\n",
       "jo            John    red  48           5    4.0\n",
       "me             Mel   blue  70           1  888.0"
      ],
      "text/html": [
       "<div>\n",
       "<style scoped>\n",
       "    .dataframe tbody tr th:only-of-type {\n",
       "        vertical-align: middle;\n",
       "    }\n",
       "\n",
       "    .dataframe tbody tr th {\n",
       "        vertical-align: top;\n",
       "    }\n",
       "\n",
       "    .dataframe thead th {\n",
       "        text-align: right;\n",
       "    }\n",
       "</style>\n",
       "<table border=\"1\" class=\"dataframe\">\n",
       "  <thead>\n",
       "    <tr style=\"text-align: right;\">\n",
       "      <th>attribute</th>\n",
       "      <th>name</th>\n",
       "      <th>color</th>\n",
       "      <th>age</th>\n",
       "      <th>chunkiness</th>\n",
       "      <th>new</th>\n",
       "    </tr>\n",
       "    <tr>\n",
       "      <th>id</th>\n",
       "      <th></th>\n",
       "      <th></th>\n",
       "      <th></th>\n",
       "      <th></th>\n",
       "      <th></th>\n",
       "    </tr>\n",
       "  </thead>\n",
       "  <tbody>\n",
       "    <tr>\n",
       "      <th>bo</th>\n",
       "      <td>Bob</td>\n",
       "      <td>green</td>\n",
       "      <td>24</td>\n",
       "      <td>6</td>\n",
       "      <td>2.0</td>\n",
       "    </tr>\n",
       "    <tr>\n",
       "      <th>je</th>\n",
       "      <td>Jessica</td>\n",
       "      <td>black</td>\n",
       "      <td>53</td>\n",
       "      <td>2</td>\n",
       "      <td>1.0</td>\n",
       "    </tr>\n",
       "    <tr>\n",
       "      <th>ma</th>\n",
       "      <td>Mary</td>\n",
       "      <td>red</td>\n",
       "      <td>23</td>\n",
       "      <td>3</td>\n",
       "      <td>3.0</td>\n",
       "    </tr>\n",
       "    <tr>\n",
       "      <th>jo</th>\n",
       "      <td>John</td>\n",
       "      <td>red</td>\n",
       "      <td>48</td>\n",
       "      <td>5</td>\n",
       "      <td>4.0</td>\n",
       "    </tr>\n",
       "    <tr>\n",
       "      <th>me</th>\n",
       "      <td>Mel</td>\n",
       "      <td>blue</td>\n",
       "      <td>70</td>\n",
       "      <td>1</td>\n",
       "      <td>888.0</td>\n",
       "    </tr>\n",
       "  </tbody>\n",
       "</table>\n",
       "</div>"
      ]
     },
     "execution_count": 25,
     "metadata": {},
     "output_type": "execute_result"
    }
   ],
   "execution_count": 25
  },
  {
   "metadata": {
    "ExecuteTime": {
     "end_time": "2025-05-26T08:23:48.972399Z",
     "start_time": "2025-05-26T08:23:48.966614Z"
    }
   },
   "cell_type": "code",
   "source": "cats_df.isin(['24', 'Jessica', 888.0, 'Hello'])",
   "id": "cda7a0271f9db98b",
   "outputs": [
    {
     "data": {
      "text/plain": [
       "attribute   name  color    age  chunkiness    new\n",
       "id                                               \n",
       "bo         False  False   True       False  False\n",
       "je          True  False  False       False  False\n",
       "ma         False  False  False       False  False\n",
       "jo         False  False  False       False  False\n",
       "me         False  False  False       False   True"
      ],
      "text/html": [
       "<div>\n",
       "<style scoped>\n",
       "    .dataframe tbody tr th:only-of-type {\n",
       "        vertical-align: middle;\n",
       "    }\n",
       "\n",
       "    .dataframe tbody tr th {\n",
       "        vertical-align: top;\n",
       "    }\n",
       "\n",
       "    .dataframe thead th {\n",
       "        text-align: right;\n",
       "    }\n",
       "</style>\n",
       "<table border=\"1\" class=\"dataframe\">\n",
       "  <thead>\n",
       "    <tr style=\"text-align: right;\">\n",
       "      <th>attribute</th>\n",
       "      <th>name</th>\n",
       "      <th>color</th>\n",
       "      <th>age</th>\n",
       "      <th>chunkiness</th>\n",
       "      <th>new</th>\n",
       "    </tr>\n",
       "    <tr>\n",
       "      <th>id</th>\n",
       "      <th></th>\n",
       "      <th></th>\n",
       "      <th></th>\n",
       "      <th></th>\n",
       "      <th></th>\n",
       "    </tr>\n",
       "  </thead>\n",
       "  <tbody>\n",
       "    <tr>\n",
       "      <th>bo</th>\n",
       "      <td>False</td>\n",
       "      <td>False</td>\n",
       "      <td>True</td>\n",
       "      <td>False</td>\n",
       "      <td>False</td>\n",
       "    </tr>\n",
       "    <tr>\n",
       "      <th>je</th>\n",
       "      <td>True</td>\n",
       "      <td>False</td>\n",
       "      <td>False</td>\n",
       "      <td>False</td>\n",
       "      <td>False</td>\n",
       "    </tr>\n",
       "    <tr>\n",
       "      <th>ma</th>\n",
       "      <td>False</td>\n",
       "      <td>False</td>\n",
       "      <td>False</td>\n",
       "      <td>False</td>\n",
       "      <td>False</td>\n",
       "    </tr>\n",
       "    <tr>\n",
       "      <th>jo</th>\n",
       "      <td>False</td>\n",
       "      <td>False</td>\n",
       "      <td>False</td>\n",
       "      <td>False</td>\n",
       "      <td>False</td>\n",
       "    </tr>\n",
       "    <tr>\n",
       "      <th>me</th>\n",
       "      <td>False</td>\n",
       "      <td>False</td>\n",
       "      <td>False</td>\n",
       "      <td>False</td>\n",
       "      <td>True</td>\n",
       "    </tr>\n",
       "  </tbody>\n",
       "</table>\n",
       "</div>"
      ]
     },
     "execution_count": 26,
     "metadata": {},
     "output_type": "execute_result"
    }
   ],
   "execution_count": 26
  },
  {
   "metadata": {
    "ExecuteTime": {
     "end_time": "2025-05-26T08:23:49.073448Z",
     "start_time": "2025-05-26T08:23:49.067569Z"
    }
   },
   "cell_type": "code",
   "source": "cats_df[cats_df.isin(['24', 'Jessica', 888.0, 'Hello'])]",
   "id": "dab9eee4ba372a3",
   "outputs": [
    {
     "data": {
      "text/plain": [
       "attribute     name color  age  chunkiness    new\n",
       "id                                              \n",
       "bo             NaN   NaN   24         NaN    NaN\n",
       "je         Jessica   NaN  NaN         NaN    NaN\n",
       "ma             NaN   NaN  NaN         NaN    NaN\n",
       "jo             NaN   NaN  NaN         NaN    NaN\n",
       "me             NaN   NaN  NaN         NaN  888.0"
      ],
      "text/html": [
       "<div>\n",
       "<style scoped>\n",
       "    .dataframe tbody tr th:only-of-type {\n",
       "        vertical-align: middle;\n",
       "    }\n",
       "\n",
       "    .dataframe tbody tr th {\n",
       "        vertical-align: top;\n",
       "    }\n",
       "\n",
       "    .dataframe thead th {\n",
       "        text-align: right;\n",
       "    }\n",
       "</style>\n",
       "<table border=\"1\" class=\"dataframe\">\n",
       "  <thead>\n",
       "    <tr style=\"text-align: right;\">\n",
       "      <th>attribute</th>\n",
       "      <th>name</th>\n",
       "      <th>color</th>\n",
       "      <th>age</th>\n",
       "      <th>chunkiness</th>\n",
       "      <th>new</th>\n",
       "    </tr>\n",
       "    <tr>\n",
       "      <th>id</th>\n",
       "      <th></th>\n",
       "      <th></th>\n",
       "      <th></th>\n",
       "      <th></th>\n",
       "      <th></th>\n",
       "    </tr>\n",
       "  </thead>\n",
       "  <tbody>\n",
       "    <tr>\n",
       "      <th>bo</th>\n",
       "      <td>NaN</td>\n",
       "      <td>NaN</td>\n",
       "      <td>24</td>\n",
       "      <td>NaN</td>\n",
       "      <td>NaN</td>\n",
       "    </tr>\n",
       "    <tr>\n",
       "      <th>je</th>\n",
       "      <td>Jessica</td>\n",
       "      <td>NaN</td>\n",
       "      <td>NaN</td>\n",
       "      <td>NaN</td>\n",
       "      <td>NaN</td>\n",
       "    </tr>\n",
       "    <tr>\n",
       "      <th>ma</th>\n",
       "      <td>NaN</td>\n",
       "      <td>NaN</td>\n",
       "      <td>NaN</td>\n",
       "      <td>NaN</td>\n",
       "      <td>NaN</td>\n",
       "    </tr>\n",
       "    <tr>\n",
       "      <th>jo</th>\n",
       "      <td>NaN</td>\n",
       "      <td>NaN</td>\n",
       "      <td>NaN</td>\n",
       "      <td>NaN</td>\n",
       "      <td>NaN</td>\n",
       "    </tr>\n",
       "    <tr>\n",
       "      <th>me</th>\n",
       "      <td>NaN</td>\n",
       "      <td>NaN</td>\n",
       "      <td>NaN</td>\n",
       "      <td>NaN</td>\n",
       "      <td>888.0</td>\n",
       "    </tr>\n",
       "  </tbody>\n",
       "</table>\n",
       "</div>"
      ]
     },
     "execution_count": 27,
     "metadata": {},
     "output_type": "execute_result"
    }
   ],
   "execution_count": 27
  },
  {
   "metadata": {
    "ExecuteTime": {
     "end_time": "2025-05-26T08:23:49.162323Z",
     "start_time": "2025-05-26T08:23:49.156630Z"
    }
   },
   "cell_type": "code",
   "source": [
    "del cats_df['new']\n",
    "cats_df"
   ],
   "id": "fac61dee6f90ad27",
   "outputs": [
    {
     "data": {
      "text/plain": [
       "attribute     name  color age  chunkiness\n",
       "id                                       \n",
       "bo             Bob  green  24           6\n",
       "je         Jessica  black  53           2\n",
       "ma            Mary    red  23           3\n",
       "jo            John    red  48           5\n",
       "me             Mel   blue  70           1"
      ],
      "text/html": [
       "<div>\n",
       "<style scoped>\n",
       "    .dataframe tbody tr th:only-of-type {\n",
       "        vertical-align: middle;\n",
       "    }\n",
       "\n",
       "    .dataframe tbody tr th {\n",
       "        vertical-align: top;\n",
       "    }\n",
       "\n",
       "    .dataframe thead th {\n",
       "        text-align: right;\n",
       "    }\n",
       "</style>\n",
       "<table border=\"1\" class=\"dataframe\">\n",
       "  <thead>\n",
       "    <tr style=\"text-align: right;\">\n",
       "      <th>attribute</th>\n",
       "      <th>name</th>\n",
       "      <th>color</th>\n",
       "      <th>age</th>\n",
       "      <th>chunkiness</th>\n",
       "    </tr>\n",
       "    <tr>\n",
       "      <th>id</th>\n",
       "      <th></th>\n",
       "      <th></th>\n",
       "      <th></th>\n",
       "      <th></th>\n",
       "    </tr>\n",
       "  </thead>\n",
       "  <tbody>\n",
       "    <tr>\n",
       "      <th>bo</th>\n",
       "      <td>Bob</td>\n",
       "      <td>green</td>\n",
       "      <td>24</td>\n",
       "      <td>6</td>\n",
       "    </tr>\n",
       "    <tr>\n",
       "      <th>je</th>\n",
       "      <td>Jessica</td>\n",
       "      <td>black</td>\n",
       "      <td>53</td>\n",
       "      <td>2</td>\n",
       "    </tr>\n",
       "    <tr>\n",
       "      <th>ma</th>\n",
       "      <td>Mary</td>\n",
       "      <td>red</td>\n",
       "      <td>23</td>\n",
       "      <td>3</td>\n",
       "    </tr>\n",
       "    <tr>\n",
       "      <th>jo</th>\n",
       "      <td>John</td>\n",
       "      <td>red</td>\n",
       "      <td>48</td>\n",
       "      <td>5</td>\n",
       "    </tr>\n",
       "    <tr>\n",
       "      <th>me</th>\n",
       "      <td>Mel</td>\n",
       "      <td>blue</td>\n",
       "      <td>70</td>\n",
       "      <td>1</td>\n",
       "    </tr>\n",
       "  </tbody>\n",
       "</table>\n",
       "</div>"
      ]
     },
     "execution_count": 28,
     "metadata": {},
     "output_type": "execute_result"
    }
   ],
   "execution_count": 28
  },
  {
   "metadata": {
    "ExecuteTime": {
     "end_time": "2025-05-26T08:23:49.315162Z",
     "start_time": "2025-05-26T08:23:49.313144Z"
    }
   },
   "cell_type": "code",
   "source": "del cats_df['chunkiness']",
   "id": "c7691f82a4a946dd",
   "outputs": [],
   "execution_count": 29
  },
  {
   "metadata": {
    "ExecuteTime": {
     "end_time": "2025-05-26T08:23:49.476191Z",
     "start_time": "2025-05-26T08:23:49.470838Z"
    }
   },
   "cell_type": "code",
   "source": "cats_df",
   "id": "eb255784392caf3",
   "outputs": [
    {
     "data": {
      "text/plain": [
       "attribute     name  color age\n",
       "id                           \n",
       "bo             Bob  green  24\n",
       "je         Jessica  black  53\n",
       "ma            Mary    red  23\n",
       "jo            John    red  48\n",
       "me             Mel   blue  70"
      ],
      "text/html": [
       "<div>\n",
       "<style scoped>\n",
       "    .dataframe tbody tr th:only-of-type {\n",
       "        vertical-align: middle;\n",
       "    }\n",
       "\n",
       "    .dataframe tbody tr th {\n",
       "        vertical-align: top;\n",
       "    }\n",
       "\n",
       "    .dataframe thead th {\n",
       "        text-align: right;\n",
       "    }\n",
       "</style>\n",
       "<table border=\"1\" class=\"dataframe\">\n",
       "  <thead>\n",
       "    <tr style=\"text-align: right;\">\n",
       "      <th>attribute</th>\n",
       "      <th>name</th>\n",
       "      <th>color</th>\n",
       "      <th>age</th>\n",
       "    </tr>\n",
       "    <tr>\n",
       "      <th>id</th>\n",
       "      <th></th>\n",
       "      <th></th>\n",
       "      <th></th>\n",
       "    </tr>\n",
       "  </thead>\n",
       "  <tbody>\n",
       "    <tr>\n",
       "      <th>bo</th>\n",
       "      <td>Bob</td>\n",
       "      <td>green</td>\n",
       "      <td>24</td>\n",
       "    </tr>\n",
       "    <tr>\n",
       "      <th>je</th>\n",
       "      <td>Jessica</td>\n",
       "      <td>black</td>\n",
       "      <td>53</td>\n",
       "    </tr>\n",
       "    <tr>\n",
       "      <th>ma</th>\n",
       "      <td>Mary</td>\n",
       "      <td>red</td>\n",
       "      <td>23</td>\n",
       "    </tr>\n",
       "    <tr>\n",
       "      <th>jo</th>\n",
       "      <td>John</td>\n",
       "      <td>red</td>\n",
       "      <td>48</td>\n",
       "    </tr>\n",
       "    <tr>\n",
       "      <th>me</th>\n",
       "      <td>Mel</td>\n",
       "      <td>blue</td>\n",
       "      <td>70</td>\n",
       "    </tr>\n",
       "  </tbody>\n",
       "</table>\n",
       "</div>"
      ]
     },
     "execution_count": 30,
     "metadata": {},
     "output_type": "execute_result"
    }
   ],
   "execution_count": 30
  },
  {
   "metadata": {
    "ExecuteTime": {
     "end_time": "2025-05-26T08:23:49.603315Z",
     "start_time": "2025-05-26T08:23:49.599118Z"
    }
   },
   "cell_type": "code",
   "source": [
    "frame = pd.DataFrame(\n",
    "    np.arange(16).reshape((4, 4)),\n",
    "    index=['red', 'blue', 'yellow', 'white'],\n",
    "    columns=['ball', 'pen', 'pencil', 'paper']\n",
    ")\n",
    "frame\n",
    "\n"
   ],
   "id": "5d261ed08d97c97c",
   "outputs": [
    {
     "data": {
      "text/plain": [
       "        ball  pen  pencil  paper\n",
       "red        0    1       2      3\n",
       "blue       4    5       6      7\n",
       "yellow     8    9      10     11\n",
       "white     12   13      14     15"
      ],
      "text/html": [
       "<div>\n",
       "<style scoped>\n",
       "    .dataframe tbody tr th:only-of-type {\n",
       "        vertical-align: middle;\n",
       "    }\n",
       "\n",
       "    .dataframe tbody tr th {\n",
       "        vertical-align: top;\n",
       "    }\n",
       "\n",
       "    .dataframe thead th {\n",
       "        text-align: right;\n",
       "    }\n",
       "</style>\n",
       "<table border=\"1\" class=\"dataframe\">\n",
       "  <thead>\n",
       "    <tr style=\"text-align: right;\">\n",
       "      <th></th>\n",
       "      <th>ball</th>\n",
       "      <th>pen</th>\n",
       "      <th>pencil</th>\n",
       "      <th>paper</th>\n",
       "    </tr>\n",
       "  </thead>\n",
       "  <tbody>\n",
       "    <tr>\n",
       "      <th>red</th>\n",
       "      <td>0</td>\n",
       "      <td>1</td>\n",
       "      <td>2</td>\n",
       "      <td>3</td>\n",
       "    </tr>\n",
       "    <tr>\n",
       "      <th>blue</th>\n",
       "      <td>4</td>\n",
       "      <td>5</td>\n",
       "      <td>6</td>\n",
       "      <td>7</td>\n",
       "    </tr>\n",
       "    <tr>\n",
       "      <th>yellow</th>\n",
       "      <td>8</td>\n",
       "      <td>9</td>\n",
       "      <td>10</td>\n",
       "      <td>11</td>\n",
       "    </tr>\n",
       "    <tr>\n",
       "      <th>white</th>\n",
       "      <td>12</td>\n",
       "      <td>13</td>\n",
       "      <td>14</td>\n",
       "      <td>15</td>\n",
       "    </tr>\n",
       "  </tbody>\n",
       "</table>\n",
       "</div>"
      ]
     },
     "execution_count": 31,
     "metadata": {},
     "output_type": "execute_result"
    }
   ],
   "execution_count": 31
  },
  {
   "metadata": {
    "ExecuteTime": {
     "end_time": "2025-05-26T08:23:49.677412Z",
     "start_time": "2025-05-26T08:23:49.675431Z"
    }
   },
   "cell_type": "code",
   "source": "mask = frame < 8",
   "id": "c0a656833017363d",
   "outputs": [],
   "execution_count": 32
  },
  {
   "metadata": {
    "ExecuteTime": {
     "end_time": "2025-05-26T08:23:49.769996Z",
     "start_time": "2025-05-26T08:23:49.765459Z"
    }
   },
   "cell_type": "code",
   "source": "frame[frame < 8]",
   "id": "2aa1e0c439ace759",
   "outputs": [
    {
     "data": {
      "text/plain": [
       "        ball  pen  pencil  paper\n",
       "red      0.0  1.0     2.0    3.0\n",
       "blue     4.0  5.0     6.0    7.0\n",
       "yellow   NaN  NaN     NaN    NaN\n",
       "white    NaN  NaN     NaN    NaN"
      ],
      "text/html": [
       "<div>\n",
       "<style scoped>\n",
       "    .dataframe tbody tr th:only-of-type {\n",
       "        vertical-align: middle;\n",
       "    }\n",
       "\n",
       "    .dataframe tbody tr th {\n",
       "        vertical-align: top;\n",
       "    }\n",
       "\n",
       "    .dataframe thead th {\n",
       "        text-align: right;\n",
       "    }\n",
       "</style>\n",
       "<table border=\"1\" class=\"dataframe\">\n",
       "  <thead>\n",
       "    <tr style=\"text-align: right;\">\n",
       "      <th></th>\n",
       "      <th>ball</th>\n",
       "      <th>pen</th>\n",
       "      <th>pencil</th>\n",
       "      <th>paper</th>\n",
       "    </tr>\n",
       "  </thead>\n",
       "  <tbody>\n",
       "    <tr>\n",
       "      <th>red</th>\n",
       "      <td>0.0</td>\n",
       "      <td>1.0</td>\n",
       "      <td>2.0</td>\n",
       "      <td>3.0</td>\n",
       "    </tr>\n",
       "    <tr>\n",
       "      <th>blue</th>\n",
       "      <td>4.0</td>\n",
       "      <td>5.0</td>\n",
       "      <td>6.0</td>\n",
       "      <td>7.0</td>\n",
       "    </tr>\n",
       "    <tr>\n",
       "      <th>yellow</th>\n",
       "      <td>NaN</td>\n",
       "      <td>NaN</td>\n",
       "      <td>NaN</td>\n",
       "      <td>NaN</td>\n",
       "    </tr>\n",
       "    <tr>\n",
       "      <th>white</th>\n",
       "      <td>NaN</td>\n",
       "      <td>NaN</td>\n",
       "      <td>NaN</td>\n",
       "      <td>NaN</td>\n",
       "    </tr>\n",
       "  </tbody>\n",
       "</table>\n",
       "</div>"
      ]
     },
     "execution_count": 33,
     "metadata": {},
     "output_type": "execute_result"
    }
   ],
   "execution_count": 33
  },
  {
   "metadata": {
    "ExecuteTime": {
     "end_time": "2025-05-26T08:23:49.855453Z",
     "start_time": "2025-05-26T08:23:49.847786Z"
    }
   },
   "cell_type": "code",
   "source": [
    "nestdict = {\n",
    "    'red': {2012: 22, 2013: 33, 2077: 44},\n",
    "    'white': {2011: 13, 2012: 22, 2013: 16},\n",
    "    'blue': {2011: 17, 2012: 27, 2013: 18}\n",
    "}\n",
    "frame2 = pd.DataFrame(nestdict)\n",
    "frame2\n",
    "\n"
   ],
   "id": "d9c5159d301f7afd",
   "outputs": [
    {
     "data": {
      "text/plain": [
       "       red  white  blue\n",
       "2012  22.0   22.0  27.0\n",
       "2013  33.0   16.0  18.0\n",
       "2077  44.0    NaN   NaN\n",
       "2011   NaN   13.0  17.0"
      ],
      "text/html": [
       "<div>\n",
       "<style scoped>\n",
       "    .dataframe tbody tr th:only-of-type {\n",
       "        vertical-align: middle;\n",
       "    }\n",
       "\n",
       "    .dataframe tbody tr th {\n",
       "        vertical-align: top;\n",
       "    }\n",
       "\n",
       "    .dataframe thead th {\n",
       "        text-align: right;\n",
       "    }\n",
       "</style>\n",
       "<table border=\"1\" class=\"dataframe\">\n",
       "  <thead>\n",
       "    <tr style=\"text-align: right;\">\n",
       "      <th></th>\n",
       "      <th>red</th>\n",
       "      <th>white</th>\n",
       "      <th>blue</th>\n",
       "    </tr>\n",
       "  </thead>\n",
       "  <tbody>\n",
       "    <tr>\n",
       "      <th>2012</th>\n",
       "      <td>22.0</td>\n",
       "      <td>22.0</td>\n",
       "      <td>27.0</td>\n",
       "    </tr>\n",
       "    <tr>\n",
       "      <th>2013</th>\n",
       "      <td>33.0</td>\n",
       "      <td>16.0</td>\n",
       "      <td>18.0</td>\n",
       "    </tr>\n",
       "    <tr>\n",
       "      <th>2077</th>\n",
       "      <td>44.0</td>\n",
       "      <td>NaN</td>\n",
       "      <td>NaN</td>\n",
       "    </tr>\n",
       "    <tr>\n",
       "      <th>2011</th>\n",
       "      <td>NaN</td>\n",
       "      <td>13.0</td>\n",
       "      <td>17.0</td>\n",
       "    </tr>\n",
       "  </tbody>\n",
       "</table>\n",
       "</div>"
      ]
     },
     "execution_count": 34,
     "metadata": {},
     "output_type": "execute_result"
    }
   ],
   "execution_count": 34
  },
  {
   "metadata": {
    "ExecuteTime": {
     "end_time": "2025-05-26T08:23:49.956430Z",
     "start_time": "2025-05-26T08:23:49.951752Z"
    }
   },
   "cell_type": "code",
   "source": "frame2.transpose()",
   "id": "b6a772d1c0fa6cdf",
   "outputs": [
    {
     "data": {
      "text/plain": [
       "       2012  2013  2077  2011\n",
       "red    22.0  33.0  44.0   NaN\n",
       "white  22.0  16.0   NaN  13.0\n",
       "blue   27.0  18.0   NaN  17.0"
      ],
      "text/html": [
       "<div>\n",
       "<style scoped>\n",
       "    .dataframe tbody tr th:only-of-type {\n",
       "        vertical-align: middle;\n",
       "    }\n",
       "\n",
       "    .dataframe tbody tr th {\n",
       "        vertical-align: top;\n",
       "    }\n",
       "\n",
       "    .dataframe thead th {\n",
       "        text-align: right;\n",
       "    }\n",
       "</style>\n",
       "<table border=\"1\" class=\"dataframe\">\n",
       "  <thead>\n",
       "    <tr style=\"text-align: right;\">\n",
       "      <th></th>\n",
       "      <th>2012</th>\n",
       "      <th>2013</th>\n",
       "      <th>2077</th>\n",
       "      <th>2011</th>\n",
       "    </tr>\n",
       "  </thead>\n",
       "  <tbody>\n",
       "    <tr>\n",
       "      <th>red</th>\n",
       "      <td>22.0</td>\n",
       "      <td>33.0</td>\n",
       "      <td>44.0</td>\n",
       "      <td>NaN</td>\n",
       "    </tr>\n",
       "    <tr>\n",
       "      <th>white</th>\n",
       "      <td>22.0</td>\n",
       "      <td>16.0</td>\n",
       "      <td>NaN</td>\n",
       "      <td>13.0</td>\n",
       "    </tr>\n",
       "    <tr>\n",
       "      <th>blue</th>\n",
       "      <td>27.0</td>\n",
       "      <td>18.0</td>\n",
       "      <td>NaN</td>\n",
       "      <td>17.0</td>\n",
       "    </tr>\n",
       "  </tbody>\n",
       "</table>\n",
       "</div>"
      ]
     },
     "execution_count": 35,
     "metadata": {},
     "output_type": "execute_result"
    }
   ],
   "execution_count": 35
  },
  {
   "metadata": {
    "ExecuteTime": {
     "end_time": "2025-05-26T08:23:50.068273Z",
     "start_time": "2025-05-26T08:23:50.063609Z"
    }
   },
   "cell_type": "code",
   "source": "frame2.T",
   "id": "f90600cefccda1fa",
   "outputs": [
    {
     "data": {
      "text/plain": [
       "       2012  2013  2077  2011\n",
       "red    22.0  33.0  44.0   NaN\n",
       "white  22.0  16.0   NaN  13.0\n",
       "blue   27.0  18.0   NaN  17.0"
      ],
      "text/html": [
       "<div>\n",
       "<style scoped>\n",
       "    .dataframe tbody tr th:only-of-type {\n",
       "        vertical-align: middle;\n",
       "    }\n",
       "\n",
       "    .dataframe tbody tr th {\n",
       "        vertical-align: top;\n",
       "    }\n",
       "\n",
       "    .dataframe thead th {\n",
       "        text-align: right;\n",
       "    }\n",
       "</style>\n",
       "<table border=\"1\" class=\"dataframe\">\n",
       "  <thead>\n",
       "    <tr style=\"text-align: right;\">\n",
       "      <th></th>\n",
       "      <th>2012</th>\n",
       "      <th>2013</th>\n",
       "      <th>2077</th>\n",
       "      <th>2011</th>\n",
       "    </tr>\n",
       "  </thead>\n",
       "  <tbody>\n",
       "    <tr>\n",
       "      <th>red</th>\n",
       "      <td>22.0</td>\n",
       "      <td>33.0</td>\n",
       "      <td>44.0</td>\n",
       "      <td>NaN</td>\n",
       "    </tr>\n",
       "    <tr>\n",
       "      <th>white</th>\n",
       "      <td>22.0</td>\n",
       "      <td>16.0</td>\n",
       "      <td>NaN</td>\n",
       "      <td>13.0</td>\n",
       "    </tr>\n",
       "    <tr>\n",
       "      <th>blue</th>\n",
       "      <td>27.0</td>\n",
       "      <td>18.0</td>\n",
       "      <td>NaN</td>\n",
       "      <td>17.0</td>\n",
       "    </tr>\n",
       "  </tbody>\n",
       "</table>\n",
       "</div>"
      ]
     },
     "execution_count": 36,
     "metadata": {},
     "output_type": "execute_result"
    }
   ],
   "execution_count": 36
  },
  {
   "metadata": {
    "ExecuteTime": {
     "end_time": "2025-05-26T08:23:50.194464Z",
     "start_time": "2025-05-26T08:23:50.190985Z"
    }
   },
   "cell_type": "code",
   "source": "frame2.red.idxmin()",
   "id": "e323c1ccc63c5dd4",
   "outputs": [
    {
     "data": {
      "text/plain": [
       "np.int64(2012)"
      ]
     },
     "execution_count": 37,
     "metadata": {},
     "output_type": "execute_result"
    }
   ],
   "execution_count": 37
  },
  {
   "metadata": {
    "ExecuteTime": {
     "end_time": "2025-05-26T08:23:50.268888Z",
     "start_time": "2025-05-26T08:23:50.265552Z"
    }
   },
   "cell_type": "code",
   "source": "frame2.idxmin()",
   "id": "8ae93acaebe5c2f8",
   "outputs": [
    {
     "data": {
      "text/plain": [
       "red      2012\n",
       "white    2011\n",
       "blue     2011\n",
       "dtype: int64"
      ]
     },
     "execution_count": 38,
     "metadata": {},
     "output_type": "execute_result"
    }
   ],
   "execution_count": 38
  },
  {
   "metadata": {
    "ExecuteTime": {
     "end_time": "2025-05-26T08:23:50.371239Z",
     "start_time": "2025-05-26T08:23:50.367771Z"
    }
   },
   "cell_type": "code",
   "source": "frame2.idxmax()",
   "id": "454a9e22c89d69f",
   "outputs": [
    {
     "data": {
      "text/plain": [
       "red      2077\n",
       "white    2012\n",
       "blue     2012\n",
       "dtype: int64"
      ]
     },
     "execution_count": 39,
     "metadata": {},
     "output_type": "execute_result"
    }
   ],
   "execution_count": 39
  },
  {
   "metadata": {
    "ExecuteTime": {
     "end_time": "2025-05-26T08:23:50.429799Z",
     "start_time": "2025-05-26T08:23:50.425055Z"
    }
   },
   "cell_type": "code",
   "source": [
    "frame = pd.DataFrame({\n",
    "    'color': ['blue', 'green', 'yellow', 'red', 'white'],\n",
    "    'object': ['ball', 'pen', 'pencil', 'paper', 'mug'],\n",
    "    'price': [1.2, 1.0, 0.6, 0.9, 1.7]\n",
    "}, index=[1, 1, 3, 2, 4])\n",
    "frame"
   ],
   "id": "e2e6e05be7eef87e",
   "outputs": [
    {
     "data": {
      "text/plain": [
       "    color  object  price\n",
       "1    blue    ball    1.2\n",
       "1   green     pen    1.0\n",
       "3  yellow  pencil    0.6\n",
       "2     red   paper    0.9\n",
       "4   white     mug    1.7"
      ],
      "text/html": [
       "<div>\n",
       "<style scoped>\n",
       "    .dataframe tbody tr th:only-of-type {\n",
       "        vertical-align: middle;\n",
       "    }\n",
       "\n",
       "    .dataframe tbody tr th {\n",
       "        vertical-align: top;\n",
       "    }\n",
       "\n",
       "    .dataframe thead th {\n",
       "        text-align: right;\n",
       "    }\n",
       "</style>\n",
       "<table border=\"1\" class=\"dataframe\">\n",
       "  <thead>\n",
       "    <tr style=\"text-align: right;\">\n",
       "      <th></th>\n",
       "      <th>color</th>\n",
       "      <th>object</th>\n",
       "      <th>price</th>\n",
       "    </tr>\n",
       "  </thead>\n",
       "  <tbody>\n",
       "    <tr>\n",
       "      <th>1</th>\n",
       "      <td>blue</td>\n",
       "      <td>ball</td>\n",
       "      <td>1.2</td>\n",
       "    </tr>\n",
       "    <tr>\n",
       "      <th>1</th>\n",
       "      <td>green</td>\n",
       "      <td>pen</td>\n",
       "      <td>1.0</td>\n",
       "    </tr>\n",
       "    <tr>\n",
       "      <th>3</th>\n",
       "      <td>yellow</td>\n",
       "      <td>pencil</td>\n",
       "      <td>0.6</td>\n",
       "    </tr>\n",
       "    <tr>\n",
       "      <th>2</th>\n",
       "      <td>red</td>\n",
       "      <td>paper</td>\n",
       "      <td>0.9</td>\n",
       "    </tr>\n",
       "    <tr>\n",
       "      <th>4</th>\n",
       "      <td>white</td>\n",
       "      <td>mug</td>\n",
       "      <td>1.7</td>\n",
       "    </tr>\n",
       "  </tbody>\n",
       "</table>\n",
       "</div>"
      ]
     },
     "execution_count": 40,
     "metadata": {},
     "output_type": "execute_result"
    }
   ],
   "execution_count": 40
  },
  {
   "metadata": {
    "ExecuteTime": {
     "end_time": "2025-05-26T08:23:50.518957Z",
     "start_time": "2025-05-26T08:23:50.513956Z"
    }
   },
   "cell_type": "code",
   "source": "frame.loc[1]",
   "id": "842b3639bfc67e90",
   "outputs": [
    {
     "data": {
      "text/plain": [
       "   color object  price\n",
       "1   blue   ball    1.2\n",
       "1  green    pen    1.0"
      ],
      "text/html": [
       "<div>\n",
       "<style scoped>\n",
       "    .dataframe tbody tr th:only-of-type {\n",
       "        vertical-align: middle;\n",
       "    }\n",
       "\n",
       "    .dataframe tbody tr th {\n",
       "        vertical-align: top;\n",
       "    }\n",
       "\n",
       "    .dataframe thead th {\n",
       "        text-align: right;\n",
       "    }\n",
       "</style>\n",
       "<table border=\"1\" class=\"dataframe\">\n",
       "  <thead>\n",
       "    <tr style=\"text-align: right;\">\n",
       "      <th></th>\n",
       "      <th>color</th>\n",
       "      <th>object</th>\n",
       "      <th>price</th>\n",
       "    </tr>\n",
       "  </thead>\n",
       "  <tbody>\n",
       "    <tr>\n",
       "      <th>1</th>\n",
       "      <td>blue</td>\n",
       "      <td>ball</td>\n",
       "      <td>1.2</td>\n",
       "    </tr>\n",
       "    <tr>\n",
       "      <th>1</th>\n",
       "      <td>green</td>\n",
       "      <td>pen</td>\n",
       "      <td>1.0</td>\n",
       "    </tr>\n",
       "  </tbody>\n",
       "</table>\n",
       "</div>"
      ]
     },
     "execution_count": 41,
     "metadata": {},
     "output_type": "execute_result"
    }
   ],
   "execution_count": 41
  },
  {
   "metadata": {
    "ExecuteTime": {
     "end_time": "2025-05-26T08:23:50.585668Z",
     "start_time": "2025-05-26T08:23:50.583025Z"
    }
   },
   "cell_type": "code",
   "source": "frame.index.is_unique",
   "id": "3af1eb64248e28db",
   "outputs": [
    {
     "data": {
      "text/plain": [
       "False"
      ]
     },
     "execution_count": 42,
     "metadata": {},
     "output_type": "execute_result"
    }
   ],
   "execution_count": 42
  },
  {
   "metadata": {
    "ExecuteTime": {
     "end_time": "2025-05-26T08:23:50.727825Z",
     "start_time": "2025-05-26T08:23:50.723327Z"
    }
   },
   "cell_type": "code",
   "source": [
    "frame = pd.DataFrame({\n",
    "    'color': ['blue', 'green', 'yellow', 'red', 'white'],\n",
    "    'object': ['ball', 'pen', 'pencil', 'paper', 'mug'],\n",
    "    'price': [1.2, 1.0, 0.6, 0.9, 1.7]\n",
    "})\n",
    "frame"
   ],
   "id": "f15e83d4ff1cd200",
   "outputs": [
    {
     "data": {
      "text/plain": [
       "    color  object  price\n",
       "0    blue    ball    1.2\n",
       "1   green     pen    1.0\n",
       "2  yellow  pencil    0.6\n",
       "3     red   paper    0.9\n",
       "4   white     mug    1.7"
      ],
      "text/html": [
       "<div>\n",
       "<style scoped>\n",
       "    .dataframe tbody tr th:only-of-type {\n",
       "        vertical-align: middle;\n",
       "    }\n",
       "\n",
       "    .dataframe tbody tr th {\n",
       "        vertical-align: top;\n",
       "    }\n",
       "\n",
       "    .dataframe thead th {\n",
       "        text-align: right;\n",
       "    }\n",
       "</style>\n",
       "<table border=\"1\" class=\"dataframe\">\n",
       "  <thead>\n",
       "    <tr style=\"text-align: right;\">\n",
       "      <th></th>\n",
       "      <th>color</th>\n",
       "      <th>object</th>\n",
       "      <th>price</th>\n",
       "    </tr>\n",
       "  </thead>\n",
       "  <tbody>\n",
       "    <tr>\n",
       "      <th>0</th>\n",
       "      <td>blue</td>\n",
       "      <td>ball</td>\n",
       "      <td>1.2</td>\n",
       "    </tr>\n",
       "    <tr>\n",
       "      <th>1</th>\n",
       "      <td>green</td>\n",
       "      <td>pen</td>\n",
       "      <td>1.0</td>\n",
       "    </tr>\n",
       "    <tr>\n",
       "      <th>2</th>\n",
       "      <td>yellow</td>\n",
       "      <td>pencil</td>\n",
       "      <td>0.6</td>\n",
       "    </tr>\n",
       "    <tr>\n",
       "      <th>3</th>\n",
       "      <td>red</td>\n",
       "      <td>paper</td>\n",
       "      <td>0.9</td>\n",
       "    </tr>\n",
       "    <tr>\n",
       "      <th>4</th>\n",
       "      <td>white</td>\n",
       "      <td>mug</td>\n",
       "      <td>1.7</td>\n",
       "    </tr>\n",
       "  </tbody>\n",
       "</table>\n",
       "</div>"
      ]
     },
     "execution_count": 43,
     "metadata": {},
     "output_type": "execute_result"
    }
   ],
   "execution_count": 43
  },
  {
   "metadata": {
    "ExecuteTime": {
     "end_time": "2025-05-26T08:23:50.850479Z",
     "start_time": "2025-05-26T08:23:50.847874Z"
    }
   },
   "cell_type": "code",
   "source": "frame.index.is_unique",
   "id": "6cddbd4bf25fd4b8",
   "outputs": [
    {
     "data": {
      "text/plain": [
       "True"
      ]
     },
     "execution_count": 44,
     "metadata": {},
     "output_type": "execute_result"
    }
   ],
   "execution_count": 44
  },
  {
   "metadata": {
    "ExecuteTime": {
     "end_time": "2025-05-26T08:26:25.187942Z",
     "start_time": "2025-05-26T08:26:25.167467Z"
    }
   },
   "cell_type": "code",
   "source": [
    "ser = pd.Series([2, 5, 7, 4], index=['one', 'two', 'three', 'four'])\n",
    "ser\n"
   ],
   "id": "dc625d94560f79f7",
   "outputs": [
    {
     "data": {
      "text/plain": [
       "one      2\n",
       "two      5\n",
       "three    7\n",
       "four     4\n",
       "dtype: int64"
      ]
     },
     "execution_count": 50,
     "metadata": {},
     "output_type": "execute_result"
    }
   ],
   "execution_count": 50
  },
  {
   "metadata": {
    "ExecuteTime": {
     "end_time": "2025-05-26T08:27:29.333818Z",
     "start_time": "2025-05-26T08:27:29.321515Z"
    }
   },
   "cell_type": "code",
   "source": "ser.reindex(['two', 'one', 'four', 'three', 'five'])",
   "id": "56010a02d1bb96f6",
   "outputs": [
    {
     "data": {
      "text/plain": [
       "two      5.0\n",
       "one      2.0\n",
       "four     4.0\n",
       "three    7.0\n",
       "five     NaN\n",
       "dtype: float64"
      ]
     },
     "execution_count": 53,
     "metadata": {},
     "output_type": "execute_result"
    }
   ],
   "execution_count": 53
  },
  {
   "metadata": {
    "ExecuteTime": {
     "end_time": "2025-05-26T08:29:41.503085Z",
     "start_time": "2025-05-26T08:29:41.489786Z"
    }
   },
   "cell_type": "code",
   "source": "frame.reindex([4, 3, 2, 0, 1, 5, 7])",
   "id": "a5e48151ba1526bb",
   "outputs": [
    {
     "data": {
      "text/plain": [
       "    color  object  price\n",
       "4   white     mug    1.7\n",
       "3     red   paper    0.9\n",
       "2  yellow  pencil    0.6\n",
       "0    blue    ball    1.2\n",
       "1   green     pen    1.0\n",
       "5     NaN     NaN    NaN\n",
       "7     NaN     NaN    NaN"
      ],
      "text/html": [
       "<div>\n",
       "<style scoped>\n",
       "    .dataframe tbody tr th:only-of-type {\n",
       "        vertical-align: middle;\n",
       "    }\n",
       "\n",
       "    .dataframe tbody tr th {\n",
       "        vertical-align: top;\n",
       "    }\n",
       "\n",
       "    .dataframe thead th {\n",
       "        text-align: right;\n",
       "    }\n",
       "</style>\n",
       "<table border=\"1\" class=\"dataframe\">\n",
       "  <thead>\n",
       "    <tr style=\"text-align: right;\">\n",
       "      <th></th>\n",
       "      <th>color</th>\n",
       "      <th>object</th>\n",
       "      <th>price</th>\n",
       "    </tr>\n",
       "  </thead>\n",
       "  <tbody>\n",
       "    <tr>\n",
       "      <th>4</th>\n",
       "      <td>white</td>\n",
       "      <td>mug</td>\n",
       "      <td>1.7</td>\n",
       "    </tr>\n",
       "    <tr>\n",
       "      <th>3</th>\n",
       "      <td>red</td>\n",
       "      <td>paper</td>\n",
       "      <td>0.9</td>\n",
       "    </tr>\n",
       "    <tr>\n",
       "      <th>2</th>\n",
       "      <td>yellow</td>\n",
       "      <td>pencil</td>\n",
       "      <td>0.6</td>\n",
       "    </tr>\n",
       "    <tr>\n",
       "      <th>0</th>\n",
       "      <td>blue</td>\n",
       "      <td>ball</td>\n",
       "      <td>1.2</td>\n",
       "    </tr>\n",
       "    <tr>\n",
       "      <th>1</th>\n",
       "      <td>green</td>\n",
       "      <td>pen</td>\n",
       "      <td>1.0</td>\n",
       "    </tr>\n",
       "    <tr>\n",
       "      <th>5</th>\n",
       "      <td>NaN</td>\n",
       "      <td>NaN</td>\n",
       "      <td>NaN</td>\n",
       "    </tr>\n",
       "    <tr>\n",
       "      <th>7</th>\n",
       "      <td>NaN</td>\n",
       "      <td>NaN</td>\n",
       "      <td>NaN</td>\n",
       "    </tr>\n",
       "  </tbody>\n",
       "</table>\n",
       "</div>"
      ]
     },
     "execution_count": 55,
     "metadata": {},
     "output_type": "execute_result"
    }
   ],
   "execution_count": 55
  },
  {
   "metadata": {
    "ExecuteTime": {
     "end_time": "2025-05-26T08:30:47.810722Z",
     "start_time": "2025-05-26T08:30:47.805859Z"
    }
   },
   "cell_type": "code",
   "source": [
    "ser3 = pd.Series([1, 5, 6, 3], index=[0, 3, 5, 6])\n",
    "ser3"
   ],
   "id": "70192968a2e76905",
   "outputs": [
    {
     "data": {
      "text/plain": [
       "0    1\n",
       "3    5\n",
       "5    6\n",
       "6    3\n",
       "dtype: int64"
      ]
     },
     "execution_count": 57,
     "metadata": {},
     "output_type": "execute_result"
    }
   ],
   "execution_count": 57
  },
  {
   "metadata": {
    "ExecuteTime": {
     "end_time": "2025-05-26T08:32:38.906463Z",
     "start_time": "2025-05-26T08:32:38.898163Z"
    }
   },
   "cell_type": "code",
   "source": "ser3.reindex(range(6), method='ffill')",
   "id": "649bdf63785a5460",
   "outputs": [
    {
     "data": {
      "text/plain": [
       "0    1\n",
       "1    1\n",
       "2    1\n",
       "3    5\n",
       "4    5\n",
       "5    6\n",
       "dtype: int64"
      ]
     },
     "execution_count": 59,
     "metadata": {},
     "output_type": "execute_result"
    }
   ],
   "execution_count": 59
  },
  {
   "metadata": {
    "ExecuteTime": {
     "end_time": "2025-05-26T08:33:18.067014Z",
     "start_time": "2025-05-26T08:33:18.051481Z"
    }
   },
   "cell_type": "code",
   "source": "ser3.reindex(range(6), method='bfill')",
   "id": "35323cc00fc20178",
   "outputs": [
    {
     "data": {
      "text/plain": [
       "0    1\n",
       "1    5\n",
       "2    5\n",
       "3    5\n",
       "4    6\n",
       "5    6\n",
       "dtype: int64"
      ]
     },
     "execution_count": 61,
     "metadata": {},
     "output_type": "execute_result"
    }
   ],
   "execution_count": 61
  },
  {
   "metadata": {
    "ExecuteTime": {
     "end_time": "2025-05-26T08:34:47.574263Z",
     "start_time": "2025-05-26T08:34:47.542713Z"
    }
   },
   "cell_type": "code",
   "source": [
    "frame = pd.DataFrame(np.arange(16).reshape((4, 4)),\n",
    "                     index=['red', 'blue', 'yellow', 'white'],\n",
    "                     columns=['ball', 'pen', 'pencil', 'paper'])\n",
    "\n",
    "frame = frame.drop(['blue', 'yellow'])\n",
    "frame"
   ],
   "id": "56951172ef9b59b4",
   "outputs": [
    {
     "data": {
      "text/plain": [
       "       ball  pen  pencil  paper\n",
       "red       0    1       2      3\n",
       "white    12   13      14     15"
      ],
      "text/html": [
       "<div>\n",
       "<style scoped>\n",
       "    .dataframe tbody tr th:only-of-type {\n",
       "        vertical-align: middle;\n",
       "    }\n",
       "\n",
       "    .dataframe tbody tr th {\n",
       "        vertical-align: top;\n",
       "    }\n",
       "\n",
       "    .dataframe thead th {\n",
       "        text-align: right;\n",
       "    }\n",
       "</style>\n",
       "<table border=\"1\" class=\"dataframe\">\n",
       "  <thead>\n",
       "    <tr style=\"text-align: right;\">\n",
       "      <th></th>\n",
       "      <th>ball</th>\n",
       "      <th>pen</th>\n",
       "      <th>pencil</th>\n",
       "      <th>paper</th>\n",
       "    </tr>\n",
       "  </thead>\n",
       "  <tbody>\n",
       "    <tr>\n",
       "      <th>red</th>\n",
       "      <td>0</td>\n",
       "      <td>1</td>\n",
       "      <td>2</td>\n",
       "      <td>3</td>\n",
       "    </tr>\n",
       "    <tr>\n",
       "      <th>white</th>\n",
       "      <td>12</td>\n",
       "      <td>13</td>\n",
       "      <td>14</td>\n",
       "      <td>15</td>\n",
       "    </tr>\n",
       "  </tbody>\n",
       "</table>\n",
       "</div>"
      ]
     },
     "execution_count": 62,
     "metadata": {},
     "output_type": "execute_result"
    }
   ],
   "execution_count": 62
  },
  {
   "metadata": {
    "ExecuteTime": {
     "end_time": "2025-05-26T08:35:22.368857Z",
     "start_time": "2025-05-26T08:35:22.342428Z"
    }
   },
   "cell_type": "code",
   "source": "frame.drop(['pen', 'pencil'], axis=1)",
   "id": "fcf6468a396448cc",
   "outputs": [
    {
     "data": {
      "text/plain": [
       "       ball  paper\n",
       "red       0      3\n",
       "white    12     15"
      ],
      "text/html": [
       "<div>\n",
       "<style scoped>\n",
       "    .dataframe tbody tr th:only-of-type {\n",
       "        vertical-align: middle;\n",
       "    }\n",
       "\n",
       "    .dataframe tbody tr th {\n",
       "        vertical-align: top;\n",
       "    }\n",
       "\n",
       "    .dataframe thead th {\n",
       "        text-align: right;\n",
       "    }\n",
       "</style>\n",
       "<table border=\"1\" class=\"dataframe\">\n",
       "  <thead>\n",
       "    <tr style=\"text-align: right;\">\n",
       "      <th></th>\n",
       "      <th>ball</th>\n",
       "      <th>paper</th>\n",
       "    </tr>\n",
       "  </thead>\n",
       "  <tbody>\n",
       "    <tr>\n",
       "      <th>red</th>\n",
       "      <td>0</td>\n",
       "      <td>3</td>\n",
       "    </tr>\n",
       "    <tr>\n",
       "      <th>white</th>\n",
       "      <td>12</td>\n",
       "      <td>15</td>\n",
       "    </tr>\n",
       "  </tbody>\n",
       "</table>\n",
       "</div>"
      ]
     },
     "execution_count": 63,
     "metadata": {},
     "output_type": "execute_result"
    }
   ],
   "execution_count": 63
  },
  {
   "metadata": {
    "ExecuteTime": {
     "end_time": "2025-05-26T08:36:35.412555Z",
     "start_time": "2025-05-26T08:36:35.396603Z"
    }
   },
   "cell_type": "code",
   "source": "frame.drop(['red'], axis=0)",
   "id": "1b3337f1dbcdccca",
   "outputs": [
    {
     "data": {
      "text/plain": [
       "       ball  pen  pencil  paper\n",
       "white    12   13      14     15"
      ],
      "text/html": [
       "<div>\n",
       "<style scoped>\n",
       "    .dataframe tbody tr th:only-of-type {\n",
       "        vertical-align: middle;\n",
       "    }\n",
       "\n",
       "    .dataframe tbody tr th {\n",
       "        vertical-align: top;\n",
       "    }\n",
       "\n",
       "    .dataframe thead th {\n",
       "        text-align: right;\n",
       "    }\n",
       "</style>\n",
       "<table border=\"1\" class=\"dataframe\">\n",
       "  <thead>\n",
       "    <tr style=\"text-align: right;\">\n",
       "      <th></th>\n",
       "      <th>ball</th>\n",
       "      <th>pen</th>\n",
       "      <th>pencil</th>\n",
       "      <th>paper</th>\n",
       "    </tr>\n",
       "  </thead>\n",
       "  <tbody>\n",
       "    <tr>\n",
       "      <th>white</th>\n",
       "      <td>12</td>\n",
       "      <td>13</td>\n",
       "      <td>14</td>\n",
       "      <td>15</td>\n",
       "    </tr>\n",
       "  </tbody>\n",
       "</table>\n",
       "</div>"
      ]
     },
     "execution_count": 66,
     "metadata": {},
     "output_type": "execute_result"
    }
   ],
   "execution_count": 66
  },
  {
   "metadata": {
    "ExecuteTime": {
     "end_time": "2025-05-26T08:38:28.824869Z",
     "start_time": "2025-05-26T08:38:28.806289Z"
    }
   },
   "cell_type": "code",
   "source": [
    "\n",
    "frame1 = pd.DataFrame(np.arange(16).reshape((4, 4)),\n",
    "                      index=['red', 'blue', 'yellow', 'white'],\n",
    "                      columns=['ball', 'pen', 'pencil', 'paper'])\n",
    "\n",
    "frame2 = pd.DataFrame(np.arange(12).reshape((4, 3)),\n",
    "                      index=['blue', 'green', 'white', 'yellow'],\n",
    "                      columns=['mug', 'pen', 'ball'])"
   ],
   "id": "4754b6cd5c6ce2b3",
   "outputs": [],
   "execution_count": 67
  },
  {
   "metadata": {
    "ExecuteTime": {
     "end_time": "2025-05-26T08:38:34.648177Z",
     "start_time": "2025-05-26T08:38:34.643888Z"
    }
   },
   "cell_type": "code",
   "source": "frame1",
   "id": "5fffe680b57b56aa",
   "outputs": [
    {
     "data": {
      "text/plain": [
       "        ball  pen  pencil  paper\n",
       "red        0    1       2      3\n",
       "blue       4    5       6      7\n",
       "yellow     8    9      10     11\n",
       "white     12   13      14     15"
      ],
      "text/html": [
       "<div>\n",
       "<style scoped>\n",
       "    .dataframe tbody tr th:only-of-type {\n",
       "        vertical-align: middle;\n",
       "    }\n",
       "\n",
       "    .dataframe tbody tr th {\n",
       "        vertical-align: top;\n",
       "    }\n",
       "\n",
       "    .dataframe thead th {\n",
       "        text-align: right;\n",
       "    }\n",
       "</style>\n",
       "<table border=\"1\" class=\"dataframe\">\n",
       "  <thead>\n",
       "    <tr style=\"text-align: right;\">\n",
       "      <th></th>\n",
       "      <th>ball</th>\n",
       "      <th>pen</th>\n",
       "      <th>pencil</th>\n",
       "      <th>paper</th>\n",
       "    </tr>\n",
       "  </thead>\n",
       "  <tbody>\n",
       "    <tr>\n",
       "      <th>red</th>\n",
       "      <td>0</td>\n",
       "      <td>1</td>\n",
       "      <td>2</td>\n",
       "      <td>3</td>\n",
       "    </tr>\n",
       "    <tr>\n",
       "      <th>blue</th>\n",
       "      <td>4</td>\n",
       "      <td>5</td>\n",
       "      <td>6</td>\n",
       "      <td>7</td>\n",
       "    </tr>\n",
       "    <tr>\n",
       "      <th>yellow</th>\n",
       "      <td>8</td>\n",
       "      <td>9</td>\n",
       "      <td>10</td>\n",
       "      <td>11</td>\n",
       "    </tr>\n",
       "    <tr>\n",
       "      <th>white</th>\n",
       "      <td>12</td>\n",
       "      <td>13</td>\n",
       "      <td>14</td>\n",
       "      <td>15</td>\n",
       "    </tr>\n",
       "  </tbody>\n",
       "</table>\n",
       "</div>"
      ]
     },
     "execution_count": 68,
     "metadata": {},
     "output_type": "execute_result"
    }
   ],
   "execution_count": 68
  },
  {
   "metadata": {
    "ExecuteTime": {
     "end_time": "2025-05-26T08:38:38.375944Z",
     "start_time": "2025-05-26T08:38:38.359108Z"
    }
   },
   "cell_type": "code",
   "source": "frame2",
   "id": "250e5ff928ca1208",
   "outputs": [
    {
     "data": {
      "text/plain": [
       "        mug  pen  ball\n",
       "blue      0    1     2\n",
       "green     3    4     5\n",
       "white     6    7     8\n",
       "yellow    9   10    11"
      ],
      "text/html": [
       "<div>\n",
       "<style scoped>\n",
       "    .dataframe tbody tr th:only-of-type {\n",
       "        vertical-align: middle;\n",
       "    }\n",
       "\n",
       "    .dataframe tbody tr th {\n",
       "        vertical-align: top;\n",
       "    }\n",
       "\n",
       "    .dataframe thead th {\n",
       "        text-align: right;\n",
       "    }\n",
       "</style>\n",
       "<table border=\"1\" class=\"dataframe\">\n",
       "  <thead>\n",
       "    <tr style=\"text-align: right;\">\n",
       "      <th></th>\n",
       "      <th>mug</th>\n",
       "      <th>pen</th>\n",
       "      <th>ball</th>\n",
       "    </tr>\n",
       "  </thead>\n",
       "  <tbody>\n",
       "    <tr>\n",
       "      <th>blue</th>\n",
       "      <td>0</td>\n",
       "      <td>1</td>\n",
       "      <td>2</td>\n",
       "    </tr>\n",
       "    <tr>\n",
       "      <th>green</th>\n",
       "      <td>3</td>\n",
       "      <td>4</td>\n",
       "      <td>5</td>\n",
       "    </tr>\n",
       "    <tr>\n",
       "      <th>white</th>\n",
       "      <td>6</td>\n",
       "      <td>7</td>\n",
       "      <td>8</td>\n",
       "    </tr>\n",
       "    <tr>\n",
       "      <th>yellow</th>\n",
       "      <td>9</td>\n",
       "      <td>10</td>\n",
       "      <td>11</td>\n",
       "    </tr>\n",
       "  </tbody>\n",
       "</table>\n",
       "</div>"
      ]
     },
     "execution_count": 69,
     "metadata": {},
     "output_type": "execute_result"
    }
   ],
   "execution_count": 69
  },
  {
   "metadata": {
    "ExecuteTime": {
     "end_time": "2025-05-26T08:38:46.732239Z",
     "start_time": "2025-05-26T08:38:46.697950Z"
    }
   },
   "cell_type": "code",
   "source": "frame1 + frame2",
   "id": "b7aef382cfec9f4d",
   "outputs": [
    {
     "data": {
      "text/plain": [
       "        ball  mug  paper   pen  pencil\n",
       "blue     6.0  NaN    NaN   6.0     NaN\n",
       "green    NaN  NaN    NaN   NaN     NaN\n",
       "red      NaN  NaN    NaN   NaN     NaN\n",
       "white   20.0  NaN    NaN  20.0     NaN\n",
       "yellow  19.0  NaN    NaN  19.0     NaN"
      ],
      "text/html": [
       "<div>\n",
       "<style scoped>\n",
       "    .dataframe tbody tr th:only-of-type {\n",
       "        vertical-align: middle;\n",
       "    }\n",
       "\n",
       "    .dataframe tbody tr th {\n",
       "        vertical-align: top;\n",
       "    }\n",
       "\n",
       "    .dataframe thead th {\n",
       "        text-align: right;\n",
       "    }\n",
       "</style>\n",
       "<table border=\"1\" class=\"dataframe\">\n",
       "  <thead>\n",
       "    <tr style=\"text-align: right;\">\n",
       "      <th></th>\n",
       "      <th>ball</th>\n",
       "      <th>mug</th>\n",
       "      <th>paper</th>\n",
       "      <th>pen</th>\n",
       "      <th>pencil</th>\n",
       "    </tr>\n",
       "  </thead>\n",
       "  <tbody>\n",
       "    <tr>\n",
       "      <th>blue</th>\n",
       "      <td>6.0</td>\n",
       "      <td>NaN</td>\n",
       "      <td>NaN</td>\n",
       "      <td>6.0</td>\n",
       "      <td>NaN</td>\n",
       "    </tr>\n",
       "    <tr>\n",
       "      <th>green</th>\n",
       "      <td>NaN</td>\n",
       "      <td>NaN</td>\n",
       "      <td>NaN</td>\n",
       "      <td>NaN</td>\n",
       "      <td>NaN</td>\n",
       "    </tr>\n",
       "    <tr>\n",
       "      <th>red</th>\n",
       "      <td>NaN</td>\n",
       "      <td>NaN</td>\n",
       "      <td>NaN</td>\n",
       "      <td>NaN</td>\n",
       "      <td>NaN</td>\n",
       "    </tr>\n",
       "    <tr>\n",
       "      <th>white</th>\n",
       "      <td>20.0</td>\n",
       "      <td>NaN</td>\n",
       "      <td>NaN</td>\n",
       "      <td>20.0</td>\n",
       "      <td>NaN</td>\n",
       "    </tr>\n",
       "    <tr>\n",
       "      <th>yellow</th>\n",
       "      <td>19.0</td>\n",
       "      <td>NaN</td>\n",
       "      <td>NaN</td>\n",
       "      <td>19.0</td>\n",
       "      <td>NaN</td>\n",
       "    </tr>\n",
       "  </tbody>\n",
       "</table>\n",
       "</div>"
      ]
     },
     "execution_count": 70,
     "metadata": {},
     "output_type": "execute_result"
    }
   ],
   "execution_count": 70
  },
  {
   "metadata": {
    "ExecuteTime": {
     "end_time": "2025-05-26T08:40:15.810583Z",
     "start_time": "2025-05-26T08:40:15.787571Z"
    }
   },
   "cell_type": "code",
   "source": "frame1 / frame2",
   "id": "2c8d248d624618c",
   "outputs": [
    {
     "data": {
      "text/plain": [
       "            ball  mug  paper       pen  pencil\n",
       "blue    2.000000  NaN    NaN  5.000000     NaN\n",
       "green        NaN  NaN    NaN       NaN     NaN\n",
       "red          NaN  NaN    NaN       NaN     NaN\n",
       "white   1.500000  NaN    NaN  1.857143     NaN\n",
       "yellow  0.727273  NaN    NaN  0.900000     NaN"
      ],
      "text/html": [
       "<div>\n",
       "<style scoped>\n",
       "    .dataframe tbody tr th:only-of-type {\n",
       "        vertical-align: middle;\n",
       "    }\n",
       "\n",
       "    .dataframe tbody tr th {\n",
       "        vertical-align: top;\n",
       "    }\n",
       "\n",
       "    .dataframe thead th {\n",
       "        text-align: right;\n",
       "    }\n",
       "</style>\n",
       "<table border=\"1\" class=\"dataframe\">\n",
       "  <thead>\n",
       "    <tr style=\"text-align: right;\">\n",
       "      <th></th>\n",
       "      <th>ball</th>\n",
       "      <th>mug</th>\n",
       "      <th>paper</th>\n",
       "      <th>pen</th>\n",
       "      <th>pencil</th>\n",
       "    </tr>\n",
       "  </thead>\n",
       "  <tbody>\n",
       "    <tr>\n",
       "      <th>blue</th>\n",
       "      <td>2.000000</td>\n",
       "      <td>NaN</td>\n",
       "      <td>NaN</td>\n",
       "      <td>5.000000</td>\n",
       "      <td>NaN</td>\n",
       "    </tr>\n",
       "    <tr>\n",
       "      <th>green</th>\n",
       "      <td>NaN</td>\n",
       "      <td>NaN</td>\n",
       "      <td>NaN</td>\n",
       "      <td>NaN</td>\n",
       "      <td>NaN</td>\n",
       "    </tr>\n",
       "    <tr>\n",
       "      <th>red</th>\n",
       "      <td>NaN</td>\n",
       "      <td>NaN</td>\n",
       "      <td>NaN</td>\n",
       "      <td>NaN</td>\n",
       "      <td>NaN</td>\n",
       "    </tr>\n",
       "    <tr>\n",
       "      <th>white</th>\n",
       "      <td>1.500000</td>\n",
       "      <td>NaN</td>\n",
       "      <td>NaN</td>\n",
       "      <td>1.857143</td>\n",
       "      <td>NaN</td>\n",
       "    </tr>\n",
       "    <tr>\n",
       "      <th>yellow</th>\n",
       "      <td>0.727273</td>\n",
       "      <td>NaN</td>\n",
       "      <td>NaN</td>\n",
       "      <td>0.900000</td>\n",
       "      <td>NaN</td>\n",
       "    </tr>\n",
       "  </tbody>\n",
       "</table>\n",
       "</div>"
      ]
     },
     "execution_count": 71,
     "metadata": {},
     "output_type": "execute_result"
    }
   ],
   "execution_count": 71
  },
  {
   "metadata": {
    "ExecuteTime": {
     "end_time": "2025-05-26T08:40:43.057212Z",
     "start_time": "2025-05-26T08:40:43.042250Z"
    }
   },
   "cell_type": "code",
   "source": "frame1.add(frame2)",
   "id": "e119d2e4c9f3736a",
   "outputs": [
    {
     "data": {
      "text/plain": [
       "        ball  mug  paper   pen  pencil\n",
       "blue     6.0  NaN    NaN   6.0     NaN\n",
       "green    NaN  NaN    NaN   NaN     NaN\n",
       "red      NaN  NaN    NaN   NaN     NaN\n",
       "white   20.0  NaN    NaN  20.0     NaN\n",
       "yellow  19.0  NaN    NaN  19.0     NaN"
      ],
      "text/html": [
       "<div>\n",
       "<style scoped>\n",
       "    .dataframe tbody tr th:only-of-type {\n",
       "        vertical-align: middle;\n",
       "    }\n",
       "\n",
       "    .dataframe tbody tr th {\n",
       "        vertical-align: top;\n",
       "    }\n",
       "\n",
       "    .dataframe thead th {\n",
       "        text-align: right;\n",
       "    }\n",
       "</style>\n",
       "<table border=\"1\" class=\"dataframe\">\n",
       "  <thead>\n",
       "    <tr style=\"text-align: right;\">\n",
       "      <th></th>\n",
       "      <th>ball</th>\n",
       "      <th>mug</th>\n",
       "      <th>paper</th>\n",
       "      <th>pen</th>\n",
       "      <th>pencil</th>\n",
       "    </tr>\n",
       "  </thead>\n",
       "  <tbody>\n",
       "    <tr>\n",
       "      <th>blue</th>\n",
       "      <td>6.0</td>\n",
       "      <td>NaN</td>\n",
       "      <td>NaN</td>\n",
       "      <td>6.0</td>\n",
       "      <td>NaN</td>\n",
       "    </tr>\n",
       "    <tr>\n",
       "      <th>green</th>\n",
       "      <td>NaN</td>\n",
       "      <td>NaN</td>\n",
       "      <td>NaN</td>\n",
       "      <td>NaN</td>\n",
       "      <td>NaN</td>\n",
       "    </tr>\n",
       "    <tr>\n",
       "      <th>red</th>\n",
       "      <td>NaN</td>\n",
       "      <td>NaN</td>\n",
       "      <td>NaN</td>\n",
       "      <td>NaN</td>\n",
       "      <td>NaN</td>\n",
       "    </tr>\n",
       "    <tr>\n",
       "      <th>white</th>\n",
       "      <td>20.0</td>\n",
       "      <td>NaN</td>\n",
       "      <td>NaN</td>\n",
       "      <td>20.0</td>\n",
       "      <td>NaN</td>\n",
       "    </tr>\n",
       "    <tr>\n",
       "      <th>yellow</th>\n",
       "      <td>19.0</td>\n",
       "      <td>NaN</td>\n",
       "      <td>NaN</td>\n",
       "      <td>19.0</td>\n",
       "      <td>NaN</td>\n",
       "    </tr>\n",
       "  </tbody>\n",
       "</table>\n",
       "</div>"
      ]
     },
     "execution_count": 72,
     "metadata": {},
     "output_type": "execute_result"
    }
   ],
   "execution_count": 72
  },
  {
   "metadata": {
    "ExecuteTime": {
     "end_time": "2025-05-26T08:43:13.861485Z",
     "start_time": "2025-05-26T08:43:13.832663Z"
    }
   },
   "cell_type": "code",
   "source": "frame1.add(frame2, fill_value=0)",
   "id": "dc38fdd6fbbd2961",
   "outputs": [
    {
     "data": {
      "text/plain": [
       "        ball  mug  paper   pen  pencil\n",
       "blue     6.0  0.0    7.0   6.0     6.0\n",
       "green    5.0  3.0    NaN   4.0     NaN\n",
       "red      0.0  NaN    3.0   1.0     2.0\n",
       "white   20.0  6.0   15.0  20.0    14.0\n",
       "yellow  19.0  9.0   11.0  19.0    10.0"
      ],
      "text/html": [
       "<div>\n",
       "<style scoped>\n",
       "    .dataframe tbody tr th:only-of-type {\n",
       "        vertical-align: middle;\n",
       "    }\n",
       "\n",
       "    .dataframe tbody tr th {\n",
       "        vertical-align: top;\n",
       "    }\n",
       "\n",
       "    .dataframe thead th {\n",
       "        text-align: right;\n",
       "    }\n",
       "</style>\n",
       "<table border=\"1\" class=\"dataframe\">\n",
       "  <thead>\n",
       "    <tr style=\"text-align: right;\">\n",
       "      <th></th>\n",
       "      <th>ball</th>\n",
       "      <th>mug</th>\n",
       "      <th>paper</th>\n",
       "      <th>pen</th>\n",
       "      <th>pencil</th>\n",
       "    </tr>\n",
       "  </thead>\n",
       "  <tbody>\n",
       "    <tr>\n",
       "      <th>blue</th>\n",
       "      <td>6.0</td>\n",
       "      <td>0.0</td>\n",
       "      <td>7.0</td>\n",
       "      <td>6.0</td>\n",
       "      <td>6.0</td>\n",
       "    </tr>\n",
       "    <tr>\n",
       "      <th>green</th>\n",
       "      <td>5.0</td>\n",
       "      <td>3.0</td>\n",
       "      <td>NaN</td>\n",
       "      <td>4.0</td>\n",
       "      <td>NaN</td>\n",
       "    </tr>\n",
       "    <tr>\n",
       "      <th>red</th>\n",
       "      <td>0.0</td>\n",
       "      <td>NaN</td>\n",
       "      <td>3.0</td>\n",
       "      <td>1.0</td>\n",
       "      <td>2.0</td>\n",
       "    </tr>\n",
       "    <tr>\n",
       "      <th>white</th>\n",
       "      <td>20.0</td>\n",
       "      <td>6.0</td>\n",
       "      <td>15.0</td>\n",
       "      <td>20.0</td>\n",
       "      <td>14.0</td>\n",
       "    </tr>\n",
       "    <tr>\n",
       "      <th>yellow</th>\n",
       "      <td>19.0</td>\n",
       "      <td>9.0</td>\n",
       "      <td>11.0</td>\n",
       "      <td>19.0</td>\n",
       "      <td>10.0</td>\n",
       "    </tr>\n",
       "  </tbody>\n",
       "</table>\n",
       "</div>"
      ]
     },
     "execution_count": 74,
     "metadata": {},
     "output_type": "execute_result"
    }
   ],
   "execution_count": 74
  },
  {
   "metadata": {
    "ExecuteTime": {
     "end_time": "2025-05-26T08:46:39.369194Z",
     "start_time": "2025-05-26T08:46:39.336793Z"
    }
   },
   "cell_type": "code",
   "source": [
    "frame = pd.DataFrame(np.arange(16).reshape((4, 4)),\n",
    "                     index=['red', 'blue', 'yellow', 'white'],\n",
    "                     columns=['ball', 'pen', 'pencil', 'paper'])\n",
    "\n",
    "frame\n",
    "\n"
   ],
   "id": "688d0fac66a180cb",
   "outputs": [
    {
     "data": {
      "text/plain": [
       "        ball  pen  pencil  paper\n",
       "red        0    1       2      3\n",
       "blue       4    5       6      7\n",
       "yellow     8    9      10     11\n",
       "white     12   13      14     15"
      ],
      "text/html": [
       "<div>\n",
       "<style scoped>\n",
       "    .dataframe tbody tr th:only-of-type {\n",
       "        vertical-align: middle;\n",
       "    }\n",
       "\n",
       "    .dataframe tbody tr th {\n",
       "        vertical-align: top;\n",
       "    }\n",
       "\n",
       "    .dataframe thead th {\n",
       "        text-align: right;\n",
       "    }\n",
       "</style>\n",
       "<table border=\"1\" class=\"dataframe\">\n",
       "  <thead>\n",
       "    <tr style=\"text-align: right;\">\n",
       "      <th></th>\n",
       "      <th>ball</th>\n",
       "      <th>pen</th>\n",
       "      <th>pencil</th>\n",
       "      <th>paper</th>\n",
       "    </tr>\n",
       "  </thead>\n",
       "  <tbody>\n",
       "    <tr>\n",
       "      <th>red</th>\n",
       "      <td>0</td>\n",
       "      <td>1</td>\n",
       "      <td>2</td>\n",
       "      <td>3</td>\n",
       "    </tr>\n",
       "    <tr>\n",
       "      <th>blue</th>\n",
       "      <td>4</td>\n",
       "      <td>5</td>\n",
       "      <td>6</td>\n",
       "      <td>7</td>\n",
       "    </tr>\n",
       "    <tr>\n",
       "      <th>yellow</th>\n",
       "      <td>8</td>\n",
       "      <td>9</td>\n",
       "      <td>10</td>\n",
       "      <td>11</td>\n",
       "    </tr>\n",
       "    <tr>\n",
       "      <th>white</th>\n",
       "      <td>12</td>\n",
       "      <td>13</td>\n",
       "      <td>14</td>\n",
       "      <td>15</td>\n",
       "    </tr>\n",
       "  </tbody>\n",
       "</table>\n",
       "</div>"
      ]
     },
     "execution_count": 75,
     "metadata": {},
     "output_type": "execute_result"
    }
   ],
   "execution_count": 75
  },
  {
   "metadata": {
    "ExecuteTime": {
     "end_time": "2025-05-26T08:47:25.927415Z",
     "start_time": "2025-05-26T08:47:25.892084Z"
    }
   },
   "cell_type": "code",
   "source": [
    "f = lambda x: x.max() - x.min()\n",
    "\n",
    "frame.apply(f)"
   ],
   "id": "112ec2ca4835669e",
   "outputs": [
    {
     "data": {
      "text/plain": [
       "ball      12\n",
       "pen       12\n",
       "pencil    12\n",
       "paper     12\n",
       "dtype: int64"
      ]
     },
     "execution_count": 76,
     "metadata": {},
     "output_type": "execute_result"
    }
   ],
   "execution_count": 76
  },
  {
   "metadata": {
    "ExecuteTime": {
     "end_time": "2025-05-26T08:48:49.219651Z",
     "start_time": "2025-05-26T08:48:49.201514Z"
    }
   },
   "cell_type": "code",
   "source": "frame.apply(f, axis=1)",
   "id": "53cfdcbe61d9243",
   "outputs": [
    {
     "data": {
      "text/plain": [
       "red       3\n",
       "blue      3\n",
       "yellow    3\n",
       "white     3\n",
       "dtype: int64"
      ]
     },
     "execution_count": 77,
     "metadata": {},
     "output_type": "execute_result"
    }
   ],
   "execution_count": 77
  },
  {
   "metadata": {
    "ExecuteTime": {
     "end_time": "2025-05-26T08:50:12.556148Z",
     "start_time": "2025-05-26T08:50:12.529350Z"
    }
   },
   "cell_type": "code",
   "source": "frame",
   "id": "cf1a7c3aa09752c6",
   "outputs": [
    {
     "data": {
      "text/plain": [
       "        ball  pen  pencil  paper\n",
       "red        0    1       2      3\n",
       "blue       4    5       6      7\n",
       "yellow     8    9      10     11\n",
       "white     12   13      14     15"
      ],
      "text/html": [
       "<div>\n",
       "<style scoped>\n",
       "    .dataframe tbody tr th:only-of-type {\n",
       "        vertical-align: middle;\n",
       "    }\n",
       "\n",
       "    .dataframe tbody tr th {\n",
       "        vertical-align: top;\n",
       "    }\n",
       "\n",
       "    .dataframe thead th {\n",
       "        text-align: right;\n",
       "    }\n",
       "</style>\n",
       "<table border=\"1\" class=\"dataframe\">\n",
       "  <thead>\n",
       "    <tr style=\"text-align: right;\">\n",
       "      <th></th>\n",
       "      <th>ball</th>\n",
       "      <th>pen</th>\n",
       "      <th>pencil</th>\n",
       "      <th>paper</th>\n",
       "    </tr>\n",
       "  </thead>\n",
       "  <tbody>\n",
       "    <tr>\n",
       "      <th>red</th>\n",
       "      <td>0</td>\n",
       "      <td>1</td>\n",
       "      <td>2</td>\n",
       "      <td>3</td>\n",
       "    </tr>\n",
       "    <tr>\n",
       "      <th>blue</th>\n",
       "      <td>4</td>\n",
       "      <td>5</td>\n",
       "      <td>6</td>\n",
       "      <td>7</td>\n",
       "    </tr>\n",
       "    <tr>\n",
       "      <th>yellow</th>\n",
       "      <td>8</td>\n",
       "      <td>9</td>\n",
       "      <td>10</td>\n",
       "      <td>11</td>\n",
       "    </tr>\n",
       "    <tr>\n",
       "      <th>white</th>\n",
       "      <td>12</td>\n",
       "      <td>13</td>\n",
       "      <td>14</td>\n",
       "      <td>15</td>\n",
       "    </tr>\n",
       "  </tbody>\n",
       "</table>\n",
       "</div>"
      ]
     },
     "execution_count": 79,
     "metadata": {},
     "output_type": "execute_result"
    }
   ],
   "execution_count": 79
  },
  {
   "metadata": {
    "ExecuteTime": {
     "end_time": "2025-05-26T08:50:14.364902Z",
     "start_time": "2025-05-26T08:50:14.361285Z"
    }
   },
   "cell_type": "code",
   "source": "frame.sum()",
   "id": "cff6e4874ea2a8cd",
   "outputs": [
    {
     "data": {
      "text/plain": [
       "ball      24\n",
       "pen       28\n",
       "pencil    32\n",
       "paper     36\n",
       "dtype: int64"
      ]
     },
     "execution_count": 80,
     "metadata": {},
     "output_type": "execute_result"
    }
   ],
   "execution_count": 80
  },
  {
   "metadata": {
    "ExecuteTime": {
     "end_time": "2025-05-26T08:50:26.672939Z",
     "start_time": "2025-05-26T08:50:26.653802Z"
    }
   },
   "cell_type": "code",
   "source": "frame.sum(axis=1)",
   "id": "24d0b13ef8d9bf16",
   "outputs": [
    {
     "data": {
      "text/plain": [
       "red        6\n",
       "blue      22\n",
       "yellow    38\n",
       "white     54\n",
       "dtype: int64"
      ]
     },
     "execution_count": 81,
     "metadata": {},
     "output_type": "execute_result"
    }
   ],
   "execution_count": 81
  },
  {
   "metadata": {
    "ExecuteTime": {
     "end_time": "2025-05-26T08:50:42.304832Z",
     "start_time": "2025-05-26T08:50:42.283200Z"
    }
   },
   "cell_type": "code",
   "source": "frame.mean()",
   "id": "c42283a0b5a88249",
   "outputs": [
    {
     "data": {
      "text/plain": [
       "ball      6.0\n",
       "pen       7.0\n",
       "pencil    8.0\n",
       "paper     9.0\n",
       "dtype: float64"
      ]
     },
     "execution_count": 82,
     "metadata": {},
     "output_type": "execute_result"
    }
   ],
   "execution_count": 82
  },
  {
   "metadata": {
    "ExecuteTime": {
     "end_time": "2025-05-26T08:51:19.985794Z",
     "start_time": "2025-05-26T08:51:19.964926Z"
    }
   },
   "cell_type": "code",
   "source": "frame.var()",
   "id": "8b6561a1614fb9ce",
   "outputs": [
    {
     "data": {
      "text/plain": [
       "ball      26.666667\n",
       "pen       26.666667\n",
       "pencil    26.666667\n",
       "paper     26.666667\n",
       "dtype: float64"
      ]
     },
     "execution_count": 83,
     "metadata": {},
     "output_type": "execute_result"
    }
   ],
   "execution_count": 83
  },
  {
   "metadata": {
    "ExecuteTime": {
     "end_time": "2025-05-26T08:51:37.765046Z",
     "start_time": "2025-05-26T08:51:37.743332Z"
    }
   },
   "cell_type": "code",
   "source": "frame.describe()",
   "id": "aeab05285a1b8b5f",
   "outputs": [
    {
     "data": {
      "text/plain": [
       "            ball        pen     pencil      paper\n",
       "count   4.000000   4.000000   4.000000   4.000000\n",
       "mean    6.000000   7.000000   8.000000   9.000000\n",
       "std     5.163978   5.163978   5.163978   5.163978\n",
       "min     0.000000   1.000000   2.000000   3.000000\n",
       "25%     3.000000   4.000000   5.000000   6.000000\n",
       "50%     6.000000   7.000000   8.000000   9.000000\n",
       "75%     9.000000  10.000000  11.000000  12.000000\n",
       "max    12.000000  13.000000  14.000000  15.000000"
      ],
      "text/html": [
       "<div>\n",
       "<style scoped>\n",
       "    .dataframe tbody tr th:only-of-type {\n",
       "        vertical-align: middle;\n",
       "    }\n",
       "\n",
       "    .dataframe tbody tr th {\n",
       "        vertical-align: top;\n",
       "    }\n",
       "\n",
       "    .dataframe thead th {\n",
       "        text-align: right;\n",
       "    }\n",
       "</style>\n",
       "<table border=\"1\" class=\"dataframe\">\n",
       "  <thead>\n",
       "    <tr style=\"text-align: right;\">\n",
       "      <th></th>\n",
       "      <th>ball</th>\n",
       "      <th>pen</th>\n",
       "      <th>pencil</th>\n",
       "      <th>paper</th>\n",
       "    </tr>\n",
       "  </thead>\n",
       "  <tbody>\n",
       "    <tr>\n",
       "      <th>count</th>\n",
       "      <td>4.000000</td>\n",
       "      <td>4.000000</td>\n",
       "      <td>4.000000</td>\n",
       "      <td>4.000000</td>\n",
       "    </tr>\n",
       "    <tr>\n",
       "      <th>mean</th>\n",
       "      <td>6.000000</td>\n",
       "      <td>7.000000</td>\n",
       "      <td>8.000000</td>\n",
       "      <td>9.000000</td>\n",
       "    </tr>\n",
       "    <tr>\n",
       "      <th>std</th>\n",
       "      <td>5.163978</td>\n",
       "      <td>5.163978</td>\n",
       "      <td>5.163978</td>\n",
       "      <td>5.163978</td>\n",
       "    </tr>\n",
       "    <tr>\n",
       "      <th>min</th>\n",
       "      <td>0.000000</td>\n",
       "      <td>1.000000</td>\n",
       "      <td>2.000000</td>\n",
       "      <td>3.000000</td>\n",
       "    </tr>\n",
       "    <tr>\n",
       "      <th>25%</th>\n",
       "      <td>3.000000</td>\n",
       "      <td>4.000000</td>\n",
       "      <td>5.000000</td>\n",
       "      <td>6.000000</td>\n",
       "    </tr>\n",
       "    <tr>\n",
       "      <th>50%</th>\n",
       "      <td>6.000000</td>\n",
       "      <td>7.000000</td>\n",
       "      <td>8.000000</td>\n",
       "      <td>9.000000</td>\n",
       "    </tr>\n",
       "    <tr>\n",
       "      <th>75%</th>\n",
       "      <td>9.000000</td>\n",
       "      <td>10.000000</td>\n",
       "      <td>11.000000</td>\n",
       "      <td>12.000000</td>\n",
       "    </tr>\n",
       "    <tr>\n",
       "      <th>max</th>\n",
       "      <td>12.000000</td>\n",
       "      <td>13.000000</td>\n",
       "      <td>14.000000</td>\n",
       "      <td>15.000000</td>\n",
       "    </tr>\n",
       "  </tbody>\n",
       "</table>\n",
       "</div>"
      ]
     },
     "execution_count": 84,
     "metadata": {},
     "output_type": "execute_result"
    }
   ],
   "execution_count": 84
  },
  {
   "metadata": {
    "ExecuteTime": {
     "end_time": "2025-05-26T08:52:47.026929Z",
     "start_time": "2025-05-26T08:52:46.994156Z"
    }
   },
   "cell_type": "code",
   "source": "frame.describe(percentiles=[0.1, 0.9])",
   "id": "a89384f52e27e8ae",
   "outputs": [
    {
     "data": {
      "text/plain": [
       "            ball        pen     pencil      paper\n",
       "count   4.000000   4.000000   4.000000   4.000000\n",
       "mean    6.000000   7.000000   8.000000   9.000000\n",
       "std     5.163978   5.163978   5.163978   5.163978\n",
       "min     0.000000   1.000000   2.000000   3.000000\n",
       "10%     1.200000   2.200000   3.200000   4.200000\n",
       "50%     6.000000   7.000000   8.000000   9.000000\n",
       "90%    10.800000  11.800000  12.800000  13.800000\n",
       "max    12.000000  13.000000  14.000000  15.000000"
      ],
      "text/html": [
       "<div>\n",
       "<style scoped>\n",
       "    .dataframe tbody tr th:only-of-type {\n",
       "        vertical-align: middle;\n",
       "    }\n",
       "\n",
       "    .dataframe tbody tr th {\n",
       "        vertical-align: top;\n",
       "    }\n",
       "\n",
       "    .dataframe thead th {\n",
       "        text-align: right;\n",
       "    }\n",
       "</style>\n",
       "<table border=\"1\" class=\"dataframe\">\n",
       "  <thead>\n",
       "    <tr style=\"text-align: right;\">\n",
       "      <th></th>\n",
       "      <th>ball</th>\n",
       "      <th>pen</th>\n",
       "      <th>pencil</th>\n",
       "      <th>paper</th>\n",
       "    </tr>\n",
       "  </thead>\n",
       "  <tbody>\n",
       "    <tr>\n",
       "      <th>count</th>\n",
       "      <td>4.000000</td>\n",
       "      <td>4.000000</td>\n",
       "      <td>4.000000</td>\n",
       "      <td>4.000000</td>\n",
       "    </tr>\n",
       "    <tr>\n",
       "      <th>mean</th>\n",
       "      <td>6.000000</td>\n",
       "      <td>7.000000</td>\n",
       "      <td>8.000000</td>\n",
       "      <td>9.000000</td>\n",
       "    </tr>\n",
       "    <tr>\n",
       "      <th>std</th>\n",
       "      <td>5.163978</td>\n",
       "      <td>5.163978</td>\n",
       "      <td>5.163978</td>\n",
       "      <td>5.163978</td>\n",
       "    </tr>\n",
       "    <tr>\n",
       "      <th>min</th>\n",
       "      <td>0.000000</td>\n",
       "      <td>1.000000</td>\n",
       "      <td>2.000000</td>\n",
       "      <td>3.000000</td>\n",
       "    </tr>\n",
       "    <tr>\n",
       "      <th>10%</th>\n",
       "      <td>1.200000</td>\n",
       "      <td>2.200000</td>\n",
       "      <td>3.200000</td>\n",
       "      <td>4.200000</td>\n",
       "    </tr>\n",
       "    <tr>\n",
       "      <th>50%</th>\n",
       "      <td>6.000000</td>\n",
       "      <td>7.000000</td>\n",
       "      <td>8.000000</td>\n",
       "      <td>9.000000</td>\n",
       "    </tr>\n",
       "    <tr>\n",
       "      <th>90%</th>\n",
       "      <td>10.800000</td>\n",
       "      <td>11.800000</td>\n",
       "      <td>12.800000</td>\n",
       "      <td>13.800000</td>\n",
       "    </tr>\n",
       "    <tr>\n",
       "      <th>max</th>\n",
       "      <td>12.000000</td>\n",
       "      <td>13.000000</td>\n",
       "      <td>14.000000</td>\n",
       "      <td>15.000000</td>\n",
       "    </tr>\n",
       "  </tbody>\n",
       "</table>\n",
       "</div>"
      ]
     },
     "execution_count": 85,
     "metadata": {},
     "output_type": "execute_result"
    }
   ],
   "execution_count": 85
  },
  {
   "metadata": {
    "ExecuteTime": {
     "end_time": "2025-05-26T08:52:56.872069Z",
     "start_time": "2025-05-26T08:52:56.862033Z"
    }
   },
   "cell_type": "code",
   "source": "frame.describe(percentiles=[0.1, 0.9], include='all')",
   "id": "a0791f8c4f12135",
   "outputs": [
    {
     "data": {
      "text/plain": [
       "            ball        pen     pencil      paper\n",
       "count   4.000000   4.000000   4.000000   4.000000\n",
       "mean    6.000000   7.000000   8.000000   9.000000\n",
       "std     5.163978   5.163978   5.163978   5.163978\n",
       "min     0.000000   1.000000   2.000000   3.000000\n",
       "10%     1.200000   2.200000   3.200000   4.200000\n",
       "50%     6.000000   7.000000   8.000000   9.000000\n",
       "90%    10.800000  11.800000  12.800000  13.800000\n",
       "max    12.000000  13.000000  14.000000  15.000000"
      ],
      "text/html": [
       "<div>\n",
       "<style scoped>\n",
       "    .dataframe tbody tr th:only-of-type {\n",
       "        vertical-align: middle;\n",
       "    }\n",
       "\n",
       "    .dataframe tbody tr th {\n",
       "        vertical-align: top;\n",
       "    }\n",
       "\n",
       "    .dataframe thead th {\n",
       "        text-align: right;\n",
       "    }\n",
       "</style>\n",
       "<table border=\"1\" class=\"dataframe\">\n",
       "  <thead>\n",
       "    <tr style=\"text-align: right;\">\n",
       "      <th></th>\n",
       "      <th>ball</th>\n",
       "      <th>pen</th>\n",
       "      <th>pencil</th>\n",
       "      <th>paper</th>\n",
       "    </tr>\n",
       "  </thead>\n",
       "  <tbody>\n",
       "    <tr>\n",
       "      <th>count</th>\n",
       "      <td>4.000000</td>\n",
       "      <td>4.000000</td>\n",
       "      <td>4.000000</td>\n",
       "      <td>4.000000</td>\n",
       "    </tr>\n",
       "    <tr>\n",
       "      <th>mean</th>\n",
       "      <td>6.000000</td>\n",
       "      <td>7.000000</td>\n",
       "      <td>8.000000</td>\n",
       "      <td>9.000000</td>\n",
       "    </tr>\n",
       "    <tr>\n",
       "      <th>std</th>\n",
       "      <td>5.163978</td>\n",
       "      <td>5.163978</td>\n",
       "      <td>5.163978</td>\n",
       "      <td>5.163978</td>\n",
       "    </tr>\n",
       "    <tr>\n",
       "      <th>min</th>\n",
       "      <td>0.000000</td>\n",
       "      <td>1.000000</td>\n",
       "      <td>2.000000</td>\n",
       "      <td>3.000000</td>\n",
       "    </tr>\n",
       "    <tr>\n",
       "      <th>10%</th>\n",
       "      <td>1.200000</td>\n",
       "      <td>2.200000</td>\n",
       "      <td>3.200000</td>\n",
       "      <td>4.200000</td>\n",
       "    </tr>\n",
       "    <tr>\n",
       "      <th>50%</th>\n",
       "      <td>6.000000</td>\n",
       "      <td>7.000000</td>\n",
       "      <td>8.000000</td>\n",
       "      <td>9.000000</td>\n",
       "    </tr>\n",
       "    <tr>\n",
       "      <th>90%</th>\n",
       "      <td>10.800000</td>\n",
       "      <td>11.800000</td>\n",
       "      <td>12.800000</td>\n",
       "      <td>13.800000</td>\n",
       "    </tr>\n",
       "    <tr>\n",
       "      <th>max</th>\n",
       "      <td>12.000000</td>\n",
       "      <td>13.000000</td>\n",
       "      <td>14.000000</td>\n",
       "      <td>15.000000</td>\n",
       "    </tr>\n",
       "  </tbody>\n",
       "</table>\n",
       "</div>"
      ]
     },
     "execution_count": 86,
     "metadata": {},
     "output_type": "execute_result"
    }
   ],
   "execution_count": 86
  },
  {
   "metadata": {},
   "cell_type": "code",
   "outputs": [],
   "execution_count": null,
   "source": "",
   "id": "60f4cc545d8f2812"
  }
 ],
 "metadata": {
  "kernelspec": {
   "display_name": "Python 3",
   "language": "python",
   "name": "python3"
  },
  "language_info": {
   "codemirror_mode": {
    "name": "ipython",
    "version": 2
   },
   "file_extension": ".py",
   "mimetype": "text/x-python",
   "name": "python",
   "nbconvert_exporter": "python",
   "pygments_lexer": "ipython2",
   "version": "2.7.6"
  }
 },
 "nbformat": 4,
 "nbformat_minor": 5
}
