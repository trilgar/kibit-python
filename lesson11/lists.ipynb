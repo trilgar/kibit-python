{
 "cells": [
  {
   "cell_type": "code",
   "id": "initial_id",
   "metadata": {
    "collapsed": true,
    "ExecuteTime": {
     "end_time": "2025-02-20T21:04:33.488768Z",
     "start_time": "2025-02-20T21:04:33.483911Z"
    }
   },
   "source": [
    "nums = [1, 2, 3]  # список цілих чисел\n",
    "print(nums)\n",
    "data = [\"text\", 100, [5, 10]]  # список з рядком, числом і вкладеним списком\n",
    "print(data)"
   ],
   "outputs": [
    {
     "name": "stdout",
     "output_type": "stream",
     "text": [
      "[1, 2, 3]\n",
      "['text', 100, [5, 10]]\n"
     ]
    }
   ],
   "execution_count": 6
  },
  {
   "metadata": {
    "ExecuteTime": {
     "end_time": "2025-02-20T21:04:08.542480Z",
     "start_time": "2025-02-20T21:04:08.538706Z"
    }
   },
   "cell_type": "code",
   "source": [
    "numbers = list(range(0, 100, 10))\n",
    "print(numbers)"
   ],
   "id": "3d56710ffa1c23c7",
   "outputs": [
    {
     "name": "stdout",
     "output_type": "stream",
     "text": [
      "[0, 10, 20, 30, 40, 50, 60, 70, 80, 90]\n"
     ]
    }
   ],
   "execution_count": 4
  },
  {
   "metadata": {
    "ExecuteTime": {
     "end_time": "2025-02-20T21:04:31.935728Z",
     "start_time": "2025-02-20T21:04:31.931462Z"
    }
   },
   "cell_type": "code",
   "source": [
    "powers_of_two = [2 ** i for i in range(11)]\n",
    "print(powers_of_two)  # [1, 2, 4, 8, 16, 32, 64, 128, 256, 512, 1024]"
   ],
   "id": "df4cc639de9a659b",
   "outputs": [
    {
     "name": "stdout",
     "output_type": "stream",
     "text": [
      "[1, 2, 4, 8, 16, 32, 64, 128, 256, 512, 1024]\n"
     ]
    }
   ],
   "execution_count": 5
  },
  {
   "metadata": {
    "ExecuteTime": {
     "end_time": "2025-02-20T21:05:42.201392Z",
     "start_time": "2025-02-20T21:05:42.197013Z"
    }
   },
   "cell_type": "code",
   "source": [
    "nums_list = [7 * i + 1 for i in range(20) if i % 4 == 3]\n",
    "print(nums_list)  # [22, 57, 92, 127, 162, 197]"
   ],
   "id": "aaa19130096f0be7",
   "outputs": [
    {
     "name": "stdout",
     "output_type": "stream",
     "text": [
      "[22, 50, 78, 106, 134]\n"
     ]
    }
   ],
   "execution_count": 7
  },
  {
   "metadata": {
    "ExecuteTime": {
     "end_time": "2025-02-20T21:07:42.277737Z",
     "start_time": "2025-02-20T21:07:42.273838Z"
    }
   },
   "cell_type": "code",
   "source": [
    "nums = [1, 2, 3]\n",
    "print(nums[0])"
   ],
   "id": "aee0c47783b45430",
   "outputs": [
    {
     "name": "stdout",
     "output_type": "stream",
     "text": [
      "1\n"
     ]
    }
   ],
   "execution_count": 8
  },
  {
   "metadata": {
    "ExecuteTime": {
     "end_time": "2025-02-20T21:07:48.114568Z",
     "start_time": "2025-02-20T21:07:48.110093Z"
    }
   },
   "cell_type": "code",
   "source": "print(nums[-1])",
   "id": "27b8586fe3963079",
   "outputs": [
    {
     "name": "stdout",
     "output_type": "stream",
     "text": [
      "3\n"
     ]
    }
   ],
   "execution_count": 9
  },
  {
   "metadata": {
    "ExecuteTime": {
     "end_time": "2025-02-20T21:09:00.179653Z",
     "start_time": "2025-02-20T21:09:00.176203Z"
    }
   },
   "cell_type": "code",
   "source": [
    "nums[1] = -10\n",
    "print(nums)"
   ],
   "id": "e62be469304a6cec",
   "outputs": [
    {
     "name": "stdout",
     "output_type": "stream",
     "text": [
      "[1, -10, 3]\n"
     ]
    }
   ],
   "execution_count": 10
  },
  {
   "metadata": {},
   "cell_type": "markdown",
   "source": "Примітивні операції зі списками",
   "id": "9c3b9985a84b5438"
  },
  {
   "metadata": {
    "ExecuteTime": {
     "end_time": "2025-02-20T21:12:45.173188Z",
     "start_time": "2025-02-20T21:12:45.169340Z"
    }
   },
   "cell_type": "code",
   "source": [
    "nums.append(4)  # Додає елемент до кінця\n",
    "print(nums)"
   ],
   "id": "45da96016bedfef5",
   "outputs": [
    {
     "name": "stdout",
     "output_type": "stream",
     "text": [
      "[1, -10, 3, 4, 4]\n"
     ]
    }
   ],
   "execution_count": 12
  },
  {
   "metadata": {
    "ExecuteTime": {
     "end_time": "2025-02-20T21:13:09.008648Z",
     "start_time": "2025-02-20T21:13:09.004847Z"
    }
   },
   "cell_type": "code",
   "source": [
    "nums.remove(-10)  # Видаляє перший знайдений елемент зі значенням -10\n",
    "print(nums)"
   ],
   "id": "3dd6032d6ea1df6c",
   "outputs": [
    {
     "name": "stdout",
     "output_type": "stream",
     "text": [
      "[1, 3, 4, 4]\n"
     ]
    }
   ],
   "execution_count": 14
  },
  {
   "metadata": {
    "ExecuteTime": {
     "end_time": "2025-02-20T21:13:37.961809Z",
     "start_time": "2025-02-20T21:13:37.957725Z"
    }
   },
   "cell_type": "code",
   "source": [
    "length_of_list = len(nums)  # Повертає кількість елементів у списку\n",
    "print(length_of_list)"
   ],
   "id": "cd26ba93455fbab2",
   "outputs": [
    {
     "name": "stdout",
     "output_type": "stream",
     "text": [
      "4\n"
     ]
    }
   ],
   "execution_count": 15
  },
  {
   "metadata": {},
   "cell_type": "markdown",
   "source": "Slises",
   "id": "7107bbd1404453ca"
  },
  {
   "metadata": {
    "ExecuteTime": {
     "end_time": "2025-02-20T21:25:33.249078Z",
     "start_time": "2025-02-20T21:25:33.243939Z"
    }
   },
   "cell_type": "code",
   "source": [
    "nums = [1, 2, 3, 4, 5]\n",
    "nums[1:4]  # Повертає [2, 3, 4]"
   ],
   "id": "408b2122b9ffc3b8",
   "outputs": [
    {
     "data": {
      "text/plain": [
       "[2, 3, 4]"
      ]
     },
     "execution_count": 23,
     "metadata": {},
     "output_type": "execute_result"
    }
   ],
   "execution_count": 23
  },
  {
   "metadata": {
    "ExecuteTime": {
     "end_time": "2025-02-20T21:25:46.447128Z",
     "start_time": "2025-02-20T21:25:46.443102Z"
    }
   },
   "cell_type": "code",
   "source": "nums[1:200]",
   "id": "a976db31fa972f02",
   "outputs": [
    {
     "data": {
      "text/plain": [
       "[2, 3, 4, 5]"
      ]
     },
     "execution_count": 24,
     "metadata": {},
     "output_type": "execute_result"
    }
   ],
   "execution_count": 24
  },
  {
   "metadata": {
    "ExecuteTime": {
     "end_time": "2025-02-20T21:25:00.297602Z",
     "start_time": "2025-02-20T21:25:00.292298Z"
    }
   },
   "cell_type": "code",
   "source": "nums[:3]  # Повертає [1, 2, 3]",
   "id": "23ff0ba4c87d5700",
   "outputs": [
    {
     "data": {
      "text/plain": [
       "[1, 2, 3]"
      ]
     },
     "execution_count": 20,
     "metadata": {},
     "output_type": "execute_result"
    }
   ],
   "execution_count": 20
  },
  {
   "metadata": {
    "ExecuteTime": {
     "end_time": "2025-02-20T21:25:07.942813Z",
     "start_time": "2025-02-20T21:25:07.937611Z"
    }
   },
   "cell_type": "code",
   "source": "nums[2:]  # Повертає [3, 4, 5]",
   "id": "713090a701d8dbc2",
   "outputs": [
    {
     "data": {
      "text/plain": [
       "[3, 4, 5]"
      ]
     },
     "execution_count": 21,
     "metadata": {},
     "output_type": "execute_result"
    }
   ],
   "execution_count": 21
  },
  {
   "metadata": {
    "ExecuteTime": {
     "end_time": "2025-02-20T21:25:18.640816Z",
     "start_time": "2025-02-20T21:25:18.636361Z"
    }
   },
   "cell_type": "code",
   "source": "nums[:]  # Повертає копію списку [1, 2, 3, 4, 5]",
   "id": "c14eae5a7aa08e3b",
   "outputs": [
    {
     "data": {
      "text/plain": [
       "[1, 2, 3, 4, 5]"
      ]
     },
     "execution_count": 22,
     "metadata": {},
     "output_type": "execute_result"
    }
   ],
   "execution_count": 22
  },
  {
   "metadata": {
    "ExecuteTime": {
     "end_time": "2025-02-20T21:35:34.493298Z",
     "start_time": "2025-02-20T21:35:34.488767Z"
    }
   },
   "cell_type": "code",
   "source": "nums[1:-1]",
   "id": "e6c640faeb36a33b",
   "outputs": [
    {
     "data": {
      "text/plain": [
       "[2, 3, 4]"
      ]
     },
     "execution_count": 25,
     "metadata": {},
     "output_type": "execute_result"
    }
   ],
   "execution_count": 25
  },
  {
   "metadata": {
    "ExecuteTime": {
     "end_time": "2025-02-20T21:35:48.428545Z",
     "start_time": "2025-02-20T21:35:48.424049Z"
    }
   },
   "cell_type": "code",
   "source": "nums[-3:]",
   "id": "a25424af311fad8f",
   "outputs": [
    {
     "data": {
      "text/plain": [
       "[3, 4, 5]"
      ]
     },
     "execution_count": 26,
     "metadata": {},
     "output_type": "execute_result"
    }
   ],
   "execution_count": 26
  },
  {
   "metadata": {
    "ExecuteTime": {
     "end_time": "2025-02-20T21:36:14.751816Z",
     "start_time": "2025-02-20T21:36:14.746680Z"
    }
   },
   "cell_type": "code",
   "source": "nums[-10:4]",
   "id": "793068029bfde245",
   "outputs": [
    {
     "data": {
      "text/plain": [
       "[1, 2, 3, 4]"
      ]
     },
     "execution_count": 27,
     "metadata": {},
     "output_type": "execute_result"
    }
   ],
   "execution_count": 27
  },
  {
   "metadata": {},
   "cell_type": "markdown",
   "source": "Slises with steps",
   "id": "6e6995a5b7e76b08"
  },
  {
   "metadata": {},
   "cell_type": "code",
   "outputs": [],
   "execution_count": null,
   "source": "m = [1, 5, 10, 15, 20, 25]",
   "id": "62cd2e8f0c829e68"
  },
  {
   "metadata": {
    "ExecuteTime": {
     "end_time": "2025-02-20T21:42:12.802677Z",
     "start_time": "2025-02-20T21:42:12.798085Z"
    }
   },
   "cell_type": "code",
   "source": "m[1:6:2]  # Повертає [5, 15, 25]",
   "id": "3137d970480d8e6a",
   "outputs": [
    {
     "data": {
      "text/plain": [
       "[5, 15, 25]"
      ]
     },
     "execution_count": 28,
     "metadata": {},
     "output_type": "execute_result"
    }
   ],
   "execution_count": 28
  },
  {
   "metadata": {
    "ExecuteTime": {
     "end_time": "2025-02-20T21:42:17.027103Z",
     "start_time": "2025-02-20T21:42:17.022013Z"
    }
   },
   "cell_type": "code",
   "source": "m[::2]  # Повертає [1, 10, 20]",
   "id": "40c6790be900250f",
   "outputs": [
    {
     "data": {
      "text/plain": [
       "[1, 10, 20]"
      ]
     },
     "execution_count": 29,
     "metadata": {},
     "output_type": "execute_result"
    }
   ],
   "execution_count": 29
  },
  {
   "metadata": {
    "ExecuteTime": {
     "end_time": "2025-02-20T21:42:23.919974Z",
     "start_time": "2025-02-20T21:42:23.915368Z"
    }
   },
   "cell_type": "code",
   "source": "m[::-1]  # Повертає [25, 20, 15, 10, 5, 1]",
   "id": "c78a2c369bac12c8",
   "outputs": [
    {
     "data": {
      "text/plain": [
       "[25, 20, 15, 10, 5, 1]"
      ]
     },
     "execution_count": 30,
     "metadata": {},
     "output_type": "execute_result"
    }
   ],
   "execution_count": 30
  },
  {
   "metadata": {
    "ExecuteTime": {
     "end_time": "2025-02-20T21:42:39.898266Z",
     "start_time": "2025-02-20T21:42:39.893283Z"
    }
   },
   "cell_type": "code",
   "source": "m[5:1:-2]",
   "id": "3f89485f14125444",
   "outputs": [
    {
     "data": {
      "text/plain": [
       "[25, 15]"
      ]
     },
     "execution_count": 31,
     "metadata": {},
     "output_type": "execute_result"
    }
   ],
   "execution_count": 31
  },
  {
   "metadata": {
    "ExecuteTime": {
     "end_time": "2025-02-20T21:43:06.396205Z",
     "start_time": "2025-02-20T21:43:06.390738Z"
    }
   },
   "cell_type": "code",
   "source": "m[5:-1:-1]",
   "id": "6e47e4a786d9e023",
   "outputs": [
    {
     "data": {
      "text/plain": [
       "[]"
      ]
     },
     "execution_count": 32,
     "metadata": {},
     "output_type": "execute_result"
    }
   ],
   "execution_count": 32
  },
  {
   "metadata": {
    "ExecuteTime": {
     "end_time": "2025-02-20T21:45:44.248663Z",
     "start_time": "2025-02-20T21:45:44.244254Z"
    }
   },
   "cell_type": "code",
   "source": "m[-5:-1:-1]",
   "id": "ffa3ccec78643c59",
   "outputs": [
    {
     "data": {
      "text/plain": [
       "[]"
      ]
     },
     "execution_count": 35,
     "metadata": {},
     "output_type": "execute_result"
    }
   ],
   "execution_count": 35
  },
  {
   "metadata": {
    "ExecuteTime": {
     "end_time": "2025-02-20T21:46:35.561223Z",
     "start_time": "2025-02-20T21:46:35.555478Z"
    }
   },
   "cell_type": "code",
   "source": "m[:-10:-1]",
   "id": "d7eb33ed60d1f96d",
   "outputs": [
    {
     "data": {
      "text/plain": [
       "[25, 20, 15, 10, 5, 1]"
      ]
     },
     "execution_count": 36,
     "metadata": {},
     "output_type": "execute_result"
    }
   ],
   "execution_count": 36
  },
  {
   "metadata": {
    "ExecuteTime": {
     "end_time": "2025-02-20T21:48:16.348031Z",
     "start_time": "2025-02-20T21:48:16.344155Z"
    }
   },
   "cell_type": "code",
   "source": "m[10:-10:-1]",
   "id": "6412ec760356c8ea",
   "outputs": [
    {
     "data": {
      "text/plain": [
       "[25, 20, 15, 10, 5, 1]"
      ]
     },
     "execution_count": 37,
     "metadata": {},
     "output_type": "execute_result"
    }
   ],
   "execution_count": 37
  },
  {
   "metadata": {
    "ExecuteTime": {
     "end_time": "2025-02-20T21:49:16.508421Z",
     "start_time": "2025-02-20T21:49:16.503545Z"
    }
   },
   "cell_type": "code",
   "source": "m[10:0:-1]",
   "id": "8e759bf65fcf481c",
   "outputs": [
    {
     "data": {
      "text/plain": [
       "[25, 20, 15, 10, 5]"
      ]
     },
     "execution_count": 41,
     "metadata": {},
     "output_type": "execute_result"
    }
   ],
   "execution_count": 41
  },
  {
   "metadata": {},
   "cell_type": "markdown",
   "source": "Операції зі списками",
   "id": "584bcb8e266861c3"
  },
  {
   "metadata": {
    "ExecuteTime": {
     "end_time": "2025-02-26T18:58:18.028083Z",
     "start_time": "2025-02-26T18:58:18.020552Z"
    }
   },
   "cell_type": "code",
   "source": [
    "# Базовий список\n",
    "s = [10, 20, 30]\n",
    "# Пояснюємо що список новий\n",
    "# і свіжий\n",
    "print(s)\n",
    "# Додаємо елемент\n",
    "s.append(100)\n",
    "print(s)"
   ],
   "id": "e8f813b2f32da9e9",
   "outputs": [
    {
     "name": "stdout",
     "output_type": "stream",
     "text": [
      "[10, 20, 30]\n",
      "[10, 20, 30, 100]\n"
     ]
    }
   ],
   "execution_count": 1
  },
  {
   "metadata": {
    "ExecuteTime": {
     "end_time": "2025-02-26T19:04:38.218824Z",
     "start_time": "2025-02-26T19:04:38.211539Z"
    }
   },
   "cell_type": "code",
   "source": [
    "s = [10, -5, 20, 30]\n",
    "print(s)\n",
    "# Вставляємо (insert) значення 1 на позицію 2\n",
    "s.insert(2, 1)\n",
    "print(s)\n",
    "# Вставляємо кілька елементів за допомогою зрізу\n",
    "s[2:2] = [1, 2]\n",
    "print(s)\n",
    "# Вирізаємо елементи зі списку (індекси 3..4)\n",
    "s[3:5] = []\n",
    "print(s)\n",
    "# У список додається відразу два елементи\n",
    "s[3:3] = [100, 200]\n",
    "print(s)"
   ],
   "id": "f8f034f3ad96c0b9",
   "outputs": [
    {
     "name": "stdout",
     "output_type": "stream",
     "text": [
      "[10, -5, 20, 30]\n",
      "[10, -5, 1, 20, 30]\n",
      "[10, -5, 1, 2, 1, 20, 30]\n",
      "[10, -5, 1, 20, 30]\n",
      "[10, -5, 1, 100, 200, 20, 30]\n"
     ]
    }
   ],
   "execution_count": 2
  },
  {
   "metadata": {
    "ExecuteTime": {
     "end_time": "2025-02-26T19:13:24.150060Z",
     "start_time": "2025-02-26T19:13:24.143671Z"
    }
   },
   "cell_type": "code",
   "source": [
    "s = [i * 10 + i for i in range(11)]\n",
    "print(s)\n",
    "\n",
    "# Вилучаємо елемент з індексом 5\n",
    "print(\"Видаляємо елемент\", s.pop(5))\n",
    "print(s)\n",
    "\n",
    "# Вилучаємо елемент зі значенням 21\n",
    "s.remove(22)\n",
    "print(s)\n",
    "\n",
    "del s[1]\n",
    "print(s)\n",
    "\n",
    "# Вирізаємо елементи списку (індекси 2..4)\n",
    "s[2:5] = []\n",
    "print(s)\n",
    "\n",
    "s[0:3] = [-1, -2, -3, -4, -5]\n",
    "print(s)\n"
   ],
   "id": "fb275e3ef8ae3832",
   "outputs": [
    {
     "name": "stdout",
     "output_type": "stream",
     "text": [
      "[0, 11, 22, 33, 44, 55, 66, 77, 88, 99, 110]\n",
      "Видаляємо елемент 55\n",
      "[0, 11, 22, 33, 44, 66, 77, 88, 99, 110]\n",
      "[0, 11, 33, 44, 66, 77, 88, 99, 110]\n",
      "[0, 33, 44, 66, 77, 88, 99, 110]\n",
      "[0, 33, 88, 99, 110]\n",
      "[-1, -2, -3, -4, -5, 99, 110]\n"
     ]
    }
   ],
   "execution_count": 7
  },
  {
   "metadata": {
    "ExecuteTime": {
     "end_time": "2025-02-26T19:19:09.586945Z",
     "start_time": "2025-02-26T19:19:09.583137Z"
    }
   },
   "cell_type": "code",
   "source": [
    "numbers = [1, 2, 3, 4, 3, 2, 1]\n",
    "\n",
    "print(numbers.index(2))\n",
    "print(numbers.index(2, 3))\n",
    "print(numbers.index(2, 3, 6))"
   ],
   "id": "4f295bf5a97e8645",
   "outputs": [
    {
     "name": "stdout",
     "output_type": "stream",
     "text": [
      "1\n",
      "5\n",
      "5\n"
     ]
    }
   ],
   "execution_count": 9
  },
  {
   "metadata": {
    "ExecuteTime": {
     "end_time": "2025-02-26T19:28:26.537916Z",
     "start_time": "2025-02-26T19:28:26.529615Z"
    }
   },
   "cell_type": "code",
   "source": "numbers.count(1)",
   "id": "a10077b90f15f063",
   "outputs": [
    {
     "data": {
      "text/plain": [
       "2"
      ]
     },
     "execution_count": 11,
     "metadata": {},
     "output_type": "execute_result"
    }
   ],
   "execution_count": 11
  },
  {
   "metadata": {
    "ExecuteTime": {
     "end_time": "2025-02-26T19:28:34.472963Z",
     "start_time": "2025-02-26T19:28:34.468494Z"
    }
   },
   "cell_type": "code",
   "source": "numbers.count(3)",
   "id": "e1b2eacf95106e75",
   "outputs": [
    {
     "data": {
      "text/plain": [
       "2"
      ]
     },
     "execution_count": 12,
     "metadata": {},
     "output_type": "execute_result"
    }
   ],
   "execution_count": 12
  },
  {
   "metadata": {
    "ExecuteTime": {
     "end_time": "2025-02-26T19:28:42.223070Z",
     "start_time": "2025-02-26T19:28:42.218099Z"
    }
   },
   "cell_type": "code",
   "source": "numbers.count(4)",
   "id": "1b7698cfaf62dc3e",
   "outputs": [
    {
     "data": {
      "text/plain": [
       "1"
      ]
     },
     "execution_count": 13,
     "metadata": {},
     "output_type": "execute_result"
    }
   ],
   "execution_count": 13
  },
  {
   "metadata": {
    "ExecuteTime": {
     "end_time": "2025-02-26T19:32:24.642995Z",
     "start_time": "2025-02-26T19:32:24.637502Z"
    }
   },
   "cell_type": "code",
   "source": [
    "# Створюємо початковий список\n",
    "numbers = [1, 3, 5, 7, 9]\n",
    "print(\"Початковий список:\", numbers)\n",
    "\n",
    "# Застосовуємо метод reverse() — змінює список \"на місці\"\n",
    "numbers.reverse()\n",
    "print(\"Після reverse():\", numbers)\n",
    "\n",
    "# Створюємо інший список для демонстрації reversed()\n",
    "numbers2 = [2, 4, 6, 8, 10]\n",
    "print(\"Початковий список 2:\", numbers2)\n",
    "\n",
    "# Функція reversed() повертає ітератор (не змінює оригінал)\n",
    "reversed_list2 = list(reversed(numbers2))\n",
    "print(\"Список, отриманий через reversed():\", reversed_list2)\n",
    "print(\"Список 2 після reversed():\", numbers2)"
   ],
   "id": "1dd78a3a2091cfd3",
   "outputs": [
    {
     "name": "stdout",
     "output_type": "stream",
     "text": [
      "Початковий список: [1, 3, 5, 7, 9]\n",
      "Після reverse(): [9, 7, 5, 3, 1]\n",
      "Початковий список 2: [2, 4, 6, 8, 10]\n",
      "Список, отриманий через reversed(): [10, 8, 6, 4, 2]\n",
      "Список 2 після reversed(): [2, 4, 6, 8, 10]\n"
     ]
    }
   ],
   "execution_count": 14
  },
  {
   "metadata": {
    "ExecuteTime": {
     "end_time": "2025-02-26T19:32:48.502146Z",
     "start_time": "2025-02-26T19:32:48.496389Z"
    }
   },
   "cell_type": "code",
   "source": [
    "# Створюємо початковий список\n",
    "numbers = [3, 1, 4, 2, 5]\n",
    "print(\"Початковий список:\", numbers)\n",
    "\n",
    "# Викликаємо метод sort() — змінює список \"на місці\"\n",
    "numbers.sort()\n",
    "print(\"Після sort():\", numbers)\n",
    "\n",
    "# Створюємо інший список для демонстрації sorted()\n",
    "numbers2 = [7, 2, 8, 1, 6]\n",
    "print(\"Початковий список 2:\", numbers2)\n",
    "\n",
    "# Функція sorted() повертає новий відсортований список (оригінал не змінює)\n",
    "sorted_list2 = sorted(numbers2)\n",
    "print(\"Список, отриманий через sorted():\", sorted_list2)\n",
    "print(\"Список 2 після sorted():\", numbers2)"
   ],
   "id": "dbccd22582e98794",
   "outputs": [
    {
     "name": "stdout",
     "output_type": "stream",
     "text": [
      "Початковий список: [3, 1, 4, 2, 5]\n",
      "Після sort(): [1, 2, 3, 4, 5]\n",
      "Початковий список 2: [7, 2, 8, 1, 6]\n",
      "Список, отриманий через sorted(): [1, 2, 6, 7, 8]\n",
      "Список 2 після sorted(): [7, 2, 8, 1, 6]\n"
     ]
    }
   ],
   "execution_count": 15
  },
  {
   "metadata": {
    "ExecuteTime": {
     "end_time": "2025-02-26T19:37:28.649639Z",
     "start_time": "2025-02-26T19:37:28.644516Z"
    }
   },
   "cell_type": "code",
   "source": [
    "words = [\"apple\", \"guacamole\", \"banana\", \"pear\", \"ananas\"]\n",
    "# Сортуємо за довжиною слова\n",
    "words_sorted = sorted(words, key=len)\n",
    "print(words_sorted)"
   ],
   "id": "271eab2385f01acc",
   "outputs": [
    {
     "name": "stdout",
     "output_type": "stream",
     "text": [
      "['pear', 'apple', 'banana', 'ananas', 'guacamole']\n"
     ]
    }
   ],
   "execution_count": 17
  },
  {
   "metadata": {},
   "cell_type": "markdown",
   "source": "Копіювання списків",
   "id": "55b9058e419e2d11"
  },
  {
   "metadata": {
    "ExecuteTime": {
     "end_time": "2025-02-27T17:55:56.482659Z",
     "start_time": "2025-02-27T17:55:56.477427Z"
    }
   },
   "cell_type": "code",
   "source": [
    "s = [10, 20, 30]\n",
    "\n",
    "# Присвоювання змінних (не створює новий список)\n",
    "c = s\n",
    "\n",
    "# Створення копії списку за допомогою зрізу\n",
    "b = s[:]\n",
    "\n",
    "# Створення копії списку за допомогою методу copy()\n",
    "n = s.copy()\n",
    "\n",
    "print(\"Список s:\", s)\n",
    "print(\"Список c:\", c)\n",
    "print(\"Список b:\", b)\n",
    "print(\"Список n:\", n)"
   ],
   "id": "997c5a8a7592a17e",
   "outputs": [
    {
     "name": "stdout",
     "output_type": "stream",
     "text": [
      "Список s: [10, 20, 30]\n",
      "Список c: [10, 20, 30]\n",
      "Список b: [10, 20, 30]\n",
      "Список n: [10, 20, 30]\n"
     ]
    }
   ],
   "execution_count": 6
  },
  {
   "metadata": {
    "ExecuteTime": {
     "end_time": "2025-02-27T17:56:03.729963Z",
     "start_time": "2025-02-27T17:56:03.725023Z"
    }
   },
   "cell_type": "code",
   "source": [
    "x = [10, 20, [100, 200], 30, [300, 400]]\n",
    "\n",
    "# Створюємо копії\n",
    "y = x[:]  # поверхнева копія через зріз\n",
    "z = x.copy()  # поверхнева копія через метод copy()\n",
    "\n",
    "# Змінюємо вкладений список\n",
    "x[2][0] = x[2][0] + 1\n",
    "\n",
    "print(\"Список x:\", x)\n",
    "print(\"Список y:\", y)\n",
    "print(\"Список z:\", z)"
   ],
   "id": "fbc30af70ebdb81b",
   "outputs": [
    {
     "name": "stdout",
     "output_type": "stream",
     "text": [
      "Список x: [10, 20, [101, 200], 30, [300, 400]]\n",
      "Список y: [10, 20, [101, 200], 30, [300, 400]]\n",
      "Список z: [10, 20, [101, 200], 30, [300, 400]]\n"
     ]
    }
   ],
   "execution_count": 7
  },
  {
   "metadata": {
    "ExecuteTime": {
     "end_time": "2025-02-27T17:56:10.569110Z",
     "start_time": "2025-02-27T17:56:10.564014Z"
    }
   },
   "cell_type": "code",
   "source": [
    "import copy\n",
    "\n",
    "A = [[10, 20], [30, 40], [50, 60]]\n",
    "B = copy.deepcopy(A)\n",
    "\n",
    "print(\"Вихідний список A:\", A)\n",
    "print(\"Копія B:\", B)\n",
    "\n",
    "# Змінюємо елемент у вкладеному списку A[1]\n",
    "A[1][0] = A[1][0] + 1\n",
    "\n",
    "print(\"Після зміни A[1][0]:\")\n",
    "print(\"Список A:\", A)\n",
    "print(\"Список B:\", B)"
   ],
   "id": "99b743246b99af40",
   "outputs": [
    {
     "name": "stdout",
     "output_type": "stream",
     "text": [
      "Вихідний список A: [[10, 20], [30, 40], [50, 60]]\n",
      "Копія B: [[10, 20], [30, 40], [50, 60]]\n",
      "Після зміни A[1][0]:\n",
      "Список A: [[10, 20], [31, 40], [50, 60]]\n",
      "Список B: [[10, 20], [30, 40], [50, 60]]\n"
     ]
    }
   ],
   "execution_count": 8
  },
  {
   "metadata": {},
   "cell_type": "markdown",
   "source": "Списки та функції",
   "id": "ad39692bd1c7cef3"
  },
  {
   "metadata": {
    "ExecuteTime": {
     "end_time": "2025-03-03T12:08:26.954428Z",
     "start_time": "2025-03-03T12:08:26.944933Z"
    }
   },
   "cell_type": "code",
   "source": [
    "# Підключаємо модуль для генерування випадкових чисел\n",
    "from random import *\n",
    "\n",
    "\n",
    "# Функція для створення матриці з випадковими елементами\n",
    "def rand_matrix(n, m):\n",
    "    # Створюємо матрицю з елементами – випадковими числами\n",
    "    A = [[randint(0, 9) for j in range(m)] for i in range(n)]\n",
    "    # Результат функції\n",
    "    return A\n",
    "\n",
    "\n",
    "# Функція для створення одиничної матриці\n",
    "def unit_matrix(n):\n",
    "    # Одинична матриця\n",
    "    A = [[int(i == j) for i in range(n)] for j in range(n)]\n",
    "    # Результат функції\n",
    "    return A\n",
    "\n",
    "\n",
    "# Функція для обчислення добутку квадратних матриць\n",
    "def mult_matrix(A, B):\n",
    "    # Розмір матриці\n",
    "    n = len(A)\n",
    "    # Матриця-результат із початковими нульовими значеннями\n",
    "    C = [[0 for i in range(n)] for j in range(n)]\n",
    "    # Перший індекс\n",
    "    for i in range(n):\n",
    "        # Другий індекс\n",
    "        for j in range(n):\n",
    "            # Внутрішній індекс, за яким береться сума\n",
    "            for k in range(n):\n",
    "                # Додаємо елемент у суму\n",
    "                C[i][j] += A[i][k] * B[k][j]\n",
    "    # Результат функції\n",
    "    return C\n",
    "\n",
    "\n",
    "# Функція для відображення матриці\n",
    "def show_matrix(A):\n",
    "    # Перебираємо рядки матриці\n",
    "    for a in A:\n",
    "        # Перебираємо елементи у рядку матриці\n",
    "        for b in a:\n",
    "            # Відображаємо елемент матриці\n",
    "            print(b, end=\" \")\n",
    "        # Перехід до нового рядка (після виводу в консоль)\n",
    "        print()\n",
    "\n",
    "\n",
    "# Ініціалізація генератора випадкових чисел\n",
    "seed(2014)\n",
    "\n",
    "# Матриця з випадковими числами\n",
    "A = rand_matrix(3, 5)\n",
    "\n",
    "# Матриця у вигляді списку\n",
    "print(\"Список:\", A)\n",
    "\n",
    "# Матриця як вона є\n",
    "print(\"Ця ж матриця:\")\n",
    "show_matrix(A)\n",
    "\n",
    "# Одинична матриця\n",
    "E = unit_matrix(4)\n",
    "# Відображаємо матрицю\n",
    "print(\"Одинична матриця:\")\n",
    "show_matrix(E)\n",
    "\n",
    "# Перша матриця\n",
    "A1 = rand_matrix(3,3)\n",
    "# Друга матриця\n",
    "A2 = rand_matrix(3,3)\n",
    "\n",
    "# Добуток матриць\n",
    "A3 = mult_matrix(A1, A2)\n",
    "\n",
    "# Відображаємо першу матрицю\n",
    "print(\"Перша матриця:\")\n",
    "show_matrix(A1)\n",
    "\n",
    "# Відображаємо другу матрицю\n",
    "print(\"Друга матриця:\")\n",
    "show_matrix(A2)\n",
    "\n",
    "# Відображаємо добуток матриць\n",
    "print(\"Добуток матриць:\")\n",
    "show_matrix(A3)\n"
   ],
   "id": "c0f4cbb1ca2e8e8b",
   "outputs": [
    {
     "name": "stdout",
     "output_type": "stream",
     "text": [
      "Список: [[5, 9, 6, 3, 5], [3, 6, 6, 7, 0], [9, 6, 5, 2, 9]]\n",
      "Ця ж матриця:\n",
      "5 9 6 3 5 \n",
      "3 6 6 7 0 \n",
      "9 6 5 2 9 \n",
      "Одинична матриця:\n",
      "1 0 0 0 \n",
      "0 1 0 0 \n",
      "0 0 1 0 \n",
      "0 0 0 1 \n",
      "Перша матриця:\n",
      "7 2 7 \n",
      "3 4 0 \n",
      "1 2 3 \n",
      "Друга матриця:\n",
      "3 4 6 \n",
      "6 6 5 \n",
      "1 2 4 \n",
      "Добуток матриць:\n",
      "40 54 80 \n",
      "33 36 38 \n",
      "18 22 28 \n"
     ]
    }
   ],
   "execution_count": 4
  },
  {
   "metadata": {},
   "cell_type": "code",
   "outputs": [],
   "execution_count": null,
   "source": "",
   "id": "9e2f671083aa57b2"
  }
 ],
 "metadata": {
  "kernelspec": {
   "display_name": "Python 3",
   "language": "python",
   "name": "python3"
  },
  "language_info": {
   "codemirror_mode": {
    "name": "ipython",
    "version": 2
   },
   "file_extension": ".py",
   "mimetype": "text/x-python",
   "name": "python",
   "nbconvert_exporter": "python",
   "pygments_lexer": "ipython2",
   "version": "2.7.6"
  }
 },
 "nbformat": 4,
 "nbformat_minor": 5
}
