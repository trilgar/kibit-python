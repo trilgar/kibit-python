{
 "cells": [
  {
   "cell_type": "code",
   "id": "initial_id",
   "metadata": {
    "collapsed": true,
    "ExecuteTime": {
     "end_time": "2025-02-20T21:04:33.488768Z",
     "start_time": "2025-02-20T21:04:33.483911Z"
    }
   },
   "source": [
    "nums = [1, 2, 3]  # список цілих чисел\n",
    "print(nums)\n",
    "data = [\"text\", 100, [5, 10]]  # список з рядком, числом і вкладеним списком\n",
    "print(data)"
   ],
   "outputs": [
    {
     "name": "stdout",
     "output_type": "stream",
     "text": [
      "[1, 2, 3]\n",
      "['text', 100, [5, 10]]\n"
     ]
    }
   ],
   "execution_count": 6
  },
  {
   "metadata": {
    "ExecuteTime": {
     "end_time": "2025-02-20T21:04:08.542480Z",
     "start_time": "2025-02-20T21:04:08.538706Z"
    }
   },
   "cell_type": "code",
   "source": [
    "numbers = list(range(0, 100 , 10))\n",
    "print(numbers)"
   ],
   "id": "3d56710ffa1c23c7",
   "outputs": [
    {
     "name": "stdout",
     "output_type": "stream",
     "text": [
      "[0, 10, 20, 30, 40, 50, 60, 70, 80, 90]\n"
     ]
    }
   ],
   "execution_count": 4
  },
  {
   "metadata": {
    "ExecuteTime": {
     "end_time": "2025-02-20T21:04:31.935728Z",
     "start_time": "2025-02-20T21:04:31.931462Z"
    }
   },
   "cell_type": "code",
   "source": [
    "powers_of_two = [2**i for i in range(11)]\n",
    "print(powers_of_two)  # [1, 2, 4, 8, 16, 32, 64, 128, 256, 512, 1024]"
   ],
   "id": "df4cc639de9a659b",
   "outputs": [
    {
     "name": "stdout",
     "output_type": "stream",
     "text": [
      "[1, 2, 4, 8, 16, 32, 64, 128, 256, 512, 1024]\n"
     ]
    }
   ],
   "execution_count": 5
  },
  {
   "metadata": {
    "ExecuteTime": {
     "end_time": "2025-02-20T21:05:42.201392Z",
     "start_time": "2025-02-20T21:05:42.197013Z"
    }
   },
   "cell_type": "code",
   "source": [
    "nums_list = [7 * i + 1 for i in range(20) if i % 4 == 3]\n",
    "print(nums_list)  # [22, 57, 92, 127, 162, 197]"
   ],
   "id": "aaa19130096f0be7",
   "outputs": [
    {
     "name": "stdout",
     "output_type": "stream",
     "text": [
      "[22, 50, 78, 106, 134]\n"
     ]
    }
   ],
   "execution_count": 7
  },
  {
   "metadata": {
    "ExecuteTime": {
     "end_time": "2025-02-20T21:07:42.277737Z",
     "start_time": "2025-02-20T21:07:42.273838Z"
    }
   },
   "cell_type": "code",
   "source": [
    "nums = [1, 2, 3]\n",
    "print(nums[0])"
   ],
   "id": "aee0c47783b45430",
   "outputs": [
    {
     "name": "stdout",
     "output_type": "stream",
     "text": [
      "1\n"
     ]
    }
   ],
   "execution_count": 8
  },
  {
   "metadata": {
    "ExecuteTime": {
     "end_time": "2025-02-20T21:07:48.114568Z",
     "start_time": "2025-02-20T21:07:48.110093Z"
    }
   },
   "cell_type": "code",
   "source": "print(nums[-1]) ",
   "id": "27b8586fe3963079",
   "outputs": [
    {
     "name": "stdout",
     "output_type": "stream",
     "text": [
      "3\n"
     ]
    }
   ],
   "execution_count": 9
  },
  {
   "metadata": {
    "ExecuteTime": {
     "end_time": "2025-02-20T21:09:00.179653Z",
     "start_time": "2025-02-20T21:09:00.176203Z"
    }
   },
   "cell_type": "code",
   "source": [
    "nums[1] = -10\n",
    "print(nums)"
   ],
   "id": "e62be469304a6cec",
   "outputs": [
    {
     "name": "stdout",
     "output_type": "stream",
     "text": [
      "[1, -10, 3]\n"
     ]
    }
   ],
   "execution_count": 10
  },
  {
   "metadata": {},
   "cell_type": "markdown",
   "source": "Примітивні операції зі списками",
   "id": "9c3b9985a84b5438"
  },
  {
   "metadata": {
    "ExecuteTime": {
     "end_time": "2025-02-20T21:12:45.173188Z",
     "start_time": "2025-02-20T21:12:45.169340Z"
    }
   },
   "cell_type": "code",
   "source": [
    "nums.append(4)  # Додає елемент до кінця\n",
    "print(nums)"
   ],
   "id": "45da96016bedfef5",
   "outputs": [
    {
     "name": "stdout",
     "output_type": "stream",
     "text": [
      "[1, -10, 3, 4, 4]\n"
     ]
    }
   ],
   "execution_count": 12
  },
  {
   "metadata": {
    "ExecuteTime": {
     "end_time": "2025-02-20T21:13:09.008648Z",
     "start_time": "2025-02-20T21:13:09.004847Z"
    }
   },
   "cell_type": "code",
   "source": [
    "nums.remove(-10)  # Видаляє перший знайдений елемент зі значенням -10\n",
    "print(nums)"
   ],
   "id": "3dd6032d6ea1df6c",
   "outputs": [
    {
     "name": "stdout",
     "output_type": "stream",
     "text": [
      "[1, 3, 4, 4]\n"
     ]
    }
   ],
   "execution_count": 14
  },
  {
   "metadata": {
    "ExecuteTime": {
     "end_time": "2025-02-20T21:13:37.961809Z",
     "start_time": "2025-02-20T21:13:37.957725Z"
    }
   },
   "cell_type": "code",
   "source": [
    "length_of_list = len(nums)  # Повертає кількість елементів у списку\n",
    "print(length_of_list)"
   ],
   "id": "cd26ba93455fbab2",
   "outputs": [
    {
     "name": "stdout",
     "output_type": "stream",
     "text": [
      "4\n"
     ]
    }
   ],
   "execution_count": 15
  },
  {
   "metadata": {},
   "cell_type": "markdown",
   "source": "Slises",
   "id": "7107bbd1404453ca"
  },
  {
   "metadata": {
    "ExecuteTime": {
     "end_time": "2025-02-20T21:25:33.249078Z",
     "start_time": "2025-02-20T21:25:33.243939Z"
    }
   },
   "cell_type": "code",
   "source": [
    "nums = [1, 2, 3, 4, 5]\n",
    "nums[1:4]  # Повертає [2, 3, 4]"
   ],
   "id": "408b2122b9ffc3b8",
   "outputs": [
    {
     "data": {
      "text/plain": [
       "[2, 3, 4]"
      ]
     },
     "execution_count": 23,
     "metadata": {},
     "output_type": "execute_result"
    }
   ],
   "execution_count": 23
  },
  {
   "metadata": {
    "ExecuteTime": {
     "end_time": "2025-02-20T21:25:46.447128Z",
     "start_time": "2025-02-20T21:25:46.443102Z"
    }
   },
   "cell_type": "code",
   "source": "nums[1:200]",
   "id": "a976db31fa972f02",
   "outputs": [
    {
     "data": {
      "text/plain": [
       "[2, 3, 4, 5]"
      ]
     },
     "execution_count": 24,
     "metadata": {},
     "output_type": "execute_result"
    }
   ],
   "execution_count": 24
  },
  {
   "metadata": {
    "ExecuteTime": {
     "end_time": "2025-02-20T21:25:00.297602Z",
     "start_time": "2025-02-20T21:25:00.292298Z"
    }
   },
   "cell_type": "code",
   "source": "nums[:3]  # Повертає [1, 2, 3]",
   "id": "23ff0ba4c87d5700",
   "outputs": [
    {
     "data": {
      "text/plain": [
       "[1, 2, 3]"
      ]
     },
     "execution_count": 20,
     "metadata": {},
     "output_type": "execute_result"
    }
   ],
   "execution_count": 20
  },
  {
   "metadata": {
    "ExecuteTime": {
     "end_time": "2025-02-20T21:25:07.942813Z",
     "start_time": "2025-02-20T21:25:07.937611Z"
    }
   },
   "cell_type": "code",
   "source": "nums[2:]  # Повертає [3, 4, 5]",
   "id": "713090a701d8dbc2",
   "outputs": [
    {
     "data": {
      "text/plain": [
       "[3, 4, 5]"
      ]
     },
     "execution_count": 21,
     "metadata": {},
     "output_type": "execute_result"
    }
   ],
   "execution_count": 21
  },
  {
   "metadata": {
    "ExecuteTime": {
     "end_time": "2025-02-20T21:25:18.640816Z",
     "start_time": "2025-02-20T21:25:18.636361Z"
    }
   },
   "cell_type": "code",
   "source": "nums[:] # Повертає копію списку [1, 2, 3, 4, 5]",
   "id": "c14eae5a7aa08e3b",
   "outputs": [
    {
     "data": {
      "text/plain": [
       "[1, 2, 3, 4, 5]"
      ]
     },
     "execution_count": 22,
     "metadata": {},
     "output_type": "execute_result"
    }
   ],
   "execution_count": 22
  },
  {
   "metadata": {
    "ExecuteTime": {
     "end_time": "2025-02-20T21:35:34.493298Z",
     "start_time": "2025-02-20T21:35:34.488767Z"
    }
   },
   "cell_type": "code",
   "source": "nums[1:-1]",
   "id": "e6c640faeb36a33b",
   "outputs": [
    {
     "data": {
      "text/plain": [
       "[2, 3, 4]"
      ]
     },
     "execution_count": 25,
     "metadata": {},
     "output_type": "execute_result"
    }
   ],
   "execution_count": 25
  },
  {
   "metadata": {
    "ExecuteTime": {
     "end_time": "2025-02-20T21:35:48.428545Z",
     "start_time": "2025-02-20T21:35:48.424049Z"
    }
   },
   "cell_type": "code",
   "source": "nums[-3:]",
   "id": "a25424af311fad8f",
   "outputs": [
    {
     "data": {
      "text/plain": [
       "[3, 4, 5]"
      ]
     },
     "execution_count": 26,
     "metadata": {},
     "output_type": "execute_result"
    }
   ],
   "execution_count": 26
  },
  {
   "metadata": {
    "ExecuteTime": {
     "end_time": "2025-02-20T21:36:14.751816Z",
     "start_time": "2025-02-20T21:36:14.746680Z"
    }
   },
   "cell_type": "code",
   "source": "nums[-10:4]",
   "id": "793068029bfde245",
   "outputs": [
    {
     "data": {
      "text/plain": [
       "[1, 2, 3, 4]"
      ]
     },
     "execution_count": 27,
     "metadata": {},
     "output_type": "execute_result"
    }
   ],
   "execution_count": 27
  },
  {
   "metadata": {},
   "cell_type": "markdown",
   "source": "Slises with steps",
   "id": "6e6995a5b7e76b08"
  },
  {
   "metadata": {},
   "cell_type": "code",
   "outputs": [],
   "execution_count": null,
   "source": "m = [1, 5, 10, 15, 20, 25]",
   "id": "62cd2e8f0c829e68"
  },
  {
   "metadata": {
    "ExecuteTime": {
     "end_time": "2025-02-20T21:42:12.802677Z",
     "start_time": "2025-02-20T21:42:12.798085Z"
    }
   },
   "cell_type": "code",
   "source": "m[1:6:2]  # Повертає [5, 15, 25]",
   "id": "3137d970480d8e6a",
   "outputs": [
    {
     "data": {
      "text/plain": [
       "[5, 15, 25]"
      ]
     },
     "execution_count": 28,
     "metadata": {},
     "output_type": "execute_result"
    }
   ],
   "execution_count": 28
  },
  {
   "metadata": {
    "ExecuteTime": {
     "end_time": "2025-02-20T21:42:17.027103Z",
     "start_time": "2025-02-20T21:42:17.022013Z"
    }
   },
   "cell_type": "code",
   "source": "m[::2]  # Повертає [1, 10, 20]",
   "id": "40c6790be900250f",
   "outputs": [
    {
     "data": {
      "text/plain": [
       "[1, 10, 20]"
      ]
     },
     "execution_count": 29,
     "metadata": {},
     "output_type": "execute_result"
    }
   ],
   "execution_count": 29
  },
  {
   "metadata": {
    "ExecuteTime": {
     "end_time": "2025-02-20T21:42:23.919974Z",
     "start_time": "2025-02-20T21:42:23.915368Z"
    }
   },
   "cell_type": "code",
   "source": "m[::-1]  # Повертає [25, 20, 15, 10, 5, 1]",
   "id": "c78a2c369bac12c8",
   "outputs": [
    {
     "data": {
      "text/plain": [
       "[25, 20, 15, 10, 5, 1]"
      ]
     },
     "execution_count": 30,
     "metadata": {},
     "output_type": "execute_result"
    }
   ],
   "execution_count": 30
  },
  {
   "metadata": {
    "ExecuteTime": {
     "end_time": "2025-02-20T21:42:39.898266Z",
     "start_time": "2025-02-20T21:42:39.893283Z"
    }
   },
   "cell_type": "code",
   "source": "m[5:1:-2]",
   "id": "3f89485f14125444",
   "outputs": [
    {
     "data": {
      "text/plain": [
       "[25, 15]"
      ]
     },
     "execution_count": 31,
     "metadata": {},
     "output_type": "execute_result"
    }
   ],
   "execution_count": 31
  },
  {
   "metadata": {
    "ExecuteTime": {
     "end_time": "2025-02-20T21:43:06.396205Z",
     "start_time": "2025-02-20T21:43:06.390738Z"
    }
   },
   "cell_type": "code",
   "source": "m[5:-1:-1]",
   "id": "6e47e4a786d9e023",
   "outputs": [
    {
     "data": {
      "text/plain": [
       "[]"
      ]
     },
     "execution_count": 32,
     "metadata": {},
     "output_type": "execute_result"
    }
   ],
   "execution_count": 32
  },
  {
   "metadata": {
    "ExecuteTime": {
     "end_time": "2025-02-20T21:45:44.248663Z",
     "start_time": "2025-02-20T21:45:44.244254Z"
    }
   },
   "cell_type": "code",
   "source": "m[-5:-1:-1]",
   "id": "ffa3ccec78643c59",
   "outputs": [
    {
     "data": {
      "text/plain": [
       "[]"
      ]
     },
     "execution_count": 35,
     "metadata": {},
     "output_type": "execute_result"
    }
   ],
   "execution_count": 35
  },
  {
   "metadata": {
    "ExecuteTime": {
     "end_time": "2025-02-20T21:46:35.561223Z",
     "start_time": "2025-02-20T21:46:35.555478Z"
    }
   },
   "cell_type": "code",
   "source": "m[:-10:-1]",
   "id": "d7eb33ed60d1f96d",
   "outputs": [
    {
     "data": {
      "text/plain": [
       "[25, 20, 15, 10, 5, 1]"
      ]
     },
     "execution_count": 36,
     "metadata": {},
     "output_type": "execute_result"
    }
   ],
   "execution_count": 36
  },
  {
   "metadata": {
    "ExecuteTime": {
     "end_time": "2025-02-20T21:48:16.348031Z",
     "start_time": "2025-02-20T21:48:16.344155Z"
    }
   },
   "cell_type": "code",
   "source": "m[10:-10:-1]",
   "id": "6412ec760356c8ea",
   "outputs": [
    {
     "data": {
      "text/plain": [
       "[25, 20, 15, 10, 5, 1]"
      ]
     },
     "execution_count": 37,
     "metadata": {},
     "output_type": "execute_result"
    }
   ],
   "execution_count": 37
  },
  {
   "metadata": {
    "ExecuteTime": {
     "end_time": "2025-02-20T21:49:16.508421Z",
     "start_time": "2025-02-20T21:49:16.503545Z"
    }
   },
   "cell_type": "code",
   "source": "m[10:0:-1]",
   "id": "8e759bf65fcf481c",
   "outputs": [
    {
     "data": {
      "text/plain": [
       "[25, 20, 15, 10, 5]"
      ]
     },
     "execution_count": 41,
     "metadata": {},
     "output_type": "execute_result"
    }
   ],
   "execution_count": 41
  },
  {
   "metadata": {},
   "cell_type": "code",
   "outputs": [],
   "execution_count": null,
   "source": "",
   "id": "e8f813b2f32da9e9"
  }
 ],
 "metadata": {
  "kernelspec": {
   "display_name": "Python 3",
   "language": "python",
   "name": "python3"
  },
  "language_info": {
   "codemirror_mode": {
    "name": "ipython",
    "version": 2
   },
   "file_extension": ".py",
   "mimetype": "text/x-python",
   "name": "python",
   "nbconvert_exporter": "python",
   "pygments_lexer": "ipython2",
   "version": "2.7.6"
  }
 },
 "nbformat": 4,
 "nbformat_minor": 5
}
