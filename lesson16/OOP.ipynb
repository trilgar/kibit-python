{
 "cells": [
  {
   "metadata": {},
   "cell_type": "markdown",
   "source": [
    "🧾 Синтаксис опису класу в Python\n",
    "\n",
    "    Клас описується за допомогою ключового слова class.\n",
    "\n",
    "    Після імені класу ставиться двокрапка :.\n",
    "\n",
    "    Тіло класу повинно містити відступи (рекомендовано — 4 пробіли).\n",
    "\n",
    "    У тілі класу зазвичай описують методи.\n",
    "\n",
    "```python\n",
    "class ClassName:\n",
    "    # Тіло класу\n",
    "    pass\n",
    "```"
   ],
   "id": "203c781d76531ac0"
  },
  {
   "metadata": {},
   "cell_type": "code",
   "outputs": [],
   "execution_count": null,
   "source": [
    "class Kitten:\n",
    "    pass"
   ],
   "id": "fa04614539b9e3fe"
  },
  {
   "metadata": {},
   "cell_type": "markdown",
   "source": [
    "🔄 Методи класу та аргумент self\n",
    "\n",
    "    Метод класу — це функція, визначена всередині класу.\n",
    "\n",
    "    Перший аргумент методу завжди — self.\n",
    "\n",
    "    self — це посилання на екземпляр класу, з якого викликається метод.\n",
    "\n",
    "    При виклику методу self не передається явно — Python робить це автоматично.\n",
    "\n",
    "📘 Правило “мінус один аргумент”:\n",
    "\n",
    "    При виклику методу з екземпляра, фактичних аргументів на один менше, ніж формальних у визначенні методу."
   ],
   "id": "d2b9bdf1c7b96dbf"
  },
  {
   "metadata": {
    "ExecuteTime": {
     "end_time": "2025-03-27T17:03:56.977464Z",
     "start_time": "2025-03-27T17:03:56.975714Z"
    }
   },
   "cell_type": "code",
   "source": [
    "class MyClass:\n",
    "    def say_hello(self):\n",
    "        print(\"Вас вітає екземпляр класу!\")"
   ],
   "id": "d6428fc78f5553cc",
   "outputs": [],
   "execution_count": 2
  },
  {
   "metadata": {},
   "cell_type": "code",
   "outputs": [],
   "execution_count": null,
   "source": "",
   "id": "908046a8490c0683"
  },
  {
   "metadata": {},
   "cell_type": "markdown",
   "source": [
    "🛠️ Створення екземпляра класу та виклик методу\n",
    "\n",
    "    Екземпляр класу створюється викликом класу як функції: екземпляр = Клас().\n",
    "\n",
    "    Метод викликається через крапковий синтаксис: екземпляр.метод().\n",
    "\n",
    "    Після створення — можна працювати з методами та полями."
   ],
   "id": "3f46f5f73854ddf0"
  },
  {
   "metadata": {
    "ExecuteTime": {
     "end_time": "2025-03-27T17:04:18.356651Z",
     "start_time": "2025-03-27T17:04:18.354296Z"
    }
   },
   "cell_type": "code",
   "source": [
    "obj = MyClass()  # Створення екземпляра\n",
    "obj.say_hello()  # Виклик методу\n"
   ],
   "id": "3914c23d110d28cc",
   "outputs": [
    {
     "name": "stdout",
     "output_type": "stream",
     "text": [
      "Вас вітає екземпляр класу!\n"
     ]
    }
   ],
   "execution_count": 3
  },
  {
   "metadata": {},
   "cell_type": "markdown",
   "source": [
    "🧮 Поля екземпляра класу\n",
    "\n",
    "    Поле — це змінна, \"прив’язана\" до конкретного екземпляра.\n",
    "\n",
    "    Поле створюється шляхом присвоювання в методі: self.ім’я_поля = значення.\n",
    "\n",
    "    Методи класу можуть зчитувати або змінювати поля.\n",
    "\n",
    "📘 Усі поля й методи екземпляра називаються атрибутами."
   ],
   "id": "f4d4716737f18dee"
  },
  {
   "metadata": {
    "ExecuteTime": {
     "end_time": "2025-03-27T17:15:36.364384Z",
     "start_time": "2025-03-27T17:15:36.358771Z"
    }
   },
   "cell_type": "code",
   "source": [
    "class MyClass:\n",
    "    def set(self, n):\n",
    "        print(\"Увага! Присвоюється значення!\")\n",
    "        self.number = n\n",
    "\n",
    "    def get(self):\n",
    "        print(\"Значення поля:\", self.number)\n",
    "\n",
    "\n",
    "obj = MyClass()\n",
    "obj.set(100)\n",
    "obj.get()"
   ],
   "id": "3cf3bbfbf766ae3d",
   "outputs": [
    {
     "name": "stdout",
     "output_type": "stream",
     "text": [
      "Увага! Присвоюється значення!\n",
      "Значення поля: 100\n"
     ]
    }
   ],
   "execution_count": 4
  },
  {
   "metadata": {},
   "cell_type": "markdown",
   "source": [
    "✍️ Створення поля напряму через екземпляр\n",
    "\n",
    "    У Python можна додавати поле до екземпляра без опису в класі.\n",
    "\n",
    "    Просто звертаємось до атрибута й присвоюємо значення: екземпляр.поле = значення.\n",
    "\n",
    "    Клас при цьому може бути повністю порожнім.\n",
    "\n",
    "\n",
    "⚠️ У Python різні екземпляри одного класу можуть мати різні поля — це не характерно для мов типу C++, Java, C#."
   ],
   "id": "f2ee60e8965962a9"
  },
  {
   "metadata": {
    "ExecuteTime": {
     "end_time": "2025-03-27T17:20:18.383839Z",
     "start_time": "2025-03-27T17:20:18.379001Z"
    }
   },
   "cell_type": "code",
   "source": [
    "class MyClass:\n",
    "    pass\n",
    "\n",
    "\n",
    "obj = MyClass()\n",
    "obj.number = 100\n",
    "print(\"Значення поля:\", obj.number)\n"
   ],
   "id": "191c066ce3d4b36f",
   "outputs": [
    {
     "name": "stdout",
     "output_type": "stream",
     "text": [
      "Значення поля: 100\n"
     ]
    }
   ],
   "execution_count": 6
  },
  {
   "metadata": {
    "ExecuteTime": {
     "end_time": "2025-03-27T17:21:59.406476Z",
     "start_time": "2025-03-27T17:21:59.401876Z"
    }
   },
   "cell_type": "code",
   "source": [
    "obj1 = MyClass()\n",
    "obj1.number = 100\n",
    "\n",
    "obj2 = MyClass()\n",
    "obj2.some_other_value = \"Hello\"\n",
    "\n",
    "print(\"Значення поля обʼєкту 1: \", obj1.number)\n",
    "print(\"Значення поля обʼєкту 2: \", obj2.some_other_value)"
   ],
   "id": "b5935f2d2df5634e",
   "outputs": [
    {
     "name": "stdout",
     "output_type": "stream",
     "text": [
      "Значення поля обʼєкту 1:  100\n",
      "Значення поля обʼєкту 2:  Hello\n"
     ]
    }
   ],
   "execution_count": 7
  },
  {
   "metadata": {},
   "cell_type": "markdown",
   "source": [
    "🧷 Конструктор у Python: метод __init__()\n",
    "\n",
    "    Конструктор — спеціальний метод, який автоматично викликається під час створення екземпляра класу.\n",
    "\n",
    "    У Python конструктором є метод із назвою __init__() (із подвійними підкресленнями).\n",
    "\n",
    "    Перший аргумент конструктора — завжди self.\n",
    "\n",
    "📘 Призначення конструктора:\n",
    "\n",
    "    Ініціалізація (задання початкових значень) полів екземпляра.\n",
    "\n",
    "    Виконання додаткових дій при створенні об’єкта."
   ],
   "id": "e8df265bac418edf"
  },
  {
   "metadata": {
    "ExecuteTime": {
     "end_time": "2025-03-27T18:18:33.891141Z",
     "start_time": "2025-03-27T18:18:33.888855Z"
    }
   },
   "cell_type": "code",
   "source": [
    "class MyClass:\n",
    "\n",
    "    def __init__(self):\n",
    "        print(\"Створено екземпляр класу!\")\n",
    "\n",
    "\n",
    "# дії при створенні екземпляра\n",
    "pass\n"
   ],
   "id": "4a45573c3ce36419",
   "outputs": [],
   "execution_count": 9
  },
  {
   "metadata": {
    "ExecuteTime": {
     "end_time": "2025-03-27T18:19:41.708322Z",
     "start_time": "2025-03-27T18:19:41.705459Z"
    }
   },
   "cell_type": "code",
   "source": [
    "# Створюємо клас\n",
    "class MyClass:\n",
    "    # Конструктор\n",
    "    def __init__(self):\n",
    "        # Присвоюється значення полю\n",
    "        self.number = 0\n",
    "        # Відображується повідомлення\n",
    "        print(\"Створено екземпляр класу!\")\n",
    "        # Створюється екземпляр класу\n"
   ],
   "id": "a8b1af3a16510a3b",
   "outputs": [],
   "execution_count": 12
  },
  {
   "metadata": {
    "ExecuteTime": {
     "end_time": "2025-03-27T18:19:43.011217Z",
     "start_time": "2025-03-27T18:19:43.008621Z"
    }
   },
   "cell_type": "code",
   "source": [
    "obj = MyClass()\n",
    "# Перевіряємо значення поля екземпляра класу\n",
    "print(\"Значення поля:\", obj.number)"
   ],
   "id": "938b4526d2e8dbd8",
   "outputs": [
    {
     "name": "stdout",
     "output_type": "stream",
     "text": [
      "Створено екземпляр класу!\n",
      "Значення поля: 0\n"
     ]
    }
   ],
   "execution_count": 13
  },
  {
   "metadata": {},
   "cell_type": "markdown",
   "source": [
    "⚙️ Конструктор з аргументами (і значенням за замовчуванням)\n",
    "\n",
    "    Конструктор може мати декілька аргументів.\n",
    "\n",
    "    Аргументи передаються в дужках під час створення екземпляра.\n",
    "\n",
    "    Можна вказати значення за замовчуванням.\n"
   ],
   "id": "b84cb73999bb797c"
  },
  {
   "metadata": {
    "ExecuteTime": {
     "end_time": "2025-03-27T18:23:03.744483Z",
     "start_time": "2025-03-27T18:23:03.736972Z"
    }
   },
   "cell_type": "code",
   "source": [
    "class MyClass:\n",
    "    def set(self, n):\n",
    "        self.num = n\n",
    "\n",
    "    def get(self):\n",
    "        print(\"Значення поля:\", self.num)\n",
    "\n",
    "    def __init__(self, n=0):\n",
    "        self.set(n)\n",
    "        print(\"Створено екземпляр класу.\")\n",
    "        self.get()\n",
    "\n",
    "\n",
    "a = MyClass()  # Використано значення за замовчуванням\n",
    "b = MyClass(100)  # Передано аргумент 100\n"
   ],
   "id": "25359a2998c06813",
   "outputs": [
    {
     "name": "stdout",
     "output_type": "stream",
     "text": [
      "Створено екземпляр класу.\n",
      "Значення поля: 0\n",
      "Створено екземпляр класу.\n",
      "Значення поля: 100\n"
     ]
    }
   ],
   "execution_count": 14
  },
  {
   "metadata": {},
   "cell_type": "markdown",
   "source": [
    "🗑️ Деструктор: метод __del__()\n",
    "\n",
    "    Деструктор — спеціальний метод, який викликається при видаленні екземпляра класу з пам’яті.\n",
    "\n",
    "    У Python деструктором є метод __del__().\n",
    "\n",
    "    Має лише один аргумент — self.\n",
    "\n",
    "⚠️ Застереження:\n",
    "\n",
    "    Видалення об’єктів у Python виконується автоматично (збирання сміття).\n",
    "\n",
    "    Неможливо точно сказати, коли об’єкт буде знищено."
   ],
   "id": "3056c7095ac69bd2"
  },
  {
   "metadata": {
    "ExecuteTime": {
     "end_time": "2025-03-27T18:29:55.486218Z",
     "start_time": "2025-03-27T18:29:55.481585Z"
    }
   },
   "cell_type": "code",
   "source": [
    "class MyClass:\n",
    "    def __init__(self):\n",
    "        print(\"Вітаю!\")\n",
    "\n",
    "    def __del__(self):\n",
    "        print(\"Бувайте!\")\n",
    "\n",
    "\n",
    "print(\"Перевіряємо роботу деструктора.\")\n",
    "obj = MyClass()\n",
    "print(\"Екземпляр створено. Видаляємо його.\")\n",
    "del obj\n",
    "print(\"Виконання програми завершено.\")\n"
   ],
   "id": "1531bb7c0f511c41",
   "outputs": [
    {
     "name": "stdout",
     "output_type": "stream",
     "text": [
      "Перевіряємо роботу деструктора.\n",
      "Вітаю!\n",
      "Екземпляр створено. Видаляємо його.\n",
      "Бувайте!\n",
      "Виконання програми завершено.\n"
     ]
    }
   ],
   "execution_count": 15
  },
  {
   "metadata": {},
   "cell_type": "markdown",
   "source": [
    "🧪 Приклад поля об’єкта класу\n",
    "\n",
    "    Поле класу створюється напряму в тілі класу, поза методами.\n",
    "\n",
    "    До поля звертаються через ім’я класу або через екземпляр."
   ],
   "id": "2244b92d0ddc30e9"
  },
  {
   "metadata": {
    "ExecuteTime": {
     "end_time": "2025-04-05T09:36:13.694607Z",
     "start_time": "2025-04-05T09:36:13.689619Z"
    }
   },
   "cell_type": "code",
   "source": [
    "\n",
    "\n",
    "# Створюємо клас\n",
    "class MyClass:\n",
    "    # Поле класу\n",
    "    name = \"Клас MyClass\"\n",
    "\n",
    "    # Метод для присвоювання значення\n",
    "    # полю екземпляра класу\n",
    "    def set(self, n):\n",
    "        self.nickname = n\n",
    "\n",
    "    # Метод для відображення значення\n",
    "    # поля екземпляра класу\n",
    "    def get(self):\n",
    "        print(\"Значення поля: \", self.nickname)\n",
    "\n",
    "    # Конструктор\n",
    "    def __init__(self, n):\n",
    "        # Полю екземпляра класу\n",
    "        # присвоюється значення\n",
    "        self.set(n)\n",
    "        # Відображується повідомлення\n",
    "        print(\"Створено екземпляр класу.\")\n",
    "        # Відображується значення поля екземпляра\n",
    "        self.get()\n",
    "\n",
    "\n",
    "# Створюється перший екземпляр класу\n",
    "green = MyClass(\"Зелений\")\n",
    "# Звертання до поля класу через екземпляр класу\n",
    "\n",
    "print(\"Належність:\", green.name)\n",
    "# Створюється другий екземпляр класу\n",
    "red = MyClass(\"Червоний\")\n",
    "# Звертання до поля класу через екземпляр класу\n",
    "print(\"Належність:\", red.name)\n",
    "# Полю класу присвоюється значення\n",
    "MyClass.name = \"Тут могла бути Ваша реклама!\"\n",
    "# Звертання до поля класу через екземпляр класу\n",
    "print(\"Запитує Червоний:\", red.name)\n",
    "# Звертання до поля класу через екземпляр класу\n",
    "print(\"Запитує Зелений:\", green.name)"
   ],
   "id": "ba229c9335fa00d6",
   "outputs": [
    {
     "name": "stdout",
     "output_type": "stream",
     "text": [
      "Створено екземпляр класу.\n",
      "Значення поля:  Зелений\n",
      "Належність: Клас MyClass\n",
      "Створено екземпляр класу.\n",
      "Значення поля:  Червоний\n",
      "Належність: Клас MyClass\n",
      "Запитує Червоний: Тут могла бути Ваша реклама!\n",
      "Запитує Зелений: Тут могла бути Ваша реклама!\n"
     ]
    }
   ],
   "execution_count": 2
  },
  {
   "metadata": {},
   "cell_type": "markdown",
   "source": [
    "Зміна поля класу через екземпляр\n",
    "\n",
    "    Якщо через екземпляр присвоїти значення полю класу, створюється нове поле в екземпляра, яке перекриває поле класу.\n",
    "\n",
    "    Це не змінює поле в самому класі."
   ],
   "id": "cfb8ec3ef6f15434"
  },
  {
   "metadata": {
    "ExecuteTime": {
     "end_time": "2025-04-05T09:42:51.417534Z",
     "start_time": "2025-04-05T09:42:51.411716Z"
    }
   },
   "cell_type": "code",
   "source": [
    "# Створюємо клас\n",
    "class MyClass:\n",
    "    # Поле name класу\n",
    "    name = \"Клас MyClass\"\n",
    "\n",
    "    # Метод для присвоювання значення\n",
    "    # полю nickname екземпляра класу\n",
    "    def set(self, n):\n",
    "        self.nickname = n\n",
    "\n",
    "    # Метод для відображення значення\n",
    "    # поля nickname екземпляра класу\n",
    "    def get(self):\n",
    "        print(\"Значення поля:\", self.nickname)\n",
    "\n",
    "    # Конструктор\n",
    "    def __init__(self, n):\n",
    "        # Присвоюється значення полю\n",
    "        # nickname екземпляра класу\n",
    "        self.set(n)\n",
    "        # Відображується повідомлення\n",
    "        print(\"Створено екземпляр класу.\")\n",
    "        # Відображується значення поля\n",
    "        # nickname екземпляра класу\n",
    "        self.get()\n",
    "\n",
    "\n",
    "# Перший екземпляр (змінна green)\n",
    "green = MyClass(\"Зелений\")\n",
    "\n",
    "# Перевіряємо значення поля name\n",
    "# через екземпляр green\n",
    "print(\"Належність:\", green.name)\n",
    "\n",
    "# Другий екземпляр (змінна red)\n",
    "red = MyClass(\"Червоний\")\n",
    "\n",
    "# Перевіряємо значення поля name\n",
    "# через екземпляр red\n",
    "print(\"Належність:\", red.name)\n",
    "\n",
    "# Змінюємо значення поля name\n",
    "# через екземпляр green\n",
    "green.name = \"Тут був Зелений\"\n",
    "\n",
    "# Перевіряємо значення поля name\n",
    "# через екземпляр red\n",
    "print(\"Запитує Червоний:\", red.name)\n",
    "\n",
    "# Перевіряємо значення поля name\n",
    "# через екземпляр green\n",
    "print(\"Запитує Зелений:\", green.name)\n",
    "\n",
    "# Змінюємо значення поля name\n",
    "# через об’єкт класу MyClass\n",
    "MyClass.name = \"Тут могла бути Ваша реклама!\"\n",
    "\n",
    "# Перевіряємо значення поля name\n",
    "# через екземпляр red\n",
    "print(\"Запитує Червоний:\", red.name)\n",
    "\n",
    "# Перевіряємо значення поля name\n",
    "# через екземпляр green\n",
    "print(\"Запитує Зелений:\", green.name)\n",
    "\n",
    "# Видаляємо поле name екземпляра green\n",
    "del green.name\n",
    "\n",
    "# Перевіряємо значення поля name\n",
    "# через екземпляр green\n",
    "print(\"Запитує Зелений:\", green.name)\n"
   ],
   "id": "b258e43e1a82f003",
   "outputs": [
    {
     "name": "stdout",
     "output_type": "stream",
     "text": [
      "Створено екземпляр класу.\n",
      "Значення поля: Зелений\n",
      "Належність: Клас MyClass\n",
      "Створено екземпляр класу.\n",
      "Значення поля: Червоний\n",
      "Належність: Клас MyClass\n",
      "Запитує Червоний: Клас MyClass\n",
      "Запитує Зелений: Тут був Зелений\n",
      "Запитує Червоний: Тут могла бути Ваша реклама!\n",
      "Запитує Зелений: Тут був Зелений\n",
      "Запитує Зелений: Тут могла бути Ваша реклама!\n"
     ]
    }
   ],
   "execution_count": 3
  },
  {
   "metadata": {},
   "cell_type": "markdown",
   "source": [
    "🧩 Додавання й видалення полів у Python\n",
    "\n",
    "    У Python можна динамічно додавати й видаляти поля:\n",
    "\n",
    "        як у екземпляра класу,\n",
    "\n",
    "        так і в об’єкта класу (тобто самого класу).\n",
    "\n",
    "    Додавання: просто присвоюємо значення — поле створюється.\n",
    "\n",
    "    Видалення: використовуємо del і «крапковий» синтаксис.\n",
    "\n",
    "📘 Синтаксис:\n",
    "\n",
    "| Синтаксис               | Дія                          | Об'єкт дії       |\n",
    "|-------------------------|------------------------------|------------------|\n",
    "| `a.field = value`       | Додати поле до екземпляра    | Екземпляр        |\n",
    "| `MyClass.field = value` | Додати поле до класу         | Клас             |\n",
    "| `del a.field`           | Видалити поле з екземпляра   | Екземпляр        |\n",
    "| `del MyClass.field`     | Видалити поле з класу        | Клас             |\n",
    "\n"
   ],
   "id": "68a1cad2b73a23d5"
  },
  {
   "metadata": {
    "ExecuteTime": {
     "end_time": "2025-04-05T10:04:14.350019Z",
     "start_time": "2025-04-05T10:04:14.344945Z"
    }
   },
   "cell_type": "code",
   "source": [
    "# Створюємо клас\n",
    "class MyClass:\n",
    "    pass\n",
    "\n",
    "\n",
    "# Створюємо екземпляр A\n",
    "a = MyClass()\n",
    "\n",
    "# Створюємо екземпляр B\n",
    "b = MyClass()\n",
    "\n",
    "# Екземпляру A додаємо поле first\n",
    "a.first = \"Екземпляр А\"\n",
    "\n",
    "# Екземпляру B додаємо поле second\n",
    "b.second = \"Екземпляр B\"\n",
    "\n",
    "# Класу MyClass додаємо поле total\n",
    "MyClass.total = \"Клас MyClass\"\n",
    "\n",
    "# Перевіряємо доступ до полів total і first через посилання на екземпляр A\n",
    "print(a.total, \"->\", a.first)\n",
    "\n",
    "# Перевіряємо доступ до поля second через посилання на екземпляр A\n",
    "try:\n",
    "    # Якщо поле second є\n",
    "    print(a.second)\n",
    "except AttributeError:\n",
    "    # Якщо такого поля немає\n",
    "    print(\"Такого поля в екземпляра А немає!\")\n",
    "\n",
    "# Перевіряємо доступ до полів total і second через посилання на екземпляр B\n",
    "print(b.total, \"->\", b.second)\n",
    "\n",
    "# Перевіряємо доступ до поля first через посилання на екземпляр B\n",
    "try:\n",
    "    # Якщо поле first є\n",
    "    print(b.first)\n",
    "except AttributeError:\n",
    "    # Якщо такого поля немає\n",
    "    print(\"Такого поля в екземпляра В немає!\")\n",
    "\n",
    "# Видаляємо поле total класу MyClass\n",
    "del MyClass.total\n",
    "\n",
    "# Перевіряємо доступ до поля total через посилання на екземпляр A\n",
    "try:\n",
    "    print(a.total)\n",
    "except AttributeError:\n",
    "    print(\"Такого поля немає!\")\n",
    "\n",
    "# Перевіряємо доступ до поля total через посилання на екземпляр B\n",
    "try:\n",
    "    print(b.total)\n",
    "except AttributeError:\n",
    "    print(\"Такого поля немає!\")\n",
    "\n",
    "# Видаляємо поле first екземпляра A\n",
    "del a.first\n",
    "\n",
    "# Перевіряємо доступ до поля first через посилання на екземпляр A\n",
    "try:\n",
    "    print(b.first)\n",
    "except AttributeError:\n",
    "    print(\"Такого поля в екземпляра А немає!\")\n"
   ],
   "id": "d693f1aa002b6c72",
   "outputs": [
    {
     "name": "stdout",
     "output_type": "stream",
     "text": [
      "Клас MyClass -> Екземпляр А\n",
      "Такого поля в екземпляра А немає!\n",
      "Клас MyClass -> Екземпляр B\n",
      "Такого поля в екземпляра В немає!\n",
      "Такого поля немає!\n",
      "Такого поля немає!\n",
      "Такого поля в екземпляра А немає!\n"
     ]
    }
   ],
   "execution_count": 2
  },
  {
   "metadata": {},
   "cell_type": "markdown",
   "source": [
    "🧠 Методи та функції в класі\n",
    "\n",
    "    У Python функція, описана в тілі класу, може бути:\n",
    "\n",
    "        Методом екземпляра, якщо викликається через об’єкт.\n",
    "\n",
    "        Функцією класу, якщо викликається через ім’я класу.\n",
    "\n",
    "    Метод — це по суті функція, якій неявно передається екземпляр класу як перший аргумент (self).\n",
    "\n",
    "    Така функція зберігається як атрибут класу й може викликатися з класу або з екземпляра."
   ],
   "id": "71faa77c393d93d6"
  },
  {
   "metadata": {
    "ExecuteTime": {
     "end_time": "2025-04-05T10:22:04.201216Z",
     "start_time": "2025-04-05T10:22:04.199108Z"
    }
   },
   "cell_type": "code",
   "source": [
    "class MyClass:\n",
    "    def say(self):\n",
    "        print(\"Усім вітання!\")\n",
    "\n",
    "\n",
    "obj = MyClass()\n",
    "obj.say()  # виклик методу\n",
    "MyClass.say(obj)  # виклик функції з екземпляром\n",
    "MyClass.say(\"Якийсь текст\")  # виклик функції з текстом (небажано, але можливо)\n"
   ],
   "id": "3db0df914a0134d1",
   "outputs": [
    {
     "name": "stdout",
     "output_type": "stream",
     "text": [
      "Усім вітання!\n",
      "Усім вітання!\n",
      "Усім вітання!\n"
     ]
    }
   ],
   "execution_count": 3
  },
  {
   "metadata": {},
   "cell_type": "markdown",
   "source": [
    "🔍 Метод vs. Функція: У чому різниця?\n",
    "\n",
    "    Метод — це об'єкт типу method, пов'язаний з екземпляром.\n",
    "\n",
    "    Функція — це об'єкт типу function, що зберігається в класі."
   ],
   "id": "97375d27372a4c3a"
  },
  {
   "metadata": {
    "ExecuteTime": {
     "end_time": "2025-04-05T10:25:40.394060Z",
     "start_time": "2025-04-05T10:25:40.391335Z"
    }
   },
   "cell_type": "code",
   "source": [
    "class MyClass:\n",
    "    def say(self):\n",
    "        print(\"Усім вітання!\")\n",
    "\n",
    "\n",
    "obj = MyClass()\n",
    "\n",
    "print(type(MyClass.say))  # <class 'function'>\n",
    "print(type(obj.say))  # <class 'method'>"
   ],
   "id": "b5b22d87a329f9b3",
   "outputs": [
    {
     "name": "stdout",
     "output_type": "stream",
     "text": [
      "<class 'function'>\n",
      "<class 'method'>\n"
     ]
    }
   ],
   "execution_count": 4
  },
  {
   "metadata": {},
   "cell_type": "markdown",
   "source": [
    "🛠️ Додавання методів до екземплярів класу\n",
    "\n",
    "    Функції можна прив’язати до окремих екземплярів як атрибути.\n",
    "\n",
    "    Такі функції не мають доступу до self, тому технічно це не методи."
   ],
   "id": "8a549515d48b8ba9"
  },
  {
   "metadata": {
    "ExecuteTime": {
     "end_time": "2025-04-05T10:28:05.875363Z",
     "start_time": "2025-04-05T10:28:05.870594Z"
    }
   },
   "cell_type": "code",
   "source": [
    "class MyClass:\n",
    "    pass\n",
    "\n",
    "\n",
    "a = MyClass()\n",
    "b = MyClass()\n",
    "c = MyClass()\n",
    "\n",
    "\n",
    "def hello():\n",
    "    print(\"Метод екземпляра - ‘hello’\")\n",
    "\n",
    "\n",
    "def hi():\n",
    "    print(\"Ще один метод - ‘hi’\")\n",
    "\n",
    "\n",
    "a.say = hello\n",
    "c.say = hi\n",
    "\n",
    "a.say()\n",
    "\n",
    "try:\n",
    "    b.say()\n",
    "except AttributeError:\n",
    "    print(\"Такого методу немає\")\n",
    "\n",
    "c.say()\n",
    "\n",
    "try:\n",
    "    MyClass.say()\n",
    "except AttributeError:\n",
    "    print(\"Такої функції немає\")\n",
    "\n",
    "del a.say\n",
    "\n",
    "try:\n",
    "    a.say()\n",
    "except AttributeError:\n",
    "    print(\"Такого методу немає\")\n",
    "\n",
    "c.say()\n"
   ],
   "id": "1f0cee2602a37300",
   "outputs": [
    {
     "name": "stdout",
     "output_type": "stream",
     "text": [
      "Метод екземпляра - ‘hello’\n",
      "Такого методу немає\n",
      "Ще один метод - ‘hi’\n",
      "Такої функції немає\n",
      "Такого методу немає\n",
      "Ще один метод - ‘hi’\n"
     ]
    }
   ],
   "execution_count": 5
  },
  {
   "metadata": {},
   "cell_type": "markdown",
   "source": [
    "🧱 Додавання функцій до класу як методів\n",
    "\n",
    "    Функцію можна додати до класу як метод — тоді вона матиме доступ до self.\n",
    "\n",
    "    Такий метод буде доступний усім екземплярам класу."
   ],
   "id": "de686a0e6268280f"
  },
  {
   "metadata": {
    "ExecuteTime": {
     "end_time": "2025-04-05T10:31:24.132375Z",
     "start_time": "2025-04-05T10:31:24.129723Z"
    }
   },
   "cell_type": "code",
   "outputs": [
    {
     "name": "stdout",
     "output_type": "stream",
     "text": [
      "Метод класу - ‘hello’\n",
      "Метод класу - ‘hello’\n",
      "Ще один метод - ‘hi’\n",
      "Метод класу - ‘hello’\n"
     ]
    }
   ],
   "execution_count": 7,
   "source": [
    "MyClass.say = lambda self: print(\"Метод класу - ‘hello’\")\n",
    "\n",
    "a.say()\n",
    "b.say()\n",
    "c.say()\n",
    "MyClass.say(a)"
   ],
   "id": "37117076f42ea7c3"
  },
  {
   "metadata": {},
   "cell_type": "markdown",
   "source": [
    "⚠️ Перевизначення методу як поля\n",
    "\n",
    "    Метод можна перезаписати текстом або іншим значенням.\n",
    "\n",
    "    У такому разі метод перестає бути викликаним."
   ],
   "id": "fd867aa9238259ab"
  },
  {
   "metadata": {
    "ExecuteTime": {
     "end_time": "2025-04-05T10:35:51.025393Z",
     "start_time": "2025-04-05T10:35:51.021958Z"
    }
   },
   "cell_type": "code",
   "source": [
    "class MyClass:\n",
    "    def __init__(self, n):\n",
    "        self.name = n\n",
    "\n",
    "    def say(self):\n",
    "        print(\"Клас MyClass:\", self.name)\n",
    "\n",
    "\n",
    "a = MyClass(\"A\")\n",
    "b = MyClass(\"B\")\n",
    "\n",
    "a.say()\n",
    "b.say()\n",
    "\n",
    "f = a.say\n",
    "f()\n",
    "\n",
    "a.say = \"Поле екземпляра А\"\n",
    "print(a.say)\n",
    "\n",
    "try:\n",
    "    a.say()\n",
    "except TypeError:\n",
    "    print(\"Неправильна команда\")\n",
    "\n",
    "b.say()\n",
    "f()\n"
   ],
   "id": "6a1fda65ec71af66",
   "outputs": [
    {
     "name": "stdout",
     "output_type": "stream",
     "text": [
      "Клас MyClass: A\n",
      "Клас MyClass: B\n",
      "Клас MyClass: A\n",
      "Поле екземпляра А\n",
      "Неправильна команда\n",
      "Клас MyClass: B\n",
      "Клас MyClass: A\n"
     ]
    }
   ],
   "execution_count": 9
  },
  {
   "metadata": {},
   "cell_type": "markdown",
   "source": [
    "Копіювання екземплярів у Python\n",
    "\n",
    "    Звичайне присвоювання змінної:\n",
    "\n",
    "y = x\n",
    "\n",
    "не створює копію, а лише нове посилання на той самий об’єкт.\n",
    "\n",
    "Щоб створити незалежну копію об’єкта, використовують модуль copy:\n",
    "\n",
    "    copy(x) — поверхнева копія\n",
    "\n",
    "    deepcopy(x) — глибока копія\n",
    "\n",
    "Поверхнева копія:\n",
    "\n",
    "    створює новий об’єкт;\n",
    "\n",
    "    копіює значення незмінних типів;\n",
    "\n",
    "    копіює посилання на змінювані поля (списки, словники тощо).\n",
    "\n",
    "Глибока копія:\n",
    "\n",
    "    створює новий об’єкт;\n",
    "\n",
    "    рекурсивно копіює всі вкладені структури."
   ],
   "id": "1e145029a5fd173b"
  },
  {
   "metadata": {
    "ExecuteTime": {
     "end_time": "2025-04-09T20:37:17.338745Z",
     "start_time": "2025-04-09T20:37:17.332133Z"
    }
   },
   "cell_type": "code",
   "source": [
    "from copy import copy, deepcopy\n",
    "\n",
    "\n",
    "class MyClass:\n",
    "    def __init__(self, name, nums):\n",
    "        self.name = name\n",
    "        self.nums = nums\n",
    "\n",
    "    def show(self):\n",
    "        print(\"name ->\", self.name)\n",
    "        print(\"nums ->\", self.nums)\n",
    "\n",
    "\n",
    "x = MyClass(\"Python\", [1, 2, 3])\n",
    "print(\"Екземпляр x:\")\n",
    "x.show()\n",
    "\n",
    "y = copy(x)\n",
    "z = deepcopy(x)\n",
    "\n",
    "print(\"Екземпляр y:\")\n",
    "y.show()\n",
    "print(\"Екземпляр z:\")\n",
    "z.show()\n",
    "\n",
    "print(\"Поля екземпляра x змінюються!\")\n",
    "x.name = \"Java\"\n",
    "x.nums[0] = 0\n",
    "\n",
    "print(\"Екземпляр x:\")\n",
    "x.show()\n",
    "print(\"Екземпляр y:\")\n",
    "y.show()\n",
    "print(\"Екземпляр z:\")\n",
    "z.show()\n"
   ],
   "id": "22efcb861b3d69e5",
   "outputs": [
    {
     "name": "stdout",
     "output_type": "stream",
     "text": [
      "Екземпляр x:\n",
      "name -> Python\n",
      "nums -> [1, 2, 3]\n",
      "Екземпляр y:\n",
      "name -> Python\n",
      "nums -> [1, 2, 3]\n",
      "Екземпляр z:\n",
      "name -> Python\n",
      "nums -> [1, 2, 3]\n",
      "Поля екземпляра x змінюються!\n",
      "Екземпляр x:\n",
      "name -> Java\n",
      "nums -> [0, 2, 3]\n",
      "Екземпляр y:\n",
      "name -> Python\n",
      "nums -> [0, 2, 3]\n",
      "Екземпляр z:\n",
      "name -> Python\n",
      "nums -> [1, 2, 3]\n"
     ]
    }
   ],
   "execution_count": 1
  },
  {
   "metadata": {},
   "cell_type": "markdown",
   "source": "Конструктор копіювання:",
   "id": "c0a2658c5d938277"
  },
  {
   "metadata": {
    "ExecuteTime": {
     "end_time": "2025-04-09T20:47:42.172162Z",
     "start_time": "2025-04-09T20:47:42.166220Z"
    }
   },
   "cell_type": "code",
   "source": [
    "class ComplNum:\n",
    "    def __init__(self, x=0, y=0):\n",
    "        if type(x) == ComplNum:\n",
    "            self.Re = x.Re\n",
    "            self.Im = x.Im\n",
    "        else:\n",
    "            self.Re = x\n",
    "            self.Im = y\n",
    "\n",
    "    def show(self):\n",
    "        print(\"Re =\", self.Re)\n",
    "        print(\"Im =\", self.Im)\n",
    "\n",
    "\n",
    "a = ComplNum(1, 2)\n",
    "b = ComplNum(a)\n",
    "\n",
    "print(\"Екземпляр a:\")\n",
    "a.show()\n",
    "\n",
    "print(\"Екземпляр b:\")\n",
    "b.show()\n",
    "\n",
    "print(\"Поля екземпляра a змінюються!\")\n",
    "a.Re = 10\n",
    "a.Im = 20\n",
    "\n",
    "print(\"Екземпляр a:\")\n",
    "a.show()\n",
    "\n",
    "print(\"Екземпляр b:\")\n",
    "b.show()\n"
   ],
   "id": "13dabe09cdeb61d0",
   "outputs": [
    {
     "name": "stdout",
     "output_type": "stream",
     "text": [
      "Екземпляр a:\n",
      "Re = 1\n",
      "Im = 2\n",
      "Екземпляр b:\n",
      "Re = 1\n",
      "Im = 2\n",
      "Поля екземпляра a змінюються!\n",
      "Екземпляр a:\n",
      "Re = 10\n",
      "Im = 20\n",
      "Екземпляр b:\n",
      "Re = 1\n",
      "Im = 2\n"
     ]
    }
   ],
   "execution_count": 2
  },
  {
   "metadata": {},
   "cell_type": "markdown",
   "source": "Копіювання екземпляра з полями-списками:",
   "id": "d4c0e0492064bebe"
  },
  {
   "metadata": {
    "ExecuteTime": {
     "end_time": "2025-04-09T20:51:34.285626Z",
     "start_time": "2025-04-09T20:51:34.276730Z"
    }
   },
   "cell_type": "code",
   "source": [
    "class MyClass:\n",
    "    def __init__(self, arg, nums=None):\n",
    "        if type(arg) == MyClass:\n",
    "            self.name = arg.name[:]\n",
    "            self.nums = arg.nums[:]\n",
    "        else:\n",
    "            self.name = arg\n",
    "            self.nums = nums\n",
    "\n",
    "    def show(self):\n",
    "        print(\"name ->\", self.name)\n",
    "        print(\"nums ->\", self.nums)\n",
    "\n",
    "\n",
    "x = MyClass(\"Python\", [1, 2, 3])\n",
    "print(\"Екземпляр x:\")\n",
    "x.show()\n",
    "\n",
    "y = MyClass(x)\n",
    "print(\"Екземпляр y:\")\n",
    "y.show()\n",
    "\n",
    "print(\"Поля екземпляра x змінюються!\")\n",
    "x.name = \"Java\"\n",
    "x.nums[0] = 0\n",
    "\n",
    "print(\"Екземпляр x:\")\n",
    "x.show()\n",
    "\n",
    "print(\"Екземпляр y:\")\n",
    "y.show()\n"
   ],
   "id": "1217aac558aa8675",
   "outputs": [
    {
     "name": "stdout",
     "output_type": "stream",
     "text": [
      "Екземпляр x:\n",
      "name -> Python\n",
      "nums -> [1, 2, 3]\n",
      "Екземпляр y:\n",
      "name -> Python\n",
      "nums -> [1, 2, 3]\n",
      "Поля екземпляра x змінюються!\n",
      "Екземпляр x:\n",
      "name -> Java\n",
      "nums -> [0, 2, 3]\n",
      "Екземпляр y:\n",
      "name -> Python\n",
      "nums -> [1, 2, 3]\n"
     ]
    }
   ],
   "execution_count": 3
  },
  {
   "metadata": {},
   "cell_type": "markdown",
   "source": "# Наслідування в Python",
   "id": "690c9fc68a2c5266"
  },
  {
   "metadata": {},
   "cell_type": "markdown",
   "source": [
    "Наслiдування в Python\n",
    "\n",
    "Створення нового класу на основi iснуючого\n",
    "\n",
    "Базовий клас: той, вiд якого наслiдують\n",
    "\n",
    "Похiдний клас: той, що наслiдує\n",
    "\n",
    "Похiдний клас \"успадковує\" поля i методи базового класу\n",
    "\n",
    "Слайд 2: Синтаксис наслiдування\n",
    "```python\n",
    "class NewClass(BaseClass):\n",
    "    # тiло класу\n",
    "    pass\n",
    "```"
   ],
   "id": "68f888652a8d0a2c"
  },
  {
   "metadata": {
    "ExecuteTime": {
     "end_time": "2025-04-09T21:30:53.893728Z",
     "start_time": "2025-04-09T21:30:53.884168Z"
    }
   },
   "cell_type": "code",
   "source": [
    "class BaseClass:\n",
    "    name_base = \"Клас BaseClass\"\n",
    "\n",
    "    def say_base(self):\n",
    "        print(\"Метод say_base()\")\n",
    "\n",
    "\n",
    "class NewClass(BaseClass):\n",
    "    name_new = \"Клас NewClass\"\n",
    "\n",
    "    def say_new(self):\n",
    "        print(\"Метод say_new()\")\n",
    "\n",
    "\n",
    "obj_base = BaseClass()\n",
    "obj_new = NewClass()\n",
    "\n",
    "print(BaseClass.name_base)\n",
    "obj_base.say_base()\n",
    "print(NewClass.name_base)\n",
    "obj_new.say_base()\n",
    "print(NewClass.name_new)\n",
    "obj_new.say_new()"
   ],
   "id": "551d918107cb67a8",
   "outputs": [
    {
     "name": "stdout",
     "output_type": "stream",
     "text": [
      "Клас BaseClass\n",
      "Метод say_base()\n",
      "Клас BaseClass\n",
      "Метод say_base()\n",
      "Клас NewClass\n",
      "Метод say_new()\n"
     ]
    }
   ],
   "execution_count": 4
  },
  {
   "metadata": {
    "ExecuteTime": {
     "end_time": "2025-04-09T21:36:57.998473Z",
     "start_time": "2025-04-09T21:36:57.991803Z"
    }
   },
   "cell_type": "code",
   "source": [
    "class BaseClass:\n",
    "    name = \"Поле name\"\n",
    "\n",
    "    def say(self):\n",
    "        print(\"Метод say()\")\n",
    "\n",
    "\n",
    "class NewClass(BaseClass):\n",
    "    pass\n",
    "\n",
    "\n",
    "obj = NewClass()\n",
    "print(NewClass.name)\n",
    "obj.say()\n",
    "\n",
    "\n",
    "def hello(self):\n",
    "    print(\"Новий метод hello()\")\n",
    "\n",
    "\n",
    "BaseClass.say = hello\n",
    "BaseClass.name = \"Нове значення поля name\"\n",
    "\n",
    "print(NewClass.name)\n",
    "obj.say()"
   ],
   "id": "f176729aecef07be",
   "outputs": [
    {
     "name": "stdout",
     "output_type": "stream",
     "text": [
      "Поле name\n",
      "Метод say()\n",
      "Нове значення поля name\n",
      "Новий метод hello()\n"
     ]
    }
   ],
   "execution_count": 5
  },
  {
   "metadata": {},
   "cell_type": "markdown",
   "source": "Перевизначення полів та методів під час наслідування",
   "id": "15dac193a5e0717"
  },
  {
   "metadata": {
    "ExecuteTime": {
     "end_time": "2025-04-09T21:41:18.190670Z",
     "start_time": "2025-04-09T21:41:18.183747Z"
    }
   },
   "cell_type": "code",
   "source": [
    "class BaseClass:\n",
    "    name = \"Поле name базового класу\"\n",
    "\n",
    "    def say(self):\n",
    "        print(\"Метод say() базового класу\")\n",
    "\n",
    "\n",
    "class NewClass(BaseClass):\n",
    "    name = \"Поле name похiдного класу\"\n",
    "\n",
    "    def say(self):\n",
    "        print(\"Метод say() похiдного класу\")\n",
    "\n",
    "\n",
    "obj_base = BaseClass()\n",
    "obj_new = NewClass()\n",
    "print(obj_base.name)\n",
    "print(obj_new.name)\n",
    "obj_base.say()\n",
    "obj_new.say()"
   ],
   "id": "8ca111c10207edb2",
   "outputs": [
    {
     "name": "stdout",
     "output_type": "stream",
     "text": [
      "Поле name базового класу\n",
      "Поле name похiдного класу\n",
      "Метод say() базового класу\n",
      "Метод say() похiдного класу\n"
     ]
    }
   ],
   "execution_count": 6
  },
  {
   "metadata": {},
   "cell_type": "markdown",
   "source": "Викорситання методу super()",
   "id": "f485297a66ddec03"
  },
  {
   "metadata": {
    "ExecuteTime": {
     "end_time": "2025-04-09T21:45:37.012830Z",
     "start_time": "2025-04-09T21:45:37.007101Z"
    }
   },
   "cell_type": "code",
   "source": [
    "class BaseClass:\n",
    "    def __init__(self, num):\n",
    "        self.id = num\n",
    "\n",
    "    def get(self):\n",
    "        print(\"ID:\", self.id)\n",
    "\n",
    "    def show(self):\n",
    "        print(\"Поле екземпляра базового класу\")\n",
    "        self.get()\n",
    "\n",
    "\n",
    "class NewClass(BaseClass):\n",
    "    def __init__(self, num, txt):\n",
    "        super().__init__(num)\n",
    "        self.name = txt\n",
    "\n",
    "    def get(self):\n",
    "        super().get()\n",
    "        print(\"Name:\", self.name)\n",
    "\n",
    "\n",
    "obj_base = BaseClass(1)\n",
    "print(\"Викликаємо метод show() із екземпляра obj_base:\")\n",
    "obj_base.show()\n",
    "\n",
    "obj_new = NewClass(10, \"десятка\")\n",
    "print(\"Викликаємо метод show() із екземпляра obj_new:\")\n",
    "obj_new.show()"
   ],
   "id": "cd3eff2254be7d0b",
   "outputs": [
    {
     "name": "stdout",
     "output_type": "stream",
     "text": [
      "Викликаємо метод show() із екземпляра obj_base:\n",
      "Поле екземпляра базового класу\n",
      "ID: 1\n",
      "Викликаємо метод show() із екземпляра obj_new:\n",
      "Поле екземпляра базового класу\n",
      "ID: 10\n",
      "Name: десятка\n"
     ]
    }
   ],
   "execution_count": 7
  },
  {
   "metadata": {},
   "cell_type": "markdown",
   "source": "Множинне наслідування",
   "id": "845f3ddf98e14f9f"
  },
  {
   "metadata": {
    "ExecuteTime": {
     "end_time": "2025-04-10T19:22:34.485136Z",
     "start_time": "2025-04-10T19:22:34.478846Z"
    }
   },
   "cell_type": "code",
   "source": [
    "# Перший базовий клас\n",
    "class BoxSize:\n",
    "    # Конструктор\n",
    "    def __init__(self, width, height, depth):\n",
    "        # Присвоювання значень полям екземпляра\n",
    "        self.width = width\n",
    "        self.height = height\n",
    "        self.depth = depth\n",
    "\n",
    "    # Метод для обчислення об’єму\n",
    "    def volume(self):\n",
    "        # Результат - добуток полів екземпляра\n",
    "        return self.width * self.height * self.depth\n",
    "\n",
    "    # Метод для відображення значень полів екземпляра\n",
    "    # і результату виклику методу volume()\n",
    "    def show(self):\n",
    "        print(\"Розміри й об’єм ящика:\")\n",
    "        print(\"Ширина:\", self.width)\n",
    "        print(\"Висота:\", self.height)\n",
    "        print(\"Глибина:\", self.depth)\n",
    "        print(\"Об’єм:\", self.volume())\n",
    "\n",
    "\n",
    "# Другий базовий клас\n",
    "class BoxParams:\n",
    "    # Конструктор\n",
    "    def __init__(self, weight, color):\n",
    "        # Присвоювання значень полям екземпляра\n",
    "        self.weight = weight\n",
    "        self.color = color\n",
    "\n",
    "    # Метод для відображення значень полів екземпляра\n",
    "    def show(self):\n",
    "        print(\"Додаткові параметри ящика:\")\n",
    "        print(\"Вага (маса):\", self.weight)\n",
    "        print(\"Колір:\", self.color)\n",
    "\n",
    "\n",
    "# Похідний клас\n",
    "class Box(BoxSize, BoxParams):\n",
    "    # Конструктор\n",
    "    def __init__(self, width, height, depth, weight, color):\n",
    "        # Виклик конструктора першого базового класу\n",
    "        BoxSize.__init__(self, width, height, depth)\n",
    "        # Виклик конструктора другого базового класу\n",
    "        BoxParams.__init__(self, weight, color)\n",
    "        # Виклики методу show() екземпляра класу\n",
    "        self.show()\n",
    "\n",
    "    # Перевизначення методу show()\n",
    "    def show(self):\n",
    "        # Виклик методу show() із першого базового класу\n",
    "        BoxSize.show(self)\n",
    "        # Виклик методу show() із другого базового класу\n",
    "        BoxParams.show(self)\n",
    "\n",
    "\n",
    "# Створюємо екземпляр похідного класу\n",
    "obj = Box(10, 20, 30, 5, \"зелений\")\n"
   ],
   "id": "27c6b8ae6da1ea1a",
   "outputs": [
    {
     "name": "stdout",
     "output_type": "stream",
     "text": [
      "Розміри й об’єм ящика:\n",
      "Ширина: 10\n",
      "Висота: 20\n",
      "Глибина: 30\n",
      "Об’єм: 6000\n",
      "Додаткові параметри ящика:\n",
      "Вага (маса): 5\n",
      "Колір: зелений\n"
     ]
    }
   ],
   "execution_count": 1
  },
  {
   "metadata": {},
   "cell_type": "markdown",
   "source": "Конфлікти у множинному наслідуванні",
   "id": "2f393528a6647947"
  },
  {
   "metadata": {
    "ExecuteTime": {
     "end_time": "2025-04-10T19:30:17.052668Z",
     "start_time": "2025-04-10T19:30:17.048452Z"
    }
   },
   "cell_type": "code",
   "source": [
    "class A:\n",
    "    def hello(self):\n",
    "        print(\"Привіт з класу A\")\n",
    "\n",
    "\n",
    "class B:\n",
    "    def hello(self):\n",
    "        print(\"Привіт з класу B\")\n",
    "\n",
    "\n",
    "class C(A, B):\n",
    "    pass\n",
    "\n",
    "\n",
    "obj = C()\n",
    "obj.hello()  # Який метод буде викликано?\n",
    "print(C.__mro__)"
   ],
   "id": "7223d9623c15d9",
   "outputs": [
    {
     "name": "stdout",
     "output_type": "stream",
     "text": [
      "Привіт з класу A\n",
      "(<class '__main__.C'>, <class '__main__.A'>, <class '__main__.B'>, <class 'object'>)\n"
     ]
    }
   ],
   "execution_count": 2
  },
  {
   "metadata": {
    "ExecuteTime": {
     "end_time": "2025-04-10T19:34:19.745458Z",
     "start_time": "2025-04-10T19:34:19.739890Z"
    }
   },
   "cell_type": "code",
   "source": [
    "# Описуємо класи\n",
    "class Alpha:\n",
    "    def hi(self):\n",
    "        print(\"Клас Alpha\")\n",
    "\n",
    "\n",
    "class Bravo:\n",
    "    def hi(self):\n",
    "        print(\"Клас Bravo\")\n",
    "\n",
    "\n",
    "class Charlie:\n",
    "    def hi(self):\n",
    "        print(\"Клас Charlie\")\n",
    "\n",
    "\n",
    "class Delta(Alpha):\n",
    "    pass\n",
    "\n",
    "\n",
    "class Echo(Delta):\n",
    "    pass\n",
    "\n",
    "\n",
    "class Foxtrot(Bravo, Alpha):\n",
    "    pass\n",
    "\n",
    "\n",
    "class Golf(Foxtrot):\n",
    "    pass\n",
    "\n",
    "\n",
    "class Hotel(Echo, Charlie, Golf):\n",
    "    pass\n",
    "\n",
    "\n",
    "# Викликаємо функції класів\n",
    "Echo().hi()\n",
    "Golf().hi()\n",
    "Hotel().hi()\n"
   ],
   "id": "a8f8d738a3e76e53",
   "outputs": [
    {
     "name": "stdout",
     "output_type": "stream",
     "text": [
      "Клас Alpha\n",
      "Клас Bravo\n",
      "Клас Charlie\n"
     ]
    }
   ],
   "execution_count": 3
  },
  {
   "metadata": {},
   "cell_type": "markdown",
   "source": "# Спеціальні поля та методи",
   "id": "cc539518b047c833"
  },
  {
   "metadata": {},
   "cell_type": "markdown",
   "source": [
    "У Python є група методів, назви яких починаються й закінчуються подвійним підкреслюванням. Такі методи призначені для роботи з класами й екземплярами класів і дозволяють виконувати деякі дуже специфічні операції.Тому ці методи зазвичай називають спеціальними.\n",
    "\n",
    "| **Поле**     | **Призначення** |\n",
    "|--------------|-----------------|\n",
    "| `__bases__`  | Повертається список базових класів |\n",
    "| `__dict__`   | Повертається словник із атрибутами класу |\n",
    "| `__doc__`    | Повертається текст документування класу (текст, що описує клас). <br/>Текст документування можна безпосередньо вказати в тілі класу першим рядком або присвоїти полю значення |\n",
    "| `__module__` | Повертається модуль класу |\n",
    "| `__mro__`       | Повертається ланцюжок наслідування класу |\n",
    "| `__name__`      | Повертається ім’я класу |\n",
    "| `__qualname__`  | Повертається повне ім’я класу (у «крапковому» форматі, що відображає структуру вкладених класів) |\n",
    "\n"
   ],
   "id": "264b06f3b7a780ff"
  },
  {
   "metadata": {
    "ExecuteTime": {
     "end_time": "2025-04-20T09:41:21.467611Z",
     "start_time": "2025-04-20T09:41:21.460241Z"
    }
   },
   "cell_type": "code",
   "source": [
    "# Клас\n",
    "class Alpha:\n",
    "    \"Клас Alpha і внутрішній клас Bravo\"\n",
    "\n",
    "    def hello(self):\n",
    "        pass\n",
    "\n",
    "    # Внутрішній клас\n",
    "    class Bravo:\n",
    "        pass\n",
    "\n",
    "\n",
    "# Похідний від Alpha клас\n",
    "class Charlie(Alpha):\n",
    "    pass\n",
    "\n",
    "\n",
    "# Похідний від Charlie клас\n",
    "class Delta(Charlie):\n",
    "    pass\n",
    "\n",
    "\n",
    "# Створюємо екземпляр класу\n",
    "obj = Alpha()\n",
    "\n",
    "# Поле __class__ екземпляра класу\n",
    "print(\"Поле __class__\")\n",
    "print(\"Екземпляр obj:\", obj.__class__)\n",
    "\n",
    "# Поле __class__ класу\n",
    "print(\"Клас Alpha:\", Alpha.__class__)\n",
    "print(\"Клас Alpha.Bravo:\", Alpha.Bravo.__class__)\n",
    "print(\"Клас Charlie:\", Charlie.__class__)\n",
    "\n",
    "# Поля __bases__ і __mro__\n",
    "print(\"\\nПоля __bases__ і __mro__\")\n",
    "print(\"Клас Delta, поле __bases__:\", Delta.__bases__)\n",
    "print(\"Клас Delta, поле __mro__:\", Delta.__mro__)\n",
    "print(\"Клас Alpha, поле __bases__:\", Alpha.__bases__)\n",
    "print(\"Клас Alpha, поле __mro__:\", Alpha.__mro__)\n",
    "\n",
    "# Поле __doc__\n",
    "print(\"\\nПоле __doc__\")\n",
    "print(\"Опис класу Alpha:\", Alpha.__doc__)\n",
    "Delta.__doc__ = \"Клас Delta наслідує клас Charlie\"\n",
    "print(\"Опис класу Delta:\", Delta.__doc__)\n",
    "\n",
    "# Поле __module__\n",
    "print(\"\\nПоле __module__\")\n",
    "print(\"Модуль класу Alpha:\", Alpha.__module__)\n",
    "\n",
    "# Поле __dict__\n",
    "print(\"\\nПоле __dict__\")\n",
    "print(\"Атрибути класу Alpha:\", Alpha.__dict__)\n",
    "print(\"Атрибути класу Alpha.Bravo:\", Alpha.Bravo.__dict__)\n",
    "print(\"Атрибути класу Delta:\", Delta.__dict__)\n",
    "\n",
    "# Поля __name__ і __qualname__\n",
    "print(\"\\nПоля __name__ і __qualname__\")\n",
    "print(\"Клас Alpha, поле __name__:\", Alpha.__name__)\n",
    "print(\"Клас Alpha, поле __qualname__:\", Alpha.__qualname__)\n",
    "print(\"Клас Alpha.Bravo, поле __name__:\", Alpha.Bravo.__name__)\n",
    "print(\"Клас Alpha.Bravo, поле __qualname__:\", Alpha.Bravo.__qualname__)\n",
    "print(\"Клас Delta, поле __name__:\", Delta.__name__)\n",
    "print(\"Клас Delta, поле __qualname__:\", Delta.__qualname__)"
   ],
   "id": "4c151870d47c8998",
   "outputs": [
    {
     "name": "stdout",
     "output_type": "stream",
     "text": [
      "Поле __class__\n",
      "Екземпляр obj: <class '__main__.Alpha'>\n",
      "Клас Alpha: <class 'type'>\n",
      "Клас Alpha.Bravo: <class 'type'>\n",
      "Клас Charlie: <class 'type'>\n",
      "\n",
      "Поля __bases__ і __mro__\n",
      "Клас Delta, поле __bases__: (<class '__main__.Charlie'>,)\n",
      "Клас Delta, поле __mro__: (<class '__main__.Delta'>, <class '__main__.Charlie'>, <class '__main__.Alpha'>, <class 'object'>)\n",
      "Клас Alpha, поле __bases__: (<class 'object'>,)\n",
      "Клас Alpha, поле __mro__: (<class '__main__.Alpha'>, <class 'object'>)\n",
      "\n",
      "Поле __doc__\n",
      "Опис класу Alpha: Клас Alpha і внутрішній клас Bravo\n",
      "Опис класу Delta: Клас Delta наслідує клас Charlie\n",
      "\n",
      "Поле __module__\n",
      "Модуль класу Alpha: __main__\n",
      "\n",
      "Поле __dict__\n",
      "Атрибути класу Alpha: {'__module__': '__main__', '__doc__': 'Клас Alpha і внутрішній клас Bravo', 'hello': <function Alpha.hello at 0x10340fa60>, 'Bravo': <class '__main__.Alpha.Bravo'>, '__dict__': <attribute '__dict__' of 'Alpha' objects>, '__weakref__': <attribute '__weakref__' of 'Alpha' objects>}\n",
      "Атрибути класу Alpha.Bravo: {'__module__': '__main__', '__dict__': <attribute '__dict__' of 'Bravo' objects>, '__weakref__': <attribute '__weakref__' of 'Bravo' objects>, '__doc__': None}\n",
      "Атрибути класу Delta: {'__module__': '__main__', '__doc__': 'Клас Delta наслідує клас Charlie'}\n",
      "\n",
      "Поля __name__ і __qualname__\n",
      "Клас Alpha, поле __name__: Alpha\n",
      "Клас Alpha, поле __qualname__: Alpha\n",
      "Клас Alpha.Bravo, поле __name__: Bravo\n",
      "Клас Alpha.Bravo, поле __qualname__: Alpha.Bravo\n",
      "Клас Delta, поле __name__: Delta\n",
      "Клас Delta, поле __qualname__: Delta\n"
     ]
    }
   ],
   "execution_count": 1
  },
  {
   "metadata": {},
   "cell_type": "markdown",
   "source": "Метод __call__()",
   "id": "24cb929abb3027b5"
  },
  {
   "metadata": {
    "ExecuteTime": {
     "end_time": "2025-04-20T09:50:23.231454Z",
     "start_time": "2025-04-20T09:50:23.228935Z"
    }
   },
   "cell_type": "code",
   "source": [
    "class Box:\n",
    "    def __init__(self, w, h, d):\n",
    "        self.w = w\n",
    "        self.h = h\n",
    "        self.d = d\n",
    "\n",
    "    def __call__(self):\n",
    "        print(\"Об’єм =\", self.w * self.h * self.d)\n",
    "\n",
    "\n",
    "b = Box(2, 3, 4)\n",
    "b()  # Об’єм = 24\n"
   ],
   "id": "97054e6383e162cb",
   "outputs": [
    {
     "name": "stdout",
     "output_type": "stream",
     "text": [
      "Об’єм = 24\n"
     ]
    }
   ],
   "execution_count": 2
  },
  {
   "metadata": {
    "ExecuteTime": {
     "end_time": "2025-04-20T09:53:38.371642Z",
     "start_time": "2025-04-20T09:53:38.369393Z"
    }
   },
   "cell_type": "code",
   "source": [
    "class Box:\n",
    "    def __call__(self, w, h, d):\n",
    "        return w * h * d\n",
    "\n",
    "\n",
    "b = Box()\n",
    "print(b(2, 3, 4))  # 24"
   ],
   "id": "6f9febc277160cd5",
   "outputs": [
    {
     "name": "stdout",
     "output_type": "stream",
     "text": [
      "24\n"
     ]
    }
   ],
   "execution_count": 3
  },
  {
   "metadata": {},
   "cell_type": "markdown",
   "source": [
    "Спеціальні методи зведення до типу\n",
    "\n",
    "\n",
    "| **Метод**       | **Опис** |\n",
    "|-----------------|---------|\n",
    "| `__bool__()`    | Метод для зведення екземпляра до логічного типу (тип `bool`). Викликається при використанні функції `bool()` <br/>або в інших випадках, коли виконується автоматичне зведення до<br/> логічного типу (наприклад, коли екземпляра вказано в тому місці, де повинно бути логічне значення — скажімо, в умовному операторі). |\n",
    "| `__complex__()` | Метод для зведення до комплексного типу (тип `complex`). Метод викликається при використанні функції `complex()`. |\n",
    "| `__float__()`   | Метод для зведення до числового типу `float` (формат числа з плаваючою крапкою). Метод викликається при використанні функції `float()`. |\n",
    "| `__int__()`     | Метод для зведення до ці́лочислового типу (тип `int`). Метод викликається при використанні функції `int()`. |\n",
    "| `__str__()`     | Метод для зведення екземпляра до текстового формату (тип даних `str`). <br/>Метод викликається при використанні функції `str()` або в тих випадках, коли виконується автоматичне<br/> зведення до текстового формату. |\n"
   ],
   "id": "26697db4715994ad"
  },
  {
   "metadata": {
    "ExecuteTime": {
     "end_time": "2025-04-20T10:00:51.780416Z",
     "start_time": "2025-04-20T10:00:51.775950Z"
    }
   },
   "cell_type": "code",
   "source": [
    "# Клас\n",
    "class MyClass:\n",
    "    # Конструктор\n",
    "    def __init__(self, *nums):\n",
    "        # Створюємо поле - пустий список\n",
    "        self.nums = list()\n",
    "        # Оператор циклу для перебору елементів в аргументі nums\n",
    "        for n in nums:\n",
    "            # Додаємо новий елемент у список\n",
    "            self.nums.append(n)\n",
    "\n",
    "    # Метод для зведення до типу str\n",
    "    def __str__(self):\n",
    "        # Початкове значення текстового рядка\n",
    "        txt = \"Значення поля-списку:\\n| \"\n",
    "        # Перебираємо елементи в списку\n",
    "        for n in self.nums:\n",
    "            # Доповнюємо новим текстом\n",
    "            txt += str(n) + \" | \"\n",
    "        # Результат методу\n",
    "        return txt\n",
    "\n",
    "    # Метод для зведення до типу int\n",
    "    def __int__(self):\n",
    "        # Результат методу — кількість елементів\n",
    "        return len(self.nums)\n",
    "\n",
    "    # Метод для зведення до типу float\n",
    "    def __float__(self):\n",
    "        # Середнє значення елементів у списку\n",
    "        avr = sum(self.nums) / int(self)\n",
    "        # Результат методу\n",
    "        return avr\n",
    "\n",
    "    # Метод для зведення до типу bool\n",
    "    def __bool__(self):\n",
    "        # Якщо непарна кількість елементів\n",
    "        if int(self) % 2 == 1:\n",
    "            # Результат методу\n",
    "            return True\n",
    "        else:\n",
    "            # Результат методу\n",
    "            return False\n",
    "\n",
    "    # Метод для зведення до типу complex\n",
    "    def __complex__(self):\n",
    "        # Мінімальне число у списку\n",
    "        mn = min(self.nums)\n",
    "        # Максимальне число у списку\n",
    "        mx = max(self.nums)\n",
    "        # Комплексне число\n",
    "        z = complex(mx, mn)\n",
    "        # Результат методу\n",
    "        return z\n",
    "\n",
    "\n",
    "# Створюємо екземпляр класу\n",
    "obj = MyClass(12.8, 4.1, 7.5, 2.5, 3.2)\n",
    "\n",
    "# Виводимо на друк екземпляр (зведення до типу str)\n",
    "print(obj)\n",
    "\n",
    "# Зведення до типу int\n",
    "print(\"Елементів у списку:\", int(obj))\n",
    "\n",
    "# Зведення до типу bool\n",
    "if obj:\n",
    "    print(\"Непарна кількість елементів\")\n",
    "\n",
    "# Зведення до типу float\n",
    "print(\"Середнє значення:\", float(obj))\n",
    "\n",
    "# Зведення до типу complex\n",
    "print(\"Максимум і мінімум (як комплексне число):\", complex(obj))\n"
   ],
   "id": "c2489c3392402235",
   "outputs": [
    {
     "name": "stdout",
     "output_type": "stream",
     "text": [
      "Значення поля-списку:\n",
      "| 12.8 | 4.1 | 7.5 | 2.5 | 3.2 | \n",
      "Елементів у списку: 5\n",
      "Непарна кількість елементів\n",
      "Середнє значення: 6.02\n",
      "Максимум і мінімум (як комплексне число): (12.8+2.5j)\n"
     ]
    }
   ],
   "execution_count": 4
  },
  {
   "metadata": {},
   "cell_type": "markdown",
   "source": [
    "| **Метод**     | **Опис**                                                                                                         |\n",
    "|:--------------|:-----------------------------------------------------------------------------------------------------------------|\n",
    "| `__len__()`   | Викликається при `len(obj)`.  Повертає ціле число —  довжину або кількість елементів.                            |\n",
    "| `__round__()` | Викликається при `round(obj)`. Повертає округлене значення або змінений об'єкт.                                  |\n",
    "| `__index__()` | Викликається при `bin(obj)`, `oct(obj)` або `hex(obj)`. <br/>Повертає ціле число для перетворення в систему числення. |\n"
   ],
   "id": "43933e8df1e60d29"
  },
  {
   "metadata": {
    "ExecuteTime": {
     "end_time": "2025-04-20T10:08:35.278906Z",
     "start_time": "2025-04-20T10:08:35.274590Z"
    }
   },
   "cell_type": "code",
   "source": [
    "# Клас\n",
    "class MyClass:\n",
    "    # Конструктор\n",
    "    def __init__(self, txt):\n",
    "        # Присвоювання значення полю name\n",
    "        self.name = txt\n",
    "\n",
    "    # Метод для зведення до текстового типу (str)\n",
    "    def __str__(self):\n",
    "        # Результат — значення поля name\n",
    "        return self.name\n",
    "\n",
    "    # Метод для обчислення \"довжини\" екземпляра класу (кількість символів)\n",
    "    def __len__(self):\n",
    "        return len(self.name)\n",
    "\n",
    "    # Метод, який викликається при використанні функцій bin(), oct(), hex()\n",
    "    def __index__(self):\n",
    "        # Кількість пробілів + 1 = кількість слів\n",
    "        p = self.name.count(\" \") + 1\n",
    "        return p\n",
    "\n",
    "    # Метод для округлення round(obj)\n",
    "    def __round__(self):\n",
    "        self.name = \"Скидання значення\"\n",
    "        return self\n",
    "\n",
    "\n",
    "# Початкове текстове значення\n",
    "txt = \"Раз, два, три, чотири, п'ять.\"\n",
    "# Уточнюємо текстове значення\n",
    "txt += \"\\nП'ятеро пташат летять.\"\n",
    "\n",
    "# Створюємо екземпляр класу\n",
    "obj = MyClass(txt)\n",
    "\n",
    "# Екземпляр \"друкується\" у вікні виводу (викликає __str__)\n",
    "print(obj)\n",
    "\n",
    "# Обчислюємо кількість символів\n",
    "print(\"Кількість букв (символів):\", len(obj))\n",
    "\n",
    "# Кількість слів (через __index__)\n",
    "print(\"Кількість слів:\", obj.__index__())\n",
    "\n",
    "# Двійковий код (bin)\n",
    "print(\"У двійковому коді:\", bin(obj))\n",
    "\n",
    "# Вісімковий код (oct)\n",
    "print(\"У вісімковому коді:\", oct(obj))\n",
    "\n",
    "# Шістнадцятковий код (hex)\n",
    "print(\"У шістнадцятковому коді:\", hex(obj))\n",
    "\n",
    "# Округлення екземпляра класу (викликає __round__)\n",
    "print(round(obj))\n",
    "\n",
    "# Повторний друк екземпляра (значення має бути оновлене)\n",
    "print(obj)\n"
   ],
   "id": "5276b54c7af8b009",
   "outputs": [
    {
     "name": "stdout",
     "output_type": "stream",
     "text": [
      "Раз, два, три, чотири, п'ять.\n",
      "П'ятеро пташат летять.\n",
      "Кількість букв (символів): 52\n",
      "Кількість слів: 7\n",
      "У двійковому коді: 0b111\n",
      "У вісімковому коді: 0o7\n",
      "У шістнадцятковому коді: 0x7\n",
      "Скидання значення\n",
      "Скидання значення\n"
     ]
    }
   ],
   "execution_count": 5
  },
  {
   "metadata": {},
   "cell_type": "markdown",
   "source": "Перевизначення операторів індексації у класі",
   "id": "ace4f569a07dc7c0"
  },
  {
   "metadata": {
    "ExecuteTime": {
     "end_time": "2025-04-20T10:19:33.361276Z",
     "start_time": "2025-04-20T10:19:33.355198Z"
    }
   },
   "cell_type": "code",
   "source": [
    "# Клас\n",
    "class MyClass:\n",
    "    # Поле класу Nmax\n",
    "    Nmax = 5\n",
    "\n",
    "    # Конструктор\n",
    "    def __init__(self):\n",
    "        # Кількість елементів\n",
    "        n = MyClass.Nmax\n",
    "        # Список з нульовими елементами\n",
    "        self.nums = [0 for i in range(n)]\n",
    "\n",
    "    # Метод зведення до текстового типу\n",
    "    def __str__(self):\n",
    "        # Текстова змінна\n",
    "        txt = \"| \"\n",
    "        # Формуємо текст\n",
    "        for s in self.nums:\n",
    "            # Додаємо до тексту фрагмент\n",
    "            txt += str(s) + \" | \"\n",
    "        # Результат методу\n",
    "        return txt\n",
    "\n",
    "    # Метод для присвоювання значення за індексом\n",
    "    def __setitem__(self, i, v):\n",
    "        # Остача від ділення — циклічне індексування\n",
    "        k = i % len(self.nums)\n",
    "        # Присвоювання значення\n",
    "        self.nums[k] = v\n",
    "\n",
    "    # Метод для зчитування значення за індексом\n",
    "    def __getitem__(self, i):\n",
    "        # Остача від ділення — циклічне індексування\n",
    "        k = i % len(self.nums)\n",
    "        # Значення елемента за індексом\n",
    "        return self.nums[k]\n",
    "\n",
    "    # Метод для видалення значення за індексом\n",
    "    def __delitem__(self, i):\n",
    "        # Остача від ділення — циклічне індексування\n",
    "        k = i % len(self.nums)\n",
    "        # Нове значення елемента — символ \"*\"\n",
    "        self.nums[k] = \"*\"\n",
    "\n",
    "\n",
    "# Створюється екземпляр класу\n",
    "obj = MyClass()\n",
    "\n",
    "# Вміст списку\n",
    "print(obj)\n",
    "\n",
    "# Нові значення елементів списку\n",
    "obj[0] = 100\n",
    "obj[2] = -3\n",
    "obj[24] = 123\n",
    "\n",
    "# Вміст списку\n",
    "print(obj)\n",
    "\n",
    "# Зчитування значень елементів списку\n",
    "print(\"Елемент із індексом 4:\", obj[4])\n",
    "print(\"Елемент із індексом 7:\", obj[7])\n",
    "\n",
    "# Видалення елементів списку\n",
    "del obj[0]\n",
    "del obj[9]\n",
    "\n",
    "# Вміст списку\n",
    "print(obj)\n"
   ],
   "id": "116eaf4f0fe3f02",
   "outputs": [
    {
     "name": "stdout",
     "output_type": "stream",
     "text": [
      "| 0 | 0 | 0 | 0 | 0 | \n",
      "| 100 | 0 | -3 | 0 | 123 | \n",
      "Елемент із індексом 4: 123\n",
      "Елемент із індексом 7: -3\n",
      "| * | 0 | -3 | 0 | * | \n"
     ]
    }
   ],
   "execution_count": 6
  },
  {
   "metadata": {},
   "cell_type": "markdown",
   "source": "Спеціальні методи звертання до атрибутів",
   "id": "77b102e2c11ad782"
  },
  {
   "metadata": {
    "ExecuteTime": {
     "end_time": "2025-04-20T10:32:22.666125Z",
     "start_time": "2025-04-20T10:32:22.661154Z"
    }
   },
   "cell_type": "code",
   "source": [
    "# Клас\n",
    "class MyClass:\n",
    "    # Конструктор\n",
    "    def __init__(self, name):\n",
    "        # Полю екземпляра присвоюється значення\n",
    "        self.name = name\n",
    "\n",
    "    # Метод для зведення екземпляра до текстового значення\n",
    "    def __str__(self):\n",
    "        # Результат методу\n",
    "        return self.name\n",
    "\n",
    "    # Метод для обробки ситуації, коли атрибуту присвоюється значення\n",
    "    def __setattr__(self, attr, val):\n",
    "        # Якщо значення присвоюється полю name — дозволяємо\n",
    "        if attr == \"name\":\n",
    "            # Присвоюємо значення напряму\n",
    "            self.__dict__[attr] = val\n",
    "        else:\n",
    "            # Якщо інший атрибут — забороняємо\n",
    "            print(\"Операцію не дозволено!\")\n",
    "\n",
    "    # Метод для обробки ситуації, коли зчитується значення атрибута\n",
    "    def __getattr__(self, attr):\n",
    "        # Результат методу\n",
    "        return \"Такого поля немає!\"\n",
    "\n",
    "    # Метод для обробки ситуації, коли атрибут видаляється\n",
    "    def __delattr__(self, attr):\n",
    "        # Відображується повідомлення\n",
    "        print(\"Видаляти поля заборонено!\")\n",
    "\n",
    "\n",
    "# Створюється екземпляр класу\n",
    "obj = MyClass(\"Вихідне значення\")\n",
    "\n",
    "# Перевіряємо значення поля name\n",
    "print(obj)\n",
    "\n",
    "# Нове значення поля name\n",
    "obj.name = \"Нове значення\"\n",
    "\n",
    "# Перевіряємо значення знову\n",
    "print(obj)\n",
    "\n",
    "# Присвоюємо значення полю number — не дозволено\n",
    "obj.number = 100\n",
    "\n",
    "# Перевіряємо значення — повернеться повідомлення з __getattr__\n",
    "print(obj.number)\n",
    "\n",
    "# Видаляємо поле name — заборонено\n",
    "del obj.name\n",
    "\n",
    "# Перевіряємо значення — все ще залишилось незмінним\n",
    "print(obj)\n"
   ],
   "id": "a3da740ad5479c67",
   "outputs": [
    {
     "name": "stdout",
     "output_type": "stream",
     "text": [
      "Вихідне значення\n",
      "Нове значення\n",
      "Операцію не дозволено!\n",
      "Такого поля немає!\n",
      "Видаляти поля заборонено!\n",
      "Нове значення\n"
     ]
    }
   ],
   "execution_count": 7
  },
  {
   "metadata": {
    "ExecuteTime": {
     "end_time": "2025-04-20T10:36:43.713668Z",
     "start_time": "2025-04-20T10:36:43.708733Z"
    }
   },
   "cell_type": "code",
   "source": [
    "# Клас\n",
    "class MyClass:\n",
    "    # Метод викликається, якщо полю присвоюється значення\n",
    "    def __setattr__(self, attr, val):\n",
    "        print(\"Виконується метод __setattr__():\")\n",
    "        txt = \"\\tПолю \" + str(attr) + \" присвоюється значення \" + str(val)\n",
    "        print(txt)\n",
    "        # Присвоєння значення полю\n",
    "        self.__dict__[attr] = val\n",
    "        print(\"Метод __setattr__() виконано.\\n\")\n",
    "\n",
    "    # Метод викликається, якщо зчитується значення поля\n",
    "    def __getattribute__(self, attr):\n",
    "        print(\"Виконується метод __getattribute__():\")\n",
    "        txt = \"\\tЗчитується значення поля \" + str(attr)\n",
    "        print(txt)\n",
    "        # Результат методу\n",
    "        try:\n",
    "            # Значення поля — якщо поле існує\n",
    "            res = object.__getattribute__(self, attr)\n",
    "        except AttributeError:\n",
    "            # Якщо поле не існує\n",
    "            res = \"У екземпляра поля \" + str(attr) + \" немає!\"\n",
    "        print(\"Метод __getattribute__() закінчує роботу.\\n\")\n",
    "        return res\n",
    "\n",
    "    # Метод викликається, якщо поле видаляється\n",
    "    def __delattr__(self, attr):\n",
    "        print(\"Виконується метод __delattr__():\")\n",
    "        txt = \"\\tВидаляється поле \" + str(attr)\n",
    "        print(txt)\n",
    "        # Видалення поля — якщо поле існує\n",
    "        try:\n",
    "            del self.__dict__[attr]\n",
    "        except KeyError:\n",
    "            # Якщо такого поля не існує\n",
    "            print(\"Не можна видалити поле \" + str(attr))\n",
    "        print(\"Метод __delattr__() виконано.\\n\")\n",
    "\n",
    "\n",
    "# Створюється екземпляр класу\n",
    "obj = MyClass()\n",
    "\n",
    "# Полю name присвоюється значення\n",
    "obj.name = \"Python\"\n",
    "\n",
    "# Перевіряється значення поля name\n",
    "print(\"Значення поля name:\", obj.name)\n",
    "\n",
    "# Видаляється поле name\n",
    "del obj.name\n",
    "\n",
    "# Перевіряється значення поля name\n",
    "print(obj.name)\n",
    "\n",
    "# Повторно видаляється поле name\n",
    "del obj.name\n",
    "\n"
   ],
   "id": "7463db6b74d444bd",
   "outputs": [
    {
     "name": "stdout",
     "output_type": "stream",
     "text": [
      "Виконується метод __setattr__():\n",
      "\tПолю name присвоюється значення Python\n",
      "Виконується метод __getattribute__():\n",
      "\tЗчитується значення поля __dict__\n",
      "Метод __getattribute__() закінчує роботу.\n",
      "\n",
      "Метод __setattr__() виконано.\n",
      "\n",
      "Виконується метод __getattribute__():\n",
      "\tЗчитується значення поля name\n",
      "Метод __getattribute__() закінчує роботу.\n",
      "\n",
      "Значення поля name: Python\n",
      "Виконується метод __delattr__():\n",
      "\tВидаляється поле name\n",
      "Виконується метод __getattribute__():\n",
      "\tЗчитується значення поля __dict__\n",
      "Метод __getattribute__() закінчує роботу.\n",
      "\n",
      "Метод __delattr__() виконано.\n",
      "\n",
      "Виконується метод __getattribute__():\n",
      "\tЗчитується значення поля name\n",
      "Метод __getattribute__() закінчує роботу.\n",
      "\n",
      "У екземпляра поля name немає!\n",
      "Виконується метод __delattr__():\n",
      "\tВидаляється поле name\n",
      "Виконується метод __getattribute__():\n",
      "\tЗчитується значення поля __dict__\n",
      "Метод __getattribute__() закінчує роботу.\n",
      "\n",
      "Не можна видалити поле name\n",
      "Метод __delattr__() виконано.\n",
      "\n"
     ]
    }
   ],
   "execution_count": 9
  },
  {
   "metadata": {},
   "cell_type": "markdown",
   "source": "## Перевантаження операторів",
   "id": "e56699f11d85fc4d"
  },
  {
   "metadata": {},
   "cell_type": "markdown",
   "source": "Перевантаження оператора +",
   "id": "bb0fedb738a8a8e"
  },
  {
   "metadata": {
    "ExecuteTime": {
     "end_time": "2025-04-21T10:22:56.378135Z",
     "start_time": "2025-04-21T10:22:56.371308Z"
    }
   },
   "cell_type": "code",
   "source": [
    "# Клас із описом методу __add__()\n",
    "class Adder:\n",
    "    # Конструктор\n",
    "    def __init__(self, number):\n",
    "        # Полю екземпляра присвоюється значення\n",
    "        self.number = number\n",
    "\n",
    "    # Метод для зведення до текстового типу\n",
    "    def __str__(self):\n",
    "        # Формується текст\n",
    "        txt = \"Значення поля number = \"\n",
    "        txt += str(self.number)\n",
    "        # Результат методу\n",
    "        return txt\n",
    "\n",
    "    # Метод для операції додавання (перевантаження +)\n",
    "    def __add__(self, x):\n",
    "        # Обчислюється нове числове значення\n",
    "        number = self.number + x\n",
    "        # Створюється новий екземпляр класу\n",
    "        tmp = Adder(number)\n",
    "        # Результат методу — посилання на новий екземпляр\n",
    "        return tmp\n",
    "\n",
    "    def __radd__(self, x):\n",
    "        return self + x\n",
    "\n",
    "\n",
    "# Створюється екземпляр класу\n",
    "a = Adder(10)\n",
    "\n",
    "# До екземпляра класу додається число\n",
    "b = a + 5\n",
    "\n",
    "# Перевіряємо поле number 1-го екземпляра\n",
    "print(a)\n",
    "\n",
    "# Перевіряємо поле number 2-го екземпляра (новий результат)\n",
    "print(b)\n"
   ],
   "id": "1976c72fefeed3e2",
   "outputs": [
    {
     "name": "stdout",
     "output_type": "stream",
     "text": [
      "Значення поля number = 10\n",
      "Значення поля number = 15\n"
     ]
    }
   ],
   "execution_count": 1
  },
  {
   "metadata": {},
   "cell_type": "markdown",
   "source": [
    "Інші математичні оператори:\n",
    "| Метод         | Оператор | Приклад     | Опис |\n",
    "|:--------------|:---------|:------------|:-----|\n",
    "| `__add__()`   | `+`      | `obj + x`   | Додавання до екземпляра класу `obj` операнда `x` |\n",
    "| `__radd__()`  | `+`      | `x + obj`   | Додавання до операнда `x` екземпляра класу `obj` |\n",
    "| `__iadd__()`  | `+=`     | `obj += x`  | Додавання до `obj` операнда `x` і присвоєння результату змінній `obj` |\n",
    "| `__sub__()`   | `-`      | `obj - x`   | Віднімання від екземпляра `obj` операнда `x` |\n",
    "| `__rsub__()`  | `-`      | `x - obj`   | Віднімання від операнда `x` екземпляра `obj` |\n",
    "| `__isub__()`  | `-=`     | `obj -= x`  | Віднімання від `obj` операнда `x` і присвоєння результату змінній `obj` |\n",
    "| `__mul__()`   | `*`      | `obj * x`   | Обчислення добутку `obj` і операнда `x` |\n",
    "| `__rmul__()`  | `*`      | `x * obj`   | Обчислення добутку `x` і екземпляра класу `obj` |\n",
    "| `__imul__()`  | `*=`     | `obj *= x`  | Множення `obj` на `x` з присвоєнням результату `obj` |\n",
    "| `__truediv__()`  | `/`   | `obj / x`   | Ділення екземпляра `obj` на `x` |\n",
    "| `__rtruediv__()` | `/`   | `x / obj`   | Ділення операнда `x` на `obj` |\n",
    "| `__itruediv__()` | `/=`  | `obj /= x`  | Ділення `obj` на `x` і присвоєння результату |\n",
    "| `__floordiv__()` | `//`  | `obj // x`  | Цілочислове ділення `obj` на `x` |\n",
    "| `__rfloordiv__()`| `//`  | `x // obj`  | Цілочислове ділення `x` на `obj` |\n",
    "| `__ifloordiv__()`| `//=` | `obj //= x` | Цілочислове ділення `obj` на `x` і присвоєння результату |\n",
    "| `__mod__()`     | `%`    | `obj % x`   | Залишок від ділення `obj` на `x` |\n",
    "| `__rmod__()`    | `%`    | `x % obj`   | Залишок від ділення `x` на `obj` |\n",
    "| `__imod__()`    | `%=`   | `obj %= x`  | Залишок від ділення `obj` на `x` і присвоєння результату |\n",
    "| `__pow__()`     | `**`   | `obj ** x`  | Піднесення `obj` до степеня `x` |\n",
    "| `__rpow__()`    | `**`   | `x ** obj`  | Піднесення `x` до степеня `obj` |\n",
    "| `__ipow__()`    | `**=`  | `obj **= x` | Піднесення `obj` до степеня `x` з присвоєнням результату |\n",
    "| `__neg__()`     | `-`    | `-obj`      | Застосування унарного оператора «мінус» до `obj` |\n",
    "| `__pos__()`     | `+`    | `+obj`      | Застосування унарного оператора «плюс» до `obj` |\n",
    "| `__abs__()`     | `модуль`| `abs(obj)` | Обчислення модуля екземпляра `obj` |\n"
   ],
   "id": "9db957159c91d404"
  },
  {
   "metadata": {},
   "cell_type": "markdown",
   "source": [
    "Побітові оператори що можна перевантажити:\n",
    "| Метод          | Оператор | Приклад     | Опис |\n",
    "|:---------------|:---------|:------------|:-----|\n",
    "| `__invert__()` | `~`      | `~obj`      | Побітова *інверсія* екземпляра класу `obj` |\n",
    "| `__and__()`    | `&`      | `obj & x`   | Побітове *і* між `obj` і `x` |\n",
    "| `__rand__()`   | `&`      | `x & obj`   | Побітове *і* між `x` і `obj` |\n",
    "| `__iand__()`   | `&=`     | `obj &= x`  | Побітове *і* з присвоєнням результату `obj` |\n",
    "| `__or__()`     | `\\|`      | `obj \\| x`   | Побітове *або* між `obj` і `x` |\n",
    "| `__ror__()`    | `\\`      | `x \\| obj`   | Побітове *або* між `x` і `obj` |\n",
    "| `__ior__()`    | `\\|=`     | `obj \\|= x`  | Побітове *або* з присвоєнням результату `obj` |\n",
    "| `__xor__()`    | `^`      | `obj ^ x`   | Побітове *виключне або* між `obj` і `x` |\n",
    "| `__rxor__()`   | `^`      | `x ^ obj`   | Побітове *виключне або* між `x` і `obj` |\n",
    "| `__ixor__()`   | `^=`     | `obj ^= x`  | Побітове *виключне або* з присвоєнням результату |\n",
    "| `__lshift__()` | `<<`     | `obj << x`  | Зсув вліво: `obj` << `x` |\n",
    "| `__rlshift__()`| `<<`     | `x << obj`  | Зсув вліво: `x` << `obj` |\n",
    "| `__ilshift__()`| `<<=`    | `obj <<= x` | Зсув вліво з присвоєнням |\n",
    "| `__rshift__()` | `>>`     | `obj >> x`  | Зсув вправо: `obj` >> `x` |\n",
    "| `__rrshift__()`| `>>`     | `x >> obj`  | Зсув вправо: `x` >> `obj` |\n",
    "| `__irshift__()`| `>>=`    | `obj >>= x` | Зсув вправо з присвоєнням результату |\n"
   ],
   "id": "a24ee741a3d6524c"
  },
  {
   "metadata": {},
   "cell_type": "markdown",
   "source": [
    "Оператори порівняння що можна перевантажувати:\n",
    "| Метод           | Оператор | Приклад     | Опис |\n",
    "|:----------------|:---------|:------------|:-----|\n",
    "| `__eq__()`      | `==`     | `obj == x`  | Рівність екземпляра класу `obj` і операнда `x` |\n",
    "| `__ne__()`      | `!=`     | `obj != x`  | Нерівність екземпляра класу `obj` і операнда `x` |\n",
    "| `__lt__()`      | `<`      | `obj < x`   | `obj` менший від операнда `x` |\n",
    "| `__gt__()`      | `>`      | `obj > x`   | `obj` більший за операнд `x` |\n",
    "| `__le__()`      | `<=`     | `obj <= x`  | `obj` не більший за операнд `x` |\n",
    "| `__ge__()`      | `>=`     | `obj >= x`  | `obj` не менший від операнда `x` |\n",
    "| `__contains__()`| `in`     | `x in obj`  | Операнд `x` входить до екземпляра класу `obj` |\n"
   ],
   "id": "afc45a822afd49f9"
  },
  {
   "metadata": {
    "ExecuteTime": {
     "end_time": "2025-04-21T10:46:58.991127Z",
     "start_time": "2025-04-21T10:46:58.973189Z"
    }
   },
   "cell_type": "code",
   "source": [
    "from math import sqrt\n",
    "\n",
    "# Клас для реалізації вектора\n",
    "class Vector:\n",
    "    # Конструктор\n",
    "    def __init__(self, x=0, y=0, z=0):\n",
    "        self.x = x\n",
    "        self.y = y\n",
    "        self.z = z\n",
    "\n",
    "    # Представлення у текстовому вигляді\n",
    "    def __str__(self):\n",
    "        return f\"<{self.x} | {self.y} | {self.z}>\"\n",
    "\n",
    "    # Додавання векторів\n",
    "    def __add__(self, obj):\n",
    "        t = Vector()\n",
    "        t.x = self.x + obj.x\n",
    "        t.y = self.y + obj.y\n",
    "        t.z = self.z + obj.z\n",
    "        return t\n",
    "\n",
    "    # Додавання з присвоєнням\n",
    "    def __iadd__(self, obj):\n",
    "        self = self + obj\n",
    "        return self\n",
    "\n",
    "    # Множення векторів або на число\n",
    "    def __mul__(self, p):\n",
    "        if isinstance(p, Vector):\n",
    "            return self.x * p.x + self.y * p.y + self.z * p.z\n",
    "        else:\n",
    "            self.x *= p\n",
    "            self.y *= p\n",
    "            self.z *= p\n",
    "            return self\n",
    "\n",
    "    # Множення зліва (число * вектор)\n",
    "    def __rmul__(self, p):\n",
    "        return self * p\n",
    "\n",
    "    # Унарний мінус\n",
    "    def __neg__(self):\n",
    "        return Vector(-self.x, -self.y, -self.z)\n",
    "\n",
    "    # Віднімання векторів\n",
    "    def __sub__(self, obj):\n",
    "        return -obj + self\n",
    "\n",
    "    # Віднімання з присвоєнням\n",
    "    def __isub__(self, obj):\n",
    "        self = -obj + self\n",
    "        return self\n",
    "\n",
    "    # Модуль вектора\n",
    "    def __abs__(self):\n",
    "        return sqrt(self * self)\n",
    "\n",
    "    # Ділення на число\n",
    "    def __truediv__(self, p):\n",
    "        return self * (1 / p)\n",
    "\n",
    "    # Рівність векторів\n",
    "    def __eq__(self, obj):\n",
    "        return self.x == obj.x and self.y == obj.y and self.z == obj.z\n",
    "\n",
    "    # Нерівність векторів\n",
    "    def __ne__(self, obj):\n",
    "        return not self == obj\n",
    "\n",
    "    # Порівняння за модулем: <\n",
    "    def __lt__(self, obj):\n",
    "        return abs(self) < abs(obj)\n",
    "\n",
    "    # Порівняння за модулем: >\n",
    "    def __gt__(self, obj):\n",
    "        return abs(self) > abs(obj)\n",
    "\n",
    "    # Порівняння за модулем: <=\n",
    "    def __le__(self, obj):\n",
    "        return abs(self) <= abs(obj)\n",
    "\n",
    "    # Порівняння за модулем: >=\n",
    "    def __ge__(self, obj):\n",
    "        return abs(self) >= abs(obj)\n",
    "\n",
    "    # Побітова інверсія\n",
    "    def __invert__(self):\n",
    "        self.x = 10 - self.x\n",
    "        self.y = 10 - self.y\n",
    "        self.z = 10 - self.z\n",
    "        return self\n",
    "\n",
    "    # Зсув вліво (циклічний)\n",
    "    def __lshift__(self, n):\n",
    "        for _ in range(n):\n",
    "            self.x, self.y, self.z = self.y, self.z, self.x\n",
    "        return self\n",
    "\n",
    "    # Зсув вліво (екземпляр - другий операнд)\n",
    "    def __rlshift__(self, n):\n",
    "        return self >> n\n",
    "\n",
    "    # Зсув вправо (циклічний)\n",
    "    def __rshift__(self, n):\n",
    "        for _ in range(n):\n",
    "            self.x, self.y, self.z = self.z, self.x, self.y\n",
    "        return self\n",
    "\n",
    "    # Зсув вправо (екземпляр - другий операнд)\n",
    "    def __rrshift__(self, n):\n",
    "        return self << n\n",
    "\n",
    "\n",
    "# Приклади використання\n",
    "print(\"Вектори:\")\n",
    "a = Vector(1, 2, -1)\n",
    "b = Vector(1, -1, 3)\n",
    "c = ~Vector(9, 8, 11)\n",
    "\n",
    "print(\"a =\", a)\n",
    "print(\"b =\", b)\n",
    "print(\"c =\", c)\n",
    "\n",
    "# Модулі\n",
    "print(\"\\nМодулі векторів:\")\n",
    "print(\"|a| =\", abs(a))\n",
    "print(\"|b| =\", abs(b))\n",
    "print(\"|c| =\", abs(c))\n",
    "\n",
    "# Порівняння векторів\n",
    "print(\"\\nПорівняння векторів:\")\n",
    "print(\"a == b ->\", a == b)\n",
    "print(\"a != b ->\", a != b)\n",
    "print(\"a == c ->\", a == c)\n",
    "print(\"a < b ->\", a < b)\n",
    "print(\"a > b ->\", a > b)\n",
    "print(\"a <= c ->\", a <= c)\n",
    "print(\"a >= c ->\", a >= c)\n",
    "\n",
    "# Операції з векторами\n",
    "print(\"\\nСума векторів:\")\n",
    "print(\"a + b =\", a + b)\n",
    "c += a\n",
    "print(\"c += a ->\", c)\n",
    "\n",
    "print(\"\\nРізниця векторів:\")\n",
    "print(\"a - b =\", a - b)\n",
    "c -= a\n",
    "print(\"c -= a ->\", c)\n",
    "\n",
    "print(\"\\nДобуток векторів:\")\n",
    "print(\"a * b =\", a * b)\n",
    "\n",
    "print(\"\\nМноження і ділення вектора на число:\")\n",
    "print(\"a * 3 =\", a * 3)\n",
    "print(\"2 * b =\", 2 * b)\n",
    "print(\"-b =\", -b)\n",
    "print(\"a / 3 =\", a / 3)\n",
    "\n",
    "# Циклічні перестановки\n",
    "print(\"\\nЦиклічні перестановки:\")\n",
    "v = Vector(1, 2, 3)\n",
    "print(\"v =\", v)\n",
    "print(\"v << 1 =\", v << 1)\n",
    "print(\"v >> 1 =\", v >> 1)\n",
    "print(\"2 >> v =\", 2 >> v)\n",
    "print(\"2 << v =\", 2 << v)\n"
   ],
   "id": "54e58f0c6cba4f05",
   "outputs": [
    {
     "name": "stdout",
     "output_type": "stream",
     "text": [
      "Вектори:\n",
      "a = <1 | 2 | -1>\n",
      "b = <1 | -1 | 3>\n",
      "c = <1 | 2 | -1>\n",
      "\n",
      "Модулі векторів:\n",
      "|a| = 2.449489742783178\n",
      "|b| = 3.3166247903554\n",
      "|c| = 2.449489742783178\n",
      "\n",
      "Порівняння векторів:\n",
      "a == b -> False\n",
      "a != b -> True\n",
      "a == c -> True\n",
      "a < b -> True\n",
      "a > b -> False\n",
      "a <= c -> True\n",
      "a >= c -> True\n",
      "\n",
      "Сума векторів:\n",
      "a + b = <2 | 1 | 2>\n",
      "c += a -> <2 | 4 | -2>\n",
      "\n",
      "Різниця векторів:\n",
      "a - b = <0 | 3 | -4>\n",
      "c -= a -> <1 | 2 | -1>\n",
      "\n",
      "Добуток векторів:\n",
      "a * b = -4\n",
      "\n",
      "Множення і ділення вектора на число:\n",
      "a * 3 = <3 | 6 | -3>\n",
      "2 * b = <2 | -2 | 6>\n",
      "-b = <-2 | 2 | -6>\n",
      "a / 3 = <1.0 | 2.0 | -1.0>\n",
      "\n",
      "Циклічні перестановки:\n",
      "v = <1 | 2 | 3>\n",
      "v << 1 = <2 | 3 | 1>\n",
      "v >> 1 = <1 | 2 | 3>\n",
      "2 >> v = <3 | 1 | 2>\n",
      "2 << v = <1 | 2 | 3>\n"
     ]
    }
   ],
   "execution_count": 2
  }
 ],
 "metadata": {
  "kernelspec": {
   "display_name": "Python 3",
   "language": "python",
   "name": "python3"
  },
  "language_info": {
   "codemirror_mode": {
    "name": "ipython",
    "version": 2
   },
   "file_extension": ".py",
   "mimetype": "text/x-python",
   "name": "python",
   "nbconvert_exporter": "python",
   "pygments_lexer": "ipython2",
   "version": "2.7.6"
  }
 },
 "nbformat": 4,
 "nbformat_minor": 5
}
