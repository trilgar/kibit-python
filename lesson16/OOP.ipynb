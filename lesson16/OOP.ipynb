{
 "cells": [
  {
   "metadata": {},
   "cell_type": "markdown",
   "source": [
    "🧾 Синтаксис опису класу в Python\n",
    "\n",
    "    Клас описується за допомогою ключового слова class.\n",
    "\n",
    "    Після імені класу ставиться двокрапка :.\n",
    "\n",
    "    Тіло класу повинно містити відступи (рекомендовано — 4 пробіли).\n",
    "\n",
    "    У тілі класу зазвичай описують методи.\n",
    "\n",
    "```python\n",
    "class ClassName:\n",
    "    # Тіло класу\n",
    "    pass\n",
    "```"
   ],
   "id": "203c781d76531ac0"
  },
  {
   "metadata": {},
   "cell_type": "code",
   "outputs": [],
   "execution_count": null,
   "source": [
    "class Kitten:\n",
    "    pass"
   ],
   "id": "fa04614539b9e3fe"
  },
  {
   "metadata": {},
   "cell_type": "markdown",
   "source": [
    "🔄 Методи класу та аргумент self\n",
    "\n",
    "    Метод класу — це функція, визначена всередині класу.\n",
    "\n",
    "    Перший аргумент методу завжди — self.\n",
    "\n",
    "    self — це посилання на екземпляр класу, з якого викликається метод.\n",
    "\n",
    "    При виклику методу self не передається явно — Python робить це автоматично.\n",
    "\n",
    "📘 Правило “мінус один аргумент”:\n",
    "\n",
    "    При виклику методу з екземпляра, фактичних аргументів на один менше, ніж формальних у визначенні методу."
   ],
   "id": "d2b9bdf1c7b96dbf"
  },
  {
   "metadata": {
    "ExecuteTime": {
     "end_time": "2025-03-27T17:03:56.977464Z",
     "start_time": "2025-03-27T17:03:56.975714Z"
    }
   },
   "cell_type": "code",
   "source": [
    "class MyClass:\n",
    "    def say_hello(self):\n",
    "        print(\"Вас вітає екземпляр класу!\")"
   ],
   "id": "d6428fc78f5553cc",
   "outputs": [],
   "execution_count": 2
  },
  {
   "metadata": {},
   "cell_type": "code",
   "outputs": [],
   "execution_count": null,
   "source": "",
   "id": "908046a8490c0683"
  },
  {
   "metadata": {},
   "cell_type": "markdown",
   "source": [
    "🛠️ Створення екземпляра класу та виклик методу\n",
    "\n",
    "    Екземпляр класу створюється викликом класу як функції: екземпляр = Клас().\n",
    "\n",
    "    Метод викликається через крапковий синтаксис: екземпляр.метод().\n",
    "\n",
    "    Після створення — можна працювати з методами та полями."
   ],
   "id": "3f46f5f73854ddf0"
  },
  {
   "metadata": {
    "ExecuteTime": {
     "end_time": "2025-03-27T17:04:18.356651Z",
     "start_time": "2025-03-27T17:04:18.354296Z"
    }
   },
   "cell_type": "code",
   "source": [
    "obj = MyClass()  # Створення екземпляра\n",
    "obj.say_hello()  # Виклик методу\n"
   ],
   "id": "3914c23d110d28cc",
   "outputs": [
    {
     "name": "stdout",
     "output_type": "stream",
     "text": [
      "Вас вітає екземпляр класу!\n"
     ]
    }
   ],
   "execution_count": 3
  },
  {
   "metadata": {},
   "cell_type": "markdown",
   "source": [
    "🧮 Поля екземпляра класу\n",
    "\n",
    "    Поле — це змінна, \"прив’язана\" до конкретного екземпляра.\n",
    "\n",
    "    Поле створюється шляхом присвоювання в методі: self.ім’я_поля = значення.\n",
    "\n",
    "    Методи класу можуть зчитувати або змінювати поля.\n",
    "\n",
    "📘 Усі поля й методи екземпляра називаються атрибутами."
   ],
   "id": "f4d4716737f18dee"
  },
  {
   "metadata": {
    "ExecuteTime": {
     "end_time": "2025-03-27T17:15:36.364384Z",
     "start_time": "2025-03-27T17:15:36.358771Z"
    }
   },
   "cell_type": "code",
   "source": [
    "class MyClass:\n",
    "    def set(self, n):\n",
    "        print(\"Увага! Присвоюється значення!\")\n",
    "        self.number = n\n",
    "\n",
    "    def get(self):\n",
    "        print(\"Значення поля:\", self.number)\n",
    "\n",
    "\n",
    "obj = MyClass()\n",
    "obj.set(100)\n",
    "obj.get()"
   ],
   "id": "3cf3bbfbf766ae3d",
   "outputs": [
    {
     "name": "stdout",
     "output_type": "stream",
     "text": [
      "Увага! Присвоюється значення!\n",
      "Значення поля: 100\n"
     ]
    }
   ],
   "execution_count": 4
  },
  {
   "metadata": {},
   "cell_type": "markdown",
   "source": [
    "✍️ Створення поля напряму через екземпляр\n",
    "\n",
    "    У Python можна додавати поле до екземпляра без опису в класі.\n",
    "\n",
    "    Просто звертаємось до атрибута й присвоюємо значення: екземпляр.поле = значення.\n",
    "\n",
    "    Клас при цьому може бути повністю порожнім.\n",
    "\n",
    "\n",
    "⚠️ У Python різні екземпляри одного класу можуть мати різні поля — це не характерно для мов типу C++, Java, C#."
   ],
   "id": "f2ee60e8965962a9"
  },
  {
   "metadata": {
    "ExecuteTime": {
     "end_time": "2025-03-27T17:20:18.383839Z",
     "start_time": "2025-03-27T17:20:18.379001Z"
    }
   },
   "cell_type": "code",
   "source": [
    "class MyClass:\n",
    "    pass\n",
    "\n",
    "\n",
    "obj = MyClass()\n",
    "obj.number = 100\n",
    "print(\"Значення поля:\", obj.number)\n"
   ],
   "id": "191c066ce3d4b36f",
   "outputs": [
    {
     "name": "stdout",
     "output_type": "stream",
     "text": [
      "Значення поля: 100\n"
     ]
    }
   ],
   "execution_count": 6
  },
  {
   "metadata": {
    "ExecuteTime": {
     "end_time": "2025-03-27T17:21:59.406476Z",
     "start_time": "2025-03-27T17:21:59.401876Z"
    }
   },
   "cell_type": "code",
   "source": [
    "obj1 = MyClass()\n",
    "obj1.number = 100\n",
    "\n",
    "obj2 = MyClass()\n",
    "obj2.some_other_value = \"Hello\"\n",
    "\n",
    "print(\"Значення поля обʼєкту 1: \", obj1.number)\n",
    "print(\"Значення поля обʼєкту 2: \", obj2.some_other_value)"
   ],
   "id": "b5935f2d2df5634e",
   "outputs": [
    {
     "name": "stdout",
     "output_type": "stream",
     "text": [
      "Значення поля обʼєкту 1:  100\n",
      "Значення поля обʼєкту 2:  Hello\n"
     ]
    }
   ],
   "execution_count": 7
  },
  {
   "metadata": {},
   "cell_type": "markdown",
   "source": [
    "🧷 Конструктор у Python: метод __init__()\n",
    "\n",
    "    Конструктор — спеціальний метод, який автоматично викликається під час створення екземпляра класу.\n",
    "\n",
    "    У Python конструктором є метод із назвою __init__() (із подвійними підкресленнями).\n",
    "\n",
    "    Перший аргумент конструктора — завжди self.\n",
    "\n",
    "📘 Призначення конструктора:\n",
    "\n",
    "    Ініціалізація (задання початкових значень) полів екземпляра.\n",
    "\n",
    "    Виконання додаткових дій при створенні об’єкта."
   ],
   "id": "e8df265bac418edf"
  },
  {
   "metadata": {
    "ExecuteTime": {
     "end_time": "2025-03-27T18:18:33.891141Z",
     "start_time": "2025-03-27T18:18:33.888855Z"
    }
   },
   "cell_type": "code",
   "source": [
    "class MyClass:\n",
    "def __init__(self):\n",
    "# дії при створенні екземпляра\n",
    "pass\n"
   ],
   "id": "4a45573c3ce36419",
   "outputs": [],
   "execution_count": 9
  },
  {
   "metadata": {
    "ExecuteTime": {
     "end_time": "2025-03-27T18:19:41.708322Z",
     "start_time": "2025-03-27T18:19:41.705459Z"
    }
   },
   "cell_type": "code",
   "source": [
    "# Створюємо клас\n",
    "class MyClass:\n",
    "    # Конструктор\n",
    "    def __init__(self):\n",
    "        # Присвоюється значення полю\n",
    "        self.number = 0\n",
    "        # Відображується повідомлення\n",
    "        print(\"Створено екземпляр класу!\")\n",
    "        # Створюється екземпляр класу\n"
   ],
   "id": "a8b1af3a16510a3b",
   "outputs": [],
   "execution_count": 12
  },
  {
   "metadata": {
    "ExecuteTime": {
     "end_time": "2025-03-27T18:19:43.011217Z",
     "start_time": "2025-03-27T18:19:43.008621Z"
    }
   },
   "cell_type": "code",
   "source": [
    "obj=MyClass()\n",
    "# Перевіряємо значення поля екземпляра класу\n",
    "print(\"Значення поля:\", obj.number)"
   ],
   "id": "938b4526d2e8dbd8",
   "outputs": [
    {
     "name": "stdout",
     "output_type": "stream",
     "text": [
      "Створено екземпляр класу!\n",
      "Значення поля: 0\n"
     ]
    }
   ],
   "execution_count": 13
  },
  {
   "metadata": {},
   "cell_type": "markdown",
   "source": [
    "⚙️ Конструктор з аргументами (і значенням за замовчуванням)\n",
    "\n",
    "    Конструктор може мати декілька аргументів.\n",
    "\n",
    "    Аргументи передаються в дужках під час створення екземпляра.\n",
    "\n",
    "    Можна вказати значення за замовчуванням.\n"
   ],
   "id": "b84cb73999bb797c"
  },
  {
   "metadata": {
    "ExecuteTime": {
     "end_time": "2025-03-27T18:23:03.744483Z",
     "start_time": "2025-03-27T18:23:03.736972Z"
    }
   },
   "cell_type": "code",
   "source": [
    "class MyClass:\n",
    "    def set(self, n):\n",
    "        self.num = n\n",
    "\n",
    "    def get(self):\n",
    "        print(\"Значення поля:\", self.num)\n",
    "\n",
    "    def __init__(self, n=0):\n",
    "        self.set(n)\n",
    "        print(\"Створено екземпляр класу.\")\n",
    "        self.get()\n",
    "\n",
    "a = MyClass()        # Використано значення за замовчуванням\n",
    "b = MyClass(100)     # Передано аргумент 100\n"
   ],
   "id": "25359a2998c06813",
   "outputs": [
    {
     "name": "stdout",
     "output_type": "stream",
     "text": [
      "Створено екземпляр класу.\n",
      "Значення поля: 0\n",
      "Створено екземпляр класу.\n",
      "Значення поля: 100\n"
     ]
    }
   ],
   "execution_count": 14
  },
  {
   "metadata": {},
   "cell_type": "markdown",
   "source": [
    "🗑️ Деструктор: метод __del__()\n",
    "\n",
    "    Деструктор — спеціальний метод, який викликається при видаленні екземпляра класу з пам’яті.\n",
    "\n",
    "    У Python деструктором є метод __del__().\n",
    "\n",
    "    Має лише один аргумент — self.\n",
    "\n",
    "⚠️ Застереження:\n",
    "\n",
    "    Видалення об’єктів у Python виконується автоматично (збирання сміття).\n",
    "\n",
    "    Неможливо точно сказати, коли об’єкт буде знищено."
   ],
   "id": "3056c7095ac69bd2"
  },
  {
   "metadata": {
    "ExecuteTime": {
     "end_time": "2025-03-27T18:29:55.486218Z",
     "start_time": "2025-03-27T18:29:55.481585Z"
    }
   },
   "cell_type": "code",
   "source": [
    "class MyClass:\n",
    "    def __init__(self):\n",
    "        print(\"Вітаю!\")\n",
    "\n",
    "    def __del__(self):\n",
    "        print(\"Бувайте!\")\n",
    "\n",
    "print(\"Перевіряємо роботу деструктора.\")\n",
    "obj = MyClass()\n",
    "print(\"Екземпляр створено. Видаляємо його.\")\n",
    "del obj\n",
    "print(\"Виконання програми завершено.\")\n"
   ],
   "id": "1531bb7c0f511c41",
   "outputs": [
    {
     "name": "stdout",
     "output_type": "stream",
     "text": [
      "Перевіряємо роботу деструктора.\n",
      "Вітаю!\n",
      "Екземпляр створено. Видаляємо його.\n",
      "Бувайте!\n",
      "Виконання програми завершено.\n"
     ]
    }
   ],
   "execution_count": 15
  }
 ],
 "metadata": {
  "kernelspec": {
   "display_name": "Python 3",
   "language": "python",
   "name": "python3"
  },
  "language_info": {
   "codemirror_mode": {
    "name": "ipython",
    "version": 2
   },
   "file_extension": ".py",
   "mimetype": "text/x-python",
   "name": "python",
   "nbconvert_exporter": "python",
   "pygments_lexer": "ipython2",
   "version": "2.7.6"
  }
 },
 "nbformat": 4,
 "nbformat_minor": 5
}
