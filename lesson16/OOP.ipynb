{
 "cells": [
  {
   "metadata": {},
   "cell_type": "markdown",
   "source": [
    "🧾 Синтаксис опису класу в Python\n",
    "\n",
    "    Клас описується за допомогою ключового слова class.\n",
    "\n",
    "    Після імені класу ставиться двокрапка :.\n",
    "\n",
    "    Тіло класу повинно містити відступи (рекомендовано — 4 пробіли).\n",
    "\n",
    "    У тілі класу зазвичай описують методи.\n",
    "\n",
    "```python\n",
    "class ClassName:\n",
    "    # Тіло класу\n",
    "    pass\n",
    "```"
   ],
   "id": "203c781d76531ac0"
  },
  {
   "metadata": {},
   "cell_type": "code",
   "outputs": [],
   "execution_count": null,
   "source": [
    "class Kitten:\n",
    "    pass"
   ],
   "id": "fa04614539b9e3fe"
  },
  {
   "metadata": {},
   "cell_type": "markdown",
   "source": [
    "🔄 Методи класу та аргумент self\n",
    "\n",
    "    Метод класу — це функція, визначена всередині класу.\n",
    "\n",
    "    Перший аргумент методу завжди — self.\n",
    "\n",
    "    self — це посилання на екземпляр класу, з якого викликається метод.\n",
    "\n",
    "    При виклику методу self не передається явно — Python робить це автоматично.\n",
    "\n",
    "📘 Правило “мінус один аргумент”:\n",
    "\n",
    "    При виклику методу з екземпляра, фактичних аргументів на один менше, ніж формальних у визначенні методу."
   ],
   "id": "d2b9bdf1c7b96dbf"
  },
  {
   "metadata": {
    "ExecuteTime": {
     "end_time": "2025-03-27T17:03:56.977464Z",
     "start_time": "2025-03-27T17:03:56.975714Z"
    }
   },
   "cell_type": "code",
   "source": [
    "class MyClass:\n",
    "    def say_hello(self):\n",
    "        print(\"Вас вітає екземпляр класу!\")"
   ],
   "id": "d6428fc78f5553cc",
   "outputs": [],
   "execution_count": 2
  },
  {
   "metadata": {},
   "cell_type": "code",
   "outputs": [],
   "execution_count": null,
   "source": "",
   "id": "908046a8490c0683"
  },
  {
   "metadata": {},
   "cell_type": "markdown",
   "source": [
    "🛠️ Створення екземпляра класу та виклик методу\n",
    "\n",
    "    Екземпляр класу створюється викликом класу як функції: екземпляр = Клас().\n",
    "\n",
    "    Метод викликається через крапковий синтаксис: екземпляр.метод().\n",
    "\n",
    "    Після створення — можна працювати з методами та полями."
   ],
   "id": "3f46f5f73854ddf0"
  },
  {
   "metadata": {
    "ExecuteTime": {
     "end_time": "2025-03-27T17:04:18.356651Z",
     "start_time": "2025-03-27T17:04:18.354296Z"
    }
   },
   "cell_type": "code",
   "source": [
    "obj = MyClass()  # Створення екземпляра\n",
    "obj.say_hello()  # Виклик методу\n"
   ],
   "id": "3914c23d110d28cc",
   "outputs": [
    {
     "name": "stdout",
     "output_type": "stream",
     "text": [
      "Вас вітає екземпляр класу!\n"
     ]
    }
   ],
   "execution_count": 3
  },
  {
   "metadata": {},
   "cell_type": "markdown",
   "source": [
    "🧮 Поля екземпляра класу\n",
    "\n",
    "    Поле — це змінна, \"прив’язана\" до конкретного екземпляра.\n",
    "\n",
    "    Поле створюється шляхом присвоювання в методі: self.ім’я_поля = значення.\n",
    "\n",
    "    Методи класу можуть зчитувати або змінювати поля.\n",
    "\n",
    "📘 Усі поля й методи екземпляра називаються атрибутами."
   ],
   "id": "f4d4716737f18dee"
  },
  {
   "metadata": {
    "ExecuteTime": {
     "end_time": "2025-03-27T17:15:36.364384Z",
     "start_time": "2025-03-27T17:15:36.358771Z"
    }
   },
   "cell_type": "code",
   "source": [
    "class MyClass:\n",
    "    def set(self, n):\n",
    "        print(\"Увага! Присвоюється значення!\")\n",
    "        self.number = n\n",
    "\n",
    "    def get(self):\n",
    "        print(\"Значення поля:\", self.number)\n",
    "\n",
    "\n",
    "obj = MyClass()\n",
    "obj.set(100)\n",
    "obj.get()"
   ],
   "id": "3cf3bbfbf766ae3d",
   "outputs": [
    {
     "name": "stdout",
     "output_type": "stream",
     "text": [
      "Увага! Присвоюється значення!\n",
      "Значення поля: 100\n"
     ]
    }
   ],
   "execution_count": 4
  },
  {
   "metadata": {},
   "cell_type": "markdown",
   "source": [
    "✍️ Створення поля напряму через екземпляр\n",
    "\n",
    "    У Python можна додавати поле до екземпляра без опису в класі.\n",
    "\n",
    "    Просто звертаємось до атрибута й присвоюємо значення: екземпляр.поле = значення.\n",
    "\n",
    "    Клас при цьому може бути повністю порожнім.\n",
    "\n",
    "\n",
    "⚠️ У Python різні екземпляри одного класу можуть мати різні поля — це не характерно для мов типу C++, Java, C#."
   ],
   "id": "f2ee60e8965962a9"
  },
  {
   "metadata": {
    "ExecuteTime": {
     "end_time": "2025-03-27T17:20:18.383839Z",
     "start_time": "2025-03-27T17:20:18.379001Z"
    }
   },
   "cell_type": "code",
   "source": [
    "class MyClass:\n",
    "    pass\n",
    "\n",
    "\n",
    "obj = MyClass()\n",
    "obj.number = 100\n",
    "print(\"Значення поля:\", obj.number)\n"
   ],
   "id": "191c066ce3d4b36f",
   "outputs": [
    {
     "name": "stdout",
     "output_type": "stream",
     "text": [
      "Значення поля: 100\n"
     ]
    }
   ],
   "execution_count": 6
  },
  {
   "metadata": {
    "ExecuteTime": {
     "end_time": "2025-03-27T17:21:59.406476Z",
     "start_time": "2025-03-27T17:21:59.401876Z"
    }
   },
   "cell_type": "code",
   "source": [
    "obj1 = MyClass()\n",
    "obj1.number = 100\n",
    "\n",
    "obj2 = MyClass()\n",
    "obj2.some_other_value = \"Hello\"\n",
    "\n",
    "print(\"Значення поля обʼєкту 1: \", obj1.number)\n",
    "print(\"Значення поля обʼєкту 2: \", obj2.some_other_value)"
   ],
   "id": "b5935f2d2df5634e",
   "outputs": [
    {
     "name": "stdout",
     "output_type": "stream",
     "text": [
      "Значення поля обʼєкту 1:  100\n",
      "Значення поля обʼєкту 2:  Hello\n"
     ]
    }
   ],
   "execution_count": 7
  },
  {
   "metadata": {},
   "cell_type": "markdown",
   "source": [
    "🧷 Конструктор у Python: метод __init__()\n",
    "\n",
    "    Конструктор — спеціальний метод, який автоматично викликається під час створення екземпляра класу.\n",
    "\n",
    "    У Python конструктором є метод із назвою __init__() (із подвійними підкресленнями).\n",
    "\n",
    "    Перший аргумент конструктора — завжди self.\n",
    "\n",
    "📘 Призначення конструктора:\n",
    "\n",
    "    Ініціалізація (задання початкових значень) полів екземпляра.\n",
    "\n",
    "    Виконання додаткових дій при створенні об’єкта."
   ],
   "id": "e8df265bac418edf"
  },
  {
   "metadata": {
    "ExecuteTime": {
     "end_time": "2025-03-27T18:18:33.891141Z",
     "start_time": "2025-03-27T18:18:33.888855Z"
    }
   },
   "cell_type": "code",
   "source": [
    "class MyClass:\n",
    "\n",
    "    def __init__(self):\n",
    "        print(\"Створено екземпляр класу!\")\n",
    "\n",
    "# дії при створенні екземпляра\n",
    "pass\n"
   ],
   "id": "4a45573c3ce36419",
   "outputs": [],
   "execution_count": 9
  },
  {
   "metadata": {
    "ExecuteTime": {
     "end_time": "2025-03-27T18:19:41.708322Z",
     "start_time": "2025-03-27T18:19:41.705459Z"
    }
   },
   "cell_type": "code",
   "source": [
    "# Створюємо клас\n",
    "class MyClass:\n",
    "    # Конструктор\n",
    "    def __init__(self):\n",
    "        # Присвоюється значення полю\n",
    "        self.number = 0\n",
    "        # Відображується повідомлення\n",
    "        print(\"Створено екземпляр класу!\")\n",
    "        # Створюється екземпляр класу\n"
   ],
   "id": "a8b1af3a16510a3b",
   "outputs": [],
   "execution_count": 12
  },
  {
   "metadata": {
    "ExecuteTime": {
     "end_time": "2025-03-27T18:19:43.011217Z",
     "start_time": "2025-03-27T18:19:43.008621Z"
    }
   },
   "cell_type": "code",
   "source": [
    "obj = MyClass()\n",
    "# Перевіряємо значення поля екземпляра класу\n",
    "print(\"Значення поля:\", obj.number)"
   ],
   "id": "938b4526d2e8dbd8",
   "outputs": [
    {
     "name": "stdout",
     "output_type": "stream",
     "text": [
      "Створено екземпляр класу!\n",
      "Значення поля: 0\n"
     ]
    }
   ],
   "execution_count": 13
  },
  {
   "metadata": {},
   "cell_type": "markdown",
   "source": [
    "⚙️ Конструктор з аргументами (і значенням за замовчуванням)\n",
    "\n",
    "    Конструктор може мати декілька аргументів.\n",
    "\n",
    "    Аргументи передаються в дужках під час створення екземпляра.\n",
    "\n",
    "    Можна вказати значення за замовчуванням.\n"
   ],
   "id": "b84cb73999bb797c"
  },
  {
   "metadata": {
    "ExecuteTime": {
     "end_time": "2025-03-27T18:23:03.744483Z",
     "start_time": "2025-03-27T18:23:03.736972Z"
    }
   },
   "cell_type": "code",
   "source": [
    "class MyClass:\n",
    "    def set(self, n):\n",
    "        self.num = n\n",
    "\n",
    "    def get(self):\n",
    "        print(\"Значення поля:\", self.num)\n",
    "\n",
    "    def __init__(self, n=0):\n",
    "        self.set(n)\n",
    "        print(\"Створено екземпляр класу.\")\n",
    "        self.get()\n",
    "\n",
    "\n",
    "a = MyClass()  # Використано значення за замовчуванням\n",
    "b = MyClass(100)  # Передано аргумент 100\n"
   ],
   "id": "25359a2998c06813",
   "outputs": [
    {
     "name": "stdout",
     "output_type": "stream",
     "text": [
      "Створено екземпляр класу.\n",
      "Значення поля: 0\n",
      "Створено екземпляр класу.\n",
      "Значення поля: 100\n"
     ]
    }
   ],
   "execution_count": 14
  },
  {
   "metadata": {},
   "cell_type": "markdown",
   "source": [
    "🗑️ Деструктор: метод __del__()\n",
    "\n",
    "    Деструктор — спеціальний метод, який викликається при видаленні екземпляра класу з пам’яті.\n",
    "\n",
    "    У Python деструктором є метод __del__().\n",
    "\n",
    "    Має лише один аргумент — self.\n",
    "\n",
    "⚠️ Застереження:\n",
    "\n",
    "    Видалення об’єктів у Python виконується автоматично (збирання сміття).\n",
    "\n",
    "    Неможливо точно сказати, коли об’єкт буде знищено."
   ],
   "id": "3056c7095ac69bd2"
  },
  {
   "metadata": {
    "ExecuteTime": {
     "end_time": "2025-03-27T18:29:55.486218Z",
     "start_time": "2025-03-27T18:29:55.481585Z"
    }
   },
   "cell_type": "code",
   "source": [
    "class MyClass:\n",
    "    def __init__(self):\n",
    "        print(\"Вітаю!\")\n",
    "\n",
    "    def __del__(self):\n",
    "        print(\"Бувайте!\")\n",
    "\n",
    "\n",
    "print(\"Перевіряємо роботу деструктора.\")\n",
    "obj = MyClass()\n",
    "print(\"Екземпляр створено. Видаляємо його.\")\n",
    "del obj\n",
    "print(\"Виконання програми завершено.\")\n"
   ],
   "id": "1531bb7c0f511c41",
   "outputs": [
    {
     "name": "stdout",
     "output_type": "stream",
     "text": [
      "Перевіряємо роботу деструктора.\n",
      "Вітаю!\n",
      "Екземпляр створено. Видаляємо його.\n",
      "Бувайте!\n",
      "Виконання програми завершено.\n"
     ]
    }
   ],
   "execution_count": 15
  },
  {
   "metadata": {},
   "cell_type": "markdown",
   "source": [
    "🧪 Приклад поля об’єкта класу\n",
    "\n",
    "    Поле класу створюється напряму в тілі класу, поза методами.\n",
    "\n",
    "    До поля звертаються через ім’я класу або через екземпляр."
   ],
   "id": "2244b92d0ddc30e9"
  },
  {
   "metadata": {
    "ExecuteTime": {
     "end_time": "2025-04-05T09:36:13.694607Z",
     "start_time": "2025-04-05T09:36:13.689619Z"
    }
   },
   "cell_type": "code",
   "source": [
    "\n",
    "\n",
    "# Створюємо клас\n",
    "class MyClass:\n",
    "    # Поле класу\n",
    "    name = \"Клас MyClass\"\n",
    "\n",
    "    # Метод для присвоювання значення\n",
    "    # полю екземпляра класу\n",
    "    def set(self, n):\n",
    "        self.nickname = n\n",
    "\n",
    "    # Метод для відображення значення\n",
    "    # поля екземпляра класу\n",
    "    def get(self):\n",
    "        print(\"Значення поля: \", self.nickname)\n",
    "\n",
    "    # Конструктор\n",
    "    def __init__(self, n):\n",
    "        # Полю екземпляра класу\n",
    "        # присвоюється значення\n",
    "        self.set(n)\n",
    "        # Відображується повідомлення\n",
    "        print(\"Створено екземпляр класу.\")\n",
    "        # Відображується значення поля екземпляра\n",
    "        self.get()\n",
    "\n",
    "\n",
    "# Створюється перший екземпляр класу\n",
    "green = MyClass(\"Зелений\")\n",
    "# Звертання до поля класу через екземпляр класу\n",
    "\n",
    "print(\"Належність:\", green.name)\n",
    "# Створюється другий екземпляр класу\n",
    "red = MyClass(\"Червоний\")\n",
    "# Звертання до поля класу через екземпляр класу\n",
    "print(\"Належність:\", red.name)\n",
    "# Полю класу присвоюється значення\n",
    "MyClass.name = \"Тут могла бути Ваша реклама!\"\n",
    "# Звертання до поля класу через екземпляр класу\n",
    "print(\"Запитує Червоний:\", red.name)\n",
    "# Звертання до поля класу через екземпляр класу\n",
    "print(\"Запитує Зелений:\", green.name)"
   ],
   "id": "ba229c9335fa00d6",
   "outputs": [
    {
     "name": "stdout",
     "output_type": "stream",
     "text": [
      "Створено екземпляр класу.\n",
      "Значення поля:  Зелений\n",
      "Належність: Клас MyClass\n",
      "Створено екземпляр класу.\n",
      "Значення поля:  Червоний\n",
      "Належність: Клас MyClass\n",
      "Запитує Червоний: Тут могла бути Ваша реклама!\n",
      "Запитує Зелений: Тут могла бути Ваша реклама!\n"
     ]
    }
   ],
   "execution_count": 2
  },
  {
   "metadata": {},
   "cell_type": "markdown",
   "source": [
    "Зміна поля класу через екземпляр\n",
    "\n",
    "    Якщо через екземпляр присвоїти значення полю класу, створюється нове поле в екземпляра, яке перекриває поле класу.\n",
    "\n",
    "    Це не змінює поле в самому класі."
   ],
   "id": "cfb8ec3ef6f15434"
  },
  {
   "metadata": {
    "ExecuteTime": {
     "end_time": "2025-04-05T09:42:51.417534Z",
     "start_time": "2025-04-05T09:42:51.411716Z"
    }
   },
   "cell_type": "code",
   "source": [
    "# Створюємо клас\n",
    "class MyClass:\n",
    "    # Поле name класу\n",
    "    name = \"Клас MyClass\"\n",
    "\n",
    "    # Метод для присвоювання значення\n",
    "    # полю nickname екземпляра класу\n",
    "    def set(self, n):\n",
    "        self.nickname = n\n",
    "\n",
    "    # Метод для відображення значення\n",
    "    # поля nickname екземпляра класу\n",
    "    def get(self):\n",
    "        print(\"Значення поля:\", self.nickname)\n",
    "\n",
    "    # Конструктор\n",
    "    def __init__(self, n):\n",
    "        # Присвоюється значення полю\n",
    "        # nickname екземпляра класу\n",
    "        self.set(n)\n",
    "        # Відображується повідомлення\n",
    "        print(\"Створено екземпляр класу.\")\n",
    "        # Відображується значення поля\n",
    "        # nickname екземпляра класу\n",
    "        self.get()\n",
    "\n",
    "\n",
    "# Перший екземпляр (змінна green)\n",
    "green = MyClass(\"Зелений\")\n",
    "\n",
    "# Перевіряємо значення поля name\n",
    "# через екземпляр green\n",
    "print(\"Належність:\", green.name)\n",
    "\n",
    "# Другий екземпляр (змінна red)\n",
    "red = MyClass(\"Червоний\")\n",
    "\n",
    "# Перевіряємо значення поля name\n",
    "# через екземпляр red\n",
    "print(\"Належність:\", red.name)\n",
    "\n",
    "# Змінюємо значення поля name\n",
    "# через екземпляр green\n",
    "green.name = \"Тут був Зелений\"\n",
    "\n",
    "# Перевіряємо значення поля name\n",
    "# через екземпляр red\n",
    "print(\"Запитує Червоний:\", red.name)\n",
    "\n",
    "# Перевіряємо значення поля name\n",
    "# через екземпляр green\n",
    "print(\"Запитує Зелений:\", green.name)\n",
    "\n",
    "# Змінюємо значення поля name\n",
    "# через об’єкт класу MyClass\n",
    "MyClass.name = \"Тут могла бути Ваша реклама!\"\n",
    "\n",
    "# Перевіряємо значення поля name\n",
    "# через екземпляр red\n",
    "print(\"Запитує Червоний:\", red.name)\n",
    "\n",
    "# Перевіряємо значення поля name\n",
    "# через екземпляр green\n",
    "print(\"Запитує Зелений:\", green.name)\n",
    "\n",
    "# Видаляємо поле name екземпляра green\n",
    "del green.name\n",
    "\n",
    "# Перевіряємо значення поля name\n",
    "# через екземпляр green\n",
    "print(\"Запитує Зелений:\", green.name)\n"
   ],
   "id": "b258e43e1a82f003",
   "outputs": [
    {
     "name": "stdout",
     "output_type": "stream",
     "text": [
      "Створено екземпляр класу.\n",
      "Значення поля: Зелений\n",
      "Належність: Клас MyClass\n",
      "Створено екземпляр класу.\n",
      "Значення поля: Червоний\n",
      "Належність: Клас MyClass\n",
      "Запитує Червоний: Клас MyClass\n",
      "Запитує Зелений: Тут був Зелений\n",
      "Запитує Червоний: Тут могла бути Ваша реклама!\n",
      "Запитує Зелений: Тут був Зелений\n",
      "Запитує Зелений: Тут могла бути Ваша реклама!\n"
     ]
    }
   ],
   "execution_count": 3
  },
  {
   "metadata": {},
   "cell_type": "markdown",
   "source": [
    "🧩 Додавання й видалення полів у Python\n",
    "\n",
    "    У Python можна динамічно додавати й видаляти поля:\n",
    "\n",
    "        як у екземпляра класу,\n",
    "\n",
    "        так і в об’єкта класу (тобто самого класу).\n",
    "\n",
    "    Додавання: просто присвоюємо значення — поле створюється.\n",
    "\n",
    "    Видалення: використовуємо del і «крапковий» синтаксис.\n",
    "\n",
    "📘 Синтаксис:\n",
    "\n",
    "| Синтаксис               | Дія                          | Об'єкт дії       |\n",
    "|-------------------------|------------------------------|------------------|\n",
    "| `a.field = value`       | Додати поле до екземпляра    | Екземпляр        |\n",
    "| `MyClass.field = value` | Додати поле до класу         | Клас             |\n",
    "| `del a.field`           | Видалити поле з екземпляра   | Екземпляр        |\n",
    "| `del MyClass.field`     | Видалити поле з класу        | Клас             |\n",
    "\n"
   ],
   "id": "68a1cad2b73a23d5"
  },
  {
   "metadata": {
    "ExecuteTime": {
     "end_time": "2025-04-05T10:04:14.350019Z",
     "start_time": "2025-04-05T10:04:14.344945Z"
    }
   },
   "cell_type": "code",
   "source": [
    "# Створюємо клас\n",
    "class MyClass:\n",
    "    pass\n",
    "\n",
    "# Створюємо екземпляр A\n",
    "a = MyClass()\n",
    "\n",
    "# Створюємо екземпляр B\n",
    "b = MyClass()\n",
    "\n",
    "# Екземпляру A додаємо поле first\n",
    "a.first = \"Екземпляр А\"\n",
    "\n",
    "# Екземпляру B додаємо поле second\n",
    "b.second = \"Екземпляр B\"\n",
    "\n",
    "# Класу MyClass додаємо поле total\n",
    "MyClass.total = \"Клас MyClass\"\n",
    "\n",
    "# Перевіряємо доступ до полів total і first через посилання на екземпляр A\n",
    "print(a.total, \"->\", a.first)\n",
    "\n",
    "# Перевіряємо доступ до поля second через посилання на екземпляр A\n",
    "try:\n",
    "    # Якщо поле second є\n",
    "    print(a.second)\n",
    "except AttributeError:\n",
    "    # Якщо такого поля немає\n",
    "    print(\"Такого поля в екземпляра А немає!\")\n",
    "\n",
    "# Перевіряємо доступ до полів total і second через посилання на екземпляр B\n",
    "print(b.total, \"->\", b.second)\n",
    "\n",
    "# Перевіряємо доступ до поля first через посилання на екземпляр B\n",
    "try:\n",
    "    # Якщо поле first є\n",
    "    print(b.first)\n",
    "except AttributeError:\n",
    "    # Якщо такого поля немає\n",
    "    print(\"Такого поля в екземпляра В немає!\")\n",
    "\n",
    "# Видаляємо поле total класу MyClass\n",
    "del MyClass.total\n",
    "\n",
    "# Перевіряємо доступ до поля total через посилання на екземпляр A\n",
    "try:\n",
    "    print(a.total)\n",
    "except AttributeError:\n",
    "    print(\"Такого поля немає!\")\n",
    "\n",
    "# Перевіряємо доступ до поля total через посилання на екземпляр B\n",
    "try:\n",
    "    print(b.total)\n",
    "except AttributeError:\n",
    "    print(\"Такого поля немає!\")\n",
    "\n",
    "# Видаляємо поле first екземпляра A\n",
    "del a.first\n",
    "\n",
    "# Перевіряємо доступ до поля first через посилання на екземпляр A\n",
    "try:\n",
    "    print(b.first)\n",
    "except AttributeError:\n",
    "    print(\"Такого поля в екземпляра А немає!\")\n"
   ],
   "id": "d693f1aa002b6c72",
   "outputs": [
    {
     "name": "stdout",
     "output_type": "stream",
     "text": [
      "Клас MyClass -> Екземпляр А\n",
      "Такого поля в екземпляра А немає!\n",
      "Клас MyClass -> Екземпляр B\n",
      "Такого поля в екземпляра В немає!\n",
      "Такого поля немає!\n",
      "Такого поля немає!\n",
      "Такого поля в екземпляра А немає!\n"
     ]
    }
   ],
   "execution_count": 2
  },
  {
   "metadata": {},
   "cell_type": "markdown",
   "source": [
    "🧠 Методи та функції в класі\n",
    "\n",
    "    У Python функція, описана в тілі класу, може бути:\n",
    "\n",
    "        Методом екземпляра, якщо викликається через об’єкт.\n",
    "\n",
    "        Функцією класу, якщо викликається через ім’я класу.\n",
    "\n",
    "    Метод — це по суті функція, якій неявно передається екземпляр класу як перший аргумент (self).\n",
    "\n",
    "    Така функція зберігається як атрибут класу й може викликатися з класу або з екземпляра."
   ],
   "id": "71faa77c393d93d6"
  },
  {
   "metadata": {
    "ExecuteTime": {
     "end_time": "2025-04-05T10:22:04.201216Z",
     "start_time": "2025-04-05T10:22:04.199108Z"
    }
   },
   "cell_type": "code",
   "source": [
    "class MyClass:\n",
    "    def say(self):\n",
    "        print(\"Усім вітання!\")\n",
    "\n",
    "obj = MyClass()\n",
    "obj.say()              # виклик методу\n",
    "MyClass.say(obj)       # виклик функції з екземпляром\n",
    "MyClass.say(\"Якийсь текст\")  # виклик функції з текстом (небажано, але можливо)\n"
   ],
   "id": "3db0df914a0134d1",
   "outputs": [
    {
     "name": "stdout",
     "output_type": "stream",
     "text": [
      "Усім вітання!\n",
      "Усім вітання!\n",
      "Усім вітання!\n"
     ]
    }
   ],
   "execution_count": 3
  },
  {
   "metadata": {},
   "cell_type": "markdown",
   "source": [
    "🔍 Метод vs. Функція: У чому різниця?\n",
    "\n",
    "    Метод — це об'єкт типу method, пов'язаний з екземпляром.\n",
    "\n",
    "    Функція — це об'єкт типу function, що зберігається в класі."
   ],
   "id": "97375d27372a4c3a"
  },
  {
   "metadata": {
    "ExecuteTime": {
     "end_time": "2025-04-05T10:25:40.394060Z",
     "start_time": "2025-04-05T10:25:40.391335Z"
    }
   },
   "cell_type": "code",
   "source": [
    "class MyClass:\n",
    "    def say(self):\n",
    "        print(\"Усім вітання!\")\n",
    "\n",
    "obj = MyClass()\n",
    "\n",
    "print(type(MyClass.say))  # <class 'function'>\n",
    "print(type(obj.say))      # <class 'method'>"
   ],
   "id": "b5b22d87a329f9b3",
   "outputs": [
    {
     "name": "stdout",
     "output_type": "stream",
     "text": [
      "<class 'function'>\n",
      "<class 'method'>\n"
     ]
    }
   ],
   "execution_count": 4
  },
  {
   "metadata": {},
   "cell_type": "markdown",
   "source": [
    "🛠️ Додавання методів до екземплярів класу\n",
    "\n",
    "    Функції можна прив’язати до окремих екземплярів як атрибути.\n",
    "\n",
    "    Такі функції не мають доступу до self, тому технічно це не методи."
   ],
   "id": "8a549515d48b8ba9"
  },
  {
   "metadata": {
    "ExecuteTime": {
     "end_time": "2025-04-05T10:28:05.875363Z",
     "start_time": "2025-04-05T10:28:05.870594Z"
    }
   },
   "cell_type": "code",
   "source": [
    "class MyClass:\n",
    "    pass\n",
    "\n",
    "a = MyClass()\n",
    "b = MyClass()\n",
    "c = MyClass()\n",
    "\n",
    "def hello():\n",
    "    print(\"Метод екземпляра - ‘hello’\")\n",
    "\n",
    "def hi():\n",
    "    print(\"Ще один метод - ‘hi’\")\n",
    "\n",
    "a.say = hello\n",
    "c.say = hi\n",
    "\n",
    "a.say()\n",
    "\n",
    "try:\n",
    "    b.say()\n",
    "except AttributeError:\n",
    "    print(\"Такого методу немає\")\n",
    "\n",
    "c.say()\n",
    "\n",
    "try:\n",
    "    MyClass.say()\n",
    "except AttributeError:\n",
    "    print(\"Такої функції немає\")\n",
    "\n",
    "del a.say\n",
    "\n",
    "try:\n",
    "    a.say()\n",
    "except AttributeError:\n",
    "    print(\"Такого методу немає\")\n",
    "\n",
    "c.say()\n"
   ],
   "id": "1f0cee2602a37300",
   "outputs": [
    {
     "name": "stdout",
     "output_type": "stream",
     "text": [
      "Метод екземпляра - ‘hello’\n",
      "Такого методу немає\n",
      "Ще один метод - ‘hi’\n",
      "Такої функції немає\n",
      "Такого методу немає\n",
      "Ще один метод - ‘hi’\n"
     ]
    }
   ],
   "execution_count": 5
  },
  {
   "metadata": {},
   "cell_type": "markdown",
   "source": [
    "🧱 Додавання функцій до класу як методів\n",
    "\n",
    "    Функцію можна додати до класу як метод — тоді вона матиме доступ до self.\n",
    "\n",
    "    Такий метод буде доступний усім екземплярам класу."
   ],
   "id": "de686a0e6268280f"
  },
  {
   "metadata": {
    "ExecuteTime": {
     "end_time": "2025-04-05T10:31:24.132375Z",
     "start_time": "2025-04-05T10:31:24.129723Z"
    }
   },
   "cell_type": "code",
   "outputs": [
    {
     "name": "stdout",
     "output_type": "stream",
     "text": [
      "Метод класу - ‘hello’\n",
      "Метод класу - ‘hello’\n",
      "Ще один метод - ‘hi’\n",
      "Метод класу - ‘hello’\n"
     ]
    }
   ],
   "execution_count": 7,
   "source": [
    "MyClass.say = lambda self: print(\"Метод класу - ‘hello’\")\n",
    "\n",
    "a.say()\n",
    "b.say()\n",
    "c.say()\n",
    "MyClass.say(a)"
   ],
   "id": "37117076f42ea7c3"
  },
  {
   "metadata": {},
   "cell_type": "markdown",
   "source": [
    "⚠️ Перевизначення методу як поля\n",
    "\n",
    "    Метод можна перезаписати текстом або іншим значенням.\n",
    "\n",
    "    У такому разі метод перестає бути викликаним."
   ],
   "id": "fd867aa9238259ab"
  },
  {
   "metadata": {
    "ExecuteTime": {
     "end_time": "2025-04-05T10:35:51.025393Z",
     "start_time": "2025-04-05T10:35:51.021958Z"
    }
   },
   "cell_type": "code",
   "source": [
    "class MyClass:\n",
    "    def __init__(self, n):\n",
    "        self.name = n\n",
    "    def say(self):\n",
    "        print(\"Клас MyClass:\", self.name)\n",
    "\n",
    "a = MyClass(\"A\")\n",
    "b = MyClass(\"B\")\n",
    "\n",
    "a.say()\n",
    "b.say()\n",
    "\n",
    "f = a.say\n",
    "f()\n",
    "\n",
    "a.say = \"Поле екземпляра А\"\n",
    "print(a.say)\n",
    "\n",
    "try:\n",
    "    a.say()\n",
    "except TypeError:\n",
    "    print(\"Неправильна команда\")\n",
    "\n",
    "b.say()\n",
    "f()\n"
   ],
   "id": "6a1fda65ec71af66",
   "outputs": [
    {
     "name": "stdout",
     "output_type": "stream",
     "text": [
      "Клас MyClass: A\n",
      "Клас MyClass: B\n",
      "Клас MyClass: A\n",
      "Поле екземпляра А\n",
      "Неправильна команда\n",
      "Клас MyClass: B\n",
      "Клас MyClass: A\n"
     ]
    }
   ],
   "execution_count": 9
  },
  {
   "metadata": {},
   "cell_type": "markdown",
   "source": [
    "Копіювання екземплярів у Python\n",
    "\n",
    "    Звичайне присвоювання змінної:\n",
    "\n",
    "y = x\n",
    "\n",
    "не створює копію, а лише нове посилання на той самий об’єкт.\n",
    "\n",
    "Щоб створити незалежну копію об’єкта, використовують модуль copy:\n",
    "\n",
    "    copy(x) — поверхнева копія\n",
    "\n",
    "    deepcopy(x) — глибока копія\n",
    "\n",
    "Поверхнева копія:\n",
    "\n",
    "    створює новий об’єкт;\n",
    "\n",
    "    копіює значення незмінних типів;\n",
    "\n",
    "    копіює посилання на змінювані поля (списки, словники тощо).\n",
    "\n",
    "Глибока копія:\n",
    "\n",
    "    створює новий об’єкт;\n",
    "\n",
    "    рекурсивно копіює всі вкладені структури."
   ],
   "id": "1e145029a5fd173b"
  },
  {
   "metadata": {
    "ExecuteTime": {
     "end_time": "2025-04-09T20:37:17.338745Z",
     "start_time": "2025-04-09T20:37:17.332133Z"
    }
   },
   "cell_type": "code",
   "source": [
    "from copy import copy, deepcopy\n",
    "\n",
    "class MyClass:\n",
    "    def __init__(self, name, nums):\n",
    "        self.name = name\n",
    "        self.nums = nums\n",
    "\n",
    "    def show(self):\n",
    "        print(\"name ->\", self.name)\n",
    "        print(\"nums ->\", self.nums)\n",
    "\n",
    "x = MyClass(\"Python\", [1, 2, 3])\n",
    "print(\"Екземпляр x:\")\n",
    "x.show()\n",
    "\n",
    "y = copy(x)\n",
    "z = deepcopy(x)\n",
    "\n",
    "print(\"Екземпляр y:\")\n",
    "y.show()\n",
    "print(\"Екземпляр z:\")\n",
    "z.show()\n",
    "\n",
    "print(\"Поля екземпляра x змінюються!\")\n",
    "x.name = \"Java\"\n",
    "x.nums[0] = 0\n",
    "\n",
    "print(\"Екземпляр x:\")\n",
    "x.show()\n",
    "print(\"Екземпляр y:\")\n",
    "y.show()\n",
    "print(\"Екземпляр z:\")\n",
    "z.show()\n"
   ],
   "id": "22efcb861b3d69e5",
   "outputs": [
    {
     "name": "stdout",
     "output_type": "stream",
     "text": [
      "Екземпляр x:\n",
      "name -> Python\n",
      "nums -> [1, 2, 3]\n",
      "Екземпляр y:\n",
      "name -> Python\n",
      "nums -> [1, 2, 3]\n",
      "Екземпляр z:\n",
      "name -> Python\n",
      "nums -> [1, 2, 3]\n",
      "Поля екземпляра x змінюються!\n",
      "Екземпляр x:\n",
      "name -> Java\n",
      "nums -> [0, 2, 3]\n",
      "Екземпляр y:\n",
      "name -> Python\n",
      "nums -> [0, 2, 3]\n",
      "Екземпляр z:\n",
      "name -> Python\n",
      "nums -> [1, 2, 3]\n"
     ]
    }
   ],
   "execution_count": 1
  },
  {
   "metadata": {},
   "cell_type": "markdown",
   "source": "Конструктор копіювання:",
   "id": "c0a2658c5d938277"
  },
  {
   "metadata": {
    "ExecuteTime": {
     "end_time": "2025-04-09T20:47:42.172162Z",
     "start_time": "2025-04-09T20:47:42.166220Z"
    }
   },
   "cell_type": "code",
   "source": [
    "class ComplNum:\n",
    "    def __init__(self, x=0, y=0):\n",
    "        if type(x) == ComplNum:\n",
    "            self.Re = x.Re\n",
    "            self.Im = x.Im\n",
    "        else:\n",
    "            self.Re = x\n",
    "            self.Im = y\n",
    "\n",
    "    def show(self):\n",
    "        print(\"Re =\", self.Re)\n",
    "        print(\"Im =\", self.Im)\n",
    "\n",
    "a = ComplNum(1, 2)\n",
    "b = ComplNum(a)\n",
    "\n",
    "print(\"Екземпляр a:\")\n",
    "a.show()\n",
    "\n",
    "print(\"Екземпляр b:\")\n",
    "b.show()\n",
    "\n",
    "print(\"Поля екземпляра a змінюються!\")\n",
    "a.Re = 10\n",
    "a.Im = 20\n",
    "\n",
    "print(\"Екземпляр a:\")\n",
    "a.show()\n",
    "\n",
    "print(\"Екземпляр b:\")\n",
    "b.show()\n"
   ],
   "id": "13dabe09cdeb61d0",
   "outputs": [
    {
     "name": "stdout",
     "output_type": "stream",
     "text": [
      "Екземпляр a:\n",
      "Re = 1\n",
      "Im = 2\n",
      "Екземпляр b:\n",
      "Re = 1\n",
      "Im = 2\n",
      "Поля екземпляра a змінюються!\n",
      "Екземпляр a:\n",
      "Re = 10\n",
      "Im = 20\n",
      "Екземпляр b:\n",
      "Re = 1\n",
      "Im = 2\n"
     ]
    }
   ],
   "execution_count": 2
  },
  {
   "metadata": {},
   "cell_type": "markdown",
   "source": "Копіювання екземпляра з полями-списками:",
   "id": "d4c0e0492064bebe"
  },
  {
   "metadata": {
    "ExecuteTime": {
     "end_time": "2025-04-09T20:51:34.285626Z",
     "start_time": "2025-04-09T20:51:34.276730Z"
    }
   },
   "cell_type": "code",
   "source": [
    "class MyClass:\n",
    "    def __init__(self, arg, nums=None):\n",
    "        if type(arg) == MyClass:\n",
    "            self.name = arg.name[:]\n",
    "            self.nums = arg.nums[:]\n",
    "        else:\n",
    "            self.name = arg\n",
    "            self.nums = nums\n",
    "\n",
    "    def show(self):\n",
    "        print(\"name ->\", self.name)\n",
    "        print(\"nums ->\", self.nums)\n",
    "\n",
    "x = MyClass(\"Python\", [1, 2, 3])\n",
    "print(\"Екземпляр x:\")\n",
    "x.show()\n",
    "\n",
    "y = MyClass(x)\n",
    "print(\"Екземпляр y:\")\n",
    "y.show()\n",
    "\n",
    "print(\"Поля екземпляра x змінюються!\")\n",
    "x.name = \"Java\"\n",
    "x.nums[0] = 0\n",
    "\n",
    "print(\"Екземпляр x:\")\n",
    "x.show()\n",
    "\n",
    "print(\"Екземпляр y:\")\n",
    "y.show()\n"
   ],
   "id": "1217aac558aa8675",
   "outputs": [
    {
     "name": "stdout",
     "output_type": "stream",
     "text": [
      "Екземпляр x:\n",
      "name -> Python\n",
      "nums -> [1, 2, 3]\n",
      "Екземпляр y:\n",
      "name -> Python\n",
      "nums -> [1, 2, 3]\n",
      "Поля екземпляра x змінюються!\n",
      "Екземпляр x:\n",
      "name -> Java\n",
      "nums -> [0, 2, 3]\n",
      "Екземпляр y:\n",
      "name -> Python\n",
      "nums -> [1, 2, 3]\n"
     ]
    }
   ],
   "execution_count": 3
  },
  {
   "metadata": {},
   "cell_type": "markdown",
   "source": "# Наслідування в Python",
   "id": "690c9fc68a2c5266"
  },
  {
   "metadata": {},
   "cell_type": "markdown",
   "source": [
    "Наслiдування в Python\n",
    "\n",
    "Створення нового класу на основi iснуючого\n",
    "\n",
    "Базовий клас: той, вiд якого наслiдують\n",
    "\n",
    "Похiдний клас: той, що наслiдує\n",
    "\n",
    "Похiдний клас \"успадковує\" поля i методи базового класу\n",
    "\n",
    "Слайд 2: Синтаксис наслiдування\n",
    "```python\n",
    "class NewClass(BaseClass):\n",
    "    # тiло класу\n",
    "    pass\n",
    "```"
   ],
   "id": "68f888652a8d0a2c"
  },
  {
   "metadata": {
    "ExecuteTime": {
     "end_time": "2025-04-09T21:30:53.893728Z",
     "start_time": "2025-04-09T21:30:53.884168Z"
    }
   },
   "cell_type": "code",
   "source": [
    "class BaseClass:\n",
    "    name_base = \"Клас BaseClass\"\n",
    "    def say_base(self):\n",
    "        print(\"Метод say_base()\")\n",
    "\n",
    "class NewClass(BaseClass):\n",
    "    name_new = \"Клас NewClass\"\n",
    "    def say_new(self):\n",
    "        print(\"Метод say_new()\")\n",
    "\n",
    "obj_base = BaseClass()\n",
    "obj_new = NewClass()\n",
    "\n",
    "print(BaseClass.name_base)\n",
    "obj_base.say_base()\n",
    "print(NewClass.name_base)\n",
    "obj_new.say_base()\n",
    "print(NewClass.name_new)\n",
    "obj_new.say_new()"
   ],
   "id": "551d918107cb67a8",
   "outputs": [
    {
     "name": "stdout",
     "output_type": "stream",
     "text": [
      "Клас BaseClass\n",
      "Метод say_base()\n",
      "Клас BaseClass\n",
      "Метод say_base()\n",
      "Клас NewClass\n",
      "Метод say_new()\n"
     ]
    }
   ],
   "execution_count": 4
  },
  {
   "metadata": {
    "ExecuteTime": {
     "end_time": "2025-04-09T21:36:57.998473Z",
     "start_time": "2025-04-09T21:36:57.991803Z"
    }
   },
   "cell_type": "code",
   "source": [
    "class BaseClass:\n",
    "    name = \"Поле name\"\n",
    "    def say(self):\n",
    "        print(\"Метод say()\")\n",
    "\n",
    "class NewClass(BaseClass):\n",
    "    pass\n",
    "\n",
    "obj = NewClass()\n",
    "print(NewClass.name)\n",
    "obj.say()\n",
    "\n",
    "def hello(self):\n",
    "    print(\"Новий метод hello()\")\n",
    "\n",
    "BaseClass.say = hello\n",
    "BaseClass.name = \"Нове значення поля name\"\n",
    "\n",
    "print(NewClass.name)\n",
    "obj.say()"
   ],
   "id": "f176729aecef07be",
   "outputs": [
    {
     "name": "stdout",
     "output_type": "stream",
     "text": [
      "Поле name\n",
      "Метод say()\n",
      "Нове значення поля name\n",
      "Новий метод hello()\n"
     ]
    }
   ],
   "execution_count": 5
  },
  {
   "metadata": {},
   "cell_type": "markdown",
   "source": "Перевизначення полів та методів під час наслідування",
   "id": "15dac193a5e0717"
  },
  {
   "metadata": {
    "ExecuteTime": {
     "end_time": "2025-04-09T21:41:18.190670Z",
     "start_time": "2025-04-09T21:41:18.183747Z"
    }
   },
   "cell_type": "code",
   "source": [
    "class BaseClass:\n",
    "    name = \"Поле name базового класу\"\n",
    "    def say(self):\n",
    "        print(\"Метод say() базового класу\")\n",
    "\n",
    "class NewClass(BaseClass):\n",
    "    name = \"Поле name похiдного класу\"\n",
    "    def say(self):\n",
    "        print(\"Метод say() похiдного класу\")\n",
    "\n",
    "obj_base = BaseClass()\n",
    "obj_new = NewClass()\n",
    "print(obj_base.name)\n",
    "print(obj_new.name)\n",
    "obj_base.say()\n",
    "obj_new.say()"
   ],
   "id": "8ca111c10207edb2",
   "outputs": [
    {
     "name": "stdout",
     "output_type": "stream",
     "text": [
      "Поле name базового класу\n",
      "Поле name похiдного класу\n",
      "Метод say() базового класу\n",
      "Метод say() похiдного класу\n"
     ]
    }
   ],
   "execution_count": 6
  },
  {
   "metadata": {},
   "cell_type": "markdown",
   "source": "Викорситання методу super()",
   "id": "f485297a66ddec03"
  },
  {
   "metadata": {
    "ExecuteTime": {
     "end_time": "2025-04-09T21:45:37.012830Z",
     "start_time": "2025-04-09T21:45:37.007101Z"
    }
   },
   "cell_type": "code",
   "source": [
    "class BaseClass:\n",
    "    def __init__(self, num):\n",
    "        self.id = num\n",
    "    def get(self):\n",
    "        print(\"ID:\", self.id)\n",
    "    def show(self):\n",
    "        print(\"Поле екземпляра базового класу\")\n",
    "        self.get()\n",
    "\n",
    "class NewClass(BaseClass):\n",
    "    def __init__(self, num, txt):\n",
    "        super().__init__(num)\n",
    "        self.name = txt\n",
    "    def get(self):\n",
    "        super().get()\n",
    "        print(\"Name:\", self.name)\n",
    "\n",
    "obj_base = BaseClass(1)\n",
    "print(\"Викликаємо метод show() із екземпляра obj_base:\")\n",
    "obj_base.show()\n",
    "\n",
    "obj_new = NewClass(10, \"десятка\")\n",
    "print(\"Викликаємо метод show() із екземпляра obj_new:\")\n",
    "obj_new.show()"
   ],
   "id": "cd3eff2254be7d0b",
   "outputs": [
    {
     "name": "stdout",
     "output_type": "stream",
     "text": [
      "Викликаємо метод show() із екземпляра obj_base:\n",
      "Поле екземпляра базового класу\n",
      "ID: 1\n",
      "Викликаємо метод show() із екземпляра obj_new:\n",
      "Поле екземпляра базового класу\n",
      "ID: 10\n",
      "Name: десятка\n"
     ]
    }
   ],
   "execution_count": 7
  },
  {
   "metadata": {},
   "cell_type": "markdown",
   "source": "Множинне наслідування",
   "id": "845f3ddf98e14f9f"
  },
  {
   "metadata": {
    "ExecuteTime": {
     "end_time": "2025-04-10T19:22:34.485136Z",
     "start_time": "2025-04-10T19:22:34.478846Z"
    }
   },
   "cell_type": "code",
   "source": [
    "# Перший базовий клас\n",
    "class BoxSize:\n",
    "    # Конструктор\n",
    "    def __init__(self, width, height, depth):\n",
    "        # Присвоювання значень полям екземпляра\n",
    "        self.width = width\n",
    "        self.height = height\n",
    "        self.depth = depth\n",
    "\n",
    "    # Метод для обчислення об’єму\n",
    "    def volume(self):\n",
    "        # Результат - добуток полів екземпляра\n",
    "        return self.width * self.height * self.depth\n",
    "\n",
    "    # Метод для відображення значень полів екземпляра\n",
    "    # і результату виклику методу volume()\n",
    "    def show(self):\n",
    "        print(\"Розміри й об’єм ящика:\")\n",
    "        print(\"Ширина:\", self.width)\n",
    "        print(\"Висота:\", self.height)\n",
    "        print(\"Глибина:\", self.depth)\n",
    "        print(\"Об’єм:\", self.volume())\n",
    "\n",
    "# Другий базовий клас\n",
    "class BoxParams:\n",
    "    # Конструктор\n",
    "    def __init__(self, weight, color):\n",
    "        # Присвоювання значень полям екземпляра\n",
    "        self.weight = weight\n",
    "        self.color = color\n",
    "\n",
    "    # Метод для відображення значень полів екземпляра\n",
    "    def show(self):\n",
    "        print(\"Додаткові параметри ящика:\")\n",
    "        print(\"Вага (маса):\", self.weight)\n",
    "        print(\"Колір:\", self.color)\n",
    "\n",
    "# Похідний клас\n",
    "class Box(BoxSize, BoxParams):\n",
    "    # Конструктор\n",
    "    def __init__(self, width, height, depth, weight, color):\n",
    "        # Виклик конструктора першого базового класу\n",
    "        BoxSize.__init__(self, width, height, depth)\n",
    "        # Виклик конструктора другого базового класу\n",
    "        BoxParams.__init__(self, weight, color)\n",
    "        # Виклики методу show() екземпляра класу\n",
    "        self.show()\n",
    "\n",
    "    # Перевизначення методу show()\n",
    "    def show(self):\n",
    "        # Виклик методу show() із першого базового класу\n",
    "        BoxSize.show(self)\n",
    "        # Виклик методу show() із другого базового класу\n",
    "        BoxParams.show(self)\n",
    "\n",
    "# Створюємо екземпляр похідного класу\n",
    "obj = Box(10, 20, 30, 5, \"зелений\")\n"
   ],
   "id": "27c6b8ae6da1ea1a",
   "outputs": [
    {
     "name": "stdout",
     "output_type": "stream",
     "text": [
      "Розміри й об’єм ящика:\n",
      "Ширина: 10\n",
      "Висота: 20\n",
      "Глибина: 30\n",
      "Об’єм: 6000\n",
      "Додаткові параметри ящика:\n",
      "Вага (маса): 5\n",
      "Колір: зелений\n"
     ]
    }
   ],
   "execution_count": 1
  },
  {
   "metadata": {},
   "cell_type": "markdown",
   "source": "Конфлікти у множинному наслідуванні",
   "id": "2f393528a6647947"
  },
  {
   "metadata": {
    "ExecuteTime": {
     "end_time": "2025-04-10T19:30:17.052668Z",
     "start_time": "2025-04-10T19:30:17.048452Z"
    }
   },
   "cell_type": "code",
   "source": [
    "class A:\n",
    "    def hello(self):\n",
    "        print(\"Привіт з класу A\")\n",
    "\n",
    "class B:\n",
    "    def hello(self):\n",
    "        print(\"Привіт з класу B\")\n",
    "\n",
    "class C(A, B):\n",
    "    pass\n",
    "\n",
    "obj = C()\n",
    "obj.hello()  # Який метод буде викликано?\n",
    "print(C.__mro__)"
   ],
   "id": "7223d9623c15d9",
   "outputs": [
    {
     "name": "stdout",
     "output_type": "stream",
     "text": [
      "Привіт з класу A\n",
      "(<class '__main__.C'>, <class '__main__.A'>, <class '__main__.B'>, <class 'object'>)\n"
     ]
    }
   ],
   "execution_count": 2
  },
  {
   "metadata": {
    "ExecuteTime": {
     "end_time": "2025-04-10T19:34:19.745458Z",
     "start_time": "2025-04-10T19:34:19.739890Z"
    }
   },
   "cell_type": "code",
   "source": [
    "# Описуємо класи\n",
    "class Alpha:\n",
    "    def hi(self):\n",
    "        print(\"Клас Alpha\")\n",
    "\n",
    "class Bravo:\n",
    "    def hi(self):\n",
    "        print(\"Клас Bravo\")\n",
    "\n",
    "class Charlie:\n",
    "    def hi(self):\n",
    "        print(\"Клас Charlie\")\n",
    "\n",
    "class Delta(Alpha):\n",
    "    pass\n",
    "\n",
    "class Echo(Delta):\n",
    "    pass\n",
    "\n",
    "class Foxtrot(Bravo, Alpha):\n",
    "    pass\n",
    "\n",
    "class Golf(Foxtrot):\n",
    "    pass\n",
    "\n",
    "class Hotel(Echo, Charlie, Golf):\n",
    "    pass\n",
    "\n",
    "# Викликаємо функції класів\n",
    "Echo().hi()\n",
    "Golf().hi()\n",
    "Hotel().hi()\n"
   ],
   "id": "a8f8d738a3e76e53",
   "outputs": [
    {
     "name": "stdout",
     "output_type": "stream",
     "text": [
      "Клас Alpha\n",
      "Клас Bravo\n",
      "Клас Charlie\n"
     ]
    }
   ],
   "execution_count": 3
  }
 ],
 "metadata": {
  "kernelspec": {
   "display_name": "Python 3",
   "language": "python",
   "name": "python3"
  },
  "language_info": {
   "codemirror_mode": {
    "name": "ipython",
    "version": 2
   },
   "file_extension": ".py",
   "mimetype": "text/x-python",
   "name": "python",
   "nbconvert_exporter": "python",
   "pygments_lexer": "ipython2",
   "version": "2.7.6"
  }
 },
 "nbformat": 4,
 "nbformat_minor": 5
}
