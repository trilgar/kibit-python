{
 "cells": [
  {
   "metadata": {},
   "cell_type": "markdown",
   "source": [
    "Структура функції в Python\n",
    "```\n",
    "def назва_функції(аргумент_1, аргумент_2, ...):\n",
    "    код пограми\n",
    "    ...\n",
    "    ...\n",
    "    return значення_що_повертається\n",
    "```"
   ],
   "id": "793d014ab3843645"
  },
  {
   "metadata": {},
   "cell_type": "code",
   "outputs": [
    {
     "name": "stdout",
     "output_type": "stream",
     "text": [
      "Meow, John!\n"
     ]
    }
   ],
   "execution_count": 3,
   "source": [
    "def meow_to_someone(name):\n",
    "    return f\"Meow, {name}!\"\n",
    "\n",
    "\n",
    "print(meow_to_someone(\"John\"))"
   ],
   "id": "initial_id"
  },
  {
   "metadata": {
    "ExecuteTime": {
     "end_time": "2025-02-07T17:22:59.769374Z",
     "start_time": "2025-02-07T17:22:44.293568Z"
    }
   },
   "cell_type": "code",
   "source": [
    "# Функція без аргументів\n",
    "def your_name():\n",
    "    # Відображається повідомлення\n",
    "    print(\"Добрий день!\")\n",
    "    # Запам’ятовується введений користувачем текст\n",
    "    name = input(\"Як Вас звати? \")\n",
    "    # Результат функції\n",
    "    return name\n",
    "\n",
    "\n",
    "# Функція з одним аргументом\n",
    "def say_hello(txt):\n",
    "    # Відображається повідомлення\n",
    "    print(\"Вітаю,\", txt + \"!\")\n",
    "\n",
    "\n",
    "# Викликаємо функцію й результат записуємо в змінну\n",
    "my_name = your_name()\n",
    "# Викликаємо функцію з аргументом\n",
    "say_hello(my_name)"
   ],
   "id": "c3cf6604a73f4265",
   "outputs": [
    {
     "name": "stdout",
     "output_type": "stream",
     "text": [
      "Добрий день!\n",
      "Вітаю, Олег!\n"
     ]
    }
   ],
   "execution_count": 4
  },
  {
   "metadata": {},
   "cell_type": "markdown",
   "source": "Функція обчислення експоненти",
   "id": "8c86182dcd7a2c04"
  },
  {
   "metadata": {
    "ExecuteTime": {
     "end_time": "2025-02-07T17:31:48.806678Z",
     "start_time": "2025-02-07T17:31:48.800215Z"
    }
   },
   "cell_type": "code",
   "source": [
    "# Функція для обчислення експоненти\n",
    "def my_exp(x, n):\n",
    "    s = 0  # Початкове значення суми ряду\n",
    "    q = 1  # Початкове значення добавки\n",
    "    # Оператор циклу для обчислення ряду\n",
    "    for k in range(n + 1):\n",
    "        s += q  # Добавка до суми\n",
    "        q *= x / (k + 1)  # Нова добавка\n",
    "    # Результат функції\n",
    "    return s\n",
    "\n",
    "\n",
    "# Перевіряємо результат виклику функції\n",
    "x = 1  # Аргумент для експоненти\n",
    "# Оператор циклу для багатократного\n",
    "# виклику функції обчислення експоненти\n",
    "for n in range(11):\n",
    "    # Відображаємо результат виклику\n",
    "    # функції обчислення експоненти\n",
    "    print(\"n =\", n, \"n->\", my_exp(x, n))"
   ],
   "id": "4d9755d7dc23991",
   "outputs": [
    {
     "name": "stdout",
     "output_type": "stream",
     "text": [
      "n = 0 n-> 1\n",
      "n = 1 n-> 2.0\n",
      "n = 2 n-> 2.5\n",
      "n = 3 n-> 2.6666666666666665\n",
      "n = 4 n-> 2.708333333333333\n",
      "n = 5 n-> 2.7166666666666663\n",
      "n = 6 n-> 2.7180555555555554\n",
      "n = 7 n-> 2.7182539682539684\n",
      "n = 8 n-> 2.71827876984127\n",
      "n = 9 n-> 2.7182815255731922\n",
      "n = 10 n-> 2.7182818011463845\n"
     ]
    }
   ],
   "execution_count": 5
  },
  {
   "metadata": {
    "ExecuteTime": {
     "end_time": "2025-02-07T17:32:44.950185Z",
     "start_time": "2025-02-07T17:32:44.946445Z"
    }
   },
   "cell_type": "code",
   "source": [
    "import math\n",
    "\n",
    "print(math.exp(1))"
   ],
   "id": "1c764f563d24c23d",
   "outputs": [
    {
     "name": "stdout",
     "output_type": "stream",
     "text": [
      "2.718281828459045\n"
     ]
    }
   ],
   "execution_count": 7
  },
  {
   "metadata": {},
   "cell_type": "markdown",
   "source": "Аргументи за замовчуванням",
   "id": "af46b2e80c173c45"
  },
  {
   "metadata": {
    "ExecuteTime": {
     "end_time": "2025-02-07T17:37:39.060703Z",
     "start_time": "2025-02-07T17:37:39.055323Z"
    }
   },
   "cell_type": "code",
   "source": [
    "# 1-а функція з одним аргументом.\n",
    "def print_text(txt=\"Значення аргументу за замовчуванням.\"):\n",
    "    print(txt)\n",
    "\n",
    "\n",
    "# 2-а функція з двома аргументами.\n",
    "def show_args(a, b=\"Другий аргумент не зазначено.\"):\n",
    "    print(a, b)\n",
    "\n",
    "\n",
    "# 3-я функція з двома аргументами.\n",
    "def my_func(x=\"1-й аргумент x.\", \n",
    "            y=\"2-й аргумент y.\"):\n",
    "    print(x, y)\n",
    "\n",
    "\n",
    "# Виклик функцій.\n",
    "print_text(\"Аргумент вказаний явно.\")\n",
    "print_text()\n",
    "show_args(\"Перший аргумент.\", \"Другий аргумент.\")\n",
    "show_args(\"Перший аргумент.\")\n",
    "my_func()\n",
    "my_func(\"Один із аргументів.\")\n",
    "my_func(y=\"Один із аргументів.\")"
   ],
   "id": "a2f8062fa9b01ed0",
   "outputs": [
    {
     "name": "stdout",
     "output_type": "stream",
     "text": [
      "Аргумент вказаний явно.\n",
      "Значення аргументу за замовчуванням.\n",
      "Перший аргумент. Другий аргумент.\n",
      "Перший аргумент. Другий аргумент не зазначено.\n",
      "1-й аргумент x. 2-й аргумент y.\n",
      "Один із аргументів. 2-й аргумент y.\n",
      "1-й аргумент x. Один із аргументів.\n"
     ]
    }
   ],
   "execution_count": 8
  },
  {
   "metadata": {},
   "cell_type": "markdown",
   "source": "Необмежена кількість аргументів",
   "id": "7345edd6af645c28"
  },
  {
   "metadata": {
    "ExecuteTime": {
     "end_time": "2025-02-07T17:52:39.590826Z",
     "start_time": "2025-02-07T17:52:39.587342Z"
    }
   },
   "cell_type": "code",
   "source": [
    "def get_sum(*numbers):\n",
    "    s = 0\n",
    "    for n in numbers:\n",
    "        s += n\n",
    "    return s\n",
    "\n",
    "print(get_sum(1, 2, 3, 4, 5))"
   ],
   "id": "d4e3bd278f2fda70",
   "outputs": [
    {
     "name": "stdout",
     "output_type": "stream",
     "text": [
      "15\n"
     ]
    }
   ],
   "execution_count": 10
  },
  {
   "metadata": {
    "ExecuteTime": {
     "end_time": "2025-02-07T18:00:48.163174Z",
     "start_time": "2025-02-07T18:00:48.157848Z"
    }
   },
   "cell_type": "code",
   "source": [
    "# Функція приймає довільну кількість іменованих аргументів\n",
    "def print_kwargs(**kwargs):\n",
    "    for key, value in kwargs.items():\n",
    "        print(f\"{key} = {value}\")\n",
    "\n",
    "# Виклик функції з різними іменованими аргументами\n",
    "print_kwargs(name=\"Олексій\", age=25, city=\"Київ\")"
   ],
   "id": "e269ad598739b905",
   "outputs": [
    {
     "name": "stdout",
     "output_type": "stream",
     "text": [
      "name = Олексій\n",
      "age = 25\n",
      "city = Київ\n"
     ]
    }
   ],
   "execution_count": 11
  },
  {
   "metadata": {
    "ExecuteTime": {
     "end_time": "2025-02-07T18:01:03.020655Z",
     "start_time": "2025-02-07T18:01:03.016074Z"
    }
   },
   "cell_type": "code",
   "source": [
    "def print_args_and_kwargs(*args, **kwargs):\n",
    "    print(\"Позиційні аргументи:\", args)\n",
    "    print(\"Іменовані аргументи:\", kwargs)\n",
    "\n",
    "# Виклик функції з позиційними та іменованими аргументами\n",
    "print_args_and_kwargs(1, 2, 3, name=\"Олексій\", city=\"Київ\")"
   ],
   "id": "411bf22373463374",
   "outputs": [
    {
     "name": "stdout",
     "output_type": "stream",
     "text": [
      "Позиційні аргументи: (1, 2, 3)\n",
      "Іменовані аргументи: {'name': 'Олексій', 'city': 'Київ'}\n"
     ]
    }
   ],
   "execution_count": 12
  },
  {
   "metadata": {
    "ExecuteTime": {
     "end_time": "2025-02-07T18:02:03.184834Z",
     "start_time": "2025-02-07T18:02:03.180573Z"
    }
   },
   "cell_type": "code",
   "source": [
    "def greet(name, age, city):\n",
    "    print(f\"Привіт, {name}! Тобі {age} років, ти з міста {city}.\")\n",
    "\n",
    "person = {\"name\": \"Олексій\", \"age\": 25, \"city\": \"Київ\"}\n",
    "greet(**person)"
   ],
   "id": "3402877e4799c1d7",
   "outputs": [
    {
     "name": "stdout",
     "output_type": "stream",
     "text": [
      "Привіт, Олексій! Тобі 25 років, ти з міста Київ.\n"
     ]
    }
   ],
   "execution_count": 13
  },
  {
   "metadata": {},
   "cell_type": "markdown",
   "source": "Функція як аргумент",
   "id": "c8d4d1b1cd4e5345"
  },
  {
   "metadata": {
    "ExecuteTime": {
     "end_time": "2025-02-07T18:06:30.216607Z",
     "start_time": "2025-02-07T18:06:30.212724Z"
    }
   },
   "cell_type": "code",
   "source": [
    "# Вихідна функція\n",
    "def my_func(txt):\n",
    "    print(\"Функція my_func:\", txt)\n",
    "\n",
    "# Змінній присвоюємо ім'я функції\n",
    "new_func = my_func\n",
    "\n",
    "# Викликаємо функцію через змінну\n",
    "new_func(\"виклик через new_func.\")"
   ],
   "id": "cd47982fffde012",
   "outputs": [
    {
     "name": "stdout",
     "output_type": "stream",
     "text": [
      "Функція my_func: виклик через new_func.\n"
     ]
    }
   ],
   "execution_count": 14
  },
  {
   "metadata": {},
   "cell_type": "markdown",
   "source": [
    "Метод послідовних наближень\n",
    "\n",
    "Вирішується рівняння типу $x = f(x)$, де $f(x)$ - деяка функція.    \n",
    "Обирається деяке початкове наближення $x_0$.    \n",
    "Знаходиться $x_1 = f(x_0)$.    \n",
    "І так далі, до тих пір, поки $x_n$ не стане досить близьким до $x_{n-1}$."
   ],
   "id": "3eb3589081375f86"
  },
  {
   "metadata": {
    "ExecuteTime": {
     "end_time": "2025-02-07T18:11:00.494612Z",
     "start_time": "2025-02-07T18:11:00.487293Z"
    }
   },
   "cell_type": "code",
   "source": [
    "# Опис функції для розв'язання рівняння\n",
    "def solve_eqn(f, x0, n):\n",
    "    x = x0\n",
    "    for k in range(1, n+1):\n",
    "        x = f(x)\n",
    "    return x\n",
    "\n",
    "# Функція, що визначає 1-е рівняння\n",
    "def eqn_1(x):\n",
    "    return (x**2 + 5) / 6\n",
    "\n",
    "# Функція, що визначає 2-е рівняння\n",
    "def eqn_2(x):\n",
    "    return (6*x - 5)**0.5\n",
    "\n",
    "# Розв’язуємо 1-е рівняння\n",
    "x = solve_eqn(eqn_1, 0, 10)\n",
    "print(\"1-е рівняння: x =\", x)\n",
    "\n",
    "# Розв’язуємо 2-е рівняння\n",
    "x = solve_eqn(eqn_2, 4, 10)\n",
    "print(\"2-е рівняння: x =\", x)"
   ],
   "id": "5fe45239de4a034d",
   "outputs": [
    {
     "name": "stdout",
     "output_type": "stream",
     "text": [
      "1-е рівняння: x = 0.9999925289581152\n",
      "2-е рівняння: x = 4.992839487820055\n"
     ]
    }
   ],
   "execution_count": 15
  },
  {
   "metadata": {},
   "cell_type": "markdown",
   "source": "Рекурсія",
   "id": "fef0e2e438584ba8"
  },
  {
   "metadata": {},
   "cell_type": "markdown",
   "source": "Приклад 1: Числа Фібоначчі",
   "id": "177244082a5babfc"
  },
  {
   "metadata": {
    "ExecuteTime": {
     "end_time": "2025-02-07T18:15:45.884222Z",
     "start_time": "2025-02-07T18:15:45.878099Z"
    }
   },
   "cell_type": "code",
   "source": [
    "# Функція для розрахунку чисел Фібоначчі.\n",
    "def Fib(n):\n",
    "    if n==1 or n==2:\n",
    "        return 1\n",
    "    else:\n",
    "        return Fib(n-1)+Fib(n-2)\n",
    "\n",
    "# Перевіряємо роботу функції\n",
    "print(\"Числа Фібоначчі:\")\n",
    "for i in range(1,16):\n",
    "    print(Fib(i), end=\" \")"
   ],
   "id": "b8e8c3217e140324",
   "outputs": [
    {
     "name": "stdout",
     "output_type": "stream",
     "text": [
      "Числа Фібоначчі:\n",
      "1 1 2 3 5 8 13 21 34 55 89 144 233 377 610 "
     ]
    }
   ],
   "execution_count": 16
  },
  {
   "metadata": {},
   "cell_type": "markdown",
   "source": "Приклад 2: Рекурсія для методу послідовних наближень",
   "id": "e449dfb935cfe61"
  },
  {
   "metadata": {},
   "cell_type": "code",
   "outputs": [],
   "execution_count": null,
   "source": [
    "# Функція для розв’язання рівняння.\n",
    "def solve(f, x0, n):\n",
    "    if n == 0:\n",
    "        return x0\n",
    "    else:\n",
    "        return solve(f, f(x0), n-1)\n",
    "\n",
    "# Функція, що визначає рівняння\n",
    "def eqn(x):\n",
    "    return (x**2 + 5) / 6\n",
    "\n",
    "# Розв’язуємо рівняння\n",
    "x = solve(eqn, 0, 10)\n",
    "print(\"Розв’язок рівняння: x =\", x)"
   ],
   "id": "328978a3d40844d4"
  },
  {
   "metadata": {},
   "cell_type": "markdown",
   "source": [
    "Лямбда-функції\n",
    "\n",
    "Лямбда-функції — це анонімні функції без імені, які використовуються для:\n",
    "1. Передачі аргументом іншій функції\n",
    "2. Повернення результату іншої функції\n",
    "3. Одноразового використання\n",
    "\n",
    "Шаблон лямбда-функції:\n",
    "```\n",
    "lambda аргументи: вираз\n",
    "```\n"
   ],
   "id": "92f11ed2ab097675"
  },
  {
   "metadata": {
    "ExecuteTime": {
     "end_time": "2025-02-07T18:34:02.356336Z",
     "start_time": "2025-02-07T18:34:02.349372Z"
    }
   },
   "cell_type": "code",
   "source": [
    "# Використання лямбда-функції для передачі значення іншій функції\n",
    "def find_value(f, x):\n",
    "    print(\"x =\", x, \"-> f(x) =\", f(x))\n",
    "\n",
    "# Збереження лямбда-функції у змінній\n",
    "my_func = lambda x: 1 / (1 + x**2)\n",
    "\n",
    "# Виклик функції з аргументом\n",
    "find_value(my_func, 2.0)\n",
    "\n",
    "# Лямбда-функція як аргумент іншій функції\n",
    "find_value(lambda x: x * (1 - x) * 0.5, 0.5)\n",
    "\n",
    "# Використання лямбда-функції у виразі\n",
    "z = 1 + (lambda x, y: x * y - x**2)(2, 3)**2\n",
    "print(\"z =\", z)"
   ],
   "id": "ca5a58fa381122d1",
   "outputs": [
    {
     "name": "stdout",
     "output_type": "stream",
     "text": [
      "x = 2.0 -> f(x) = 0.2\n",
      "x = 0.5 -> f(x) = 0.125\n",
      "z = 5\n"
     ]
    }
   ],
   "execution_count": 17
  },
  {
   "metadata": {
    "ExecuteTime": {
     "end_time": "2025-02-07T18:34:45.076099Z",
     "start_time": "2025-02-07T18:34:45.071434Z"
    }
   },
   "cell_type": "code",
   "source": [
    "# Функція, що повертає функцію\n",
    "def my_pow(n):\n",
    "    return lambda x: x**n\n",
    "\n",
    "# Використання результату\n",
    "for n in range(1, 4):\n",
    "    for x in range(1, 11):\n",
    "        print(my_pow(n)(x), end=\" \")\n",
    "    print()"
   ],
   "id": "e3434e890ee37b72",
   "outputs": [
    {
     "name": "stdout",
     "output_type": "stream",
     "text": [
      "1 2 3 4 5 6 7 8 9 10 \n",
      "1 4 9 16 25 36 49 64 81 100 \n",
      "1 8 27 64 125 216 343 512 729 1000 \n"
     ]
    }
   ],
   "execution_count": 18
  },
  {
   "metadata": {},
   "cell_type": "markdown",
   "source": "У лямбда функції можна вказати значення аргументів за замовчуванням",
   "id": "c1bd9581b0358cb6"
  },
  {
   "metadata": {},
   "cell_type": "code",
   "outputs": [],
   "execution_count": null,
   "source": [
    "f = lambda x = 1: 1 / x\n",
    "print(f())       # 1.0\n",
    "print(f(2))      # 0.5"
   ],
   "id": "a58e1aaa1f59417"
  }
 ],
 "metadata": {
  "kernelspec": {
   "display_name": "Python 3",
   "language": "python",
   "name": "python3"
  },
  "language_info": {
   "codemirror_mode": {
    "name": "ipython",
    "version": 2
   },
   "file_extension": ".py",
   "mimetype": "text/x-python",
   "name": "python",
   "nbconvert_exporter": "python",
   "pygments_lexer": "ipython2",
   "version": "2.7.6"
  }
 },
 "nbformat": 4,
 "nbformat_minor": 5
}
