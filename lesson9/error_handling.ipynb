{
 "cells": [
  {
   "cell_type": "code",
   "id": "initial_id",
   "metadata": {
    "collapsed": true,
    "ExecuteTime": {
     "end_time": "2025-02-06T15:26:05.303339Z",
     "start_time": "2025-02-06T15:26:03.876881Z"
    }
   },
   "source": [
    "try:\n",
    "    x = float(input(\"Введіть число\"))\n",
    "    print(f\"Ваше число в кубі: {x ** 3}\")\n",
    "except:\n",
    "    print(\"Неправильний формат числа!\")"
   ],
   "outputs": [
    {
     "name": "stdout",
     "output_type": "stream",
     "text": [
      "Ваше число в кубі: 1.0\n"
     ]
    }
   ],
   "execution_count": 5
  },
  {
   "metadata": {
    "ExecuteTime": {
     "end_time": "2025-02-06T15:33:24.854529Z",
     "start_time": "2025-02-06T15:33:21.598141Z"
    }
   },
   "cell_type": "code",
   "source": [
    "print(\"Розв'язуємо рівняння ax = b\")\n",
    "# Початок try-блоку (основний код)\n",
    "try:\n",
    "    # Визначаємо перший параметр. Можлива помилка\n",
    "    # перетворення тексту в число\n",
    "    a = float(input(\"Введіть a: \"))\n",
    "    # Визначаємо другий параметр. Можлива помилка\n",
    "    # перетворення тексту в число\n",
    "    b = float(input(\"Введіть b: \"))\n",
    "    # Розв'язання рівняння. Можлива помилка\n",
    "    # ділення на нуль\n",
    "    x = b / a\n",
    "    # Відображається значення для кореня рівняння.\n",
    "    # Команда виконується, якщо до цього не виникли помилки\n",
    "    print(\"Розв'язок рівняння: x =\", x)\n",
    "# Початок except-блоку (допоміжний код)\n",
    "except:\n",
    "    # Команда виконується, тільки якщо раніше\n",
    "    # під час виконання основного коду виникла помилка\n",
    "    print(\"Ви ввели некоректні дані!\")\n",
    "# Команда виконується після блоку try-except\n",
    "print(\"Дякуємо, роботу програми закінчено.\")"
   ],
   "id": "440041e48ab4700f",
   "outputs": [
    {
     "name": "stdout",
     "output_type": "stream",
     "text": [
      "Розв'язуємо рівняння ax = b\n",
      "Розв'язок рівняння: x = 2.0\n",
      "Дякуємо, роботу програми закінчено.\n"
     ]
    }
   ],
   "execution_count": 6
  },
  {
   "metadata": {
    "ExecuteTime": {
     "end_time": "2025-02-06T15:34:07.504552Z",
     "start_time": "2025-02-06T15:34:04.612059Z"
    }
   },
   "cell_type": "code",
   "source": [
    "print(\"Розв'язуємо рівняння ax = b\")\n",
    "# Початок try-блоку (основний код)\n",
    "try:\n",
    "\n",
    "    a = float(input(\"Введіть a: \"))\n",
    "    # синтаксична помилка\n",
    "    b = foat(input(\"Введіть b: \"))\n",
    "    x = b / a\n",
    "    print(\"Розв'язок рівняння: x =\", x)\n",
    "except:\n",
    "    # оскільки пайтон - це інтерпретована мова, вона виведе помилку, яка іще і збиває з пантелику\n",
    "    print(\"Ви ввели некоректні дані!\")\n",
    "# Команда виконується після блоку try-except\n",
    "print(\"Дякуємо, роботу програми закінчено.\")"
   ],
   "id": "b0f6ccd4516ff738",
   "outputs": [
    {
     "name": "stdout",
     "output_type": "stream",
     "text": [
      "Розв'язуємо рівняння ax = b\n",
      "Ви ввели некоректні дані!\n",
      "Дякуємо, роботу програми закінчено.\n"
     ]
    }
   ],
   "execution_count": 7
  },
  {
   "metadata": {
    "ExecuteTime": {
     "end_time": "2025-02-06T15:40:39.638981Z",
     "start_time": "2025-02-06T15:40:35.662714Z"
    }
   },
   "cell_type": "code",
   "source": [
    "print(\"Розв'язуємо рівняння ax = b\")\n",
    "# Початок try-блоку (основний код)\n",
    "try:\n",
    "    # Визначаємо перший параметр. Можлива помилка\n",
    "    # перетворення тексту в число\n",
    "    a = float(input(\"Введіть a: \"))\n",
    "    # Визначаємо другий параметр. Можлива помилка\n",
    "    # перетворення тексту в число\n",
    "    b = float(input(\"Введіть b: \"))\n",
    "    # Розв'язок рівняння. Можлива помилка\n",
    "    # ділення на нуль\n",
    "    x = b / a\n",
    "    # Відображається значення для кореня рівняння.\n",
    "    # Команда виконується, якщо до цього не виникли помилки\n",
    "    print(\"Розв'язок рівняння: x =\", x)\n",
    "# Початок except-блоку (допоміжний код)\n",
    "except ValueError:\n",
    "    # Команда виконується, якщо користувач\n",
    "    # увів некоректне значення\n",
    "    print(\"Потрібно було ввести число!\")\n",
    "except ZeroDivisionError:\n",
    "    # Команда виконується під час спроби\n",
    "    # ділення на нуль\n",
    "    print(\"Увага! На нуль ділити не можна!\")\n",
    "# Команда виконується після блоку try-except\n",
    "print(\"Дякуємо, роботу програми закінчено.\")"
   ],
   "id": "1c028d677e941275",
   "outputs": [
    {
     "name": "stdout",
     "output_type": "stream",
     "text": [
      "Розв'язуємо рівняння ax = b\n",
      "Увага! На нуль ділити не можна!\n",
      "Дякуємо, роботу програми закінчено.\n"
     ]
    }
   ],
   "execution_count": 10
  },
  {
   "metadata": {},
   "cell_type": "code",
   "outputs": [],
   "execution_count": null,
   "source": [
    "print(\"Розв'язуємо рівняння ax = b\")\n",
    "# Початок try-блоку (основний код)\n",
    "try:\n",
    "    # Введення даних\n",
    "    a = float(input(\"Введіть a: \"))\n",
    "    b = float(input(\"Введіть b: \"))\n",
    "    # Розв'язок рівняння\n",
    "    x = b / a\n",
    "except ValueError:\n",
    "    # Обробка помилки некоректного вводу\n",
    "    print(\"Помилка: потрібно вводити числа!\")\n",
    "except ZeroDivisionError:\n",
    "    # Обробка помилки ділення на нуль\n",
    "    print(\"Помилка: на нуль ділити не можна!\")\n",
    "else:\n",
    "    # Виконується, якщо в блоці try не виникло помилок\n",
    "    print(f\"Розв'язок рівняння: x = {x}\")\n",
    "finally:\n",
    "    # Виконується завжди, незалежно від помилок\n",
    "    print(\"Дякуємо, що скористались нашою програмою!\")"
   ],
   "id": "852625b76eb4b0c7"
  },
  {
   "metadata": {
    "ExecuteTime": {
     "end_time": "2025-02-06T15:51:01.755538Z",
     "start_time": "2025-02-06T15:50:59.068239Z"
    }
   },
   "cell_type": "code",
   "source": [
    "def check_age(age):\n",
    "    if age < 0:\n",
    "        raise ValueError(\"Вік не може бути від'ємним!\")\n",
    "    print(f\"Ваш вік: {age}\")\n",
    "\n",
    "\n",
    "try:\n",
    "    age = int(input(\"Введіть свій вік: \"))\n",
    "    check_age(age)\n",
    "except ValueError as e:\n",
    "    print(f\"Помилка: {e}\")\n",
    "finally:\n",
    "    print(\"Перевірка завершена.\")"
   ],
   "id": "4463c30c8248c1be",
   "outputs": [
    {
     "name": "stdout",
     "output_type": "stream",
     "text": [
      "Помилка: Вік не може бути від'ємним!\n",
      "Перевірка завершена.\n"
     ]
    }
   ],
   "execution_count": 12
  },
  {
   "metadata": {
    "ExecuteTime": {
     "end_time": "2025-02-06T15:51:55.676491Z",
     "start_time": "2025-02-06T15:51:47.518436Z"
    }
   },
   "cell_type": "code",
   "source": [
    "def division(a, b):\n",
    "    assert b != 0, \"Дільник не може бути нулем!\"\n",
    "    return a / b\n",
    "\n",
    "try:\n",
    "    a = int(input(\"Введіть чисельник: \"))\n",
    "    b = int(input(\"Введіть знаменник: \"))\n",
    "    result = division(a, b)\n",
    "    print(f\"Результат: {result}\")\n",
    "except AssertionError as e:\n",
    "    print(f\"Помилка: {e}\")\n",
    "finally:\n",
    "    print(\"Обчислення завершено.\")"
   ],
   "id": "366618ec9e114fd9",
   "outputs": [
    {
     "name": "stdout",
     "output_type": "stream",
     "text": [
      "Помилка: Дільник не може бути нулем!\n",
      "Обчислення завершено.\n"
     ]
    }
   ],
   "execution_count": 13
  },
  {
   "metadata": {},
   "cell_type": "code",
   "outputs": [],
   "execution_count": null,
   "source": "",
   "id": "9039c1c722ffade0"
  }
 ],
 "metadata": {
  "kernelspec": {
   "display_name": "Python 3",
   "language": "python",
   "name": "python3"
  },
  "language_info": {
   "codemirror_mode": {
    "name": "ipython",
    "version": 2
   },
   "file_extension": ".py",
   "mimetype": "text/x-python",
   "name": "python",
   "nbconvert_exporter": "python",
   "pygments_lexer": "ipython2",
   "version": "2.7.6"
  }
 },
 "nbformat": 4,
 "nbformat_minor": 5
}
